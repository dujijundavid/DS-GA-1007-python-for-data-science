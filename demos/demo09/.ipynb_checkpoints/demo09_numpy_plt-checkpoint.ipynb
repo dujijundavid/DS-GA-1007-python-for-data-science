{
 "cells": [
  {
   "cell_type": "markdown",
   "metadata": {},
   "source": [
    "# <span style=\"color:blue\">Programming for Data Science - DS-GA 1007</span>\n",
    "## <span style=\"color:blue\">Lecture 7: Numpy - Part II and Matplotlib</span>\n",
    "---"
   ]
  },
  {
   "cell_type": "markdown",
   "metadata": {},
   "source": [
    "## Contents:\n",
    "### Numpy - Part II\n",
    "- Broadcasting and Arithmetic Operations\n",
    "- More about Fancy Indexing\n",
    "- Comparison\n",
    "- Advanced Operations\n",
    "\n",
    "__References:__<br>\n",
    "[https://www.datacamp.com/community/tutorials/python-numpy-tutorial](https://www.datacamp.com/community/tutorials/python-numpy-tutorial)\n",
    "\n",
    "### Matplotlib\n",
    "- Getting Started\n",
    "- Components\n",
    "- Text\n",
    "- Annotations\n",
    "- Legend\n",
    "\n",
    "__References:__<br>\n",
    "[https://www.datacamp.com/community/tutorials/matplotlib-tutorial-python](https://www.datacamp.com/community/tutorials/matplotlib-tutorial-python)<br>\n",
    "[http://matplotlib.org/Matplotlib.pdf](http://matplotlib.org/Matplotlib.pdf)"
   ]
  },
  {
   "cell_type": "markdown",
   "metadata": {},
   "source": [
    "---\n",
    "## Numpy - Part II"
   ]
  },
  {
   "cell_type": "markdown",
   "metadata": {},
   "source": [
    "### Broadcasting\n",
    "- Basic operations on arrays (addition, etc.) are element-wise\n",
    "- Element-wise operations work on arrays of the same size \n",
    "- __Broadcasting__ is a mechanism used to make element-wise operations doable on arrays with different sizes\n",
    "  - It transforms arrays so that they all have the same size"
   ]
  },
  {
   "cell_type": "markdown",
   "metadata": {},
   "source": [
    "#### Scalar Broadcasting\n",
    "Employed when a scalar vs. array operation is performed."
   ]
  },
  {
   "cell_type": "code",
   "execution_count": 1,
   "metadata": {},
   "outputs": [
    {
     "name": "stdout",
     "output_type": "stream",
     "text": [
      "[[ 0  1  2  3  4]\n",
      " [ 5  6  7  8  9]\n",
      " [10 11 12 13 14]\n",
      " [15 16 17 18 19]\n",
      " [20 21 22 23 24]]\n",
      "[[ 5  6  7  8  9]\n",
      " [10 11 12 13 14]\n",
      " [15 16 17 18 19]\n",
      " [20 21 22 23 24]\n",
      " [25 26 27 28 29]]\n"
     ]
    }
   ],
   "source": [
    "import numpy as np\n",
    "\n",
    "# creating a 5x5 array with random numbers\n",
    "A = np.arange(25).reshape(5,5)\n",
    "\n",
    "# defining a scalar\n",
    "s = 5\n",
    "\n",
    "# the + operataion is performed element-wise (it is not well defined otherwise)\n",
    "B = s + A\n",
    "\n",
    "print(A)\n",
    "print(B)"
   ]
  },
  {
   "cell_type": "markdown",
   "metadata": {},
   "source": [
    "What numpy is doing when adding the scalar to the array\n",
    "is to broadcasting the scalar first into a 5x5 array\n",
    "\n",
    "$$\n",
    "B = s + A = \\left[\\begin{array}{ccccc}\n",
    "5 & 5 & 5 & 5 & 5\\\\\n",
    "5 & 5 & 5 & 5 & 5\\\\\n",
    "5 & 5 & 5 & 5 & 5\\\\\n",
    "5 & 5 & 5 & 5 & 5\\\\\n",
    "5 & 5 & 5 & 5 & 5\n",
    "\\end{array}\\right] + \n",
    "\\left[\\begin{array}{ccccc} \n",
    "0  & 1 & 2 & 3 & 4 \\\\\n",
    "5  & 6 & 7 & 8 & 9\\\\\n",
    "10 & 11 & 12 & 13 & 14\\\\\n",
    "15 & 16 & 17 & 18 & 19\\\\\n",
    "20 & 21 & 22 & 23 & 24\n",
    "\\end{array}\\right]\n",
    "$$"
   ]
  },
  {
   "cell_type": "markdown",
   "metadata": {},
   "source": [
    "#### Array Broadcasting\n",
    "Broadcasting works similarly when performing element-wise operations between arrays, but:\n",
    "- The two arrays must be compatible for broadcasting\n",
    "  - the axis lengths match, or\n",
    "  - either of the lengths is 1\n",
    "- Broadcasting is then performed over the missing and/or length 1 dimensions"
   ]
  },
  {
   "cell_type": "code",
   "execution_count": 2,
   "metadata": {},
   "outputs": [
    {
     "name": "stdout",
     "output_type": "stream",
     "text": [
      "(5, 5)\n",
      "(5,)\n",
      "[0 1 2 3 4] \n",
      "\n",
      "[[ 0  1  2  3  4]\n",
      " [ 5  6  7  8  9]\n",
      " [10 11 12 13 14]\n",
      " [15 16 17 18 19]\n",
      " [20 21 22 23 24]] \n",
      "\n",
      "[[ 0  1  4  9 16]\n",
      " [ 0  6 14 24 36]\n",
      " [ 0 11 24 39 56]\n",
      " [ 0 16 34 54 76]\n",
      " [ 0 21 44 69 96]]\n"
     ]
    }
   ],
   "source": [
    "A = np.arange(25).reshape(5,5)\n",
    "print(A.shape)\n",
    "\n",
    "v = np.arange(5)\n",
    "print(v.shape)\n",
    "\n",
    "# the * operation is performed element-wise, broadcasting v first\n",
    "# as the second dimension is not specified v is handled as a row array\n",
    "B = v * A\n",
    "\n",
    "print(v,'\\n')\n",
    "print(A,'\\n')\n",
    "print(B)"
   ]
  },
  {
   "cell_type": "markdown",
   "metadata": {},
   "source": [
    "$$\n",
    "B = v + A \n",
    "$$\n",
    "\n",
    "$$\n",
    "\\downarrow\n",
    "$$\n",
    "\n",
    "$$\n",
    "\\left[\\begin{array}{ccccc}\n",
    "0  & 1 & 2 & 3 & 4\n",
    "\\end{array}\\right] * \n",
    "\\left[\\begin{array}{ccccc} \n",
    "0  & 1 & 2 & 3 & 4 \\\\\n",
    "5  & 6 & 7 & 8 & 9\\\\\n",
    "10 & 11 & 12 & 13 & 14\\\\\n",
    "15 & 16 & 17 & 18 & 19\\\\\n",
    "20 & 21 & 22 & 23 & 24\n",
    "\\end{array}\\right] \n",
    "$$\n",
    "\n",
    "$$\n",
    "\\downarrow\n",
    "$$\n",
    "\n",
    "$$\n",
    "\\left[\\begin{array}{ccccc}\n",
    "0  & 1 & 2 & 3 & 4\\\\\n",
    "0  & 1 & 2 & 3 & 4\\\\\n",
    "0  & 1 & 2 & 3 & 4\\\\\n",
    "0  & 1 & 2 & 3 & 4\\\\\n",
    "0  & 1 & 2 & 3 & 4\n",
    "\\end{array}\\right] * \n",
    "\\left[\\begin{array}{ccccc} \n",
    "0  & 1 & 2 & 3 & 4 \\\\\n",
    "5  & 6 & 7 & 8 & 9\\\\\n",
    "10 & 11 & 12 & 13 & 14\\\\\n",
    "15 & 16 & 17 & 18 & 19\\\\\n",
    "20 & 21 & 22 & 23 & 24\n",
    "\\end{array}\\right]\n",
    "$$"
   ]
  },
  {
   "cell_type": "markdown",
   "metadata": {},
   "source": [
    "__Beware__: The operator `*` corresponds to element-wise multiplication, not matrix multiplication."
   ]
  },
  {
   "cell_type": "code",
   "execution_count": 3,
   "metadata": {},
   "outputs": [
    {
     "name": "stdout",
     "output_type": "stream",
     "text": [
      "(5, 5)\n",
      "(5, 1)\n",
      "[[0]\n",
      " [1]\n",
      " [2]\n",
      " [3]\n",
      " [4]] \n",
      "\n",
      "[[ 0  1  2  3  4]\n",
      " [ 5  6  7  8  9]\n",
      " [10 11 12 13 14]\n",
      " [15 16 17 18 19]\n",
      " [20 21 22 23 24]] \n",
      "\n",
      "[[ 0  0  0  0  0]\n",
      " [ 5  6  7  8  9]\n",
      " [20 22 24 26 28]\n",
      " [45 48 51 54 57]\n",
      " [80 84 88 92 96]]\n"
     ]
    }
   ],
   "source": [
    "A = np.arange(25).reshape(5,5)\n",
    "print(A.shape)\n",
    "\n",
    "v = np.arange(5).reshape(5,1)\n",
    "print(v.shape)\n",
    "\n",
    "# the * operation is performed element-wise, broadcasting v first\n",
    "# now v is a column array\n",
    "B =  v * A\n",
    "\n",
    "print(v,'\\n')\n",
    "print(A,'\\n')\n",
    "print(B)"
   ]
  },
  {
   "cell_type": "markdown",
   "metadata": {},
   "source": [
    "Broadcasting is also applied when both operands are arrays"
   ]
  },
  {
   "cell_type": "code",
   "execution_count": 21,
   "metadata": {},
   "outputs": [
    {
     "name": "stdout",
     "output_type": "stream",
     "text": [
      "(5,)\n",
      "(3, 1)\n",
      "[0 1 2 3 4] \n",
      "\n",
      "[[0]\n",
      " [1]\n",
      " [2]] \n",
      "\n",
      "[[0 1 2 3 4]\n",
      " [1 2 3 4 5]\n",
      " [2 3 4 5 6]]\n"
     ]
    }
   ],
   "source": [
    "v = np.arange(5)\n",
    "print(v.shape)\n",
    "\n",
    "w = np.arange(3).reshape(3,1)\n",
    "print(w.shape)\n",
    "\n",
    "# the * operation is performed element-wise, broadcasting v and w first\n",
    "# now v is a column array\n",
    "Z =  v + w\n",
    "\n",
    "print(v,'\\n')\n",
    "print(w,'\\n')\n",
    "print(Z)"
   ]
  },
  {
   "cell_type": "markdown",
   "metadata": {},
   "source": [
    "$$\n",
    "Z = v + w\n",
    "$$\n",
    "\n",
    "$$\n",
    "\\downarrow\n",
    "$$\n",
    "\n",
    "$$\n",
    "\\left[\\begin{array}{ccccc}\n",
    "0  & 1 & 2 & 3 & 4\n",
    "\\end{array}\\right] + \n",
    "\\left[\\begin{array}{c} \n",
    "0  \\\\\n",
    "1 \\\\\n",
    "2\n",
    "\\end{array}\\right] \n",
    "$$\n",
    "\n",
    "$$\n",
    "\\downarrow\n",
    "$$\n",
    "\n",
    "$$\n",
    "\\left[\\begin{array}{ccccc}\n",
    "0  & 1 & 2 & 3 & 4\\\\\n",
    "0  & 1 & 2 & 3 & 4\\\\\n",
    "0  & 1 & 2 & 3 & 4\n",
    "\\end{array}\\right] + \n",
    "\\left[\\begin{array}{ccccc} \n",
    "0 & 0 & 0 & 0 & 0 \\\\\n",
    "1 & 1 & 1 & 1 & 1\\\\\n",
    "2 & 2 & 2 & 2 & 2\n",
    "\\end{array}\\right]\n",
    "$$"
   ]
  },
  {
   "cell_type": "markdown",
   "metadata": {},
   "source": [
    "Broadcasting is also employed in assignments"
   ]
  },
  {
   "cell_type": "code",
   "execution_count": 5,
   "metadata": {},
   "outputs": [
    {
     "name": "stdout",
     "output_type": "stream",
     "text": [
      "[0 1 2 3 4]\n",
      "[[ 0.  0.  0.]\n",
      " [ 1.  1.  1.]\n",
      " [ 2.  2.  2.]\n",
      " [ 3.  3.  3.]\n",
      " [ 4.  4.  4.]]\n",
      "[[-1. -1. -1.]\n",
      " [-2. -2. -2.]\n",
      " [-3. -3. -3.]\n",
      " [ 3.  3.  3.]\n",
      " [ 4.  4.  4.]]\n"
     ]
    }
   ],
   "source": [
    "A = np.zeros((5,3))\n",
    "v = np.arange(5)\n",
    "print(v)\n",
    "\n",
    "# the attribute np.newaxis makes v a column array\n",
    "A[:] = v[:,np.newaxis]\n",
    "print(A)\n",
    "\n",
    "A[:3] = [[-1],[-2],[-3]]\n",
    "print(A)"
   ]
  },
  {
   "cell_type": "markdown",
   "metadata": {},
   "source": [
    "### Fancy Index\n",
    "- NumPy arrays can be indexed with integer or boolean arrays\n",
    "- A list or integer array can contain the indices of the elements to be accessed\n",
    "  - This __creates a copy not a view__\n",
    "- Passing multiple index arrays selects a 1-D array of elements corresponding to each pair of indices"
   ]
  },
  {
   "cell_type": "code",
   "execution_count": 7,
   "metadata": {},
   "outputs": [
    {
     "name": "stdout",
     "output_type": "stream",
     "text": [
      "[[ 0  1  2  3  4]\n",
      " [ 5  6  7  8  9]\n",
      " [10 11 12 13 14]\n",
      " [15 16 17 18 19]\n",
      " [20 21 22 23 24]] \n",
      "\n",
      "[[ 0  1  2  3  4]\n",
      " [10 11 12 13 14]\n",
      " [20 21 22 23 24]] \n",
      "\n",
      "[[ 0  1  2  3  4]\n",
      " [10 11 12 13 14]\n",
      " [20 21 22 23 24]] \n",
      "\n",
      "[[ 0  1  2  3  4]\n",
      " [ 0  1  2  3  4]\n",
      " [10 11 12 13 14]\n",
      " [10 11 12 13 14]] \n",
      "\n",
      "[ 1 13 23] \n",
      "\n"
     ]
    }
   ],
   "source": [
    "A = np.arange(25).reshape(5,5)\n",
    "print(A,'\\n')\n",
    "\n",
    "# C,B, and D are 2D arrays\n",
    "B = A[::2]\n",
    "C = A[[0,2,4]]\n",
    "D = A[[0,0,2,2]]\n",
    "\n",
    "print(B,'\\n')\n",
    "print(C,'\\n')\n",
    "print(D,'\\n')\n",
    "\n",
    "# this results in an 1D array\n",
    "E = A[[0,2,4],[1,3,3]]\n",
    "print(E,'\\n')"
   ]
  },
  {
   "cell_type": "markdown",
   "metadata": {},
   "source": [
    "More complex slicing can be obtained by combining multiple slices "
   ]
  },
  {
   "cell_type": "code",
   "execution_count": 8,
   "metadata": {},
   "outputs": [
    {
     "name": "stdout",
     "output_type": "stream",
     "text": [
      "[[ 0  1  2  3  4]\n",
      " [ 5  6  7  8  9]\n",
      " [10 11 12 13 14]\n",
      " [15 16 17 18 19]\n",
      " [20 21 22 23 24]] \n",
      "\n",
      "[[ 1  3]\n",
      " [11 13]\n",
      " [21 23]]\n"
     ]
    }
   ],
   "source": [
    "A = np.arange(25).reshape(5,5)\n",
    "print(A,'\\n')\n",
    "\n",
    "B = A[::2][:,[1,3]]\n",
    "print(B)"
   ]
  },
  {
   "cell_type": "markdown",
   "metadata": {},
   "source": [
    "$$\n",
    "A = \\left[\\begin{array}{ccccc} \n",
    "0  & 1 & 2 & 3 & 4 \\\\\n",
    "5  & 6 & 7 & 8 & 9\\\\\n",
    "10 & 11 & 12 & 13 & 14\\\\\n",
    "15 & 16 & 17 & 18 & 19\\\\\n",
    "20 & 21 & 22 & 23 & 24\n",
    "\\end{array}\\right]\n",
    "$$\n",
    "\n",
    "$$\n",
    "A[::2]=\\left[\\begin{array}{ccccc} \n",
    "0  & 1 & 2 & 3 & 4 \\\\\n",
    "10 & 11 & 12 & 13 & 14\\\\\n",
    "20 & 21 & 22 & 23 & 24\n",
    "\\end{array}\\right]\n",
    "$$\n",
    "\n",
    "$$\n",
    "A[::2][:,[1,3]]=\\left[\\begin{array}{cc} \n",
    " 1 & 3 \\\\\n",
    "11 &  13 \\\\\n",
    "21 & 23\n",
    "\\end{array}\\right]\n",
    "$$"
   ]
  },
  {
   "cell_type": "markdown",
   "metadata": {},
   "source": [
    "Arrays and lists can also be employed as index in assignments"
   ]
  },
  {
   "cell_type": "code",
   "execution_count": 34,
   "metadata": {},
   "outputs": [
    {
     "name": "stdout",
     "output_type": "stream",
     "text": [
      "[[ 0  1  2  3  4]\n",
      " [ 5  6  7  8  9]\n",
      " [10 11 12 13 14]\n",
      " [15 16 17 18 19]\n",
      " [20 21 22 23 24]] \n",
      "\n",
      "[[-1 -3 -1 -1 -1]\n",
      " [ 5  6  7  8  9]\n",
      " [-1 -1 -1 -3 -1]\n",
      " [15 16 17 18 19]\n",
      " [-1 -1 -1 -3 -1]]\n"
     ]
    }
   ],
   "source": [
    "A = np.arange(25).reshape(5,5)\n",
    "print(A,'\\n')\n",
    "\n",
    "A[[0,2,4]] = -1\n",
    "\n",
    "A[[0,2,4],[1,3,3]] = -3\n",
    "\n",
    "print(A)"
   ]
  },
  {
   "cell_type": "markdown",
   "metadata": {},
   "source": [
    "### Comparisons\n",
    "Comparisons using `==`, `>`,`<`,`>=`,`<=`, and `!=` are also element-wise."
   ]
  },
  {
   "cell_type": "code",
   "execution_count": 37,
   "metadata": {},
   "outputs": [
    {
     "name": "stdout",
     "output_type": "stream",
     "text": [
      "[[0 1]\n",
      " [2 3]] \n",
      "\n",
      "[[6 5]\n",
      " [4 3]] \n",
      "\n",
      "[[ True  True]\n",
      " [ True False]]\n"
     ]
    }
   ],
   "source": [
    "A = np.arange(4).reshape(2,2)\n",
    "B = np.arange(6,2,-1).reshape(2,2)\n",
    "\n",
    "M = B > A\n",
    "\n",
    "print(A,'\\n')\n",
    "print(B,'\\n')\n",
    "print(M)"
   ]
  },
  {
   "cell_type": "markdown",
   "metadata": {},
   "source": [
    "Array-wise comparisons must be performed using the numpy method `array_equal`."
   ]
  },
  {
   "cell_type": "code",
   "execution_count": 9,
   "metadata": {},
   "outputs": [
    {
     "name": "stdout",
     "output_type": "stream",
     "text": [
      "False\n",
      "True\n"
     ]
    }
   ],
   "source": [
    "A = np.arange(4).reshape(2,2)\n",
    "B = np.arange(6,2,-1).reshape(2,2)\n",
    "C = A[:]\n",
    "\n",
    "# the answer is a single boolean\n",
    "print(np.array_equal(A,B))\n",
    "print(np.array_equal(A,C))"
   ]
  },
  {
   "cell_type": "markdown",
   "metadata": {},
   "source": [
    "### Transcendental Functions\n",
    "Transcendental functions `cos` (cosine), `sin` (sine), `exp` (exponential), `tan` (tangent), etc. are all element-wise."
   ]
  },
  {
   "cell_type": "code",
   "execution_count": 40,
   "metadata": {},
   "outputs": [
    {
     "name": "stdout",
     "output_type": "stream",
     "text": [
      "[0 1 2 3 4]\n",
      "[ 1.          0.54030231 -0.41614684 -0.9899925  -0.65364362]\n",
      "[ 0.          0.84147098  0.90929743  0.14112001 -0.7568025 ]\n",
      "[ 0.          1.55740772 -2.18503986 -0.14254654  1.15782128]\n",
      "[  1.           2.71828183   7.3890561   20.08553692  54.59815003]\n"
     ]
    }
   ],
   "source": [
    "A = np.arange(5)\n",
    "print(A)\n",
    "print(np.cos(A))\n",
    "print(np.sin(A))\n",
    "print(np.tan(A))\n",
    "print(np.exp(A))"
   ]
  },
  {
   "cell_type": "markdown",
   "metadata": {},
   "source": [
    "### Reductions\n",
    "Reduction operations such as `sum`, `max`, `min`, `argmax`, `argmin` can be applied to the whole array or to rows and columns individually."
   ]
  },
  {
   "cell_type": "code",
   "execution_count": 42,
   "metadata": {},
   "outputs": [
    {
     "name": "stdout",
     "output_type": "stream",
     "text": [
      "[[ 0.  1.  2.  3.  4.]\n",
      " [ 0.  1.  2.  3.  4.]\n",
      " [ 0.  1.  2.  3.  4.]\n",
      " [ 0.  1.  2.  3.  4.]\n",
      " [ 0.  1.  2.  3.  4.]] \n",
      "\n",
      "50.0\n",
      "[  0.   5.  10.  15.  20.]\n",
      "[ 10.  10.  10.  10.  10.]\n"
     ]
    }
   ],
   "source": [
    "A = np.zeros((5,5))\n",
    "A[:] = np.arange(5)\n",
    "print(A,'\\n')\n",
    "\n",
    "print(np.sum(A))\n",
    "print(np.sum(A,axis=0))\n",
    "print(np.sum(A,axis=1))"
   ]
  },
  {
   "cell_type": "code",
   "execution_count": 44,
   "metadata": {},
   "outputs": [
    {
     "name": "stdout",
     "output_type": "stream",
     "text": [
      "[[ 13.  20.  21.  11.   5.]\n",
      " [ 13.   3.   7.   7.  29.]\n",
      " [ 15.  20.  13.  12.  24.]\n",
      " [  6.   5.  10.  22.  29.]\n",
      " [ 17.   3.  27.  18.  16.]] \n",
      "\n",
      "29.0\n",
      "9\n",
      "[ 17.  20.  27.  22.  29.]\n",
      "[4 0 4 3 1]\n"
     ]
    }
   ],
   "source": [
    "A = np.random.randint(low=0,high=30,size=(5,5)).astype(float)\n",
    "print(A,'\\n')\n",
    "\n",
    "print(np.max(A))\n",
    "print(np.argmax(A))\n",
    "\n",
    "print(np.max(A,axis=0))\n",
    "print(np.argmax(A,axis=0))"
   ]
  },
  {
   "cell_type": "markdown",
   "metadata": {},
   "source": [
    "Reduction by statistical operators `mean`, `median`, `std` work in a similar manner."
   ]
  },
  {
   "cell_type": "code",
   "execution_count": 48,
   "metadata": {},
   "outputs": [
    {
     "name": "stdout",
     "output_type": "stream",
     "text": [
      "[[ 17.  22.   6.   0.  27.]\n",
      " [ 14.   7.  24.  18.  12.]\n",
      " [  1.   9.  11.  25.   3.]\n",
      " [ 16.  17.   9.  10.  27.]\n",
      " [ 20.  26.  10.  27.  14.]] \n",
      "\n",
      "14.88\n",
      "[ 13.6  16.2  12.   16.   16.6]\n",
      "[ 14.4  15.    9.8  15.8  19.4]\n"
     ]
    }
   ],
   "source": [
    "A = np.random.randint(low=0,high=30,size=(5,5)).astype(float)\n",
    "print(A,'\\n')\n",
    "\n",
    "print(np.mean(A))\n",
    "print(np.mean(A,axis=0))\n",
    "print(np.mean(A,axis=1))"
   ]
  },
  {
   "cell_type": "markdown",
   "metadata": {},
   "source": [
    "#### logical reduction\n",
    "- `all` elements in a boolean array are True\n",
    "- `any` any element in a boolean array is True"
   ]
  },
  {
   "cell_type": "code",
   "execution_count": 46,
   "metadata": {},
   "outputs": [
    {
     "name": "stdout",
     "output_type": "stream",
     "text": [
      "True\n",
      "False\n",
      "True\n",
      "False\n"
     ]
    }
   ],
   "source": [
    "A = np.arange(25)\n",
    "\n",
    "M1 = A >= 0\n",
    "M2 = A > 10\n",
    "M3 = A > 25\n",
    "\n",
    "print(np.all(M1))\n",
    "print(np.all(M2))\n",
    "print(np.any(M2))\n",
    "print(np.any(M3))"
   ]
  },
  {
   "cell_type": "markdown",
   "metadata": {},
   "source": [
    "### Sorting \n",
    "Sorting the be done inplace or on a copy\n",
    "- By default sort by columns\n",
    "- Sort by rows if axis = 0"
   ]
  },
  {
   "cell_type": "code",
   "execution_count": 52,
   "metadata": {},
   "outputs": [
    {
     "name": "stdout",
     "output_type": "stream",
     "text": [
      "[[ 11.  19.  14.   9.   2.]\n",
      " [ 29.  23.  15.  29.  19.]\n",
      " [ 15.   9.  23.  22.  15.]\n",
      " [ 14.  27.  28.  11.   5.]\n",
      " [  2.  13.  20.   5.  11.]] \n",
      "\n",
      "[[  2.   9.  14.   5.   2.]\n",
      " [ 11.  13.  15.   9.   5.]\n",
      " [ 14.  19.  20.  11.  11.]\n",
      " [ 15.  23.  23.  22.  15.]\n",
      " [ 29.  27.  28.  29.  19.]] \n",
      "\n",
      "[[  2.   9.  11.  14.  19.]\n",
      " [ 15.  19.  23.  29.  29.]\n",
      " [  9.  15.  15.  22.  23.]\n",
      " [  5.  11.  14.  27.  28.]\n",
      " [  2.   5.  11.  13.  20.]]\n"
     ]
    }
   ],
   "source": [
    "A = np.random.randint(low=0,high=30,size=(5,5)).astype(float)\n",
    "print(A,'\\n')\n",
    "\n",
    "B = np.sort(A)\n",
    "A.sort(axis=0)\n",
    "\n",
    "print(A,'\\n')\n",
    "print(B)"
   ]
  },
  {
   "cell_type": "markdown",
   "metadata": {},
   "source": [
    "`argsort` results is an array of indices with the same shape as the original array that indexes the data along the given axis in sorted order"
   ]
  },
  {
   "cell_type": "code",
   "execution_count": 55,
   "metadata": {},
   "outputs": [
    {
     "name": "stdout",
     "output_type": "stream",
     "text": [
      "[[ 21.  27.  29.  12.   0.]\n",
      " [ 22.  18.  14.  27.  24.]\n",
      " [  8.  26.  27.   9.  10.]\n",
      " [ 20.  24.  19.  14.  17.]\n",
      " [  1.   6.  10.  22.  21.]] \n",
      "\n",
      "[[4 3 0 1 2]\n",
      " [2 1 0 4 3]\n",
      " [0 3 4 1 2]\n",
      " [3 4 2 0 1]\n",
      " [0 1 2 4 3]] \n",
      "\n"
     ]
    }
   ],
   "source": [
    "A = np.random.randint(low=0,high=30,size=(5,5)).astype(float)\n",
    "print(A,'\\n')\n",
    "\n",
    "I = np.argsort(A)\n",
    "print(I,'\\n')"
   ]
  },
  {
   "cell_type": "markdown",
   "metadata": {},
   "source": [
    "### Vector and Matrix Arithmetic\n",
    "The regular vector and matrix (or matrix and matrix) multiplication is performed using `dot`.\n",
    "- dimensions should match\n",
    "- very different from `*` "
   ]
  },
  {
   "cell_type": "code",
   "execution_count": 11,
   "metadata": {},
   "outputs": [
    {
     "name": "stdout",
     "output_type": "stream",
     "text": [
      "(2, 2)\n",
      "(1, 2)\n"
     ]
    },
    {
     "ename": "ValueError",
     "evalue": "shapes (2,2) and (1,2) not aligned: 2 (dim 1) != 1 (dim 0)",
     "output_type": "error",
     "traceback": [
      "\u001b[0;31m---------------------------------------------------------------------------\u001b[0m",
      "\u001b[0;31mValueError\u001b[0m                                Traceback (most recent call last)",
      "\u001b[0;32m<ipython-input-11-babaf683a480>\u001b[0m in \u001b[0;36m<module>\u001b[0;34m()\u001b[0m\n\u001b[1;32m      7\u001b[0m \u001b[0;34m\u001b[0m\u001b[0m\n\u001b[1;32m      8\u001b[0m \u001b[0;31m# when the second dimension is not defined, numpy makes the \"natural\" match\u001b[0m\u001b[0;34m\u001b[0m\u001b[0;34m\u001b[0m\u001b[0m\n\u001b[0;32m----> 9\u001b[0;31m \u001b[0mb1\u001b[0m \u001b[0;34m=\u001b[0m \u001b[0mnp\u001b[0m\u001b[0;34m.\u001b[0m\u001b[0mdot\u001b[0m\u001b[0;34m(\u001b[0m\u001b[0mA\u001b[0m\u001b[0;34m,\u001b[0m\u001b[0mv\u001b[0m\u001b[0;34m)\u001b[0m   \u001b[0;31m# v is handled as a column vector\u001b[0m\u001b[0;34m\u001b[0m\u001b[0m\n\u001b[0m\u001b[1;32m     10\u001b[0m \u001b[0mb2\u001b[0m \u001b[0;34m=\u001b[0m \u001b[0mnp\u001b[0m\u001b[0;34m.\u001b[0m\u001b[0mdot\u001b[0m\u001b[0;34m(\u001b[0m\u001b[0mv\u001b[0m\u001b[0;34m,\u001b[0m\u001b[0mA\u001b[0m\u001b[0;34m)\u001b[0m   \u001b[0;31m# v is handled as a row vector\u001b[0m\u001b[0;34m\u001b[0m\u001b[0m\n\u001b[1;32m     11\u001b[0m \u001b[0;34m\u001b[0m\u001b[0m\n",
      "\u001b[0;31mValueError\u001b[0m: shapes (2,2) and (1,2) not aligned: 2 (dim 1) != 1 (dim 0)"
     ]
    }
   ],
   "source": [
    "A = np.matrix(np.zeros((2,2)))\n",
    "A[:] = [[1],[2]]\n",
    "v = np.matrix(np.array([1,2]))\n",
    "\n",
    "print(A.shape)\n",
    "print(v.shape)\n",
    "\n",
    "# when the second dimension is not defined, numpy makes the \"natural\" match\n",
    "b1 = np.dot(A,v)   # v is handled as a column vector\n",
    "b2 = np.dot(v,A)   # v is handled as a row vector\n",
    "\n",
    "print(b1,b1.shape)\n",
    "print(b2,b2.shape)\n"
   ]
  },
  {
   "cell_type": "markdown",
   "metadata": {},
   "source": [
    "$$\n",
    "b1 = \\left[\\begin{array}{cc}\n",
    "           1 & 1 \\\\\n",
    "           2 & 2\n",
    "    \\end{array}\\right]\\cdot\n",
    "    \\left[\\begin{array}{c}\n",
    "           1  \\\\\n",
    "           2 \n",
    "    \\end{array}\\right] = \\left[\\begin{array}{c}\n",
    "           3  \\\\\n",
    "           6 \n",
    "    \\end{array}\\right]\n",
    "$$\n",
    "\n",
    "$$\n",
    "b2 = \\left[\\begin{array}{cc}\n",
    "           1 & 2 \n",
    "    \\end{array}\\right]\\cdot\n",
    "\\left[\\begin{array}{cc}\n",
    "           1 & 1 \\\\\n",
    "           2 & 2\n",
    "    \\end{array}\\right]\\cdot\n",
    "     = \\left[\\begin{array}{cc}\n",
    "           5 & 5\n",
    "    \\end{array}\\right]\n",
    "$$"
   ]
  },
  {
   "cell_type": "code",
   "execution_count": 65,
   "metadata": {},
   "outputs": [
    {
     "name": "stdout",
     "output_type": "stream",
     "text": [
      "(2, 2)\n",
      "(2, 1)\n",
      "[[ 3.]\n",
      " [ 6.]] (2, 1)\n",
      "[[ 5.  5.]] (1, 2)\n"
     ]
    }
   ],
   "source": [
    "A = np.zeros((2,2))\n",
    "A[:] = [[1],[2]]\n",
    "v = np.array([1,2]).reshape(2,1)\n",
    "\n",
    "print(A.shape)\n",
    "print(v.shape)\n",
    "\n",
    "b1 = np.dot(A,v)   # v is a column vector and b1 is also a column vector\n",
    "print(b1,b1.shape)\n",
    "\n",
    "# np.dot(v,A) is not well define, as the dimensions does not match (try it and get an error)\n",
    "# but you can transpose v\n",
    "b2 = np.dot(v.T,A) # v.T is a row vector and b3 is also a row vector\n",
    "print(b2,b2.shape)"
   ]
  },
  {
   "cell_type": "markdown",
   "metadata": {},
   "source": [
    "## Much more...\n",
    "- `numpy.linalg` linear algebra module\n",
    "   - system solve\n",
    "   - eigen decompositions\n",
    "- numpy.polynomial\n",
    "   - polynomial arithmetic\n",
    "   - polynomial evaluation\n",
    "   - polynomial interpolation\n",
    "- numpy.fft\n",
    "   - Fourier transform\n",
    "- ...\n"
   ]
  },
  {
   "cell_type": "markdown",
   "metadata": {},
   "source": [
    "---\n",
    "## Matplotlib\n",
    "### Getting Started\n",
    "```python\n",
    "import matplotlib.pyplot as plt  \n",
    "```\n",
    "- Makes heavy use of NumPy to provide good performance\n",
    "- Assumes the data to be rendered are numpy array. If lists are provided they are internally converted to numpy arrays."
   ]
  },
  {
   "cell_type": "markdown",
   "metadata": {},
   "source": [
    "### Plot\n",
    "Regular function plot\n",
    "- it assumes discrete values in the x and y coordinates are provided\n",
    "    - if only one array is provided assumes x as integer equaly space numbers\n",
    "- admits a multitude of arguments to configure the plot style\n",
    "    - [https://matplotlib.org/users/pyplot_tutorial.html](https://matplotlib.org/users/pyplot_tutorial.html)"
   ]
  },
  {
   "cell_type": "code",
   "execution_count": 12,
   "metadata": {},
   "outputs": [
    {
     "data": {
      "text/plain": [
       "[<matplotlib.lines.Line2D at 0x10d32cc50>]"
      ]
     },
     "execution_count": 12,
     "metadata": {},
     "output_type": "execute_result"
    },
    {
     "data": {
      "image/png": "[encoded data removed]",
      "text/plain": [
       "<matplotlib.figure.Figure at 0x10c398160>"
      ]
     },
     "metadata": {},
     "output_type": "display_data"
    }
   ],
   "source": [
    "import numpy as np\n",
    "import matplotlib.pyplot as plt\n",
    "# keep graphs as part of notebook document\n",
    "%matplotlib inline  \n",
    "\n",
    "x = np.linspace(0,1,20)\n",
    "y = x**2\n",
    "plt.plot(x,y)"
   ]
  },
  {
   "cell_type": "code",
   "execution_count": 15,
   "metadata": {},
   "outputs": [
    {
     "data": {
      "text/plain": [
       "[<matplotlib.lines.Line2D at 0x10d5a3240>]"
      ]
     },
     "execution_count": 15,
     "metadata": {},
     "output_type": "execute_result"
    },
    {
     "data": {
      "image/png": "[encoded data removed]",
      "text/plain": [
       "<matplotlib.figure.Figure at 0x10d4dfb70>"
      ]
     },
     "metadata": {},
     "output_type": "display_data"
    }
   ],
   "source": [
    "#plt.plot(x,y,color='red',linewidth = 5, linestyle = '--')\n",
    "#plt.plot(x,y,color='red', linestyle = '-',marker='s')\n",
    "plt.plot(x,y,'r--s')"
   ]
  },
  {
   "cell_type": "code",
   "execution_count": 16,
   "metadata": {},
   "outputs": [
    {
     "data": {
      "text/plain": [
       "[None, None, None]"
      ]
     },
     "execution_count": 16,
     "metadata": {},
     "output_type": "execute_result"
    },
    {
     "data": {
      "image/png": "[encoded data removed]",
      "text/plain": [
       "<matplotlib.figure.Figure at 0x10d55ceb8>"
      ]
     },
     "metadata": {},
     "output_type": "display_data"
    }
   ],
   "source": [
    "line_2_3 = plt.plot(x,y,x,x**3) #more than one plot simultaneously\n",
    "plt.setp(line_2_3,color='red',linewidth = 5, linestyle = '--')\n",
    "line_4 = plt.plot(x,x**4) #more than one plot simultaneously\n",
    "plt.setp(line_4,color='orange',linewidth = 2, linestyle = ':')"
   ]
  },
  {
   "cell_type": "markdown",
   "metadata": {},
   "source": [
    "### Figure Components (download plt_components.png)\n",
    "<img src=\"plt_components.png\" width=\"200\" height=\"200\">\n",
    "- An __axes__ is what you normally think of as a 'plot'. There can be many axes in a figure.\n",
    "- An __axis__ is a number-line like object that sets the graph limits and displays ticks and tick labels. There are two axis objects in an axes.\n",
    "- An artist is the basis for all the items in a figure. The artists are the objects that are drawn on the canvas.\n",
    "- A patch is a collection of artists "
   ]
  },
  {
   "cell_type": "markdown",
   "metadata": {},
   "source": [
    "### Figures and Axes\n",
    "- Matplotlib has the concept of a current figure and current axes\n",
    "- Many matplotlib commands operate on the current figure/axes (such as plot())\n",
    "- The __gca()__ function returns the current axes, the __sca()__ function sets the current axes, the __cla()__ function clears the current axes\n",
    "- The __gcf()__ function returns the current figure, the __figure()__ function sets the current figure or creates a new figure (figure() takes a figure number as argument), the __clf()__ function clears the current figure\n",
    "- An initial figure and axes will be created automatically"
   ]
  },
  {
   "cell_type": "markdown",
   "metadata": {},
   "source": [
    "### Subplots\n",
    "- A subplot is another name for an axes\n",
    "- The __subplot()__ function creates new axes and arranges them in a grid pattern based on it's arguments\n",
    "- Subplot arguments are num_rows, num_cols, and subplot_number\n",
    "- If you want to place the axes manually (i.e. not in a grid) use the axes() function to specify left, bottom, width, height"
   ]
  },
  {
   "cell_type": "code",
   "execution_count": 99,
   "metadata": {},
   "outputs": [
    {
     "data": {
      "text/plain": [
       "[<matplotlib.lines.Line2D at 0x108955b00>]"
      ]
     },
     "execution_count": 99,
     "metadata": {},
     "output_type": "execute_result"
    },
    {
     "data": {
      "image/png": "[encoded data removed]",
      "text/plain": [
       "<matplotlib.figure.Figure at 0x1087a1d30>"
      ]
     },
     "metadata": {},
     "output_type": "display_data"
    }
   ],
   "source": [
    "import numpy as np\n",
    "import matplotlib.pyplot as plt\n",
    "\n",
    "def f(t):\n",
    "    return(np.exp(-t) * np.cos(2.0*np.pi*t))\n",
    "\n",
    "t1 = np.linspace(0.0, 5.0, 50)\n",
    "t2 = np.linspace(0.0, 5.0, 100)\n",
    "\n",
    "plt.figure(1) # redundant\n",
    "plt.subplot(2, 1, 1)\n",
    "plt.plot(t1, f(t1), 'bo', t2, f(t2), 'k')\n",
    "\n",
    "plt.subplot(2, 1, 2)\n",
    "plt.plot(t2, np.cos(2.0*np.pi*t2), 'r--')"
   ]
  },
  {
   "cell_type": "markdown",
   "metadata": {},
   "source": [
    "### Text\n",
    "- Text can be added to arbitrary locations, or to the axes and tiles\n",
    "- Properties can be customized with keyword arguments or using __setp()__ \n",
    "- The following commands are used to create text\n",
    "    - text() - add text at an arbitrary location to the Axes\n",
    "    - xlabel() - add an axis label to the x-axis\n",
    "    - ylabel() - add an axis label to the y-axis\n",
    "    - title() - add a title to the Axes \n",
    "    - figtext() - add text at an arbitrary location to the Figure\n",
    "    - suptitle() - add a title to the Figure\n",
    "    - annotate() - add an annotation, with optional arrow, to the Axes\n",
    "- Many [properties](https://matplotlib.org/api/text_api.html)"
   ]
  },
  {
   "cell_type": "code",
   "execution_count": 18,
   "metadata": {},
   "outputs": [
    {
     "data": {
      "image/png": "[encoded data removed]",
      "text/plain": [
       "<matplotlib.figure.Figure at 0x10dd2c588>"
      ]
     },
     "metadata": {},
     "output_type": "display_data"
    }
   ],
   "source": [
    "import numpy as np\n",
    "import matplotlib.pyplot as plt\n",
    "\n",
    "mu, sigma = 10.0, 1.0\n",
    "x = np.random.normal(mu,sigma,size=10000)\n",
    "\n",
    "# generates a histogram from x\n",
    "plt.hist(x,50,normed=1,facecolor='g',alpha=0.75)\n",
    "plt.xlabel('Smarts')\n",
    "plt.ylabel('Probability')\n",
    "plt.title('Histogram of x')\n",
    "# positionning the text and using latex fonts\n",
    "plt.text(6.0, 0.35, r'$\\mu=10,\\ \\sigma=1.0$')\n",
    "# limiting x and y range\n",
    "plt.axis([5, 15, 0, 0.5])\n",
    "# background grid\n",
    "plt.grid(True)\n"
   ]
  },
  {
   "cell_type": "code",
   "execution_count": 114,
   "metadata": {},
   "outputs": [
    {
     "data": {
      "text/plain": [
       "<matplotlib.text.Annotation at 0x10988bba8>"
      ]
     },
     "execution_count": 114,
     "metadata": {},
     "output_type": "execute_result"
    },
    {
     "data": {
      "image/png": "[encoded data removed]",
      "text/plain": [
       "<matplotlib.figure.Figure at 0x10984b2e8>"
      ]
     },
     "metadata": {},
     "output_type": "display_data"
    }
   ],
   "source": [
    "import numpy as np\n",
    "import matplotlib.pyplot as plt\n",
    "\n",
    "ax = plt.subplot(111)\n",
    "t = np.arange(0.0, 5.0, 0.01)\n",
    "s = np.cos(2*np.pi*t)\n",
    "line, = plt.plot(t, s, lw=2)\n",
    "plt.axis([0.0, 5.0, -1.0, 1.5])\n",
    "\n",
    "plt.annotate('local max', xy=(2.05,1.05), xytext=(3,1.3), arrowprops=dict(facecolor='black'))"
   ]
  },
  {
   "cell_type": "markdown",
   "metadata": {},
   "source": [
    "### Legend"
   ]
  },
  {
   "cell_type": "code",
   "execution_count": 117,
   "metadata": {},
   "outputs": [
    {
     "data": {
      "text/plain": [
       "<matplotlib.legend.Legend at 0x109b8bdd8>"
      ]
     },
     "execution_count": 117,
     "metadata": {},
     "output_type": "execute_result"
    },
    {
     "data": {
      "image/png": "[encoded data removed]",
      "text/plain": [
       "<matplotlib.figure.Figure at 0x109623b38>"
      ]
     },
     "metadata": {},
     "output_type": "display_data"
    }
   ],
   "source": [
    "import numpy as np\n",
    "import matplotlib.pyplot as plt\n",
    "\n",
    "plt.plot([1,2,3], label=\"label1\")\n",
    "plt.plot([4,3,2], label=\"label2\")\n",
    "\n",
    "plt.legend()"
   ]
  },
  {
   "cell_type": "code",
   "execution_count": 121,
   "metadata": {},
   "outputs": [
    {
     "data": {
      "text/plain": [
       "<matplotlib.legend.Legend at 0x10a0fe5f8>"
      ]
     },
     "execution_count": 121,
     "metadata": {},
     "output_type": "execute_result"
    },
    {
     "data": {
      "image/png": "[encoded data removed]",
      "text/plain": [
       "<matplotlib.figure.Figure at 0x10a060358>"
      ]
     },
     "metadata": {},
     "output_type": "display_data"
    }
   ],
   "source": [
    "# p1 and p2 are the artists\n",
    "p1, = plt.plot([1,2,3])\n",
    "p2, = plt.plot([4,3,2])\n",
    "\n",
    "# l1 and l2 are also artistis\n",
    "# The loc argument specifies the location (1='upper right', 4='lower right', etc.)\n",
    "l1 = plt.legend([p1],['label1'], loc=1)\n",
    "l2 = plt.legend([p2],['label2'], loc=4)\n",
    "\n",
    "# more than one label in the same axes have to the add manually\n",
    "plt.gca().add_artist(l1)\n",
    "plt.gca().add_artist(l2)"
   ]
  },
  {
   "cell_type": "markdown",
   "metadata": {},
   "source": [
    "__See also:__\n",
    "- bar()\n",
    "- scatter()\n",
    "- stackplot()\n",
    "- matshow()\n",
    "\n",
    "[More](https://realpython.com/python-matplotlib-guide/)"
   ]
  }
 ],
 "metadata": {
  "kernelspec": {
   "display_name": "Python 3",
   "language": "python",
   "name": "python3"
  },
  "language_info": {
   "codemirror_mode": {
    "name": "ipython",
    "version": 3
   },
   "file_extension": ".py",
   "mimetype": "text/x-python",
   "name": "python",
   "nbconvert_exporter": "python",
   "pygments_lexer": "ipython3",
   "version": "3.7.0"
  }
 },
 "nbformat": 4,
 "nbformat_minor": 2
}
