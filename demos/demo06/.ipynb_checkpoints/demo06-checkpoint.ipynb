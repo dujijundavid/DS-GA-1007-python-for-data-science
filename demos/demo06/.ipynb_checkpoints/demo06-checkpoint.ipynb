{
 "cells": [
  {
   "cell_type": "markdown",
   "metadata": {},
   "source": [
    "## Demo 06: Shell Scripts and Make"
   ]
  },
  {
   "cell_type": "markdown",
   "metadata": {},
   "source": [
    "#### Zip and Unzip\n",
    "Unzip data-shell.zip using the `unzip` command"
   ]
  },
  {
   "cell_type": "code",
   "execution_count": null,
   "metadata": {},
   "outputs": [],
   "source": [
    "!unzip data-shell.zip"
   ]
  },
  {
   "cell_type": "markdown",
   "metadata": {},
   "source": [
    "#### ls and du\n",
    "Note that du is more reliable measure of size"
   ]
  },
  {
   "cell_type": "code",
   "execution_count": 28,
   "metadata": {},
   "outputs": [
    {
     "name": "stdout",
     "output_type": "stream",
     "text": [
      "-rw-r--r--+ 1 cp126 cp126   86 Aug  7 23:13 data-shell/notes.txt\n",
      "-rw-r--r--+ 1 cp126 cp126   32 Aug  7 23:13 data-shell/pizza.cfg\n",
      "-rw-r--r--+ 1 cp126 cp126  22K Aug  7 23:13 data-shell/solar.pdf\n",
      "\n",
      "data-shell/creatures:\n",
      "total 12K\n",
      "-rw-r--r--+ 1 cp126 cp126 1.8K Aug  7 23:13 basilisk.dat\n",
      "-rw-r--r--+ 1 cp126 cp126 1.8K Aug  8 00:51 minotaur.dat\n",
      "-rw-r--r--+ 1 cp126 cp126 1.8K Aug  7 23:13 unicorn.dat\n",
      "\n",
      "data-shell/data:\n",
      "total 116K\n",
      "-rw-r--r--+ 1 cp126 cp126  283 Aug  7 23:13 amino-acids.txt\n",
      "drwxr-xr-x+ 2 cp126 cp126 4.0K Aug  7 23:14 animal-counts\n",
      "-rw-r--r--+ 1 cp126 cp126  136 Aug  7 23:13 animals.txt\n",
      "drwxr-xr-x+ 2 cp126 cp126 4.0K Aug  7 23:13 elements\n",
      "-rw-r--r--+ 1 cp126 cp126  554 Aug  7 23:13 morse.txt\n",
      "drwxr-xr-x+ 2 cp126 cp126 4.0K Aug  7 23:14 pdb\n",
      "-rw-r--r--+ 1 cp126 cp126 8.7K Aug  7 23:13 planets.txt\n",
      "-rw-r--r--+ 1 cp126 cp126   45 Aug  7 23:13 salmon.txt\n",
      "-rw-r--r--+ 1 cp126 cp126  73K Aug  7 23:13 sunspot.txt\n",
      "\n",
      "data-shell/molecules:\n",
      "total 24K\n",
      "-rw-r--r--+ 1 cp126 cp126 1.2K Aug  7 23:13 cubane.pdb\n",
      "-rw-r--r--+ 1 cp126 cp126  622 Aug  7 23:13 ethane.pdb\n",
      "-rw-r--r--+ 1 cp126 cp126  422 Aug  7 23:13 methane.pdb\n",
      "-rw-r--r--+ 1 cp126 cp126 1.8K Aug  7 23:13 octane.pdb\n",
      "-rw-r--r--+ 1 cp126 cp126 1.2K Aug  7 23:13 pentane.pdb\n",
      "-rw-r--r--+ 1 cp126 cp126  825 Aug  7 23:13 propane.pdb\n",
      "\n",
      "data-shell/north-pacific-gyre:\n",
      "total 4.0K\n",
      "drwxr-xr-x+ 2 cp126 cp126 4.0K Aug  7 23:14 2012-07-03\n",
      "\n",
      "data-shell/writing:\n",
      "total 16K\n",
      "drwxr-xr-x+ 2 cp126 cp126 4.0K Aug  7 23:14 data\n",
      "-rw-r--r--+ 1 cp126 cp126  218 Aug  7 23:13 haiku.txt\n",
      "drwxr-xr-x+ 2 cp126 cp126 4.0K Aug  7 23:13 thesis\n",
      "drwxr-xr-x+ 3 cp126 cp126 4.0K Aug  7 23:13 tools\n"
     ]
    }
   ],
   "source": [
    "!ls -l -h data-shell/*"
   ]
  },
  {
   "cell_type": "code",
   "execution_count": 29,
   "metadata": {},
   "outputs": [
    {
     "name": "stdout",
     "output_type": "stream",
     "text": [
      "16K\tdata-shell/creatures\n",
      "8.0K\tdata-shell/data/animal-counts\n",
      "212K\tdata-shell/data/pdb\n",
      "416K\tdata-shell/data/elements\n",
      "744K\tdata-shell/data\n",
      "28K\tdata-shell/molecules\n",
      "144K\tdata-shell/north-pacific-gyre/2012-07-03\n",
      "148K\tdata-shell/north-pacific-gyre\n",
      "4.0K\tdata-shell/notes.txt\n",
      "4.0K\tdata-shell/pizza.cfg\n",
      "24K\tdata-shell/solar.pdf\n",
      "1.1M\tdata-shell/writing/data\n",
      "4.0K\tdata-shell/writing/thesis\n",
      "4.0K\tdata-shell/writing/tools/old\n",
      "16K\tdata-shell/writing/tools\n",
      "1.1M\tdata-shell/writing\n"
     ]
    }
   ],
   "source": [
    "!du -h data-shell/*"
   ]
  },
  {
   "cell_type": "markdown",
   "metadata": {},
   "source": [
    "#### Tree\n",
    "Convention for representing organization of filesystem"
   ]
  },
  {
   "cell_type": "code",
   "execution_count": null,
   "metadata": {},
   "outputs": [],
   "source": [
    "!tree"
   ]
  },
  {
   "cell_type": "markdown",
   "metadata": {},
   "source": [
    ".\n",
    "├── creatures\n",
    "│   ├── basilisk.dat\n",
    "│   ├── minotaur.dat\n",
    "│   └── unicorn.dat\n",
    "├── data\n",
    "│   ├── amino-acids.txt\n",
    "│   ├── animal-counts\n",
    "│   │   └── animals.txt\n",
    "│   ├── animals.txt\n",
    "│   ├── elements\n",
    "│   │   ├── Ac.xml\n",
    "│   │   ├── Ag.xml\n",
    "│   │   ├── Al.xml\n",
    "│   │   ├── Am.xml\n",
    "│   │   ├── Ar.xml\n",
    "│   │   ├── As.xml\n",
    "│   │   ├── At.xml\n",
    "│   │   ├── Au.xml\n",
    "│   │   ├── Ba.xml\n",
    "│   │   ├── Be.xml\n",
    "│   │   ├── Bi.xml\n",
    "│   │   ├── Bk.xml\n",
    "│   │   ├── Br.xml\n",
    "│   │   ├── B.xml\n",
    "│   │   ├── Ca.xml\n",
    "│   │   ├── Cd.xml\n",
    "│   │   ├── Ce.xml\n",
    "│   │   ├── Cf.xml\n",
    "│   │   ├── Cl.xml\n",
    "│   │   ├── Cm.xml\n",
    "│   │   ├── Co.xml\n",
    "│   │   ├── Cr.xml\n",
    "│   │   ├── Cs.xml\n",
    "│   │   ├── Cu.xml\n",
    "│   │   ├── C.xml\n",
    "│   │   ├── Dy.xml\n",
    "│   │   ├── Er.xml\n",
    "│   │   ├── Es.xml\n",
    "│   │   ├── Eu.xml\n",
    "│   │   ├── Fe.xml\n",
    "│   │   ├── Fm.xml\n",
    "│   │   ├── Fr.xml\n",
    "│   │   ├── F.xml\n",
    "│   │   ├── Ga.xml\n",
    "│   │   ├── Gd.xml\n",
    "│   │   ├── Ge.xml\n",
    "│   │   ├── He.xml\n",
    "│   │   ├── Hf.xml\n",
    "│   │   ├── Hg.xml\n",
    "│   │   ├── Ho.xml\n",
    "│   │   ├── H.xml\n",
    "│   │   ├── In.xml\n",
    "│   │   ├── Ir.xml\n",
    "│   │   ├── I.xml\n",
    "│   │   ├── Kr.xml\n",
    "│   │   ├── K.xml\n",
    "│   │   ├── La.xml\n",
    "│   │   ├── Li.xml\n",
    "│   │   ├── Lr.xml\n",
    "│   │   ├── Lu.xml\n",
    "│   │   ├── Md.xml\n",
    "│   │   ├── Mg.xml\n",
    "│   │   ├── Mn.xml\n",
    "│   │   ├── Mo.xml\n",
    "│   │   ├── Na.xml\n",
    "│   │   ├── Nb.xml\n",
    "│   │   ├── Nd.xml\n",
    "│   │   ├── Ne.xml\n",
    "│   │   ├── Ni.xml\n",
    "│   │   ├── No.xml\n",
    "│   │   ├── Np.xml\n",
    "│   │   ├── N.xml\n",
    "│   │   ├── Os.xml\n",
    "│   │   ├── O.xml\n",
    "│   │   ├── Pa.xml\n",
    "│   │   ├── Pb.xml\n",
    "│   │   ├── Pd.xml\n",
    "│   │   ├── Pm.xml\n",
    "│   │   ├── Po.xml\n",
    "│   │   ├── Pr.xml\n",
    "│   │   ├── Pt.xml\n",
    "│   │   ├── Pu.xml\n",
    "│   │   ├── P.xml\n",
    "│   │   ├── Ra.xml\n",
    "│   │   ├── Rb.xml\n",
    "│   │   ├── Re.xml\n",
    "│   │   ├── Rh.xml\n",
    "│   │   ├── Rn.xml\n",
    "│   │   ├── Ru.xml\n",
    "│   │   ├── Sb.xml\n",
    "│   │   ├── Sc.xml\n",
    "│   │   ├── Se.xml\n",
    "│   │   ├── Si.xml\n",
    "│   │   ├── Sm.xml\n",
    "│   │   ├── Sn.xml\n",
    "│   │   ├── Sr.xml\n",
    "│   │   ├── S.xml\n",
    "│   │   ├── Ta.xml\n",
    "│   │   ├── Tb.xml\n",
    "│   │   ├── Tc.xml\n",
    "│   │   ├── Te.xml\n",
    "│   │   ├── Th.xml\n",
    "│   │   ├── Ti.xml\n",
    "│   │   ├── Tl.xml\n",
    "│   │   ├── Tm.xml\n",
    "│   │   ├── U.xml\n",
    "│   │   ├── V.xml\n",
    "│   │   ├── W.xml\n",
    "│   │   ├── Xe.xml\n",
    "│   │   ├── Yb.xml\n",
    "│   │   ├── Y.xml\n",
    "│   │   ├── Zn.xml\n",
    "│   │   └── Zr.xml\n",
    "│   ├── morse.txt\n",
    "│   ├── pdb\n",
    "│   │   ├── aldrin.pdb\n",
    "│   │   ├── ammonia.pdb\n",
    "│   │   ├── ascorbic-acid.pdb\n",
    "│   │   ├── benzaldehyde.pdb\n",
    "│   │   ├── camphene.pdb\n",
    "│   │   ├── cholesterol.pdb\n",
    "│   │   ├── cinnamaldehyde.pdb\n",
    "│   │   ├── citronellal.pdb\n",
    "│   │   ├── codeine.pdb\n",
    "│   │   ├── cubane.pdb\n",
    "│   │   ├── cyclobutane.pdb\n",
    "│   │   ├── cyclohexanol.pdb\n",
    "│   │   ├── cyclopropane.pdb\n",
    "│   │   ├── ethane.pdb\n",
    "│   │   ├── ethanol.pdb\n",
    "│   │   ├── ethylcyclohexane.pdb\n",
    "│   │   ├── glycol.pdb\n",
    "│   │   ├── heme.pdb\n",
    "│   │   ├── lactic-acid.pdb\n",
    "│   │   ├── lactose.pdb\n",
    "│   │   ├── lanoxin.pdb\n",
    "│   │   ├── lsd.pdb\n",
    "│   │   ├── maltose.pdb\n",
    "│   │   ├── menthol.pdb\n",
    "│   │   ├── methane.pdb\n",
    "│   │   ├── methanol.pdb\n",
    "│   │   ├── mint.pdb\n",
    "│   │   ├── morphine.pdb\n",
    "│   │   ├── mustard.pdb\n",
    "│   │   ├── nerol.pdb\n",
    "│   │   ├── norethindrone.pdb\n",
    "│   │   ├── octane.pdb\n",
    "│   │   ├── pentane.pdb\n",
    "│   │   ├── piperine.pdb\n",
    "│   │   ├── propane.pdb\n",
    "│   │   ├── pyridoxal.pdb\n",
    "│   │   ├── quinine.pdb\n",
    "│   │   ├── strychnine.pdb\n",
    "│   │   ├── styrene.pdb\n",
    "│   │   ├── sucrose.pdb\n",
    "│   │   ├── testosterone.pdb\n",
    "│   │   ├── thiamine.pdb\n",
    "│   │   ├── tnt.pdb\n",
    "│   │   ├── tuberin.pdb\n",
    "│   │   ├── tyrian-purple.pdb\n",
    "│   │   ├── vanillin.pdb\n",
    "│   │   ├── vinyl-chloride.pdb\n",
    "│   │   └── vitamin-a.pdb\n",
    "│   ├── planets.txt\n",
    "│   ├── salmon.txt\n",
    "│   └── sunspot.txt\n",
    "├── molecules\n",
    "│   ├── cubane.pdb\n",
    "│   ├── ethane.pdb\n",
    "│   ├── methane.pdb\n",
    "│   ├── octane.pdb\n",
    "│   ├── pentane.pdb\n",
    "│   └── propane.pdb\n",
    "├── north-pacific-gyre\n",
    "│   └── 2012-07-03\n",
    "│       ├── goodiff\n",
    "│       ├── goostats\n",
    "│       ├── NENE01729A.txt\n",
    "│       ├── NENE01729B.txt\n",
    "│       ├── NENE01736A.txt\n",
    "│       ├── NENE01751A.txt\n",
    "│       ├── NENE01751B.txt\n",
    "│       ├── NENE01812A.txt\n",
    "│       ├── NENE01843A.txt\n",
    "│       ├── NENE01843B.txt\n",
    "│       ├── NENE01971Z.txt\n",
    "│       ├── NENE01978A.txt\n",
    "│       ├── NENE01978B.txt\n",
    "│       ├── NENE02018B.txt\n",
    "│       ├── NENE02040A.txt\n",
    "│       ├── NENE02040B.txt\n",
    "│       ├── NENE02040Z.txt\n",
    "│       ├── NENE02043A.txt\n",
    "│       └── NENE02043B.txt\n",
    "├── notes.txt\n",
    "├── pizza.cfg\n",
    "├── solar.pdf\n",
    "└── writing\n",
    "    ├── data\n",
    "    │   ├── LittleWomen.txt\n",
    "    │   ├── one.txt\n",
    "    │   └── two.txt\n",
    "    ├── haiku.txt\n",
    "    ├── thesis\n",
    "    │   └── empty-draft.md\n",
    "    └── tools\n",
    "        ├── format\n",
    "        ├── old\n",
    "        │   └── oldtool\n",
    "        └── stats!tree"
   ]
  },
  {
   "cell_type": "markdown",
   "metadata": {},
   "source": [
    "#### cat"
   ]
  },
  {
   "cell_type": "code",
   "execution_count": null,
   "metadata": {},
   "outputs": [],
   "source": [
    "!cat data-shell/writing/data/one.txt "
   ]
  },
  {
   "cell_type": "code",
   "execution_count": 43,
   "metadata": {},
   "outputs": [],
   "source": [
    "!cat data-shell/writing/data/one.txt data-shell/writing/data/two.txt "
   ]
  },
  {
   "cell_type": "code",
   "execution_count": 43,
   "metadata": {},
   "outputs": [],
   "source": [
    "!cat data-shell/writing/data/one.txt data-shell/writing/data/two.txt > data-shell/writing/data/three.txt"
   ]
  },
  {
   "cell_type": "code",
   "execution_count": 43,
   "metadata": {},
   "outputs": [],
   "source": [
    "!cat data-shell/writing/data/one.txt "
   ]
  },
  {
   "cell_type": "code",
   "execution_count": 49,
   "metadata": {},
   "outputs": [
    {
     "name": "stdout",
     "output_type": "stream",
     "text": [
      "^C\n"
     ]
    }
   ],
   "source": [
    "!cat > temp.txt"
   ]
  },
  {
   "cell_type": "code",
   "execution_count": null,
   "metadata": {},
   "outputs": [],
   "source": [
    "!nano temp.txt"
   ]
  },
  {
   "cell_type": "markdown",
   "metadata": {},
   "source": [
    "#### Pipes"
   ]
  },
  {
   "cell_type": "code",
   "execution_count": 37,
   "metadata": {},
   "outputs": [
    {
     "name": "stdout",
     "output_type": "stream",
     "text": [
      "    7 data-shell/data/pdb/ammonia.pdb\n",
      "    9 data-shell/data/pdb/methane.pdb\n",
      "   10 data-shell/data/pdb/methanol.pdb\n",
      "   10 data-shell/data/pdb/vinyl-chloride.pdb\n",
      "   12 data-shell/data/pdb/ethane.pdb\n",
      "   13 data-shell/data/pdb/cyclopropane.pdb\n",
      "   13 data-shell/data/pdb/ethanol.pdb\n",
      "   14 data-shell/data/pdb/glycol.pdb\n",
      "   15 data-shell/data/pdb/lactic-acid.pdb\n",
      "   15 data-shell/data/pdb/propane.pdb\n"
     ]
    }
   ],
   "source": [
    "! wc -l data-shell/data/pdb/*.pdb | sort -n | head -n 10"
   ]
  },
  {
   "cell_type": "code",
   "execution_count": 40,
   "metadata": {},
   "outputs": [
    {
     "name": "stdout",
     "output_type": "stream",
     "text": [
      "2012-11-05,deer\n",
      "2012-11-05,rabbit\n",
      "2012-11-05,raccoon\n",
      "2012-11-06,rabbit\n",
      "2012-11-06,deer\n",
      "2012-11-06,fox\n",
      "2012-11-07,rabbit\n",
      "2012-11-07,bear\n"
     ]
    }
   ],
   "source": [
    "cat data-shell/data/animals.txt"
   ]
  },
  {
   "cell_type": "markdown",
   "metadata": {},
   "source": [
    "##### Question\n",
    "\n",
    "Why do the following differ"
   ]
  },
  {
   "cell_type": "code",
   "execution_count": 38,
   "metadata": {},
   "outputs": [
    {
     "name": "stdout",
     "output_type": "stream",
     "text": [
      "8\n"
     ]
    }
   ],
   "source": [
    "!cut -d , -f 2 data-shell/data/animals.txt | uniq | wc -l"
   ]
  },
  {
   "cell_type": "code",
   "execution_count": 39,
   "metadata": {},
   "outputs": [
    {
     "name": "stdout",
     "output_type": "stream",
     "text": [
      "5\n"
     ]
    }
   ],
   "source": [
    "!cut -d , -f 2 data-shell/data/animals.txt | sort | uniq | wc -l"
   ]
  },
  {
   "cell_type": "markdown",
   "metadata": {},
   "source": [
    "#### Loops"
   ]
  },
  {
   "cell_type": "code",
   "execution_count": 51,
   "metadata": {},
   "outputs": [
    {
     "name": "stdout",
     "output_type": "stream",
     "text": [
      "CLASSIFICATION: basiliscus vulgaris\n",
      "CLASSIFICATION: bos hominus\n",
      "CLASSIFICATION: equus monoceros\n"
     ]
    }
   ],
   "source": [
    "%%bash \n",
    "cd data-shell/creatures/\n",
    "for x in basilisk.dat minotaur.dat unicorn.dat\n",
    " do\n",
    "    head -n 2 $x | tail -n 1\n",
    " done"
   ]
  },
  {
   "cell_type": "markdown",
   "metadata": {},
   "source": [
    "##### Question\n",
    "\n",
    "What are the differences between the following?"
   ]
  },
  {
   "cell_type": "code",
   "execution_count": 53,
   "metadata": {},
   "outputs": [
    {
     "name": "stdout",
     "output_type": "stream",
     "text": [
      "cubane.pdb\n"
     ]
    }
   ],
   "source": [
    "%%bash \n",
    "cd data-shell/molecules/\n",
    "for x in c*\n",
    " do\n",
    "    echo ${x}\n",
    " done"
   ]
  },
  {
   "cell_type": "code",
   "execution_count": 52,
   "metadata": {},
   "outputs": [
    {
     "name": "stdout",
     "output_type": "stream",
     "text": [
      "cubane.pdb\n",
      "octane.pdb\n"
     ]
    }
   ],
   "source": [
    "%%bash \n",
    "cd data-shell/molecules/\n",
    "for x in *c*\n",
    " do\n",
    "    echo ${x}\n",
    " done"
   ]
  },
  {
   "cell_type": "markdown",
   "metadata": {},
   "source": [
    "#### Scripts\n",
    "\n",
    "How could we write a script to print the middle of a file? We want lines $l$ to $h$. We can use `head` and `tail`."
   ]
  },
  {
   "cell_type": "code",
   "execution_count": 68,
   "metadata": {},
   "outputs": [
    {
     "name": "stdout",
     "output_type": "stream",
     "text": [
      "ATOM      1  C           1      -4.397   0.370  -0.255  1.00  0.00\n",
      "ATOM      2  C           1      -3.113  -0.447  -0.421  1.00  0.00\n",
      "ATOM      3  C           1      -1.896   0.386  -0.007  1.00  0.00\n"
     ]
    }
   ],
   "source": [
    "%%bash\n",
    "cd data-shell/molecules/\n",
    "\n",
    "head -n 5 octane.pdb | tail -n 3"
   ]
  },
  {
   "cell_type": "markdown",
   "metadata": {},
   "source": [
    "So `head -n h octane.pdb | tail -n h-l+1`"
   ]
  },
  {
   "cell_type": "code",
   "execution_count": 70,
   "metadata": {},
   "outputs": [
    {
     "name": "stdout",
     "output_type": "stream",
     "text": [
      "ATOM      4  C           1      -0.611  -0.426  -0.198  1.00  0.00\n",
      "ATOM      5  C           1       0.608   0.405   0.216  1.00  0.00\n",
      "ATOM      6  C           1       1.892  -0.400   0.001  1.00  0.00\n",
      "ATOM      7  C           1       3.113   0.429   0.414  1.00  0.00\n",
      "ATOM      8  C           1       4.397  -0.374   0.199  1.00  0.00\n"
     ]
    }
   ],
   "source": [
    "!bash middle.sh octane.pdb 10 6"
   ]
  },
  {
   "cell_type": "code",
   "execution_count": 74,
   "metadata": {},
   "outputs": [
    {
     "name": "stdout",
     "output_type": "stream",
     "text": [
      "octane.pdb\n",
      "ATOM      4  C           1      -0.611  -0.426  -0.198  1.00  0.00\n",
      "ATOM      5  C           1       0.608   0.405   0.216  1.00  0.00\n",
      "ATOM      6  C           1       1.892  -0.400   0.001  1.00  0.00\n",
      "ATOM      7  C           1       3.113   0.429   0.414  1.00  0.00\n",
      "ATOM      8  C           1       4.397  -0.374   0.199  1.00  0.00\n"
     ]
    }
   ],
   "source": [
    "!bash middle.sh 10 5 octane.pdb cubane.pdb ethane.pdb"
   ]
  }
 ],
 "metadata": {
  "kernelspec": {
   "display_name": "Python 3",
   "language": "python",
   "name": "python3"
  },
  "language_info": {
   "codemirror_mode": {
    "name": "ipython",
    "version": 3
   },
   "file_extension": ".py",
   "mimetype": "text/x-python",
   "name": "python",
   "nbconvert_exporter": "python",
   "pygments_lexer": "ipython3",
   "version": "3.7.0"
  }
 },
 "nbformat": 4,
 "nbformat_minor": 4
}
