{
 "cells": [
  {
   "cell_type": "markdown",
   "metadata": {},
   "source": [
    "__Review:__\n",
    "- Variables and Assignments\n",
    "- Indentation\n",
    "- Data Types\n",
    "- Slicing\n",
    "\n",
    "__Lesson:__\n",
    "\n",
    "- Reference and Copying\n",
    "- Functions\n",
    "- Modules"
   ]
  },
  {
   "cell_type": "markdown",
   "metadata": {},
   "source": [
    "## Assignments and Variables\n",
    "Variable assignments are done directly, there is no need to declare variables types. Python works out the type of the variable when needed (no primitive types like in Java or C++)."
   ]
  },
  {
   "cell_type": "code",
   "execution_count": 1,
   "metadata": {},
   "outputs": [
    {
     "name": "stdout",
     "output_type": "stream",
     "text": [
      "<class 'int'> x =  37\n",
      "<class 'str'> y =  Hello World\n",
      "<class 'float'> z =  5.45\n"
     ]
    }
   ],
   "source": [
    "# this is a comment\n",
    "x = 36            # initialize x\n",
    "y = \"Hello\"       # Initialize y\n",
    "z = 3.45          # Initialize z\n",
    "\n",
    "x = x + 1\n",
    "y = y + \" World\" # String concatenation\n",
    "z = 2 + z\n",
    "    \n",
    "# printing the results\n",
    "print(type(x),'x = ',x)\n",
    "print(type(y),'y = ',y)\n",
    "print(type(z),'z = ',z)"
   ]
  },
  {
   "cell_type": "markdown",
   "metadata": {},
   "source": [
    "- The assignment creates and initializes the variables\n",
    "- Comparison is performed using conventional operators $<$, $>$, $==$, $!\\!=$, ...\n",
    "- Logical operators are <span style=\"color:blue\">_and_, _or_, _not_</span>\n",
    "- Strings also support the ''aritmetic'' operators <span style=\"color:blue\">+</span> and  <span style=\"color:blue\">*</span>"
   ]
  },
  {
   "cell_type": "code",
   "execution_count": 6,
   "metadata": {},
   "outputs": [
    {
     "name": "stdout",
     "output_type": "stream",
     "text": [
      "Hello World \n",
      "Hello World Hello World \n"
     ]
    }
   ],
   "source": [
    "y = \"Hello\"\n",
    "y = y + \" World \"\n",
    "print(y)\n",
    "w = 2*y\n",
    "print(w)"
   ]
  },
  {
   "cell_type": "markdown",
   "metadata": {},
   "source": [
    "__Important:__\n",
    "- Assignment creates references, not copies\n",
    "- A “variable” is just a name that holds a reference to an object in Python\n",
    "- If you try to access a variable before it has been properly created, you’ll get an error\n",
    "- You can assign multiple variables at the same time\n",
    "```python\n",
    "x, y = 2, 3\n",
    "```"
   ]
  },
  {
   "cell_type": "markdown",
   "metadata": {},
   "source": [
    "### Naming variables\n",
    "- Names are case sensitive\n",
    "- Names cannot start with a number\n",
    "- Can contain letters, numbers, and underscores\n",
    "```\n",
    "\tbob   Bob   _bob   _2_bob_   bob_2    Bob\n",
    "```\n",
    "- There are some reserved words\n",
    "\n",
    "<span style=\"color:blue\">and, assert, break, class, continue, def, del, elif, else, except, exec, finally, for, from, global, if, import, in, is, lambda, not, or, pass, print, raise, return, try, while</span>"
   ]
  },
  {
   "cell_type": "markdown",
   "metadata": {},
   "source": [
    "## Indentation\n",
    "Indentation denotes blocks of code under clauses such as _if_, _for_, _def_, ...\n",
    "```python\n",
    "if z == 3.45 or y == \"Hello\":\n",
    "    x = x + 1\n",
    "    y = y + \" World\"\n",
    "```\n",
    "Indentation is mandatory and should be carefully handled.\n",
    "\n",
    "Lines at the same level of indentation form a block."
   ]
  },
  {
   "cell_type": "markdown",
   "metadata": {},
   "source": [
    "## Comments\n",
    "\n",
    "Comments add helpful text to code"
   ]
  },
  {
   "cell_type": "markdown",
   "metadata": {},
   "source": [
    "```python\n",
    "if z == 3.45 or y == \"Hello\":\n",
    "    \"\"\"\n",
    "    This comment spans many lines\n",
    "    \"\"\"\n",
    "    x = x + 1      \n",
    "    y = y + \" World\" # This comment is a sinlge line\n",
    "```"
   ]
  },
  {
   "cell_type": "markdown",
   "metadata": {},
   "source": [
    "# Basic Data types\n",
    "<span style=\"color:blue\">Integer</span>\n",
    "- Ex. 42, int(4/3)\n",
    "\n",
    "<span style=\"color:blue\">Floating point</span>\n",
    "- Ex. 3.14, 3.14e-10, .0001, 4.\n",
    "\n",
    "<span style=\"color:blue\">Complex numbers</span>\n",
    "- Ex. 3j, 4+5j\n",
    "\n",
    "<span style=\"color:blue\">Boolean</span>\n",
    "- Ex. True, False\n",
    "\n",
    "__PS.__ Python provides built-in functions for converting between types"
   ]
  },
  {
   "cell_type": "markdown",
   "metadata": {},
   "source": [
    "An assignment like \n",
    "```python\n",
    "x = 3.4\n",
    "```\n",
    "is a way of giving a name to an object (called a binding).\n",
    "- all data types in Python are represented by objects\n",
    "- Variables in Python do not have an intrinsic type, objects have types\n",
    "- Objects have an identity (think address in memory), a type, and a value\n",
    "- Python determines the type of the variable automatically based on the object referenced by it\n",
    "- An object’s identity and type cannot change\n",
    "- An object’s value may be able to change"
   ]
  },
  {
   "cell_type": "markdown",
   "metadata": {},
   "source": [
    "## Sequence Types\n",
    "<span style=\"color:blue\">Tuple</span>\n",
    "- A simple ordered sequence of items\n",
    "- Elements can be of mixed types, including sequence types\n",
    "- Elements __cannot__ be modified\n",
    "\n",
    "<span style=\"color:blue\">List</span>\n",
    "- Ordered sequence of items of mixed types\n",
    "- Elements can be modified, added, removed, etc.\n",
    "\n",
    "<span style=\"color:blue\">String</span>\n",
    "- Conceptually very much like a tuple\n",
    "- Elements are restricted to characters only\n",
    "\n",
    "\n",
    "__PS.__ _Tuples_ and _strings_ are immutable (fixed), _Lists_ are mutable (changable)\n",
    "\n",
    "Elements of _tuple_, _list_, and _string_ can be accessed using brackets [ ]. The index of _tuples_, _list_, and _strings_ with $n$ elements ranges from $0$ to $n-1$."
   ]
  },
  {
   "cell_type": "code",
   "execution_count": 2,
   "metadata": {},
   "outputs": [
    {
     "name": "stdout",
     "output_type": "stream",
     "text": [
      "23\n",
      "abc\n",
      "4.56\n",
      "(2, 3)\n"
     ]
    }
   ],
   "source": [
    "t = (23, 'abc', 4.56, (2,3))  # this is a tuple, must be defined \n",
    "                              # using parenthesis ()\n",
    "print(t[0])\n",
    "print(t[1])\n",
    "print(t[2])\n",
    "print(t[3]) "
   ]
  },
  {
   "cell_type": "code",
   "execution_count": 3,
   "metadata": {},
   "outputs": [
    {
     "ename": "TypeError",
     "evalue": "'tuple' object does not support item assignment",
     "output_type": "error",
     "traceback": [
      "\u001b[0;31m---------------------------------------------------------------------------\u001b[0m",
      "\u001b[0;31mTypeError\u001b[0m                                 Traceback (most recent call last)",
      "\u001b[0;32m<ipython-input-3-7801831ad42d>\u001b[0m in \u001b[0;36m<module>\u001b[0;34m()\u001b[0m\n\u001b[1;32m      1\u001b[0m \u001b[0;31m#since tuples are immutable, item assignment are not supported\u001b[0m\u001b[0;34m\u001b[0m\u001b[0;34m\u001b[0m\u001b[0m\n\u001b[0;32m----> 2\u001b[0;31m \u001b[0mt\u001b[0m\u001b[0;34m[\u001b[0m\u001b[0;36m2\u001b[0m\u001b[0;34m]\u001b[0m\u001b[0;34m=\u001b[0m\u001b[0;36m1\u001b[0m\u001b[0;34m\u001b[0m\u001b[0m\n\u001b[0m",
      "\u001b[0;31mTypeError\u001b[0m: 'tuple' object does not support item assignment"
     ]
    }
   ],
   "source": [
    "#since tuples are immutable, item assignment are not supported\n",
    "t[2]=1 "
   ]
  },
  {
   "cell_type": "code",
   "execution_count": 2,
   "metadata": {},
   "outputs": [
    {
     "name": "stdout",
     "output_type": "stream",
     "text": [
      "['abc', 34, 4.34, 23]\n",
      "abc\n",
      "34\n",
      "4.34\n",
      "23\n"
     ]
    }
   ],
   "source": [
    "l = [\"abc\", 34, 4.34, 23]   # Lists are defined using square brackets\n",
    "print(l)\n",
    "print(l[0])\n",
    "print(l[1])\n",
    "print(l[2])\n",
    "print(l[3])"
   ]
  },
  {
   "cell_type": "code",
   "execution_count": 15,
   "metadata": {},
   "outputs": [
    {
     "name": "stdout",
     "output_type": "stream",
     "text": [
      "['abc', 'I changed', 4.34, 23]\n"
     ]
    }
   ],
   "source": [
    "# lists are mutable, items can be changed\n",
    "l[1] = \"I changed\"\n",
    "print(l)"
   ]
  },
  {
   "cell_type": "code",
   "execution_count": 5,
   "metadata": {},
   "outputs": [
    {
     "name": "stdout",
     "output_type": "stream",
     "text": [
      "t\n",
      "h\n",
      "i\n",
      "s\n"
     ]
    }
   ],
   "source": [
    "s = \"this is a string\"  # Strings are defined using single or double quotes\n",
    "print(s[0])\n",
    "print(s[1])\n",
    "print(s[2])\n",
    "print(s[3])"
   ]
  },
  {
   "cell_type": "code",
   "execution_count": 16,
   "metadata": {},
   "outputs": [
    {
     "name": "stdout",
     "output_type": "stream",
     "text": [
      "['abc', 'I changed', 4.34, 23]\n",
      "23\n",
      "4.34\n",
      "I changed\n"
     ]
    }
   ],
   "source": [
    "# The index of the elements can be positive or negative (go backwards)\n",
    "print(l)\n",
    "print(l[-1])\n",
    "print(l[-2])\n",
    "print(l[-3])"
   ]
  },
  {
   "cell_type": "markdown",
   "metadata": {},
   "source": [
    "### Printing to StdErr"
   ]
  },
  {
   "cell_type": "code",
   "execution_count": 4,
   "metadata": {},
   "outputs": [
    {
     "name": "stderr",
     "output_type": "stream",
     "text": [
      "some error\n"
     ]
    }
   ],
   "source": [
    "import sys\n",
    "\n",
    "print(\"some error\", file=sys.stderr);"
   ]
  },
  {
   "cell_type": "markdown",
   "metadata": {},
   "source": [
    "## Slicing\n",
    "Slicing allows to access a subset of the original sequence."
   ]
  },
  {
   "cell_type": "code",
   "execution_count": 3,
   "metadata": {},
   "outputs": [
    {
     "name": "stdout",
     "output_type": "stream",
     "text": [
      "['abc', 34, 4.34, 23]\n",
      "['abc', 34]\n",
      "[4.34, 23]\n",
      "[34, 4.34, 23]\n",
      "['abc', 34, 4.34]\n",
      "['abc', 34, 4.34]\n",
      "['abc', 4.34]\n",
      "[23, 4.34, 34, 'abc']\n",
      "[23, 4.34]\n",
      "[]\n"
     ]
    }
   ],
   "source": [
    "print(l)\n",
    "print(l[0:2])  # gets elements l[0],l[1] \n",
    "print(l[2:])   # gets elements from l[2] on\n",
    "print(l[1:5])  # gets element l[1],l[2],l[3] \n",
    "print(l[:3])   # gets element l[0],l[1],l[2]\n",
    "print(l[:-1])  # gets all elements from t except \n",
    "               # the last one\n",
    "print(l[::2])\n",
    "print(l[::-1]) # gets all elements in reverse order\n",
    "test = l[3:1:-1]\n",
    "print(test)\n",
    "print(l[1:3:-1])"
   ]
  },
  {
   "cell_type": "markdown",
   "metadata": {},
   "source": [
    "## Copying\n",
    "Python tries to use references as much as possible. If you want to make a copy\n",
    "you should explicitely do it using [:]."
   ]
  },
  {
   "cell_type": "code",
   "execution_count": 12,
   "metadata": {},
   "outputs": [
    {
     "name": "stdout",
     "output_type": "stream",
     "text": [
      "l =  ['abc', 34, 4.34, 23]\n",
      "l1 =  ['abc', 34, 4.34, 23]\n",
      "l2 =  ['abc', 34, 4.34, 23]\n",
      "-----\n",
      "l =  ['abc', 34, 'item 2 changed', 23]\n",
      "l1 =  ['abc', 34, 'item 2 changed', 23]\n",
      "l2 =  ['abc', 34, 4.34, 23]\n",
      "-----\n",
      "l =  ['abc', 34, 'item 2 changed', 'item 3 changed']\n",
      "l1 =  ['abc', 34, 'item 2 changed', 'item 3 changed']\n",
      "l2 =  ['abc', 34, 4.34, 23]\n"
     ]
    }
   ],
   "source": [
    "l = [\"abc\", 34, 4.34, 23]\n",
    "l1 = l     # l1 is a reference to l\n",
    "l2 = l[:]  # l2 is a copy of l\n",
    "\n",
    "print('l = ',l)\n",
    "print('l1 = ',l1)\n",
    "print('l2 = ',l2)\n",
    "\n",
    "l[2] = 'item 2 changed'\n",
    "\n",
    "print(5*'-')\n",
    "\n",
    "print('l = ',l)\n",
    "print('l1 = ',l1)\n",
    "print('l2 = ',l2)  # have not changed\n",
    "\n",
    "l1[3] = 'item 3 changed'\n",
    "\n",
    "print(5*'-')\n",
    "\n",
    "print('l = ',l)\n",
    "print('l1 = ',l1)\n",
    "print('l2 = ',l2)  # have not changed"
   ]
  },
  {
   "cell_type": "code",
   "execution_count": 4,
   "metadata": {},
   "outputs": [
    {
     "name": "stdout",
     "output_type": "stream",
     "text": [
      "['abc', 34, 4.34, 23]\n",
      "['abc', 34, 4.34, 23]\n"
     ]
    }
   ],
   "source": [
    "l = [\"abc\", 34, 4.34, 23]\n",
    "l1 = l     # l1 is a reference to l\n",
    "l2 = l[:]  \n",
    "print(l2)\n",
    "\n",
    "l = [\"cde\", 34, 4.34, 23]\n",
    "print(l2)"
   ]
  },
  {
   "cell_type": "code",
   "execution_count": 5,
   "metadata": {},
   "outputs": [],
   "source": [
    "from copy import deepcopy"
   ]
  },
  {
   "cell_type": "markdown",
   "metadata": {},
   "source": [
    "# Dictionaries\n",
    "Dictionaries store a unordered mapping between a set of keys and a set of values\n",
    "- Keys can be any immutable type\n",
    "- Values can be any type\n",
    "\n",
    "A single dictionary can store values of different types\n",
    "\n",
    "You can define, modify, view, look up, and delete the key-value pairs in the dictionary\n",
    "\n",
    "Dictionaries are created using braces, ‘{’ and ‘}’ by specifying the key and value. The key is the index to access the value."
   ]
  },
  {
   "cell_type": "code",
   "execution_count": 13,
   "metadata": {},
   "outputs": [
    {
     "name": "stdout",
     "output_type": "stream",
     "text": [
      "{'k1': 3.0, 'k2': 27, 'key3': 'the value of key3'}\n",
      "27\n",
      "the value of key3\n"
     ]
    }
   ],
   "source": [
    "d = {'k1':3.0,'k2':27,'key3':'the value of key3'}\n",
    "print(d)\n",
    "print(d['k2'])\n",
    "print(d['key3'])"
   ]
  },
  {
   "cell_type": "code",
   "execution_count": 15,
   "metadata": {},
   "outputs": [
    {
     "name": "stdout",
     "output_type": "stream",
     "text": [
      "------  new element\n",
      "{'k1': 3.0, 'k2': 27, 'key3': 'the value of key3', 'new_key': 13}\n",
      "------  removing element k1\n",
      "{'k2': 27, 'key3': 'the value of key3', 'new_key': 13}\n"
     ]
    }
   ],
   "source": [
    "# new key,value pairs can be added\n",
    "print(3*'--',' new element')\n",
    "d['new_key'] = 13\n",
    "print(d)\n",
    "\n",
    "\n",
    "# key,value pairs can be deleted using 'del'\n",
    "print(3*'--',' removing element k1')\n",
    "del d['k1']\n",
    "print(d)"
   ]
  },
  {
   "cell_type": "code",
   "execution_count": 17,
   "metadata": {},
   "outputs": [
    {
     "name": "stdout",
     "output_type": "stream",
     "text": [
      "------  getting existing keys in the dictionary\n",
      "dict_keys(['k2', 'key3', 'new_key'])\n",
      "------  getting existing values in the dictionary\n",
      "dict_values([27, 'the value of key3', 13])\n",
      "------  getting existing pairs in the dictionary\n",
      "dict_items([('k2', 27), ('key3', 'the value of key3'), ('new_key', 13)])\n"
     ]
    }
   ],
   "source": [
    "# you can get all existing keys using d.keys()\n",
    "print(3*'--',' getting existing keys in the dictionary')\n",
    "print(d.keys())\n",
    "\n",
    "# you can get all existing values using d.values()\n",
    "print(3*'--',' getting existing values in the dictionary')\n",
    "print(d.values())\n",
    "\n",
    "# you can get all existing key,value pairs using d.items()\n",
    "print(3*'--',' getting existing pairs in the dictionary')\n",
    "print(d.items())"
   ]
  },
  {
   "cell_type": "markdown",
   "metadata": {},
   "source": [
    "# Functions\n",
    "- A function is a name section of code that performs a specific purpose\n",
    "- Primary mechanism for program modularity (Breaks into small components -- decomposition)\n",
    "- Provides the ability to easily reuse code (Hides the code but makes it available -- abstraction)\n",
    "\n",
    "A function consists of:\n",
    "- A name: used to execute (or call) the function\n",
    "- A list of parameters: used to pass data into the function \n",
    "- A code block: containing the code to be executed\n",
    "- One or more return statements: to return a result back to the caller\n",
    "\n",
    "A function is created using a <span style=\"color:blue\">_def_</span> statement\n",
    "- Parameter and return types are not declared\n",
    "- Indentation is mandatory as well as the \":\" at the end of the function statement"
   ]
  },
  {
   "cell_type": "code",
   "execution_count": 21,
   "metadata": {},
   "outputs": [
    {
     "name": "stdout",
     "output_type": "stream",
     "text": [
      "10\n",
      "I am a python coder\n"
     ]
    }
   ],
   "source": [
    "# using a function to sum to variables\n",
    "\n",
    "def soma(x,y):\n",
    "    s = x+y\n",
    "    return(s)\n",
    "\n",
    "a = 3\n",
    "b = 7\n",
    "print(soma(a,b))\n",
    "\n",
    "c = \"I am\"\n",
    "d = \" a python coder\"\n",
    "print(soma(c,d))"
   ]
  },
  {
   "cell_type": "code",
   "execution_count": 23,
   "metadata": {},
   "outputs": [
    {
     "name": "stdout",
     "output_type": "stream",
     "text": [
      "None\n"
     ]
    }
   ],
   "source": [
    "# Can define optional (default) parameters\n",
    "\n",
    "def multiply(a,b=1):\n",
    "    '''this is our first example'''\n",
    "    m = b*a\n",
    "    return(m)\n",
    "\n",
    "i = 4\n",
    "print(multiply(i))\n",
    "print(multiply(i,2))\n",
    "j = '*-%'\n",
    "print(multiply(j))\n",
    "print(multiply(j,3))\n",
    "print(multiply.__doc__)"
   ]
  },
  {
   "cell_type": "markdown",
   "metadata": {},
   "source": [
    "- All functions in Python have a return value\n",
    "   - Even if no return statement is used\n",
    "   - Functions without a return statement result in the special value <span style=\"color:blue\">_None_</span>\n",
    "- There is no function overloading in Python\n",
    "   - Two different functions can’t have the same name\n",
    "- Functions are objects that can be used as any other data type\n",
    "   - Arguments to a function\n",
    "   - Return values of functions\n",
    "   - Assigned to variables\n",
    "   - Parts of tuples, lists, etc."
   ]
  },
  {
   "cell_type": "markdown",
   "metadata": {},
   "source": [
    "# Scope\n",
    "Assignments in the main body of a code create global variables\n",
    "- Global variables can be accessed from anywhere in the code\n",
    "\n",
    "Assignments inside a function body create a variable that is local to the function\n",
    "- Local variables are created when the function starts and are removed when the function ends "
   ]
  },
  {
   "cell_type": "code",
   "execution_count": 24,
   "metadata": {},
   "outputs": [
    {
     "name": "stdout",
     "output_type": "stream",
     "text": [
      "Fred\n",
      "Jane\n",
      "Fred\n"
     ]
    }
   ],
   "source": [
    "x = 'Fred'   # global x\n",
    "\n",
    "def func():\n",
    "    x = 'Jane'     # local x\n",
    "    print(x)\n",
    "    \n",
    "print(x)\n",
    "func()\n",
    "\n",
    "print(x)"
   ]
  },
  {
   "cell_type": "markdown",
   "metadata": {},
   "source": [
    " This means for functions \n",
    " - Variables defined within a function can only be seen and used within the body of the function.\n",
    " - If a variable is not defined within the function it is used, Python looks for a definition before the function call"
   ]
  },
  {
   "cell_type": "markdown",
   "metadata": {},
   "source": [
    "### Question"
   ]
  },
  {
   "cell_type": "code",
   "execution_count": 7,
   "metadata": {},
   "outputs": [
    {
     "name": "stdout",
     "output_type": "stream",
     "text": [
      "3 7\n"
     ]
    }
   ],
   "source": [
    "a = 3\n",
    "b = 7\n",
    "\n",
    "def swap(a, b):\n",
    "    temp = a\n",
    "    a = b\n",
    "    b = temp\n",
    "\n",
    "swap(a, b)\n",
    "\n",
    "print(a, b)"
   ]
  },
  {
   "cell_type": "markdown",
   "metadata": {},
   "source": [
    "# Modules\n",
    "- Modules are functions, classes, and variables defined in separate files.\n",
    "- Every file contain Python code and ending in .py is a module\n",
    "- There are many predefined modules that perform all sorts of useful operations\n",
    "\n",
    "A _module_ is a single file that can be imported under an _import_ command (essentially, any Python file is a module).\n",
    "```python\n",
    "import my_module\n",
    "```\n",
    "\n",
    "A package (sometimes called library)is a module that may have submodules (including subpackages).\n",
    "\n",
    "```python\n",
    "import numpy.random \n",
    "```\n"
   ]
  },
  {
   "cell_type": "markdown",
   "metadata": {},
   "source": [
    "## 'import' statement\n",
    " - The _import_ statement loads everything from a module into the current code.\n",
    " - The module is run once, regardless of the number of times it is imported"
   ]
  },
  {
   "cell_type": "code",
   "execution_count": 33,
   "metadata": {},
   "outputs": [],
   "source": [
    "from numpy import linalg"
   ]
  },
  {
   "cell_type": "markdown",
   "metadata": {},
   "source": [
    "## 'from' statement\n",
    "- The _from_ statement allows individual attributes to be imported into the current module\n",
    "- It does not import the whole module, only the specific attribute you specify\n",
    "- See [this link](https://docs.python.org/3/library/index.html) for a list of standard libraries (modules)"
   ]
  },
  {
   "cell_type": "markdown",
   "metadata": {},
   "source": [
    "## 'as' statement\n",
    "- The _as_ statement allows for aliases\n",
    "- Helpful for refactoring code"
   ]
  },
  {
   "cell_type": "code",
   "execution_count": 34,
   "metadata": {},
   "outputs": [],
   "source": [
    "import numpy as np"
   ]
  },
  {
   "cell_type": "markdown",
   "metadata": {},
   "source": [
    "### Namespaces\n",
    "- Modules are independent namespaces.\n",
    "- The top-level names (e.g. assignment, function definitions) within a module create attributes.\n",
    "- Attributes and methods of a module are accessed using regular syntax `module.attribute` and `module.method`\n",
    "- Module namespaces can be accessed through the \\__dict\\__ attribute or using dir(module)"
   ]
  },
  {
   "cell_type": "code",
   "execution_count": 12,
   "metadata": {},
   "outputs": [
    {
     "data": {
      "text/plain": [
       "['ALLOW_THREADS',\n",
       " 'AxisError',\n",
       " 'BUFSIZE',\n",
       " 'CLIP',\n",
       " 'ComplexWarning',\n",
       " 'DataSource',\n",
       " 'ERR_CALL',\n",
       " 'ERR_DEFAULT',\n",
       " 'ERR_IGNORE',\n",
       " 'ERR_LOG',\n",
       " 'ERR_PRINT',\n",
       " 'ERR_RAISE',\n",
       " 'ERR_WARN',\n",
       " 'FLOATING_POINT_SUPPORT',\n",
       " 'FPE_DIVIDEBYZERO',\n",
       " 'FPE_INVALID',\n",
       " 'FPE_OVERFLOW',\n",
       " 'FPE_UNDERFLOW',\n",
       " 'False_',\n",
       " 'Inf',\n",
       " 'Infinity',\n",
       " 'MAXDIMS',\n",
       " 'MAY_SHARE_BOUNDS',\n",
       " 'MAY_SHARE_EXACT',\n",
       " 'MachAr',\n",
       " 'ModuleDeprecationWarning',\n",
       " 'NAN',\n",
       " 'NINF',\n",
       " 'NZERO',\n",
       " 'NaN',\n",
       " 'PINF',\n",
       " 'PZERO',\n",
       " 'RAISE',\n",
       " 'RankWarning',\n",
       " 'SHIFT_DIVIDEBYZERO',\n",
       " 'SHIFT_INVALID',\n",
       " 'SHIFT_OVERFLOW',\n",
       " 'SHIFT_UNDERFLOW',\n",
       " 'ScalarType',\n",
       " 'Tester',\n",
       " 'TooHardError',\n",
       " 'True_',\n",
       " 'UFUNC_BUFSIZE_DEFAULT',\n",
       " 'UFUNC_PYVALS_NAME',\n",
       " 'VisibleDeprecationWarning',\n",
       " 'WRAP',\n",
       " '_NoValue',\n",
       " '_UFUNC_API',\n",
       " '__NUMPY_SETUP__',\n",
       " '__all__',\n",
       " '__builtins__',\n",
       " '__cached__',\n",
       " '__config__',\n",
       " '__doc__',\n",
       " '__file__',\n",
       " '__git_revision__',\n",
       " '__loader__',\n",
       " '__name__',\n",
       " '__package__',\n",
       " '__path__',\n",
       " '__spec__',\n",
       " '__version__',\n",
       " '_add_newdoc_ufunc',\n",
       " '_arg',\n",
       " '_distributor_init',\n",
       " '_globals',\n",
       " '_mat',\n",
       " '_pytesttester',\n",
       " 'abs',\n",
       " 'absolute',\n",
       " 'absolute_import',\n",
       " 'add',\n",
       " 'add_docstring',\n",
       " 'add_newdoc',\n",
       " 'add_newdoc_ufunc',\n",
       " 'alen',\n",
       " 'all',\n",
       " 'allclose',\n",
       " 'alltrue',\n",
       " 'amax',\n",
       " 'amin',\n",
       " 'angle',\n",
       " 'any',\n",
       " 'append',\n",
       " 'apply_along_axis',\n",
       " 'apply_over_axes',\n",
       " 'arange',\n",
       " 'arccos',\n",
       " 'arccosh',\n",
       " 'arcsin',\n",
       " 'arcsinh',\n",
       " 'arctan',\n",
       " 'arctan2',\n",
       " 'arctanh',\n",
       " 'argmax',\n",
       " 'argmin',\n",
       " 'argpartition',\n",
       " 'argsort',\n",
       " 'argwhere',\n",
       " 'around',\n",
       " 'array',\n",
       " 'array2string',\n",
       " 'array_equal',\n",
       " 'array_equiv',\n",
       " 'array_repr',\n",
       " 'array_split',\n",
       " 'array_str',\n",
       " 'asanyarray',\n",
       " 'asarray',\n",
       " 'asarray_chkfinite',\n",
       " 'ascontiguousarray',\n",
       " 'asfarray',\n",
       " 'asfortranarray',\n",
       " 'asmatrix',\n",
       " 'asscalar',\n",
       " 'atleast_1d',\n",
       " 'atleast_2d',\n",
       " 'atleast_3d',\n",
       " 'average',\n",
       " 'bartlett',\n",
       " 'base_repr',\n",
       " 'binary_repr',\n",
       " 'bincount',\n",
       " 'bitwise_and',\n",
       " 'bitwise_not',\n",
       " 'bitwise_or',\n",
       " 'bitwise_xor',\n",
       " 'blackman',\n",
       " 'block',\n",
       " 'bmat',\n",
       " 'bool',\n",
       " 'bool8',\n",
       " 'bool_',\n",
       " 'broadcast',\n",
       " 'broadcast_arrays',\n",
       " 'broadcast_to',\n",
       " 'busday_count',\n",
       " 'busday_offset',\n",
       " 'busdaycalendar',\n",
       " 'byte',\n",
       " 'byte_bounds',\n",
       " 'bytes0',\n",
       " 'bytes_',\n",
       " 'c_',\n",
       " 'can_cast',\n",
       " 'cast',\n",
       " 'cbrt',\n",
       " 'cdouble',\n",
       " 'ceil',\n",
       " 'cfloat',\n",
       " 'char',\n",
       " 'character',\n",
       " 'chararray',\n",
       " 'choose',\n",
       " 'clip',\n",
       " 'clongdouble',\n",
       " 'clongfloat',\n",
       " 'column_stack',\n",
       " 'common_type',\n",
       " 'compare_chararrays',\n",
       " 'compat',\n",
       " 'complex',\n",
       " 'complex128',\n",
       " 'complex256',\n",
       " 'complex64',\n",
       " 'complex_',\n",
       " 'complexfloating',\n",
       " 'compress',\n",
       " 'concatenate',\n",
       " 'conj',\n",
       " 'conjugate',\n",
       " 'convolve',\n",
       " 'copy',\n",
       " 'copysign',\n",
       " 'copyto',\n",
       " 'core',\n",
       " 'corrcoef',\n",
       " 'correlate',\n",
       " 'cos',\n",
       " 'cosh',\n",
       " 'count_nonzero',\n",
       " 'cov',\n",
       " 'cross',\n",
       " 'csingle',\n",
       " 'ctypeslib',\n",
       " 'cumprod',\n",
       " 'cumproduct',\n",
       " 'cumsum',\n",
       " 'datetime64',\n",
       " 'datetime_as_string',\n",
       " 'datetime_data',\n",
       " 'deg2rad',\n",
       " 'degrees',\n",
       " 'delete',\n",
       " 'deprecate',\n",
       " 'deprecate_with_doc',\n",
       " 'diag',\n",
       " 'diag_indices',\n",
       " 'diag_indices_from',\n",
       " 'diagflat',\n",
       " 'diagonal',\n",
       " 'diff',\n",
       " 'digitize',\n",
       " 'disp',\n",
       " 'divide',\n",
       " 'division',\n",
       " 'divmod',\n",
       " 'dot',\n",
       " 'double',\n",
       " 'dsplit',\n",
       " 'dstack',\n",
       " 'dtype',\n",
       " 'e',\n",
       " 'ediff1d',\n",
       " 'einsum',\n",
       " 'einsum_path',\n",
       " 'emath',\n",
       " 'empty',\n",
       " 'empty_like',\n",
       " 'equal',\n",
       " 'errstate',\n",
       " 'euler_gamma',\n",
       " 'exp',\n",
       " 'exp2',\n",
       " 'expand_dims',\n",
       " 'expm1',\n",
       " 'extract',\n",
       " 'eye',\n",
       " 'fabs',\n",
       " 'fastCopyAndTranspose',\n",
       " 'fft',\n",
       " 'fill_diagonal',\n",
       " 'find_common_type',\n",
       " 'finfo',\n",
       " 'fix',\n",
       " 'flatiter',\n",
       " 'flatnonzero',\n",
       " 'flexible',\n",
       " 'flip',\n",
       " 'fliplr',\n",
       " 'flipud',\n",
       " 'float',\n",
       " 'float128',\n",
       " 'float16',\n",
       " 'float32',\n",
       " 'float64',\n",
       " 'float_',\n",
       " 'float_power',\n",
       " 'floating',\n",
       " 'floor',\n",
       " 'floor_divide',\n",
       " 'fmax',\n",
       " 'fmin',\n",
       " 'fmod',\n",
       " 'format_float_positional',\n",
       " 'format_float_scientific',\n",
       " 'format_parser',\n",
       " 'frexp',\n",
       " 'frombuffer',\n",
       " 'fromfile',\n",
       " 'fromfunction',\n",
       " 'fromiter',\n",
       " 'frompyfunc',\n",
       " 'fromregex',\n",
       " 'fromstring',\n",
       " 'full',\n",
       " 'full_like',\n",
       " 'fv',\n",
       " 'gcd',\n",
       " 'generic',\n",
       " 'genfromtxt',\n",
       " 'geomspace',\n",
       " 'get_array_wrap',\n",
       " 'get_include',\n",
       " 'get_printoptions',\n",
       " 'getbufsize',\n",
       " 'geterr',\n",
       " 'geterrcall',\n",
       " 'geterrobj',\n",
       " 'gradient',\n",
       " 'greater',\n",
       " 'greater_equal',\n",
       " 'half',\n",
       " 'hamming',\n",
       " 'hanning',\n",
       " 'heaviside',\n",
       " 'histogram',\n",
       " 'histogram2d',\n",
       " 'histogram_bin_edges',\n",
       " 'histogramdd',\n",
       " 'hsplit',\n",
       " 'hstack',\n",
       " 'hypot',\n",
       " 'i0',\n",
       " 'identity',\n",
       " 'iinfo',\n",
       " 'imag',\n",
       " 'in1d',\n",
       " 'index_exp',\n",
       " 'indices',\n",
       " 'inexact',\n",
       " 'inf',\n",
       " 'info',\n",
       " 'infty',\n",
       " 'inner',\n",
       " 'insert',\n",
       " 'int',\n",
       " 'int0',\n",
       " 'int16',\n",
       " 'int32',\n",
       " 'int64',\n",
       " 'int8',\n",
       " 'int_',\n",
       " 'int_asbuffer',\n",
       " 'intc',\n",
       " 'integer',\n",
       " 'interp',\n",
       " 'intersect1d',\n",
       " 'intp',\n",
       " 'invert',\n",
       " 'ipmt',\n",
       " 'irr',\n",
       " 'is_busday',\n",
       " 'isclose',\n",
       " 'iscomplex',\n",
       " 'iscomplexobj',\n",
       " 'isfinite',\n",
       " 'isfortran',\n",
       " 'isin',\n",
       " 'isinf',\n",
       " 'isnan',\n",
       " 'isnat',\n",
       " 'isneginf',\n",
       " 'isposinf',\n",
       " 'isreal',\n",
       " 'isrealobj',\n",
       " 'isscalar',\n",
       " 'issctype',\n",
       " 'issubclass_',\n",
       " 'issubdtype',\n",
       " 'issubsctype',\n",
       " 'iterable',\n",
       " 'ix_',\n",
       " 'kaiser',\n",
       " 'kron',\n",
       " 'lcm',\n",
       " 'ldexp',\n",
       " 'left_shift',\n",
       " 'less',\n",
       " 'less_equal',\n",
       " 'lexsort',\n",
       " 'lib',\n",
       " 'linalg',\n",
       " 'linspace',\n",
       " 'little_endian',\n",
       " 'load',\n",
       " 'loads',\n",
       " 'loadtxt',\n",
       " 'log',\n",
       " 'log10',\n",
       " 'log1p',\n",
       " 'log2',\n",
       " 'logaddexp',\n",
       " 'logaddexp2',\n",
       " 'logical_and',\n",
       " 'logical_not',\n",
       " 'logical_or',\n",
       " 'logical_xor',\n",
       " 'logspace',\n",
       " 'long',\n",
       " 'longcomplex',\n",
       " 'longdouble',\n",
       " 'longfloat',\n",
       " 'longlong',\n",
       " 'lookfor',\n",
       " 'ma',\n",
       " 'mafromtxt',\n",
       " 'mask_indices',\n",
       " 'mat',\n",
       " 'math',\n",
       " 'matmul',\n",
       " 'matrix',\n",
       " 'matrixlib',\n",
       " 'max',\n",
       " 'maximum',\n",
       " 'maximum_sctype',\n",
       " 'may_share_memory',\n",
       " 'mean',\n",
       " 'median',\n",
       " 'memmap',\n",
       " 'meshgrid',\n",
       " 'mgrid',\n",
       " 'min',\n",
       " 'min_scalar_type',\n",
       " 'minimum',\n",
       " 'mintypecode',\n",
       " 'mirr',\n",
       " 'mod',\n",
       " 'modf',\n",
       " 'moveaxis',\n",
       " 'msort',\n",
       " 'multiply',\n",
       " 'nan',\n",
       " 'nan_to_num',\n",
       " 'nanargmax',\n",
       " 'nanargmin',\n",
       " 'nancumprod',\n",
       " 'nancumsum',\n",
       " 'nanmax',\n",
       " 'nanmean',\n",
       " 'nanmedian',\n",
       " 'nanmin',\n",
       " 'nanpercentile',\n",
       " 'nanprod',\n",
       " 'nanquantile',\n",
       " 'nanstd',\n",
       " 'nansum',\n",
       " 'nanvar',\n",
       " 'nbytes',\n",
       " 'ndarray',\n",
       " 'ndenumerate',\n",
       " 'ndfromtxt',\n",
       " 'ndim',\n",
       " 'ndindex',\n",
       " 'nditer',\n",
       " 'negative',\n",
       " 'nested_iters',\n",
       " 'newaxis',\n",
       " 'nextafter',\n",
       " 'nonzero',\n",
       " 'not_equal',\n",
       " 'nper',\n",
       " 'npv',\n",
       " 'numarray',\n",
       " 'number',\n",
       " 'obj2sctype',\n",
       " 'object',\n",
       " 'object0',\n",
       " 'object_',\n",
       " 'ogrid',\n",
       " 'oldnumeric',\n",
       " 'ones',\n",
       " 'ones_like',\n",
       " 'outer',\n",
       " 'packbits',\n",
       " 'pad',\n",
       " 'partition',\n",
       " 'percentile',\n",
       " 'pi',\n",
       " 'piecewise',\n",
       " 'place',\n",
       " 'pmt',\n",
       " 'poly',\n",
       " 'poly1d',\n",
       " 'polyadd',\n",
       " 'polyder',\n",
       " 'polydiv',\n",
       " 'polyfit',\n",
       " 'polyint',\n",
       " 'polymul',\n",
       " 'polynomial',\n",
       " 'polysub',\n",
       " 'polyval',\n",
       " 'positive',\n",
       " 'power',\n",
       " 'ppmt',\n",
       " 'print_function',\n",
       " 'printoptions',\n",
       " 'prod',\n",
       " 'product',\n",
       " 'promote_types',\n",
       " 'ptp',\n",
       " 'put',\n",
       " 'put_along_axis',\n",
       " 'putmask',\n",
       " 'pv',\n",
       " 'quantile',\n",
       " 'r_',\n",
       " 'rad2deg',\n",
       " 'radians',\n",
       " 'random',\n",
       " 'rank',\n",
       " 'rate',\n",
       " 'ravel',\n",
       " 'ravel_multi_index',\n",
       " 'real',\n",
       " 'real_if_close',\n",
       " 'rec',\n",
       " 'recarray',\n",
       " 'recfromcsv',\n",
       " 'recfromtxt',\n",
       " 'reciprocal',\n",
       " 'record',\n",
       " 'remainder',\n",
       " 'repeat',\n",
       " 'require',\n",
       " 'reshape',\n",
       " 'resize',\n",
       " 'result_type',\n",
       " 'right_shift',\n",
       " 'rint',\n",
       " 'roll',\n",
       " 'rollaxis',\n",
       " 'roots',\n",
       " 'rot90',\n",
       " 'round',\n",
       " 'round_',\n",
       " 'row_stack',\n",
       " 's_',\n",
       " 'safe_eval',\n",
       " 'save',\n",
       " 'savetxt',\n",
       " 'savez',\n",
       " 'savez_compressed',\n",
       " 'sctype2char',\n",
       " 'sctypeDict',\n",
       " 'sctypeNA',\n",
       " 'sctypes',\n",
       " 'searchsorted',\n",
       " 'select',\n",
       " 'set_numeric_ops',\n",
       " 'set_printoptions',\n",
       " 'set_string_function',\n",
       " 'setbufsize',\n",
       " 'setdiff1d',\n",
       " 'seterr',\n",
       " 'seterrcall',\n",
       " 'seterrobj',\n",
       " 'setxor1d',\n",
       " 'shape',\n",
       " 'shares_memory',\n",
       " 'short',\n",
       " 'show_config',\n",
       " 'sign',\n",
       " 'signbit',\n",
       " 'signedinteger',\n",
       " 'sin',\n",
       " 'sinc',\n",
       " 'single',\n",
       " 'singlecomplex',\n",
       " 'sinh',\n",
       " 'size',\n",
       " 'sometrue',\n",
       " 'sort',\n",
       " 'sort_complex',\n",
       " 'source',\n",
       " 'spacing',\n",
       " 'split',\n",
       " 'sqrt',\n",
       " 'square',\n",
       " 'squeeze',\n",
       " 'stack',\n",
       " 'std',\n",
       " 'str',\n",
       " 'str0',\n",
       " 'str_',\n",
       " 'string_',\n",
       " 'subtract',\n",
       " 'sum',\n",
       " 'swapaxes',\n",
       " 'sys',\n",
       " 'take',\n",
       " 'take_along_axis',\n",
       " 'tan',\n",
       " 'tanh',\n",
       " 'tensordot',\n",
       " 'test',\n",
       " 'testing',\n",
       " 'tile',\n",
       " 'timedelta64',\n",
       " 'trace',\n",
       " 'tracemalloc_domain',\n",
       " 'transpose',\n",
       " 'trapz',\n",
       " 'tri',\n",
       " 'tril',\n",
       " 'tril_indices',\n",
       " 'tril_indices_from',\n",
       " 'trim_zeros',\n",
       " 'triu',\n",
       " 'triu_indices',\n",
       " 'triu_indices_from',\n",
       " 'true_divide',\n",
       " 'trunc',\n",
       " 'typeDict',\n",
       " 'typeNA',\n",
       " 'typecodes',\n",
       " 'typename',\n",
       " 'ubyte',\n",
       " 'ufunc',\n",
       " 'uint',\n",
       " 'uint0',\n",
       " 'uint16',\n",
       " 'uint32',\n",
       " 'uint64',\n",
       " 'uint8',\n",
       " 'uintc',\n",
       " 'uintp',\n",
       " 'ulonglong',\n",
       " 'unicode',\n",
       " 'unicode_',\n",
       " 'union1d',\n",
       " 'unique',\n",
       " 'unpackbits',\n",
       " 'unravel_index',\n",
       " 'unsignedinteger',\n",
       " 'unwrap',\n",
       " 'ushort',\n",
       " 'vander',\n",
       " 'var',\n",
       " 'vdot',\n",
       " 'vectorize',\n",
       " 'version',\n",
       " 'void',\n",
       " 'void0',\n",
       " 'vsplit',\n",
       " 'vstack',\n",
       " 'warnings',\n",
       " 'where',\n",
       " 'who',\n",
       " 'zeros',\n",
       " 'zeros_like']"
      ]
     },
     "execution_count": 12,
     "metadata": {},
     "output_type": "execute_result"
    }
   ],
   "source": [
    "import sys\n",
    "sys.__dict__\n",
    "#dir(sys)\n",
    "import numpy as np\n",
    "np.__dict__\n",
    "dir(np)"
   ]
  },
  {
   "cell_type": "markdown",
   "metadata": {},
   "source": [
    "Modules can import other modules which can in turn import other modules\n",
    "$$\n",
    "\\fbox{a.py}\\xrightarrow{\\text{import}}\\fbox{b.py}\\xrightarrow{\\text{import}}\\fbox{c.py}\n",
    "$$\n",
    "Attributes of _c.py_ can be accessed from module _.py_ using the attribute notation `b.c.attribute` in _a.py_ "
   ]
  },
  {
   "cell_type": "markdown",
   "metadata": {},
   "source": [
    "### Module Search Path\n",
    "When importing a module, Python uses a search path to determine the location of the module.\n",
    "\n",
    "The search path comprises:\n",
    "- Working directory (location of top level file or current working directory)\n",
    "- PYTHONPATH directories\n",
    "- Standard library directories\n",
    "- The contents of any .pth files\n",
    "- The site-packages directory\n",
    "\n",
    "The search path is available in sys.path"
   ]
  },
  {
   "cell_type": "code",
   "execution_count": 8,
   "metadata": {},
   "outputs": [
    {
     "data": {
      "text/plain": [
       "['C:\\\\Users\\\\policast\\\\Documents\\\\Teaching\\\\Fall-2019\\\\DS-GA-1007\\\\lectures\\\\lec03\\\\demo',\n",
       " 'C:\\\\Users\\\\policast\\\\Programs\\\\Anaconda3.7\\\\python37.zip',\n",
       " 'C:\\\\Users\\\\policast\\\\Programs\\\\Anaconda3.7\\\\DLLs',\n",
       " 'C:\\\\Users\\\\policast\\\\Programs\\\\Anaconda3.7\\\\lib',\n",
       " 'C:\\\\Users\\\\policast\\\\Programs\\\\Anaconda3.7',\n",
       " '',\n",
       " 'C:\\\\Users\\\\policast\\\\Programs\\\\Anaconda3.7\\\\lib\\\\site-packages',\n",
       " 'C:\\\\Users\\\\policast\\\\Programs\\\\Anaconda3.7\\\\lib\\\\site-packages\\\\win32',\n",
       " 'C:\\\\Users\\\\policast\\\\Programs\\\\Anaconda3.7\\\\lib\\\\site-packages\\\\win32\\\\lib',\n",
       " 'C:\\\\Users\\\\policast\\\\Programs\\\\Anaconda3.7\\\\lib\\\\site-packages\\\\Pythonwin',\n",
       " 'C:\\\\Users\\\\policast\\\\Programs\\\\Anaconda3.7\\\\lib\\\\site-packages\\\\IPython\\\\extensions',\n",
       " 'C:\\\\Users\\\\policast\\\\.ipython']"
      ]
     },
     "execution_count": 8,
     "metadata": {},
     "output_type": "execute_result"
    }
   ],
   "source": [
    "import sys\n",
    "sys.path"
   ]
  },
  {
   "cell_type": "markdown",
   "metadata": {},
   "source": [
    "### Special Module Variables\n",
    "- \\_var:\n",
    "Variables starting with underscore will be not imported when using from *\n",
    "- \\__all\\__:\n",
    "Variable names in this list will be imported when using from *\n",
    "- \\__name\\__:\n",
    "Set to the name of the module or “__main__” if this is a top-level module\n",
    "```python\n",
    "if __name__ == ‘__main__’:\n",
    "# only executed when run, not when imported\n",
    "```"
   ]
  },
  {
   "cell_type": "code",
   "execution_count": null,
   "metadata": {},
   "outputs": [],
   "source": [
    "# !more mymodule.py\n",
    "\n",
    "# variables to be imported\n",
    "\n",
    "__all__ = ['variable1','variable2']\n",
    "\n",
    "_variable0 = '_variable0: not imported'\n",
    "\n",
    "variable1 = 'variable1: imported'\n",
    "variable2 = 'variable2: imported'\n",
    "\n",
    "variable3 = 'variable3: not imported'\n",
    "\n",
    "if __name__ == '__main__':\n",
    "    print('Module configuration')\n",
    "    print(variable0,variable1,variable2,variable2,)"
   ]
  },
  {
   "cell_type": "markdown",
   "metadata": {},
   "source": [
    "from mymodule import *\n",
    "\n",
    "print(variable1)\n",
    "print(variable2)\n",
    "#print(variable3)"
   ]
  },
  {
   "cell_type": "markdown",
   "metadata": {},
   "source": [
    "### Question"
   ]
  },
  {
   "cell_type": "markdown",
   "metadata": {},
   "source": [
    "import mymodule\n",
    "\n",
    "print(mymodule._variable0)\n",
    "print(mymodule.variable1)\n",
    "print(mymodule.variable2)\n",
    "print(mymodule.variable3)"
   ]
  },
  {
   "cell_type": "markdown",
   "metadata": {},
   "source": [
    "### Handling Packages\n",
    "An import (or from) statement can use the extended syntax dir1.dir2….dirN.module for the module name.\n",
    "\n",
    "Python assumes a directory structure consisting of dir1/dir2/…/dirN/module.py somewhere in your module search path\n",
    "\n",
    "- The parent of dir1 must be listed in sys.path\n",
    "- The directories dir1 to dirN must each contain the file \\__init\\__.py\n",
    "- The \\__init\\__.py file is run automatically when the directory is imported\n",
    "\n",
    "The __init__.py file is a hook for package initialization. It can be used to:\n",
    "- Initialize state\n",
    "- Declare that a directory is part of a Python package\n",
    "- The \\__all\\__ list can be used to define what is exported from the directory (when using from *)\n",
    "- It can be empty, but must exist for packages to work\n",
    "\n",
    "__Example:__\n",
    "```\n",
    "sound/                          Top-level package\n",
    "      __init__.py               Initialize the sound package\n",
    "      formats/                  Subpackage for file format conversions\n",
    "              __init__.py\n",
    "              wavread.py\n",
    "              wavwrite.py\n",
    "              aiffread.py\n",
    "              aiffwrite.py\n",
    "              auread.py\n",
    "              auwrite.py\n",
    "              ...\n",
    "      effects/                  Subpackage for sound effects\n",
    "              __init__.py\n",
    "              echo.py\n",
    "              surround.py\n",
    "              reverse.py\n",
    "              ...\n",
    "      filters/                  Subpackage for filters\n",
    "              __init__.py\n",
    "              equalizer.py\n",
    "              vocoder.py\n",
    "              karaoke.py\n",
    "```\n",
    "\n",
    "The package above can be handled as:\n",
    "```python\n",
    "from sound.effects import echo\n",
    "import sound.filters.equalizer\n",
    "```"
   ]
  },
  {
   "cell_type": "markdown",
   "metadata": {},
   "source": [
    "## Package Manager"
   ]
  },
  {
   "cell_type": "markdown",
   "metadata": {},
   "source": [
    "We might want different collections of packages for different projects such as Python 2 vs Python 3\n",
    "\n",
    "- `conda` is the package manager that comes with the Anaconda distribution\n",
    "- Allows for many environments that keep dependencies in separate **__sandboxes__**"
   ]
  },
  {
   "cell_type": "markdown",
   "metadata": {},
   "source": [
    "### Create an environment"
   ]
  },
  {
   "cell_type": "markdown",
   "metadata": {},
   "source": [
    "`conda create --name your_env_name python=3.7 -y`"
   ]
  },
  {
   "cell_type": "markdown",
   "metadata": {},
   "source": [
    "Loading packages all at once is preferable to avoid conflicting versions"
   ]
  },
  {
   "cell_type": "markdown",
   "metadata": {},
   "source": [
    "`conda create --name your_env_name python=3.7 scipy=0.15.0 numpy`"
   ]
  },
  {
   "cell_type": "markdown",
   "metadata": {},
   "source": [
    "With many packages, you can use a config file"
   ]
  },
  {
   "cell_type": "code",
   "execution_count": 22,
   "metadata": {},
   "outputs": [
    {
     "name": "stdout",
     "output_type": "stream",
     "text": [
      "name: your_env_name\n",
      "channels:\n",
      " - defaults\n",
      "dependencies:\n",
      " - ca-certificates=2018.03.07=0\n",
      "prefix: /Users/your_username/anaconda3/envs/your_env_name\n"
     ]
    }
   ],
   "source": [
    "!more environment.yml"
   ]
  },
  {
   "cell_type": "markdown",
   "metadata": {},
   "source": [
    "Note that sometimes `.yaml` collection of key values like dictionary "
   ]
  },
  {
   "cell_type": "markdown",
   "metadata": {},
   "source": [
    "`conda env create -f environment.yml`"
   ]
  },
  {
   "cell_type": "markdown",
   "metadata": {},
   "source": [
    "Obtain configuration file using"
   ]
  },
  {
   "cell_type": "markdown",
   "metadata": {},
   "source": [
    "`conda env export -n your_environment_name`"
   ]
  },
  {
   "cell_type": "markdown",
   "metadata": {},
   "source": [
    "### Use an Environment"
   ]
  },
  {
   "cell_type": "markdown",
   "metadata": {},
   "source": [
    "To switch between environments use "
   ]
  },
  {
   "cell_type": "markdown",
   "metadata": {},
   "source": [
    "`conda activate /Users/your_username/anaconda3/envs/your_env_name`"
   ]
  },
  {
   "cell_type": "markdown",
   "metadata": {},
   "source": [
    "`conda activate your_env_name`"
   ]
  },
  {
   "cell_type": "markdown",
   "metadata": {},
   "source": [
    "### Install Packages"
   ]
  },
  {
   "cell_type": "markdown",
   "metadata": {},
   "source": [
    "We can add, update and remove using \n",
    "\n",
    " - `conda install`\n",
    " - `conda update`\n",
    " - `conda remove` "
   ]
  },
  {
   "cell_type": "markdown",
   "metadata": {},
   "source": [
    "### Helpful Distinctions"
   ]
  },
  {
   "cell_type": "markdown",
   "metadata": {},
   "source": [
    " - `conda` is a package manager...not a distribution!\n",
    " - `conda` is not limited to Python packages\n",
    "     * Fecthes from different sources including `conda-forge`\n",
    " - `pip` is another package manager    \n",
    "     * pip is limited to Python\n",
    "     * fecthes from Python Package Index (PyPI)\n",
    "     * Historically binaries vs source code"
   ]
  }
 ],
 "metadata": {
  "kernelspec": {
   "display_name": "Python 3",
   "language": "python",
   "name": "python3"
  },
  "language_info": {
   "codemirror_mode": {
    "name": "ipython",
    "version": 3
   },
   "file_extension": ".py",
   "mimetype": "text/x-python",
   "name": "python",
   "nbconvert_exporter": "python",
   "pygments_lexer": "ipython3",
   "version": "3.7.0"
  }
 },
 "nbformat": 4,
 "nbformat_minor": 2
}
