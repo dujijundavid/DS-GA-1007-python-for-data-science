{
 "cells": [
  {
   "cell_type": "markdown",
   "metadata": {},
   "source": [
    "# <span style=\"color:blue\">Programming for Data Science - DS-GA 1007</span>\n",
    "## <span style=\"color:blue\">Lecture 4: Python III</span>\n",
    "---"
   ]
  },
  {
   "cell_type": "markdown",
   "metadata": {},
   "source": [
    "__Contents:__\n",
    "- Recursion \n",
    "- Object Oriented Programming\n",
    "- Classes and Objects"
   ]
  },
  {
   "cell_type": "markdown",
   "metadata": {},
   "source": [
    "---\n",
    "## Recursion"
   ]
  },
  {
   "cell_type": "code",
   "execution_count": 20,
   "metadata": {},
   "outputs": [
    {
     "name": "stdout",
     "output_type": "stream",
     "text": [
      "[1, 2, 3, 4, 5] [0]\n",
      "[2, 3, 4, 5] [1]\n",
      "[3, 4, 5] [3]\n",
      "[4, 5] [6]\n",
      "[5] [10]\n",
      "[] [15]\n",
      "[1, 2, 3, 4, 5] [15]\n"
     ]
    }
   ],
   "source": [
    "def my_sum(listInput, floatInput):\n",
    "    print(listInput, floatInput)\n",
    "    \n",
    "    if (len(listInput) > 0):\n",
    "        floatInput[0] += listInput[0]\n",
    "        listInput = listInput[1:]\n",
    "        my_sum(listInput, floatInput)    \n",
    "\n",
    "my_list = [1,2,3,4,5]         \n",
    "my_float = [0]        \n",
    "    \n",
    "my_sum(my_list, my_float)\n",
    "\n",
    "print(my_list, my_float)"
   ]
  },
  {
   "cell_type": "code",
   "execution_count": 25,
   "metadata": {},
   "outputs": [],
   "source": [
    "def curry(first_argument, func):\n",
    "    def new_func(*args):\n",
    "        return func(first_argument, *args)\n",
    "    \n",
    "    return new_func\n",
    "\n",
    "def adder(x, y):\n",
    "    return x + y\n",
    "\n",
    "curried_adder = curry(5, adder)\n",
    "curried_adder(4)"
   ]
  },
  {
   "cell_type": "markdown",
   "metadata": {},
   "source": [
    "## Object Oriented Programming\n",
    "Three main concepts:\n",
    "- Objects\n",
    "- Classes\n",
    "- Inheritance"
   ]
  },
  {
   "cell_type": "markdown",
   "metadata": {},
   "source": [
    "### Objects\n",
    "An object encapsulates two concepts:\n",
    "- State\n",
    "- Behavior\n",
    "\n",
    "_State_ accounts for information stored in the attributes of an object</br><br>\n",
    "_Behaviour_ is exposed through functions (called _methods_) associated to an object\n",
    "\n",
    "Several programming languages hide internal state and make it accessible only through methods.</br><br>\n",
    "Python doesn’t really do this, everything is exposed!!"
   ]
  },
  {
   "cell_type": "markdown",
   "metadata": {},
   "source": [
    "### Classes\n",
    "A class is a prototype for creating an object.\n",
    "When an object is created based on a prototype, it is instanciated.\n",
    "\n",
    "In programming terms, a class specifies the attributes and methods of the object, which can have several instances.\n",
    "\n",
    "__PS__: Although _objects_ and _instances_ are not the same (they are conceptually different), we will use both words as synonyms."
   ]
  },
  {
   "cell_type": "markdown",
   "metadata": {},
   "source": [
    "### Inheritance\n",
    "Classes are able to inherit common state and behavior from other classes.</br><br>\n",
    "A class that inherits from another class is called a subclass.</br><br>\n",
    "A class that is inherited by other classes is called a superclass or base class."
   ]
  },
  {
   "cell_type": "markdown",
   "metadata": {},
   "source": [
    "---\n",
    "## Python Classes\n",
    "__Syntax__\n",
    "```python\n",
    "class name_of_the_class(superclass,...)\n",
    "      attribute1 = value1\n",
    "      attribute2 = value2\n",
    "      :\n",
    "      :\n",
    "      def __init__(self,...):  # class constructor\n",
    "         … default code …\n",
    "            \n",
    "      def method1(self,...):\n",
    "         self.attribute1 = value\n",
    "```    \n",
    "A _class attribute_ is a variable that is accessible by any instance of the class.\n",
    "An _instance attribute_ is only accessible by the instance that creates it (like a local variable)."
   ]
  },
  {
   "cell_type": "code",
   "execution_count": 27,
   "metadata": {},
   "outputs": [],
   "source": [
    "class bicycle():\n",
    "    def __init__(self,bike_type = None,n_gears = 1,handlebar = 'Drop'):\n",
    "        print(\"...building the object...\")\n",
    "        self.bicycle_type = bike_type\n",
    "        self.number_of_gears = n_gears\n",
    "        self.handlebar_type = handlebar\n",
    "        self.handle_options = ['Drop','Cruiser','Flat','Bullhorn']\n",
    "    \n",
    "    def get_handlebar_options(self,k=4):\n",
    "        print(self.handle_options[:k])"
   ]
  },
  {
   "cell_type": "code",
   "execution_count": 31,
   "metadata": {},
   "outputs": [
    {
     "name": "stdout",
     "output_type": "stream",
     "text": [
      "...building the object...\n",
      "['Drop', 'Cruiser', 'Flat', 'Bullhorn']\n",
      "['Drop', 'Cruiser']\n",
      "...building the object...\n",
      "<__main__.bicycle object at 0x0000029733134E80>\n"
     ]
    }
   ],
   "source": [
    "my_bike = bicycle() #instanciating \n",
    "\n",
    "my_bike.bicycle_type = 'Cruise' # accessing an instance's variables\n",
    "my_bike.number_of_gears = 3     \n",
    "\n",
    "my_bike.get_handlebar_options() # accessing an instance's method\n",
    "my_bike.get_handlebar_options(2)\n",
    "\n",
    "thy_bike = bicycle(bike_type='Speed',handlebar='Bullhorn') #instanciating with parameter\n",
    "\n",
    "print(thy_bike)"
   ]
  },
  {
   "cell_type": "code",
   "execution_count": 32,
   "metadata": {},
   "outputs": [],
   "source": [
    "class mountain_bike(bicycle): # inherit bicycle as superclass\n",
    "    def __init__(self):\n",
    "        bicycle.__init__(self,bike_type='Mountain',n_gears = 10,handlebar='Bullhorn')\n",
    "        self.set_handlebar_options()\n",
    "        \n",
    "    def set_handlebar_options(self): \n",
    "        self.handle_options.remove('Cruiser')"
   ]
  },
  {
   "cell_type": "code",
   "execution_count": 33,
   "metadata": {},
   "outputs": [
    {
     "name": "stdout",
     "output_type": "stream",
     "text": [
      "...building the object...\n",
      "['Drop', 'Flat', 'Bullhorn']\n"
     ]
    }
   ],
   "source": [
    "my_mountain_bike = mountain_bike()\n",
    "my_mountain_bike.get_handlebar_options()"
   ]
  },
  {
   "cell_type": "markdown",
   "metadata": {},
   "source": [
    "### Operator Overloading\n",
    "Classes can intercept special Python operators (methods named with double underscores \\__X\\__ are special hooks)\n",
    "\n",
    "Classes may override most built-in type operations\n",
    "- \\__init\\__ object constructor\n",
    "- \\__repr\\__ call when printed or converted to a string\n",
    "- \\__add\\__ for + operator X + Y\n",
    "- \\__lt\\__, \\__gt\\__, for comparisons X < Y, X > Y\n",
    "- Many more..."
   ]
  },
  {
   "cell_type": "code",
   "execution_count": 34,
   "metadata": {},
   "outputs": [],
   "source": [
    "class bicycle():\n",
    "    def __init__(self,bike_type = None,n_gears = 1,handlebar = 'Drop'):\n",
    "        print(\"...building the object...\")\n",
    "        self.bicycle_type = bike_type\n",
    "        self.number_of_gears = n_gears\n",
    "        self.handlebar_type = handlebar\n",
    "        self.handle_options = ['Drop','Cruiser','Flat','Bullhorn']\n",
    "    \n",
    "    def __repr__(self):      # including a default print in the superclass\n",
    "        return('Type: '+self.bicycle_type+'\\n'+\n",
    "               'Gears: '+str(self.number_of_gears)+'\\n'+\n",
    "               'Handlebar: '+self.handlebar_type)\n",
    "    \n",
    "    def get_handlebar_options(self,k=4):\n",
    "        print(self.handle_options[:k])"
   ]
  },
  {
   "cell_type": "code",
   "execution_count": 35,
   "metadata": {},
   "outputs": [],
   "source": [
    "class mountain_bike(bicycle): # inherit bicycle as superclass\n",
    "    def __init__(self,suspension = None):\n",
    "        bicycle.__init__(self,bike_type='Mountain',n_gears = 10,handlebar='Bullhorn')\n",
    "        self.set_handlebar_options()\n",
    "        self.suspension_type = suspension\n",
    "        \n",
    "    def set_handlebar_options(self): \n",
    "        self.handle_options.remove('Cruiser')"
   ]
  },
  {
   "cell_type": "code",
   "execution_count": 36,
   "metadata": {},
   "outputs": [
    {
     "name": "stdout",
     "output_type": "stream",
     "text": [
      "...building the object...\n",
      "Type: Mountain\n",
      "Gears: 10\n",
      "Handlebar: Bullhorn\n"
     ]
    }
   ],
   "source": [
    "my_mountain_bike = mountain_bike(suspension = 'downhill')\n",
    "print(my_mountain_bike)"
   ]
  },
  {
   "cell_type": "markdown",
   "metadata": {},
   "source": [
    "Notice that the __repr__ function in the superclass does not include information about \"suspension\", therefore we need to extend (rather than replace) the __repr__ function."
   ]
  },
  {
   "cell_type": "code",
   "execution_count": 37,
   "metadata": {},
   "outputs": [],
   "source": [
    "class mountain_bike(bicycle): # inherit bicycle as superclass\n",
    "    def __init__(self,suspension = None):\n",
    "        bicycle.__init__(self,bike_type='Mountain',n_gears = 10,handlebar='Bullhorn')\n",
    "        self.set_handlebar_options()\n",
    "        self.suspension_type = suspension\n",
    "        \n",
    "    def __repr__(self):\n",
    "        return(bicycle.__repr__(self)+'\\n'+'Suspension: '+self.suspension_type)\n",
    "        \n",
    "    def set_handlebar_options(self): \n",
    "        self.handle_options.remove('Cruiser')"
   ]
  },
  {
   "cell_type": "code",
   "execution_count": 38,
   "metadata": {},
   "outputs": [
    {
     "name": "stdout",
     "output_type": "stream",
     "text": [
      "...building the object...\n",
      "Type: Mountain\n",
      "Gears: 10\n",
      "Handlebar: Bullhorn\n",
      "Suspension: downhill\n"
     ]
    }
   ],
   "source": [
    "my_mountain_bike = mountain_bike(suspension = 'downhill')\n",
    "print(my_mountain_bike)"
   ]
  },
  {
   "cell_type": "markdown",
   "metadata": {},
   "source": [
    "### Public and Private Data\n",
    "Although all attributes and methods in python classes are exposed, there is a convention that anything with two leading underscores is private\n",
    "- \\__a_func\t \t\n",
    "- \\__my_variable\n",
    "        \n",
    "Internally, these are replaced with a name that includes the class name\n",
    "- \\_name__a_func\t \n",
    "- \\_name__my_variable\n",
    "\n",
    "Anything with one leading underscore is semi-private, and you should feel guilty accessing this data directly\n",
    "- \\_b\n",
    "\n",
    "Sometimes useful as an intermediate step to making data private"
   ]
  },
  {
   "cell_type": "code",
   "execution_count": 39,
   "metadata": {},
   "outputs": [],
   "source": [
    "class bicycle_private():\n",
    "    def __init__(self,bike_type = None,n_gears = 1,handlebar = 'Drop'):\n",
    "        print(\"...building the object...\")\n",
    "        self.bicycle_type = bike_type\n",
    "        self.number_of_gears = n_gears\n",
    "        self.handlebar_type = handlebar\n",
    "        self.handle_options = ['Drop','Cruiser','Flat','Bullhorn']\n",
    "        self.__this_is_private = None   # private variable whose name becomes \n",
    "                                        # _bicycle_private__this_is_private\n",
    "            \n",
    "    def get_private(self):\n",
    "        print(self.__this_is_private)"
   ]
  },
  {
   "cell_type": "code",
   "execution_count": 40,
   "metadata": {},
   "outputs": [
    {
     "name": "stdout",
     "output_type": "stream",
     "text": [
      "...building the object...\n",
      "0\n",
      "0\n"
     ]
    }
   ],
   "source": [
    "thy_bicycle_private = bicycle_private()\n",
    "thy_bicycle_private._bicycle_private__this_is_private = 0\n",
    "thy_bicycle_private.get_private()\n",
    "print(thy_bicycle_private._bicycle_private__this_is_private)"
   ]
  },
  {
   "cell_type": "code",
   "execution_count": 41,
   "metadata": {},
   "outputs": [
    {
     "name": "stdout",
     "output_type": "stream",
     "text": [
      "...building the object...\n",
      "None\n",
      "0\n"
     ]
    }
   ],
   "source": [
    "thy_bicycle_private1 = bicycle_private()\n",
    "thy_bicycle_private1.__this_is_private = 0\n",
    "thy_bicycle_private1.get_private()\n",
    "print(thy_bicycle_private1.__this_is_private)"
   ]
  },
  {
   "cell_type": "code",
   "execution_count": 42,
   "metadata": {},
   "outputs": [
    {
     "name": "stdout",
     "output_type": "stream",
     "text": [
      "new\n"
     ]
    }
   ],
   "source": [
    "thy_bicycle_private1.a = 'new'\n",
    "print(thy_bicycle_private1.a)"
   ]
  }
 ],
 "metadata": {
  "kernelspec": {
   "display_name": "Python 3",
   "language": "python",
   "name": "python3"
  },
  "language_info": {
   "codemirror_mode": {
    "name": "ipython",
    "version": 3
   },
   "file_extension": ".py",
   "mimetype": "text/x-python",
   "name": "python",
   "nbconvert_exporter": "python",
   "pygments_lexer": "ipython3",
   "version": "3.7.3"
  }
 },
 "nbformat": 4,
 "nbformat_minor": 2
}
