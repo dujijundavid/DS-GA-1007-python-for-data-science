{
 "cells": [
  {
   "cell_type": "markdown",
   "metadata": {},
   "source": [
    "# More Python functionality "
   ]
  },
  {
   "cell_type": "markdown",
   "metadata": {},
   "source": [
    "## 1. `collections`"
   ]
  },
  {
   "cell_type": "code",
   "execution_count": 1,
   "metadata": {},
   "outputs": [],
   "source": [
    "import collections"
   ]
  },
  {
   "cell_type": "markdown",
   "metadata": {},
   "source": [
    "#### `namedtuple`\n",
    "\n",
    "(There is another `NamedTuple` in `typing`.)"
   ]
  },
  {
   "cell_type": "code",
   "execution_count": 2,
   "metadata": {},
   "outputs": [],
   "source": [
    "Coordinate = collections.namedtuple(\"Coordinate\", [\"x\", \"y\", \"z\"])"
   ]
  },
  {
   "cell_type": "code",
   "execution_count": 3,
   "metadata": {},
   "outputs": [
    {
     "data": {
      "text/plain": [
       "Coordinate(x=1, y=2, z=3)"
      ]
     },
     "execution_count": 3,
     "metadata": {},
     "output_type": "execute_result"
    }
   ],
   "source": [
    "coord1 = Coordinate(1, 2, 3)\n",
    "coord1"
   ]
  },
  {
   "cell_type": "code",
   "execution_count": 4,
   "metadata": {},
   "outputs": [
    {
     "data": {
      "text/plain": [
       "2"
      ]
     },
     "execution_count": 4,
     "metadata": {},
     "output_type": "execute_result"
    }
   ],
   "source": [
    "coord1.y"
   ]
  },
  {
   "cell_type": "markdown",
   "metadata": {},
   "source": [
    "### `Counter`"
   ]
  },
  {
   "cell_type": "code",
   "execution_count": 5,
   "metadata": {},
   "outputs": [],
   "source": [
    "my_string = \"Hello world!\""
   ]
  },
  {
   "cell_type": "code",
   "execution_count": 6,
   "metadata": {},
   "outputs": [
    {
     "data": {
      "text/plain": [
       "Counter({'H': 1,\n",
       "         'e': 1,\n",
       "         'l': 3,\n",
       "         'o': 2,\n",
       "         ' ': 1,\n",
       "         'w': 1,\n",
       "         'r': 1,\n",
       "         'd': 1,\n",
       "         '!': 1})"
      ]
     },
     "execution_count": 6,
     "metadata": {},
     "output_type": "execute_result"
    }
   ],
   "source": [
    "# characterized counter\n",
    "my_counter = collections.Counter()\n",
    "for char in my_string:\n",
    "    my_counter[char] += 1\n",
    "my_counter"
   ]
  },
  {
   "cell_type": "code",
   "execution_count": 7,
   "metadata": {},
   "outputs": [
    {
     "data": {
      "text/plain": [
       "Counter({'H': 1,\n",
       "         'e': 1,\n",
       "         'l': 3,\n",
       "         'o': 2,\n",
       "         ' ': 1,\n",
       "         'w': 1,\n",
       "         'r': 1,\n",
       "         'd': 1,\n",
       "         '!': 1})"
      ]
     },
     "execution_count": 7,
     "metadata": {},
     "output_type": "execute_result"
    }
   ],
   "source": [
    "char_counter = collections.Counter(my_string)\n",
    "char_counter"
   ]
  },
  {
   "cell_type": "markdown",
   "metadata": {},
   "source": [
    "### `OrderedDict`\n",
    "\n",
    "Dictionaries in Python are ordered starting from Python 3.7 (CPython starting from 3.6). This is more useful for prior versions."
   ]
  },
  {
   "cell_type": "code",
   "execution_count": 8,
   "metadata": {},
   "outputs": [],
   "source": [
    "odict = collections.OrderedDict()\n",
    "odict[\"one\"] = 1\n",
    "odict[\"two\"] = 2\n",
    "odict[\"three\"] = 3"
   ]
  },
  {
   "cell_type": "code",
   "execution_count": 9,
   "metadata": {},
   "outputs": [
    {
     "data": {
      "text/plain": [
       "True"
      ]
     },
     "execution_count": 9,
     "metadata": {},
     "output_type": "execute_result"
    }
   ],
   "source": [
    "list(odict.keys()) == [\"one\", \"two\", \"three\"]"
   ]
  },
  {
   "cell_type": "markdown",
   "metadata": {},
   "source": [
    "## 2. `itertools`"
   ]
  },
  {
   "cell_type": "code",
   "execution_count": 10,
   "metadata": {},
   "outputs": [],
   "source": [
    "import itertools"
   ]
  },
  {
   "cell_type": "markdown",
   "metadata": {},
   "source": [
    "#### `cycle`"
   ]
  },
  {
   "cell_type": "code",
   "execution_count": 11,
   "metadata": {
    "scrolled": true
   },
   "outputs": [
    {
     "name": "stdout",
     "output_type": "stream",
     "text": [
      "0 even\n",
      "1 odd\n",
      "2 even\n",
      "3 odd\n",
      "4 even\n",
      "5 odd\n",
      "6 even\n",
      "7 odd\n",
      "8 even\n",
      "9 odd\n",
      "10 even\n",
      "11 odd\n",
      "12 even\n",
      "13 odd\n",
      "14 even\n",
      "15 odd\n",
      "16 even\n",
      "17 odd\n",
      "18 even\n",
      "19 odd\n",
      "20 even\n",
      "21 odd\n",
      "22 even\n",
      "23 odd\n",
      "24 even\n",
      "25 odd\n",
      "26 even\n",
      "27 odd\n",
      "28 even\n",
      "29 odd\n",
      "30 even\n",
      "31 odd\n",
      "32 even\n",
      "33 odd\n",
      "34 even\n",
      "35 odd\n",
      "36 even\n",
      "37 odd\n",
      "38 even\n",
      "39 odd\n",
      "40 even\n",
      "41 odd\n",
      "42 even\n",
      "43 odd\n",
      "44 even\n",
      "45 odd\n",
      "46 even\n",
      "47 odd\n",
      "48 even\n",
      "49 odd\n",
      "50 even\n",
      "51 odd\n",
      "52 even\n",
      "53 odd\n",
      "54 even\n",
      "55 odd\n",
      "56 even\n",
      "57 odd\n",
      "58 even\n",
      "59 odd\n",
      "60 even\n",
      "61 odd\n",
      "62 even\n",
      "63 odd\n",
      "64 even\n",
      "65 odd\n",
      "66 even\n",
      "67 odd\n",
      "68 even\n",
      "69 odd\n",
      "70 even\n",
      "71 odd\n",
      "72 even\n",
      "73 odd\n",
      "74 even\n",
      "75 odd\n",
      "76 even\n",
      "77 odd\n",
      "78 even\n",
      "79 odd\n",
      "80 even\n",
      "81 odd\n",
      "82 even\n",
      "83 odd\n",
      "84 even\n",
      "85 odd\n",
      "86 even\n",
      "87 odd\n",
      "88 even\n",
      "89 odd\n",
      "90 even\n",
      "91 odd\n",
      "92 even\n",
      "93 odd\n",
      "94 even\n",
      "95 odd\n",
      "96 even\n",
      "97 odd\n",
      "98 even\n",
      "99 odd\n"
     ]
    }
   ],
   "source": [
    "even_odd_cycle = itertools.cycle([\"even\", \"odd\"])\n",
    "for i, even_odd in zip(range(100), even_odd_cycle):\n",
    "    print(i, even_odd)"
   ]
  },
  {
   "cell_type": "code",
   "execution_count": null,
   "metadata": {},
   "outputs": [],
   "source": [
    "# Do not run this!!\n",
    "# x = list(even_odd_cycle)"
   ]
  },
  {
   "cell_type": "markdown",
   "metadata": {},
   "source": [
    "#### `groupby`\n",
    "\n",
    "Different from the groupby in the midterm! It forms contiguous groups. It relies on the order of the elements given, and breaks into a new group whenever it sees a different key."
   ]
  },
  {
   "cell_type": "code",
   "execution_count": 12,
   "metadata": {},
   "outputs": [],
   "source": [
    "name_list = [\n",
    "    \"Andres Cortez\",\n",
    "    \"Andres Stark\",\n",
    "    \"Gregory Stark\",\n",
    "    \"Shyla Cortez\",\n",
    "    \"Shyla Lee\",\n",
    "]"
   ]
  },
  {
   "cell_type": "code",
   "execution_count": 13,
   "metadata": {},
   "outputs": [
    {
     "name": "stdout",
     "output_type": "stream",
     "text": [
      "Cortez\n",
      "    ['Andres Cortez']\n",
      "Stark\n",
      "    ['Andres Stark', 'Gregory Stark']\n",
      "Cortez\n",
      "    ['Shyla Cortez']\n",
      "Lee\n",
      "    ['Shyla Lee']\n"
     ]
    }
   ],
   "source": [
    "for key, group in itertools.groupby(name_list, lambda s: s.split(\" \")[-1]):\n",
    "    print(key)\n",
    "    print(\"    {}\".format(list(group)))\n",
    "    \n",
    "# Notice the two \"Cortez\" groups"
   ]
  },
  {
   "cell_type": "markdown",
   "metadata": {},
   "source": [
    "#### `permutations`"
   ]
  },
  {
   "cell_type": "code",
   "execution_count": 14,
   "metadata": {},
   "outputs": [
    {
     "name": "stdout",
     "output_type": "stream",
     "text": [
      "(0, 1, 2, 3)\n",
      "(0, 1, 3, 2)\n",
      "(0, 2, 1, 3)\n",
      "(0, 2, 3, 1)\n",
      "(0, 3, 1, 2)\n",
      "(0, 3, 2, 1)\n",
      "(1, 0, 2, 3)\n",
      "(1, 0, 3, 2)\n",
      "(1, 2, 0, 3)\n",
      "(1, 2, 3, 0)\n",
      "(1, 3, 0, 2)\n",
      "(1, 3, 2, 0)\n",
      "(2, 0, 1, 3)\n",
      "(2, 0, 3, 1)\n",
      "(2, 1, 0, 3)\n",
      "(2, 1, 3, 0)\n",
      "(2, 3, 0, 1)\n",
      "(2, 3, 1, 0)\n",
      "(3, 0, 1, 2)\n",
      "(3, 0, 2, 1)\n",
      "(3, 1, 0, 2)\n",
      "(3, 1, 2, 0)\n",
      "(3, 2, 0, 1)\n",
      "(3, 2, 1, 0)\n"
     ]
    }
   ],
   "source": [
    "for ordering in itertools.permutations(range(4)):\n",
    "    print(ordering)"
   ]
  },
  {
   "cell_type": "markdown",
   "metadata": {},
   "source": [
    "#### `product`"
   ]
  },
  {
   "cell_type": "code",
   "execution_count": 15,
   "metadata": {},
   "outputs": [
    {
     "name": "stdout",
     "output_type": "stream",
     "text": [
      "A 0\n",
      "A 1\n",
      "A 2\n",
      "A 3\n",
      "B 0\n",
      "B 1\n",
      "B 2\n",
      "B 3\n",
      "C 0\n",
      "C 1\n",
      "C 2\n",
      "C 3\n",
      "D 0\n",
      "D 1\n",
      "D 2\n",
      "D 3\n"
     ]
    }
   ],
   "source": [
    "for a, b in itertools.product(\"ABCD\", [0, 1, 2, 3]):\n",
    "    print(a, b)"
   ]
  },
  {
   "cell_type": "markdown",
   "metadata": {},
   "source": [
    "#### `combinations`"
   ]
  },
  {
   "cell_type": "code",
   "execution_count": 16,
   "metadata": {},
   "outputs": [
    {
     "name": "stdout",
     "output_type": "stream",
     "text": [
      "(0, 1, 2)\n",
      "(0, 1, 3)\n",
      "(0, 1, 4)\n",
      "(0, 2, 3)\n",
      "(0, 2, 4)\n",
      "(0, 3, 4)\n",
      "(1, 2, 3)\n",
      "(1, 2, 4)\n",
      "(1, 3, 4)\n",
      "(2, 3, 4)\n"
     ]
    }
   ],
   "source": [
    "for combos in itertools.combinations(range(5), 3):\n",
    "    print(combos)"
   ]
  },
  {
   "cell_type": "markdown",
   "metadata": {},
   "source": [
    "# 3. `functools`"
   ]
  },
  {
   "cell_type": "code",
   "execution_count": 17,
   "metadata": {},
   "outputs": [],
   "source": [
    "import functools"
   ]
  },
  {
   "cell_type": "markdown",
   "metadata": {},
   "source": [
    "#### `partial`"
   ]
  },
  {
   "cell_type": "code",
   "execution_count": 18,
   "metadata": {},
   "outputs": [
    {
     "data": {
      "text/plain": [
       "'Michael bought a gallon of milk for the grocery store at $20.00.'"
      ]
     },
     "execution_count": 18,
     "metadata": {},
     "output_type": "execute_result"
    }
   ],
   "source": [
    "def format_string(name, item, place, price):\n",
    "    return f\"{name} bought {item} for {price} at {place}.\"\n",
    "\n",
    "format_string(\"Michael\", \"a gallon of milk\", \"$20.00\", \"the grocery store\")"
   ]
  },
  {
   "cell_type": "code",
   "execution_count": 19,
   "metadata": {},
   "outputs": [],
   "source": [
    "michael_at_walmart = functools.partial(format_string, name=\"Michael\", place=\"Walmart\")"
   ]
  },
  {
   "cell_type": "code",
   "execution_count": 20,
   "metadata": {},
   "outputs": [
    {
     "name": "stdout",
     "output_type": "stream",
     "text": [
      "Michael bought a banana for $1.00 at Walmart.\n",
      "Michael bought a car for $10.00 at Walmart.\n",
      "Michael bought a spaceship for $17.00 at Walmart.\n"
     ]
    }
   ],
   "source": [
    "item_price_list = [\n",
    "    (\"a banana\", \"$1.00\"),\n",
    "    (\"a car\", \"$10.00\"),\n",
    "    (\"a spaceship\", \"$17.00\"),\n",
    "]\n",
    "for item, price in item_price_list:\n",
    "    print(michael_at_walmart(item=item, price=price))"
   ]
  },
  {
   "cell_type": "code",
   "execution_count": 21,
   "metadata": {},
   "outputs": [],
   "source": [
    "def exponent(n, p):\n",
    "    return n ** p\n",
    "\n",
    "\n",
    "square = functools.partial(exponent, p=2)\n",
    "cube = functools.partial(exponent, p=3)"
   ]
  },
  {
   "cell_type": "code",
   "execution_count": 22,
   "metadata": {},
   "outputs": [
    {
     "name": "stdout",
     "output_type": "stream",
     "text": [
      "25\n",
      "125\n"
     ]
    }
   ],
   "source": [
    "print(square(5))\n",
    "print(cube(5))"
   ]
  },
  {
   "cell_type": "markdown",
   "metadata": {},
   "source": [
    "#### `lru_cache`"
   ]
  },
  {
   "cell_type": "code",
   "execution_count": 23,
   "metadata": {},
   "outputs": [],
   "source": [
    "@functools.lru_cache(maxsize=4)\n",
    "def compute(n):\n",
    "    print(f\"Doing computation for: {n}\")\n",
    "    return n * 1000"
   ]
  },
  {
   "cell_type": "code",
   "execution_count": 24,
   "metadata": {},
   "outputs": [
    {
     "name": "stdout",
     "output_type": "stream",
     "text": [
      "Doing computation for: 0\n",
      "0\n",
      "Doing computation for: 1\n",
      "1000\n",
      "Doing computation for: 2\n",
      "2000\n",
      "Doing computation for: 3\n",
      "3000\n",
      "Doing computation for: 4\n",
      "4000\n",
      "Doing computation for: 5\n",
      "5000\n",
      "Doing computation for: 6\n",
      "6000\n",
      "Doing computation for: 7\n",
      "7000\n",
      "Doing computation for: 8\n",
      "8000\n",
      "Doing computation for: 9\n",
      "9000\n"
     ]
    }
   ],
   "source": [
    "for i in range(10):\n",
    "    print(compute(i))"
   ]
  },
  {
   "cell_type": "code",
   "execution_count": 25,
   "metadata": {},
   "outputs": [
    {
     "name": "stdout",
     "output_type": "stream",
     "text": [
      "Doing computation for: 1\n"
     ]
    },
    {
     "data": {
      "text/plain": [
       "1000"
      ]
     },
     "execution_count": 25,
     "metadata": {},
     "output_type": "execute_result"
    }
   ],
   "source": [
    "compute(7)\n",
    "compute(8)\n",
    "compute(1)"
   ]
  },
  {
   "cell_type": "markdown",
   "metadata": {},
   "source": [
    "Not possible to access the cache directly, but you assume it looks something like:\n",
    "\n",
    "```python\n",
    "cache = {\n",
    "    1: 1000,   # added after the latest access!\n",
    "    7: 7000,\n",
    "    8: 8000,\n",
    "    9: 9000,\n",
    "}\n",
    "```"
   ]
  }
 ],
 "metadata": {
  "kernelspec": {
   "display_name": "Python 3",
   "language": "python",
   "name": "python3"
  },
  "language_info": {
   "codemirror_mode": {
    "name": "ipython",
    "version": 3
   },
   "file_extension": ".py",
   "mimetype": "text/x-python",
   "name": "python",
   "nbconvert_exporter": "python",
   "pygments_lexer": "ipython3",
   "version": "3.7.0"
  }
 },
 "nbformat": 4,
 "nbformat_minor": 2
}
