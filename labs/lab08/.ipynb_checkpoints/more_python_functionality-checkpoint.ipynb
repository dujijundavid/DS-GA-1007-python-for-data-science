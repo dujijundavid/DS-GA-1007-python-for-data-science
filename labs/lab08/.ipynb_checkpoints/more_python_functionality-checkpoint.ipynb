{
 "cells": [
  {
   "cell_type": "markdown",
   "metadata": {},
   "source": [
    "# More Python functionality "
   ]
  },
  {
   "cell_type": "markdown",
   "metadata": {},
   "source": [
    "## 1. `collections`"
   ]
  },
  {
   "cell_type": "code",
   "execution_count": null,
   "metadata": {},
   "outputs": [],
   "source": [
    "import collections"
   ]
  },
  {
   "cell_type": "markdown",
   "metadata": {},
   "source": [
    "#### `namedtuple`\n",
    "\n",
    "(There is another `NamedTuple` in `typing`.)"
   ]
  },
  {
   "cell_type": "code",
   "execution_count": null,
   "metadata": {},
   "outputs": [],
   "source": [
    "Coordinate = collections.namedtuple(\"Coordinate\", [\"x\", \"y\", \"z\"])"
   ]
  },
  {
   "cell_type": "code",
   "execution_count": null,
   "metadata": {},
   "outputs": [],
   "source": [
    "coord1 = Coordinate(1, 2, 3)\n",
    "coord1"
   ]
  },
  {
   "cell_type": "code",
   "execution_count": null,
   "metadata": {},
   "outputs": [],
   "source": [
    "coord1.y"
   ]
  },
  {
   "cell_type": "markdown",
   "metadata": {},
   "source": [
    "### `Counter`"
   ]
  },
  {
   "cell_type": "code",
   "execution_count": null,
   "metadata": {},
   "outputs": [],
   "source": [
    "my_string = \"Hello world!\""
   ]
  },
  {
   "cell_type": "code",
   "execution_count": null,
   "metadata": {},
   "outputs": [],
   "source": [
    "my_counter = collections.Counter()\n",
    "for char in my_string:\n",
    "    my_counter[char] += 1\n",
    "my_counter"
   ]
  },
  {
   "cell_type": "code",
   "execution_count": null,
   "metadata": {},
   "outputs": [],
   "source": [
    "char_counter = collections.Counter(my_string)\n",
    "char_counter"
   ]
  },
  {
   "cell_type": "markdown",
   "metadata": {},
   "source": [
    "### `OrderedDict`\n",
    "\n",
    "Dictionaries in Python are ordered starting from Python 3.7 (CPython starting from 3.6). This is more useful for prior versions."
   ]
  },
  {
   "cell_type": "code",
   "execution_count": null,
   "metadata": {},
   "outputs": [],
   "source": [
    "odict = collections.OrderedDict()\n",
    "odict[\"one\"] = 1\n",
    "odict[\"two\"] = 2\n",
    "odict[\"three\"] = 3"
   ]
  },
  {
   "cell_type": "code",
   "execution_count": null,
   "metadata": {},
   "outputs": [],
   "source": [
    "list(odict.keys()) == [\"one\", \"two\", \"three\"]"
   ]
  },
  {
   "cell_type": "markdown",
   "metadata": {},
   "source": [
    "## 2. `itertools`"
   ]
  },
  {
   "cell_type": "code",
   "execution_count": null,
   "metadata": {},
   "outputs": [],
   "source": [
    "import itertools"
   ]
  },
  {
   "cell_type": "markdown",
   "metadata": {},
   "source": [
    "#### `cycle`"
   ]
  },
  {
   "cell_type": "code",
   "execution_count": null,
   "metadata": {
    "scrolled": true
   },
   "outputs": [],
   "source": [
    "even_odd_cycle = itertools.cycle([\"even\", \"odd\"])\n",
    "for i, even_odd in zip(range(100), even_odd_cycle):\n",
    "    print(i, even_odd)"
   ]
  },
  {
   "cell_type": "code",
   "execution_count": null,
   "metadata": {},
   "outputs": [],
   "source": [
    "# Do not run this!!\n",
    "# x = list(even_odd_cycle)"
   ]
  },
  {
   "cell_type": "markdown",
   "metadata": {},
   "source": [
    "#### `groupby`\n",
    "\n",
    "Different from the groupby in the midterm! It forms contiguous groups. It relies on the order of the elements given, and breaks into a new group whenever it sees a different key."
   ]
  },
  {
   "cell_type": "code",
   "execution_count": null,
   "metadata": {},
   "outputs": [],
   "source": [
    "name_list = [\n",
    "    \"Andres Cortez\",\n",
    "    \"Andres Stark\",\n",
    "    \"Gregory Stark\",\n",
    "    \"Shyla Cortez\",\n",
    "    \"Shyla Lee\",\n",
    "]"
   ]
  },
  {
   "cell_type": "code",
   "execution_count": null,
   "metadata": {},
   "outputs": [],
   "source": [
    "for key, group in itertools.groupby(name_list, lambda s: s.split(\" \")[-1]):\n",
    "    print(key)\n",
    "    print(\"    {}\".format(list(group)))\n",
    "    \n",
    "# Notice the two \"Cortez\" groups"
   ]
  },
  {
   "cell_type": "markdown",
   "metadata": {},
   "source": [
    "#### `permutations`"
   ]
  },
  {
   "cell_type": "code",
   "execution_count": null,
   "metadata": {},
   "outputs": [],
   "source": [
    "for ordering in itertools.permutations(range(4)):\n",
    "    print(ordering)"
   ]
  },
  {
   "cell_type": "markdown",
   "metadata": {},
   "source": [
    "#### `product`"
   ]
  },
  {
   "cell_type": "code",
   "execution_count": null,
   "metadata": {},
   "outputs": [],
   "source": [
    "for a, b in itertools.product(\"ABCD\", [0, 1, 2, 3]):\n",
    "    print(a, b)"
   ]
  },
  {
   "cell_type": "markdown",
   "metadata": {},
   "source": [
    "#### `combinations`"
   ]
  },
  {
   "cell_type": "code",
   "execution_count": null,
   "metadata": {},
   "outputs": [],
   "source": [
    "for combos in itertools.combinations(range(5), 3):\n",
    "    print(combos)"
   ]
  },
  {
   "cell_type": "markdown",
   "metadata": {},
   "source": [
    "# 3. `functools`"
   ]
  },
  {
   "cell_type": "code",
   "execution_count": null,
   "metadata": {},
   "outputs": [],
   "source": [
    "import functools"
   ]
  },
  {
   "cell_type": "markdown",
   "metadata": {},
   "source": [
    "#### `partial`"
   ]
  },
  {
   "cell_type": "code",
   "execution_count": null,
   "metadata": {},
   "outputs": [],
   "source": [
    "def format_string(name, item, place, price):\n",
    "    return f\"{name} bought {item} for {price} at {place}.\"\n",
    "\n",
    "format_string(\"Michael\", \"a gallon of milk\", \"$20.00\", \"the grocery store\")"
   ]
  },
  {
   "cell_type": "code",
   "execution_count": null,
   "metadata": {},
   "outputs": [],
   "source": [
    "michael_at_walmart = functools.partial(format_string, name=\"Michael\", place=\"Walmart\")"
   ]
  },
  {
   "cell_type": "code",
   "execution_count": null,
   "metadata": {},
   "outputs": [],
   "source": [
    "item_price_list = [\n",
    "    (\"a banana\", \"$1.00\"),\n",
    "    (\"a car\", \"$10.00\"),\n",
    "    (\"a spaceship\", \"$17.00\"),\n",
    "]\n",
    "for item, price in item_price_list:\n",
    "    print(michael_at_walmart(item=item, price=price))"
   ]
  },
  {
   "cell_type": "code",
   "execution_count": null,
   "metadata": {},
   "outputs": [],
   "source": [
    "def exponent(n, p):\n",
    "    return n ** p\n",
    "\n",
    "\n",
    "square = functools.partial(exponent, p=2)\n",
    "cube = functools.partial(exponent, p=3)"
   ]
  },
  {
   "cell_type": "code",
   "execution_count": null,
   "metadata": {},
   "outputs": [],
   "source": [
    "print(square(5))\n",
    "print(cube(5))"
   ]
  },
  {
   "cell_type": "markdown",
   "metadata": {},
   "source": [
    "#### `lru_cache`"
   ]
  },
  {
   "cell_type": "code",
   "execution_count": null,
   "metadata": {},
   "outputs": [],
   "source": [
    "@functools.lru_cache(maxsize=4)\n",
    "def compute(n):\n",
    "    print(f\"Doing computation for: {n}\")\n",
    "    return n * 1000"
   ]
  },
  {
   "cell_type": "code",
   "execution_count": null,
   "metadata": {},
   "outputs": [],
   "source": [
    "for i in range(10):\n",
    "    print(compute(i))"
   ]
  },
  {
   "cell_type": "code",
   "execution_count": null,
   "metadata": {},
   "outputs": [],
   "source": [
    "compute(7)\n",
    "compute(8)\n",
    "compute(1)"
   ]
  },
  {
   "cell_type": "markdown",
   "metadata": {},
   "source": [
    "Not possible to access the cache directly, but you assume it looks something like:\n",
    "\n",
    "```python\n",
    "cache = {\n",
    "    1: 1000,   # added after the latest access!\n",
    "    7: 7000,\n",
    "    8: 8000,\n",
    "    9: 9000,\n",
    "}\n",
    "```"
   ]
  }
 ],
 "metadata": {
  "kernelspec": {
   "display_name": "Python 3",
   "language": "python",
   "name": "python3"
  },
  "language_info": {
   "codemirror_mode": {
    "name": "ipython",
    "version": 3
   },
   "file_extension": ".py",
   "mimetype": "text/x-python",
   "name": "python",
   "nbconvert_exporter": "python",
   "pygments_lexer": "ipython3",
   "version": "3.7.0"
  }
 },
 "nbformat": 4,
 "nbformat_minor": 2
}
