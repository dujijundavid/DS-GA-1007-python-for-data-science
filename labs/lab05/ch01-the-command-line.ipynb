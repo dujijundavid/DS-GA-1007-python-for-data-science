{
 "cells": [
  {
   "cell_type": "markdown",
   "metadata": {},
   "source": [
    "# Introduction to the Command Line"
   ]
  },
  {
   "cell_type": "markdown",
   "metadata": {},
   "source": [
    "The command line, or *shell*, is a powerful way to interact with the internals of the computer. From the command line you can do many things you normally do with a computer, such as navigate the filesystem and run programs. In addition to these common tasks, the command line allows you to easily automate repetitive tasks and use software programs for science that can only be installed and run via this interface. "
   ]
  },
  {
   "cell_type": "markdown",
   "metadata": {},
   "source": [
    "# Navigating the Shell"
   ]
  },
  {
   "cell_type": "markdown",
   "metadata": {},
   "source": [
    "You can access the shell by opening a terminal emulator (“terminal” for short) on a Linux or Unix computer. On a Windows computer, the Git Bash program is equivalent.  "
   ]
  },
  {
   "cell_type": "markdown",
   "metadata": {},
   "source": [
    "### Exercise: Open a Terminal"
   ]
  },
  {
   "cell_type": "markdown",
   "metadata": {},
   "source": [
    "1. Search your computer’s programs to find one called Terminal. On a Windows computer, remember to use Git Bash as your bash terminal.\n",
    "2. Open an instance of that program. You’re in the shell and you should see something that looks like:"
   ]
  },
  {
   "cell_type": "markdown",
   "metadata": {},
   "source": [
    "`$`"
   ]
  },
  {
   "cell_type": "markdown",
   "metadata": {},
   "source": [
    "The dollar sign (`$`) is called the *prompt*, and it indicates that the *shell* is ready for your input. When typing commands, either from these lessons or from other sources, do not type the prompt, only the commands that follow it."
   ]
  },
  {
   "cell_type": "markdown",
   "metadata": {},
   "source": [
    "# Paths and `pwd`"
   ]
  },
  {
   "cell_type": "markdown",
   "metadata": {},
   "source": [
    "The first command we will learn about is `pwd`, which stands for print working directory. Typing this command into the command line will tell you where you are in your computer's filesystem."
   ]
  },
  {
   "cell_type": "markdown",
   "metadata": {},
   "source": [
    "~~~\n",
    "$ pwd\n",
    "~~~\n",
    "~~~\n",
    "/Users/tiffanytimbers\n",
    "~~~"
   ]
  },
  {
   "cell_type": "markdown",
   "metadata": {},
   "source": [
    "What the shell returns to us from typing `pwd` is the absolute path to where we are in the computers filesystem. Absolute paths begin at the top of the filesystem directory tree, called the root directory. The `/` syntax is used at the beginning of a path to indicate the root or top-level directory. The following `/`'s are used to separate the names of directories in a path."
   ]
  },
  {
   "cell_type": "markdown",
   "metadata": {},
   "source": [
    "Another path we need to be familar with is the relative path which tells us where something is in relation to where we are, intead of from the root of the filesystem. The relative path for the current directory is `.` and the parent directory (*e.g.,* `Users`) is `..`"
   ]
  },
  {
   "cell_type": "markdown",
   "metadata": {},
   "source": [
    "# Changing Directories (`cd`)"
   ]
  },
  {
   "cell_type": "markdown",
   "metadata": {},
   "source": [
    "*note - to follow along with the code below please download the example filesystem we will be working with from here: https://github.com/physics-codes/seminar/blob/ch01/filespace.zip?raw=true and unzip it and save it to your Computer's Desktop.*"
   ]
  },
  {
   "cell_type": "markdown",
   "metadata": {},
   "source": [
    "We are now going to navigate to the fission directory in Professor Meitner’s home directory. We will use do this using `cd`, which stands for change directory. "
   ]
  },
  {
   "cell_type": "markdown",
   "metadata": {},
   "source": [
    "`$ cd Desktop/filespace/people/l/lisemeitner/fission/`"
   ]
  },
  {
   "cell_type": "markdown",
   "metadata": {},
   "source": [
    "As you can see in this example, executing the cd command with no arguments results in a new prompt. The prompt reflects the new current working directory, `fission`. To double-check that we are where we think we are we can use `pwd`."
   ]
  },
  {
   "cell_type": "markdown",
   "metadata": {},
   "source": [
    "~~~\n",
    "$ pwd\n",
    "~~~\n",
    "~~~\n",
    "/Users/tiffanytimbers/Desktop/filespace/people/l/lisemeitner/fission\n",
    "~~~"
   ]
  },
  {
   "cell_type": "markdown",
   "metadata": {},
   "source": [
    "You can also use `cd` with a relative path (*e.g.,* `cd ..` to navigate up to the parent directory), and we wil demonstrate this and more after we introduce the `ls` command."
   ]
  },
  {
   "cell_type": "markdown",
   "metadata": {},
   "source": [
    "# Listing the Contents (`ls`)"
   ]
  },
  {
   "cell_type": "markdown",
   "metadata": {},
   "source": [
    "To find out what is inside the a directory we can use `ls`, which means list. Typing `ls` on its own will tell you the contents of the current working directory, in our case the `fission` directory."
   ]
  },
  {
   "cell_type": "markdown",
   "metadata": {},
   "source": [
    "~~~\n",
    "$ ls\n",
    "~~~\n",
    "~~~\n",
    "applications\t\theat-generation.txt\tneutron-production.txt\n",
    "~~~"
   ]
  },
  {
   "cell_type": "markdown",
   "metadata": {},
   "source": [
    "We see that the shell returns three things, two of which end in `.txt` and thus look like files, and one item that has no file extension, and thus is likely a directory. But files are not required to have file extensions, and so we cannot be sure. To be sure, we can use the `-F` option with `ls` to ask the shell to cleary specify which items are files and which are directories."
   ]
  },
  {
   "cell_type": "markdown",
   "metadata": {},
   "source": [
    "~~~\n",
    "$ ls -F\n",
    "~~~\n",
    "~~~\n",
    "applications/\t\theat-generation.txt\tneutron-production.txt\n",
    "~~~"
   ]
  },
  {
   "cell_type": "markdown",
   "metadata": {},
   "source": [
    "Now we see that `applications` ends with a `/`, clearly indicating that it is in fact a directory."
   ]
  },
  {
   "cell_type": "markdown",
   "metadata": {},
   "source": [
    "We can also list the contents of directories other than our current directory by providing an argument to the `ls` command. To list the contents of the applications directory without entering it, we can execute:"
   ]
  },
  {
   "cell_type": "markdown",
   "metadata": {},
   "source": [
    "~~~\n",
    "$ ls applications\n",
    "~~~\n",
    "~~~\n",
    "power\tpropulsion\t\tweapons\n",
    "~~~"
   ]
  },
  {
   "cell_type": "markdown",
   "metadata": {},
   "source": [
    "# More Changing Directories (`cd`)"
   ]
  },
  {
   "cell_type": "markdown",
   "metadata": {},
   "source": [
    "Previously we changed directories to the `fission` directory using the `cd` and the absolute path. As mentioned above, we can also change directories using the relative path, for example to navigate into the `applications` directory we can type:"
   ]
  },
  {
   "cell_type": "markdown",
   "metadata": {},
   "source": [
    "~~~\n",
    "$ cd applications\n",
    "$ pwd\n",
    "~~~\n",
    "~~~\n",
    "/Users/tiffanytimbers/Desktop/filespace/people/l/lisemeitner/fission/applications\n",
    "~~~"
   ]
  },
  {
   "cell_type": "markdown",
   "metadata": {},
   "source": [
    "We can also move back to the `fission` directory by using the relative path to move to the parent directory by typing:"
   ]
  },
  {
   "cell_type": "markdown",
   "metadata": {},
   "source": [
    "~~~\n",
    "$ cd ..\n",
    "$ pwd\n",
    "~~~\n",
    "~~~\n",
    "/Users/tiffanytimbers/Desktop/filespace/people/l/lisemeitner/fission\n",
    "~~~"
   ]
  },
  {
   "cell_type": "markdown",
   "metadata": {},
   "source": [
    "The `applications` directory had to be present in the `fission` directory for `cd applications` to work.\n",
    "If a directory does not exist, bash will not be able to change into that location and will report an error message, as seen here. Notice that bash stays in the original directory, as you might expect:"
   ]
  },
  {
   "cell_type": "markdown",
   "metadata": {},
   "source": [
    "~~~\n",
    "$ cd biology\n",
    "~~~\n",
    "\n",
    "~~~\n",
    "-bash: cd: biology: No such file or directory\n",
    "~~~\n",
    "\n",
    "~~~\n",
    "$ pwd\n",
    "~~~\n",
    "\n",
    "~~~\n",
    "/Users/tiffanytimbers/Desktop/filespace/people/l/lisemeitner/fission\n",
    "~~~"
   ]
  },
  {
   "cell_type": "markdown",
   "metadata": {},
   "source": [
    "What happens when you type `cd` alone, without giving an absolute or relative path? When you do this, the cd command assumes you want to go to your home directory, so that’s where it takes you:"
   ]
  },
  {
   "cell_type": "markdown",
   "metadata": {},
   "source": [
    "~~~\n",
    "$ cd\n",
    "$ pwd\n",
    "~~~\n",
    "~~~\n",
    "/Users/tiffanytimbers\n",
    "~~~"
   ]
  },
  {
   "cell_type": "markdown",
   "metadata": {},
   "source": [
    "### Exercise: Open a Terminal\n",
    "\n",
    "1. Open a new Terminal instance.\n",
    "2. Type `cd ..` at the command prompt and press **Enter** to move from your home directory to the directory above it.\n",
    "3. Move back into your home directory using a relative path.\n",
    "4. If you have downloaded Lise’s directory tree from the book’s GitHub repository, can you navigate to that directory using what you know about ls, cd, and pwd?\n"
   ]
  },
  {
   "cell_type": "markdown",
   "metadata": {},
   "source": [
    "# File Inspection (head and tail)"
   ]
  },
  {
   "cell_type": "markdown",
   "metadata": {},
   "source": [
    "When using scientific computing programs, you often need to peak at the input and/or output files (for instance, to check some important input parameter or see if your run completed successfully). To demonstrate this, let's first navigate to the `power` directory, and examine the contents of this directory:"
   ]
  },
  {
   "cell_type": "markdown",
   "metadata": {},
   "source": [
    "~~~\n",
    "$ cd Desktop/filespace/people/l/lisemeitner/fission/applications/power\n",
    "$ ls\n",
    "~~~\n",
    "~~~\n",
    "reactor.txt\n",
    "~~~"
   ]
  },
  {
   "cell_type": "markdown",
   "metadata": {},
   "source": [
    " The command head prints the first 10 lines of the given file:"
   ]
  },
  {
   "cell_type": "markdown",
   "metadata": {},
   "source": [
    "~~~\n",
    "$ head -10 reactor.txt\n",
    "~~~\n",
    "~~~\n",
    "# Fission Power Idea\n",
    "\n",
    "\n",
    "The heat from the fission reaction could be used to heat fluids. In\n",
    "the same way that coal power starts with the production heat which\n",
    "turns water to steam and spins a turbine, so too, nuclear fission\n",
    "might heat fluid that pushes a turbine. If somehow there were a way to\n",
    "have many fissions in one small space, the heat from those fissions\n",
    "could be used to heat quite a lot of water.\n",
    "\n",
    "~~~"
   ]
  },
  {
   "cell_type": "markdown",
   "metadata": {},
   "source": [
    "As you might expect, the tail command prints the last 10:"
   ]
  },
  {
   "cell_type": "markdown",
   "metadata": {},
   "source": [
    "~~~\n",
    "$ tail -10 reactor.txt\n",
    "~~~\n",
    "~~~\n",
    "the same way that coal power starts with the production heat which\n",
    "turns water to steam and spins a turbine, so too, nuclear fission\n",
    "might heat fluid that pushes a turbine. If somehow there were a way to\n",
    "have many fissions in one small space, the heat from those fissions\n",
    "could be used to heat quite a lot of water.\n",
    "\n",
    "Of course, it would take quite a lot of fissions. \n",
    "\n",
    "Perhaps Professors Rutherford, Curie, or Fermi have some ideas on this\n",
    "topic. \n",
    "~~~"
   ]
  },
  {
   "cell_type": "markdown",
   "metadata": {},
   "source": [
    "### Exercise: Open a Terminal\n",
    "\n",
    "1. Open a new Terminal instance.\n",
    "2. Navigate to a plain text file (*.e.g.,* not a Word or Pages document).\n",
    "3. Use `head` and `tail` to print the first and last lines to the terminal.\n"
   ]
  },
  {
   "cell_type": "markdown",
   "metadata": {},
   "source": [
    "# Manipulating Files and Directories"
   ]
  },
  {
   "cell_type": "markdown",
   "metadata": {},
   "source": [
    "Beyond navigating the filesystem, the shell can also be used to do other common file manipulation tasks, such as creating, copying, moving and deleting files."
   ]
  },
  {
   "cell_type": "markdown",
   "metadata": {},
   "source": [
    "# Creating an empty file (`touch`)"
   ]
  },
  {
   "cell_type": "markdown",
   "metadata": {},
   "source": [
    "The `touch` command is used to create an empty text file. The `touch` command, followed by a filename, will create an empty file with that name. Suppose we want to create a file to act as a placeholder for a new idea for a nuclear fission application, like providing heat sources for remote locations such as Siberia. We can create that file with the touch command."
   ]
  },
  {
   "cell_type": "markdown",
   "metadata": {},
   "source": [
    "Let's first navigage to the directory to where we want to create that file, in this case, the `applications` directory."
   ]
  },
  {
   "cell_type": "markdown",
   "metadata": {},
   "source": [
    "~~~\n",
    "$ cd ..\n",
    "$ pwd\n",
    "~~~\n",
    "~~~\n",
    "/Users/tiffanytimbers/Desktop/filespace/people/l/lisemeitner/fission/applications\n",
    "~~~"
   ]
  },
  {
   "cell_type": "markdown",
   "metadata": {},
   "source": [
    "Let's also take a look at what is currently in the directory."
   ]
  },
  {
   "cell_type": "markdown",
   "metadata": {},
   "source": [
    "~~~\n",
    "$ ls\n",
    "~~~\n",
    "~~~\n",
    "power\tpropulsion\t\tweapons\n",
    "~~~"
   ]
  },
  {
   "cell_type": "markdown",
   "metadata": {},
   "source": [
    "Now we can use the `touch` command to create the file, and then `ls` to confirm that the file was created."
   ]
  },
  {
   "cell_type": "markdown",
   "metadata": {},
   "source": [
    "~~~\n",
    "$ touch remote_heat.txt\n",
    "$ ls\n",
    "~~~\n",
    "\n",
    "~~~\n",
    "power\tpropulsion   remote_heat.txt   weapons\n",
    "~~~"
   ]
  },
  {
   "cell_type": "markdown",
   "metadata": {},
   "source": [
    "# The simplest text editor (cat and >)"
   ]
  },
  {
   "cell_type": "markdown",
   "metadata": {},
   "source": [
    "Creating empty files can be useful sometimes, but most often computational scientists want to write code by adding text to code source files. This process relies on text editors. At the command line, the simplest way to do this is to use a program called `cat` and the shell syntax `>`, which is called redirection. We will introduce `cat` first and then put these together to create a text file.\n",
    "\n",
    "The cat command is meant to help concatenate files together. Given a filename as its argument, cat will print the full contents of the file to the terminal window. For example, to print all of the text from reactor.txt to the screen, Lise could use `cat` as follows:"
   ]
  },
  {
   "cell_type": "markdown",
   "metadata": {},
   "source": [
    "~~~\n",
    "$ cat power/reactor.txt\n",
    "~~~\n",
    "~~~\n",
    "# Fission Power Idea\n",
    "\n",
    "\n",
    "The heat from the fission reaction could be used to heat fluids. In\n",
    "the same way that coal power starts with the production heat which\n",
    "turns water to steam and spins a turbine, so too, nuclear fission\n",
    "might heat fluid that pushes a turbine. If somehow there were a way to\n",
    "have many fissions in one small space, the heat from those fissions\n",
    "could be used to heat quite a lot of water.\n",
    "\n",
    "Of course, it would take quite a lot of fissions. \n",
    "\n",
    "Perhaps Professors Rutherford, Curie, or Fermi have some ideas on this\n",
    "topic. \n",
    "~~~"
   ]
  },
  {
   "cell_type": "markdown",
   "metadata": {},
   "source": [
    "We can use this feature of cat and combine it with a redirection (>) to send the output of one file into another. *Note - if you specify the name of an existing file, its contents will be overwritten. If the file does not already exist, it will be created.* For example, the following syntax pushes the contents of `reactor.txt` into a new file called `reactor_copy.txt`:"
   ]
  },
  {
   "cell_type": "markdown",
   "metadata": {},
   "source": [
    "~~~\n",
    "$ cat power/reactor.txt > power/reactor_copy.txt\n",
    "$ ls power\n",
    "~~~\n",
    "~~~\n",
    "reactor.txt\t\treactor_copy.txt\n",
    "~~~"
   ]
  },
  {
   "cell_type": "markdown",
   "metadata": {},
   "source": [
    "We can use cat to check that `reactor_copy.txt` is not empty and that its contents is the same as `reactor.txt`."
   ]
  },
  {
   "cell_type": "markdown",
   "metadata": {},
   "source": [
    "~~~\n",
    "$ cat power/reactor_copy.txt\n",
    "~~~\n",
    "~~~\n",
    "# Fission Power Idea\n",
    "\n",
    "\n",
    "The heat from the fission reaction could be used to heat fluids. In\n",
    "the same way that coal power starts with the production heat which\n",
    "turns water to steam and spins a turbine, so too, nuclear fission\n",
    "might heat fluid that pushes a turbine. If somehow there were a way to\n",
    "have many fissions in one small space, the heat from those fissions\n",
    "could be used to heat quite a lot of water.\n",
    "\n",
    "Of course, it would take quite a lot of fissions. \n",
    "\n",
    "Perhaps Professors Rutherford, Curie, or Fermi have some ideas on this\n",
    "topic. \n",
    "~~~"
   ]
  },
  {
   "cell_type": "markdown",
   "metadata": {},
   "source": [
    "To use `cat` and `>` as a text editor where we can type our own thoughts or code, we call `cat` but do not give it any files to operate on. When we do this `cat` accepts input from the text we type into command prompt. To end our text file we need to type **Ctrl-d**."
   ]
  },
  {
   "cell_type": "markdown",
   "metadata": {},
   "source": [
    "~~~\n",
    "$ cat > new_ideas_for_applications.txt\n",
    "This file will be a list for new ideas for new applications.      \n",
    "They are to be listed below:         \n",
    "1. \n",
    "2.\n",
    "3.\n",
    "4.\n",
    "5.\n",
    "~~~"
   ]
  },
  {
   "cell_type": "markdown",
   "metadata": {},
   "source": [
    "Again, we can use `ls` and `cat` to see that the file exists and what it's contents are:"
   ]
  },
  {
   "cell_type": "markdown",
   "metadata": {},
   "source": [
    "~~~\n",
    "$ ls\n",
    "~~~\n",
    "\n",
    "~~~\n",
    "new_ideas_for_applications.txt\n",
    "power\t\t\t\tremote_heat.txt\n",
    "propulsion\t\t\tweapons\n",
    "~~~\n",
    "\n",
    "~~~\n",
    "$ cat new_ideas_for_applications.txt\n",
    "~~~\n",
    "\n",
    "~~~\n",
    "This file will be a list for new ideas for new applications.\n",
    "They are to be listed below:\n",
    "1.\n",
    "2.\n",
    "3.\n",
    "4.\n",
    "5.\n",
    "~~~"
   ]
  },
  {
   "cell_type": "markdown",
   "metadata": {},
   "source": [
    "### Exercise: Learn About a Command\n",
    "\n",
    "1. Open a terminal.\n",
    "2. Type `cat` and press **Enter**. The cursor will move to a blank line.\n",
    "3. Try typing some text. Note how every time you press **Enter**, a copy of your text is repeated.\n",
    "4. To exit, type **Ctrl-d**. That is, hold down the Control key and press the lowercase d key at the same time.\n",
    "5. Verify to yourself that your new file was created and that it contains the expected contents."
   ]
  },
  {
   "cell_type": "markdown",
   "metadata": {},
   "source": [
    "# More powerful text editors (nano, emacs, and vim)"
   ]
  },
  {
   "cell_type": "markdown",
   "metadata": {},
   "source": [
    "As illustrated above, using cat is a very simple wat to add text to a file, but this method doesn't let you easily edit the file. Thus, we recommend the use of text editors for this purpose. nano is a simple text editor that is recommended for first-time users and we will use it for the examples below."
   ]
  },
  {
   "cell_type": "markdown",
   "metadata": {},
   "source": [
    "To use the nano text editor to open or create the `remote_heat.txt` file, we type nano and then the file name we want to create or edit. We can then type and/or edit text in nano. To save changes press the **Cntrl + o** keys. To exit, press **Cntrl + x** keys. You can view what you typed by either opening the file with nano again, or printing the text of the file to the screen using `cat`."
   ]
  },
  {
   "cell_type": "markdown",
   "metadata": {},
   "source": [
    "~~~\n",
    "$ nano remote_heat.txt\n",
    "~~~"
   ]
  },
  {
   "cell_type": "markdown",
   "metadata": {},
   "source": [
    "Inside nano, type the text below, and save the changes and exit out of nano.\n",
    "~~~\n",
    "This is some new text.\n",
    "~~~"
   ]
  },
  {
   "cell_type": "markdown",
   "metadata": {},
   "source": [
    "View the changes to the file using `cat`\n",
    "~~~\n",
    "$ cat remote_heat.txt\n",
    "~~~\n",
    "~~~\n",
    "This is some new text.\n",
    "~~~"
   ]
  },
  {
   "cell_type": "markdown",
   "metadata": {},
   "source": [
    "### Exercise: Open nano\n",
    "1. Open the Terminal.\n",
    "2. Execute the command nano.\n",
    "3. Add some text to the file.\n",
    "4. Use the instructions at the bottom of the window to name and save the file, then exit nano."
   ]
  },
  {
   "cell_type": "markdown",
   "metadata": {},
   "source": [
    "# Copying and Renaming Files (`cp` and `mv`)"
   ]
  },
  {
   "cell_type": "markdown",
   "metadata": {},
   "source": [
    "Now that we know how to make and edit files, we can learn how to copy, move and rename them."
   ]
  },
  {
   "cell_type": "markdown",
   "metadata": {},
   "source": [
    "The `cp` command is used to copy files from one place to another. The first argument passed to `cp` is the source file to be copied, and the second argument is the destination file (the copy to be made). To make a copy of the `reactors.txt` file in the `power` directory, let's navigate there and then us `cp` to do this."
   ]
  },
  {
   "cell_type": "markdown",
   "metadata": {},
   "source": [
    "~~~\n",
    "$ cd power\n",
    "$ ls\n",
    "~~~\n",
    "~~~\n",
    "reactor.txt\t\treactor_copy.txt\n",
    "~~~"
   ]
  },
  {
   "cell_type": "markdown",
   "metadata": {},
   "source": [
    "Using `ls` to list the files in the `power` directory we see the original `reactor.txt` and a copy of that file that we made earlier using `cat`, `reactor_copy.txt`. To make a 2nd copy of the `reactor.txt` file that we will call `reactor_copy2.txt` we will use the `cp` command: "
   ]
  },
  {
   "cell_type": "markdown",
   "metadata": {},
   "source": [
    "~~~\n",
    "$ cp reactor.txt reactor_copy2.txt\n",
    "$ ls\n",
    "~~~\n",
    "~~~\n",
    "reactor.txt\t\treactor_copy.txt\treactor_copy2.txt\n",
    "~~~"
   ]
  },
  {
   "cell_type": "markdown",
   "metadata": {},
   "source": [
    "We can also copy the file when we create it by specifying where to copy it to. For example to create a copy of `remote.txt` in the parent directory (`applications`) called `reactor_copy3.txt` we would type:"
   ]
  },
  {
   "cell_type": "markdown",
   "metadata": {},
   "source": [
    "~~~\n",
    "$ cp reactor.txt ../reactor_copy3.txt\n",
    "$ ls\n",
    "~~~\n",
    "\n",
    "~~~\n",
    "reactor.txt\t\treactor_copy.txt\treactor_copy2.txt\n",
    "~~~\n",
    "\n",
    "~~~\n",
    "$ ls ..\n",
    "~~~\n",
    "\n",
    "~~~\n",
    "new_ideas_for_applications.txt\treactor_copy3.txt\n",
    "power\t\t\t\tremote_heat.txt\n",
    "~~~"
   ]
  },
  {
   "cell_type": "markdown",
   "metadata": {},
   "source": [
    "*note - if the copy destination is in another directory, that directory must already exist or cp will throw an error*"
   ]
  },
  {
   "cell_type": "markdown",
   "metadata": {},
   "source": [
    "If you want to rename a file without copying it, you use the `mv` command. For example, in browsing through the filesystem, we notice an idea for a nuclear plane in the propulsion directory:"
   ]
  },
  {
   "cell_type": "markdown",
   "metadata": {},
   "source": [
    "~~~\n",
    "$ cd ../propulsion\n",
    "$ ls \n",
    "~~~\n",
    "~~~\n",
    "nuclear_plane.txt\n",
    "~~~"
   ]
  },
  {
   "cell_type": "markdown",
   "metadata": {},
   "source": [
    "This is really a bad idea, a nuclear plane would probably be too heavy to ever fly. Let's rename the idea as `bad_idea.txt`, as a warning to others. To do this we give the `mv` command two arguments: the original file path and then the new file path."
   ]
  },
  {
   "cell_type": "markdown",
   "metadata": {},
   "source": [
    "~~~\n",
    "$ mv nuclear_plane.txt bad_idea.txt\n",
    "$ ls\n",
    "~~~\n",
    "~~~\n",
    "bad_idea.txt\n",
    "~~~"
   ]
  },
  {
   "cell_type": "markdown",
   "metadata": {},
   "source": [
    "We can also use `mv` to move a file, and we can either keep the filename the same or rename it. For example, here's how we would move the `bad_idea.txt` file to the `applications` directory:"
   ]
  },
  {
   "cell_type": "markdown",
   "metadata": {},
   "source": [
    "~~~\n",
    "$ mv bad_idea.txt ../bad_idea.txt\n",
    "$ ls ..\n",
    "~~~\n",
    "~~~\n",
    "bad_idea.txt\t\t\treactor_copy3.txt\n",
    "new_ideas_for_applications.txt\tremote_heat.txt\n",
    "power\t\t\t\tweapons\n",
    "propulsion\n",
    "~~~"
   ]
  },
  {
   "cell_type": "markdown",
   "metadata": {},
   "source": [
    "# Making Directories (mkdir)"
   ]
  },
  {
   "cell_type": "markdown",
   "metadata": {},
   "source": [
    "In addition to creating files, we can also create directories using the `mkdir` command. For example, to create a new directory called `nuclear` to hold ideas and code related to a new class of theories about the nucleus, we will first navigate to the `theories` directory:"
   ]
  },
  {
   "cell_type": "markdown",
   "metadata": {},
   "source": [
    "~~~\n",
    "$ cd ../../../theories\n",
    "$ ls\n",
    "~~~\n",
    "~~~\n",
    "README.md\n",
    "~~~"
   ]
  },
  {
   "cell_type": "markdown",
   "metadata": {},
   "source": [
    "As you can see, the `theories` directory is currently only has one file named `README.md`, now let's make the `nucleus` directory using `mkdir`:"
   ]
  },
  {
   "cell_type": "markdown",
   "metadata": {},
   "source": [
    "~~~\n",
    "$ mkdir nuclear\n",
    "$ ls\n",
    "~~~\n",
    "~~~\n",
    "nuclear\n",
    "~~~"
   ]
  },
  {
   "cell_type": "markdown",
   "metadata": {},
   "source": [
    "Using our usual path conventions, you can make directories anywhere, not just in your current working directory. For example, we can create a directory called `fission` within the `nuclear` directory we just created without being in the `nuclear` directory:"
   ]
  },
  {
   "cell_type": "markdown",
   "metadata": {},
   "source": [
    "~~~\n",
    "$ mkdir nuclear/fission\n",
    "$ ls nuclear\n",
    "~~~\n",
    "~~~\n",
    "fission\n",
    "~~~"
   ]
  },
  {
   "cell_type": "markdown",
   "metadata": {},
   "source": [
    "# Deleting Files and Directories (rm)"
   ]
  },
  {
   "cell_type": "markdown",
   "metadata": {},
   "source": [
    "In addition to creating files and directories, you also can delete files and directories in the Shell. This is done using the `rm` command. We can use this to delete our bad idea in the `applications` directory:"
   ]
  },
  {
   "cell_type": "markdown",
   "metadata": {},
   "source": [
    "~~~\n",
    "$ cd ../fission/applications/\n",
    "$ ls\n",
    "~~~\n",
    "\n",
    "~~~\n",
    "bad_idea.txt            reactor_copy3.txt\n",
    "new_ideas_for_applications.txt    remote_heat.txt\n",
    "power                weapons\n",
    "propulsion\n",
    "~~~\n",
    "\n",
    "~~~\n",
    "$ rm bad_idea.txt\n",
    "$ ls\n",
    "~~~\n",
    "\n",
    "~~~\n",
    "reactor_copy3.txt  new_ideas_for_applications.txt    \n",
    "remote_heat.txt  power                \n",
    "weapons  propulsion\n",
    "~~~"
   ]
  },
  {
   "cell_type": "markdown",
   "metadata": {},
   "source": [
    "Important note! There is no such this as undo, or a trash can or recycling bin in the Shell. When you delete something in the Shell, it is deleted FOREVER. "
   ]
  },
  {
   "cell_type": "markdown",
   "metadata": {},
   "source": [
    "As mentioned above, you can also delete directories. To delete the `propulsion` directory we can try:"
   ]
  },
  {
   "cell_type": "markdown",
   "metadata": {},
   "source": [
    "~~~\n",
    "$ rm propulsion \n",
    "~~~\n",
    "~~~\n",
    "rm: propulsion: is a directory\n",
    "~~~"
   ]
  },
  {
   "cell_type": "markdown",
   "metadata": {},
   "source": [
    "But we get an error because `propulsion` is a directory. This is a safety feature to prevent mistakes. To delete directories you need to use a special arguement, `-r`. This flag tells `rm` to go into the directory and execute the command all the way down the tree, deleting all files and folders below propulsion:"
   ]
  },
  {
   "cell_type": "markdown",
   "metadata": {},
   "source": [
    "~~~\n",
    "$ rm -r propulsion\n",
    "$ ls\n",
    "~~~\n",
    "~~~\n",
    "reactor_copy3.txt  new_ideas_for_applications.txt    \n",
    "remote_heat.txt  power                \n",
    "weapons\n",
    "~~~"
   ]
  },
  {
   "cell_type": "markdown",
   "metadata": {},
   "source": [
    "### Exercise: Make and Remove Files and Directories\n",
    "1. Open the Terminal.\n",
    "2. Use mkdir to create a directory with a few empty subdirectories.\n",
    "3. Use touch to create five empty files in those directories, and use ls to inspect your work.\n",
    "4. With one command (hint: it will have to be recursive), remove the whole directory. "
   ]
  },
  {
   "cell_type": "markdown",
   "metadata": {},
   "source": [
    "# Wildcards"
   ]
  },
  {
   "cell_type": "markdown",
   "metadata": {},
   "source": [
    "Often times you want to apply a command in the shell to many files and/or directories. For example, if we want to apply the ls command to everything in the fission directory we can use a wildcard, `*`, to match all the things in that directory:"
   ]
  },
  {
   "cell_type": "markdown",
   "metadata": {},
   "source": [
    "~~~\n",
    "$ cd ..\n",
    "$ ls *\n",
    "~~~\n",
    "\n",
    "~~~\n",
    "heat-generation.txt\tneutron-release.txt\n",
    "\n",
    "applications:\n",
    "power\t\tpropulsion\tweapons\n",
    "~~~"
   ]
  },
  {
   "cell_type": "markdown",
   "metadata": {},
   "source": [
    "Why is this different from just typing `ls`? "
   ]
  },
  {
   "cell_type": "markdown",
   "metadata": {},
   "source": [
    "~~~\n",
    "$ ls\n",
    "~~~\n",
    "~~~\n",
    "applications\t\theat-generation.txt\tneutron-release.txt\n",
    "~~~"
   ]
  },
  {
   "cell_type": "markdown",
   "metadata": {},
   "source": [
    "When we type `ls *` the Shell first expands the wildcard, `*`, matching everything listed in that directory. Thus typing `ls *` is really like typing:"
   ]
  },
  {
   "cell_type": "markdown",
   "metadata": {},
   "source": [
    "~~~\n",
    "$ ls applications heat-generation.txt neutron-release.txt\n",
    "~~~\n",
    "~~~\n",
    "heat-generation.txt\tneutron-release.txt\n",
    "\n",
    "applications:\n",
    "power\t\tpropulsion\tweapons\n",
    "~~~"
   ]
  },
  {
   "cell_type": "markdown",
   "metadata": {},
   "source": [
    "We can also use wildcards to filter files. For example, if we only want to list the files ending in .txt in the fission directory, we can type:"
   ]
  },
  {
   "cell_type": "markdown",
   "metadata": {},
   "source": [
    "~~~\n",
    "$ ls *.txt\n",
    "~~~\n",
    "~~~\n",
    "heat-generation.txt\tneutron-release.txt\n",
    "~~~"
   ]
  },
  {
   "cell_type": "markdown",
   "metadata": {},
   "source": [
    "# Getting Help"
   ]
  },
  {
   "cell_type": "markdown",
   "metadata": {},
   "source": [
    "How do you know what flags to use? Or what exactly a command does? Your best bet is the program `man` (manual). For example, to see the documentation for the `ls` command and all of the possible arguments/flags that can be used with it, type:"
   ]
  },
  {
   "cell_type": "markdown",
   "metadata": {},
   "source": [
    "~~~\n",
    "$ man ls\n",
    "~~~\n",
    "\n",
    "~~~\n",
    "LS(1)                     BSD General Commands Manual                    LS(1)\n",
    "\n",
    "NAME\n",
    "     ls -- list directory contents\n",
    "\n",
    "SYNOPSIS\n",
    "     ls [-ABCFGHLOPRSTUW@abcdefghiklmnopqrstuwx1] [file ...]\n",
    "\n",
    "DESCRIPTION\n",
    "     For each operand that names a file of a type other than directory, ls\n",
    "     displays its name as well as any requested, associated information.  For\n",
    "     each operand that names a file of type directory, ls displays the names\n",
    "     of files contained within that directory, as well as any requested, asso-\n",
    "     ciated information.\n",
    "\n",
    "     If no operands are given, the contents of the current directory are dis-\n",
    "     played.  If more than one operand is given, non-directory operands are\n",
    "     displayed first; directory and non-directory operands are sorted sepa-\n",
    "     rately and in lexicographical order.\n",
    "\n",
    "     The following options are available:\n",
    "\n",
    "<snip>\n",
    "~~~"
   ]
  },
  {
   "cell_type": "markdown",
   "metadata": {},
   "source": [
    "When you use the `man` command, the help documents are opened in a program called `less`. A few helpful things to know about `less` are:\n",
    "\n",
    "* Use the **up and down arrows** to scroll up and down.\n",
    "* Use **Page Up**` and **Page Down** (or the **space bar**) to move up or down by an entire page.\n",
    "* Use a forward slash (**/**) followed by a search term and then **Enter** to search for a particular word. The letter **n** (next) toggles through each occurrence.\n",
    "* Use **h** to display help inside less—this displays all the possible commands that less understands.\n",
    "* Use **q** to quit.\n",
    "* Less can be used to look at text files too (just type: `less [filename]`). "
   ]
  },
  {
   "cell_type": "markdown",
   "metadata": {},
   "source": [
    "*note - on some Shells the `man` command might not work, try ` [command] --help` in these cases, for example:*"
   ]
  },
  {
   "cell_type": "markdown",
   "metadata": {},
   "source": [
    "~~~\n",
    "$ ls --help\n",
    "~~~"
   ]
  },
  {
   "cell_type": "markdown",
   "metadata": {},
   "source": [
    "### Exercise: Use the man Pages with less\n",
    "1. Open the Terminal.\n",
    "2. Use the man command and the preceding notes on less to learn about the commands covered already in this chapter (e.g., mkdir, touch, mv, cp, etc.)"
   ]
  },
  {
   "cell_type": "markdown",
   "metadata": {},
   "source": [
    "# Finding the Right Hammer (apropos)"
   ]
  },
  {
   "cell_type": "markdown",
   "metadata": {},
   "source": [
    "How do you find help if you don't know the name of the command? You can use a tool called `apropos` which searches the `man` pages for keywords. For example, to find out what text editors are available on your computer you could search for the keyword \"text editor\":"
   ]
  },
  {
   "cell_type": "markdown",
   "metadata": {},
   "source": [
    "~~~\n",
    "$ apropos \"text editor\"\n",
    "~~~\n",
    "~~~\n",
    "ed(1), red(1)            - text editor\n",
    "vim(1)                   - Vi IMproved, a programmers text editor\n",
    "~~~"
   ]
  },
  {
   "cell_type": "markdown",
   "metadata": {},
   "source": [
    "### Exercise: Find and Learn About a Command\n",
    "1. Open the Terminal.\n",
    "2. Search your computer for commands by using apropos and a keyword.\n",
    "3. Take some time to explore the man page of a command we’ve discussed or of another command or program you know of. Learn about a couple of new arguments or options and try them out. Practice killing or interrupting programs if neces‐ sary."
   ]
  },
  {
   "cell_type": "markdown",
   "metadata": {},
   "source": [
    "# Combining Utilities with Redirection and Pipes (>, >>, and |)"
   ]
  },
  {
   "cell_type": "markdown",
   "metadata": {},
   "source": [
    "The Shell starts to become really powerful when you start capturing the output of commands to files, and combining (called piping) commands together. We've already encountered the single arrow (`>`), which we can use to send the output of a command to a file. Here's another example of how to use it to output the first line of the `reactor.txt` file in the `power` directory to a new file called `reactor_title.txt`:"
   ]
  },
  {
   "cell_type": "markdown",
   "metadata": {},
   "source": [
    "~~~\n",
    "$ cd applications/power/\n",
    "$ head -1 reactor.txt > reactor_title.txt\n",
    "$ ls\n",
    "~~~\n",
    "~~~\n",
    "reactor.txt\t\treactor_title.txt\n",
    "~~~"
   ]
  },
  {
   "cell_type": "markdown",
   "metadata": {},
   "source": [
    "We can use `cat` to look at what is now in `reactor_title.txt`"
   ]
  },
  {
   "cell_type": "markdown",
   "metadata": {},
   "source": [
    "~~~\n",
    "$ cat reactor_title.txt\n",
    "~~~\n",
    "~~~\n",
    "# Fission Power Idea\n",
    "~~~"
   ]
  },
  {
   "cell_type": "markdown",
   "metadata": {},
   "source": [
    "The single arrow above created a **new** file with the outputs of `head -1 reactor.txt` and saved them to a file called `reactor_title.txt`. Had a file already existed with that name, it would have overwritten the contents. Two arrows (`>>`) has a slightly different meaning, it creates a file if none with that name previously existed. But, if one does exist, it does not overwrite it, it appends the commands output to the end of the file. "
   ]
  },
  {
   "cell_type": "markdown",
   "metadata": {},
   "source": [
    "For example, if we wanted add add the last line of `reactor.txt` to `reactor_title.txt`, while keeping the title, we would type:"
   ]
  },
  {
   "cell_type": "markdown",
   "metadata": {},
   "source": [
    "~~~\n",
    "$ tail -1 reactor.txt >> reactor_title.txt\n",
    "$ cat reactor_title.txt\n",
    "~~~\n",
    "~~~\n",
    "# Fission Power Idea\n",
    "topic. \n",
    "~~~"
   ]
  },
  {
   "cell_type": "markdown",
   "metadata": {},
   "source": [
    "As you might have guessed, since `head -1` gives first line of a file, `tail -1` gives us the last. "
   ]
  },
  {
   "cell_type": "markdown",
   "metadata": {},
   "source": [
    "To chain two commands together in one line, we use pipes ( | ). For example, to print the 11th line from `reactor.txt` we can type:"
   ]
  },
  {
   "cell_type": "markdown",
   "metadata": {},
   "source": [
    "~~~\n",
    "$ head -11 reactor.txt | tail -1\n",
    "~~~\n",
    "~~~\n",
    "Of course, it would take quite a lot of fissions.\n",
    "~~~"
   ]
  },
  {
   "cell_type": "markdown",
   "metadata": {},
   "source": [
    "### Excercise\n",
    "1. Open a terminal\n",
    "2. Use arrows and pipes to save lines 4-9 of `reactor.txt` to a file called `reactor_body.txt`"
   ]
  }
 ],
 "metadata": {
  "kernelspec": {
   "display_name": "Python 3",
   "language": "python",
   "name": "python3"
  },
  "language_info": {
   "codemirror_mode": {
    "name": "ipython",
    "version": 3
   },
   "file_extension": ".py",
   "mimetype": "text/x-python",
   "name": "python",
   "nbconvert_exporter": "python",
   "pygments_lexer": "ipython3",
   "version": "3.7.0"
  }
 },
 "nbformat": 4,
 "nbformat_minor": 4
}
