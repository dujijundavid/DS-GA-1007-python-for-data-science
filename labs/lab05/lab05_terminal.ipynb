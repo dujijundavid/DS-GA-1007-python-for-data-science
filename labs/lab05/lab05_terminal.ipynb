{
 "cells": [
  {
   "cell_type": "markdown",
   "metadata": {},
   "source": [
    "# Shell Commands"
   ]
  },
  {
   "cell_type": "markdown",
   "metadata": {},
   "source": [
    "We have included a notebook `ch01-the-command-line.ipynb` from https://github.com/physics-codes/seminar. \n",
    "\n",
    "**The exercises in that notebook are not graded for this class. They're exercises for your own practice.**"
   ]
  },
  {
   "cell_type": "markdown",
   "metadata": {},
   "source": [
    "You should be familiar with the following shell commands.\n",
    "\n",
    "* `pwd`\n",
    "* `cd`\n",
    "* `ls`\n",
    "* `mkdir`\n",
    "* `cat`\n",
    "* `head`\n",
    "* `tail`\n",
    "* `cp`\n",
    "* `mv`\n",
    "* `rm`\n",
    "* `echo`\n",
    "* pipe `|`\n",
    "* redirect `>`\n",
    "* append `>>`"
   ]
  },
  {
   "cell_type": "markdown",
   "metadata": {},
   "source": [
    "# grep\n",
    "\n",
    "`grep` is a command-line utility for quickly searching through text files. It has some pretty nifty functionality including using regular expressions for more complex searches, but most often people simply use it to filter lines of text."
   ]
  },
  {
   "cell_type": "markdown",
   "metadata": {},
   "source": [
    "**Example 1**: Searching for all lines containing the string `he`\n",
    "\n",
    "```\n",
    "$ grep he word_list.txt\n",
    "\n",
    "he\n",
    "her\n",
    "here\n",
    "other\n",
    "she\n",
    "the\n",
    "their\n",
    "them\n",
    "then\n",
    "there\n",
    "these\n",
    "they\n",
    "when\n",
    "```"
   ]
  },
  {
   "cell_type": "markdown",
   "metadata": {},
   "source": [
    "**Example 2**: Searching for all lines starting with `a`\n",
    "\n",
    "```\n",
    "$ grep ^a word_list.txt\n",
    "\n",
    "a\n",
    "about\n",
    "all\n",
    "also\n",
    "and\n",
    "as\n",
    "at\n",
    "```"
   ]
  },
  {
   "cell_type": "markdown",
   "metadata": {},
   "source": [
    "**Example 3**: grep from piped output\n",
    "\n",
    "```\n",
    "$ cat word_list.txt | grep ^a\n",
    "\n",
    "a\n",
    "about\n",
    "all\n",
    "also\n",
    "and\n",
    "as\n",
    "at\n",
    "```"
   ]
  },
  {
   "cell_type": "markdown",
   "metadata": {},
   "source": [
    "**Example 4**: grep exclusion\n",
    "    \n",
    "```\n",
    "$ cat word_list.txt | grep -v e\n",
    "\n",
    "a\n",
    "about\n",
    "all\n",
    "also\n",
    "and\n",
    "as\n",
    "at\n",
    "but\n",
    "by\n",
    "can\n",
    "could\n",
    "day\n",
    "do\n",
    "find\n",
    "first\n",
    "for\n",
    "from\n",
    "go\n",
    "him\n",
    "his\n",
    "how\n",
    "I\n",
    "```\n",
    "... etc"
   ]
  },
  {
   "cell_type": "markdown",
   "metadata": {},
   "source": [
    "## Exercise"
   ]
  },
  {
   "cell_type": "markdown",
   "metadata": {},
   "source": [
    "Using `grep`, filter out only the *first 10 words containing the letter E* and write that to `filtered.txt` in this folder. "
   ]
  },
  {
   "cell_type": "code",
   "execution_count": 1,
   "metadata": {},
   "outputs": [],
   "source": [
    "# Write command here:\n",
    "!cat word_list.txt | grep e | head -n 10 >> filtered.txt"
   ]
  }
 ],
 "metadata": {
  "kernelspec": {
   "display_name": "Python 3",
   "language": "python",
   "name": "python3"
  },
  "language_info": {
   "codemirror_mode": {
    "name": "ipython",
    "version": 3
   },
   "file_extension": ".py",
   "mimetype": "text/x-python",
   "name": "python",
   "nbconvert_exporter": "python",
   "pygments_lexer": "ipython3",
   "version": "3.7.0"
  }
 },
 "nbformat": 4,
 "nbformat_minor": 4
}
