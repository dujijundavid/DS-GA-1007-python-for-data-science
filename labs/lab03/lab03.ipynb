{
 "cells": [
  {
   "cell_type": "markdown",
   "metadata": {},
   "source": [
    "# Lab 03"
   ]
  },
  {
   "cell_type": "markdown",
   "metadata": {},
   "source": [
    "## Agenda \n",
    "\n",
    "- Data Types\n",
    "- Syntax and Statements\n",
    "- Functions\n",
    "- Control of Flow\n",
    "- Modules"
   ]
  },
  {
   "cell_type": "markdown",
   "metadata": {},
   "source": [
    "### Data Types\n",
    "\n",
    "1. **Programs** are composed of **modules**. \n",
    "2. **Modules** contain **statements**.\n",
    "3. **Statements** contain **expressions**.\n",
    "4. **Expressions** create and process **objects**.\n",
    "\n",
    "In particular there are [Built-in objects](https://docs.python.org/3/library/stdtypes.html)\n",
    "\n",
    "**When in doubt, use built-in objects**: for simple tasks there is usually a Python object that already solves the problem. These are more efficient than building a solution yourself."
   ]
  },
  {
   "cell_type": "code",
   "execution_count": 1,
   "metadata": {},
   "outputs": [
    {
     "name": "stdout",
     "output_type": "stream",
     "text": [
      "Hello <class 'str'>\n",
      "Hello World <class 'str'>\n",
      "1 <class 'int'>\n",
      "1 <class 'int'>\n"
     ]
    }
   ],
   "source": [
    "x = 'Hello' # Assigning a value to a variable\n",
    "\n",
    "# Dynamic typing means that you don't need \n",
    "# to declare in advance the type the variable will have\n",
    "y = 1 \n",
    "\n",
    "# But once assigned, the variable will be associated with a \n",
    "# certain object type as long as the value remains of that type\n",
    "print(x, type(x))\n",
    "\n",
    "x += ' World'\n",
    "print(x, type(x))\n",
    "\n",
    "x = y\n",
    "print(x, type(x))\n",
    "print(y, type(y))"
   ]
  },
  {
   "cell_type": "code",
   "execution_count": 2,
   "metadata": {},
   "outputs": [
    {
     "name": "stdout",
     "output_type": "stream",
     "text": [
      "int([x]) -> integer\n",
      "int(x, base=10) -> integer\n",
      "\n",
      "Convert a number or string to an integer, or return 0 if no arguments\n",
      "are given.  If x is a number, return x.__int__().  For floating point\n",
      "numbers, this truncates towards zero.\n",
      "\n",
      "If x is not a number or if base is given, then x must be a string,\n",
      "bytes, or bytearray instance representing an integer literal in the\n",
      "given base.  The literal can be preceded by '+' or '-' and be surrounded\n",
      "by whitespace.  The base defaults to 10.  Valid bases are 0 and 2-36.\n",
      "Base 0 means to interpret the base from the string as an integer literal.\n",
      ">>> int('0b100', base=0)\n",
      "4\n"
     ]
    }
   ],
   "source": [
    "# The __doc__ method has the documentation for a certain Data Type\n",
    "print(x.__doc__)"
   ]
  },
  {
   "cell_type": "code",
   "execution_count": 3,
   "metadata": {},
   "outputs": [
    {
     "name": "stdout",
     "output_type": "stream",
     "text": [
      "['__add__', '__class__', '__contains__', '__delattr__', '__dir__', '__doc__', '__eq__', '__format__', '__ge__', '__getattribute__', '__getitem__', '__getnewargs__', '__gt__', '__hash__', '__init__', '__init_subclass__', '__iter__', '__le__', '__len__', '__lt__', '__mod__', '__mul__', '__ne__', '__new__', '__reduce__', '__reduce_ex__', '__repr__', '__rmod__', '__rmul__', '__setattr__', '__sizeof__', '__str__', '__subclasshook__', 'capitalize', 'casefold', 'center', 'count', 'encode', 'endswith', 'expandtabs', 'find', 'format', 'format_map', 'index', 'isalnum', 'isalpha', 'isascii', 'isdecimal', 'isdigit', 'isidentifier', 'islower', 'isnumeric', 'isprintable', 'isspace', 'istitle', 'isupper', 'join', 'ljust', 'lower', 'lstrip', 'maketrans', 'partition', 'replace', 'rfind', 'rindex', 'rjust', 'rpartition', 'rsplit', 'rstrip', 'split', 'splitlines', 'startswith', 'strip', 'swapcase', 'title', 'translate', 'upper', 'zfill']\n"
     ]
    }
   ],
   "source": [
    "# dir(x) returns a list of all attributes available for \n",
    "# any object passed to it\n",
    "x = 'Hello'\n",
    "print(dir(x))"
   ]
  },
  {
   "cell_type": "code",
   "execution_count": null,
   "metadata": {},
   "outputs": [],
   "source": [
    "# Don't try to run this cell, it will give you a SyntaxError\n",
    "# Put your cursor on the right side of the x variable and enter \"Shift-Tab\" or \"Shift-Tab-Tab\"\n",
    "x\n",
    "# You can also try entering \"Tab\" while standing on the right side of the x.\n",
    "x."
   ]
  },
  {
   "cell_type": "markdown",
   "metadata": {},
   "source": [
    "Variables, values and references..."
   ]
  },
  {
   "cell_type": "code",
   "execution_count": 4,
   "metadata": {},
   "outputs": [
    {
     "data": {
      "text/plain": [
       "46987807948392"
      ]
     },
     "execution_count": 4,
     "metadata": {},
     "output_type": "execute_result"
    }
   ],
   "source": [
    "id(x) # Represents the memory location for this object"
   ]
  },
  {
   "cell_type": "code",
   "execution_count": 4,
   "metadata": {},
   "outputs": [
    {
     "name": "stdout",
     "output_type": "stream",
     "text": [
      "47193025444296\n",
      "47193025444296\n"
     ]
    }
   ],
   "source": [
    "first_list = [1, 2, 3, 'Hello']  # We first create a list\n",
    "second_list = first_list  # We assign it to a second list\n",
    "\n",
    "# Notice that they share the same space in memory\n",
    "print(id(first_list))\n",
    "print(id(second_list))\n",
    "\n",
    "# Change made in-place\n",
    "first_list[3] = 'I have been changed'"
   ]
  },
  {
   "cell_type": "code",
   "execution_count": 6,
   "metadata": {},
   "outputs": [
    {
     "name": "stdout",
     "output_type": "stream",
     "text": [
      "[1, 2, 3, 'I have been changed']\n"
     ]
    }
   ],
   "source": [
    "# Guess what happens?\n",
    "print(second_list)\n",
    "\n",
    "# Answer: lists are mutable, so we can change individual elements in the list like this."
   ]
  },
  {
   "cell_type": "code",
   "execution_count": 5,
   "metadata": {},
   "outputs": [
    {
     "name": "stdout",
     "output_type": "stream",
     "text": [
      "Have I been changed too? \"Hello\"\n"
     ]
    }
   ],
   "source": [
    "# Why the same does not happen in this case?\n",
    "a = '\"Hello\"'\n",
    "b = a\n",
    "a = 'Have I been changed too?'\n",
    "print(a, b)\n",
    "\n",
    "# Answer: tuples are immutable, so we can't change individual elements in the tuple like this."
   ]
  },
  {
   "cell_type": "code",
   "execution_count": 6,
   "metadata": {},
   "outputs": [
    {
     "name": "stdout",
     "output_type": "stream",
     "text": [
      "\"Hello\" Have I been changed too?\n"
     ]
    }
   ],
   "source": [
    "# Swap values without an auxiliary variable\n",
    "a, b = b, a\n",
    "print(a, b)"
   ]
  },
  {
   "cell_type": "markdown",
   "metadata": {},
   "source": [
    "__PS.__ Make sure you understand what the commands _split_ and _join_ are doing."
   ]
  },
  {
   "cell_type": "markdown",
   "metadata": {},
   "source": [
    "### <font color='blue'>Exercise 1 – Lists and Dictionaries: your two new best friends</font>\n",
    "They are extremely useful, learn how to work with them"
   ]
  },
  {
   "cell_type": "markdown",
   "metadata": {},
   "source": [
    "1. Initialize an empty list and assign it to a variable called \"ls\""
   ]
  },
  {
   "cell_type": "code",
   "execution_count": 7,
   "metadata": {},
   "outputs": [],
   "source": [
    "ls=[]\n",
    "#ls=list()"
   ]
  },
  {
   "cell_type": "markdown",
   "metadata": {},
   "source": [
    "2. Create a list containing one hundred ones and assign it to a variable called \"ones\""
   ]
  },
  {
   "cell_type": "code",
   "execution_count": 18,
   "metadata": {},
   "outputs": [
    {
     "name": "stdout",
     "output_type": "stream",
     "text": [
      "[1, 1, 1, 1, 1, 1, 1, 1, 1, 1, 1, 1, 1, 1, 1, 1, 1, 1, 1, 1, 1, 1, 1, 1, 1, 1, 1, 1, 1, 1, 1, 1, 1, 1, 1, 1, 1, 1, 1, 1, 1, 1, 1, 1, 1, 1, 1, 1, 1, 1, 1, 1, 1, 1, 1, 1, 1, 1, 1, 1, 1, 1, 1, 1, 1, 1, 1, 1, 1, 1, 1, 1, 1, 1, 1, 1, 1, 1, 1, 1, 1, 1, 1, 1, 1, 1, 1, 1, 1, 1, 1, 1, 1, 1, 1, 1, 1, 1, 1, 1]\n"
     ]
    },
    {
     "data": {
      "text/plain": [
       "array([100])"
      ]
     },
     "execution_count": 18,
     "metadata": {},
     "output_type": "execute_result"
    }
   ],
   "source": [
    "ones=[1]*100\n",
    "print(ones)\n",
    "\n",
    "#import numpy as np\n",
    "#np.array([1])*100"
   ]
  },
  {
   "cell_type": "markdown",
   "metadata": {},
   "source": [
    "3. Create a list containing: \n",
    "    - one hundred elements from 0 to 99 where each element is equal to its position on the list\n",
    "    - assign it to a variable called \"increment\""
   ]
  },
  {
   "cell_type": "code",
   "execution_count": 21,
   "metadata": {},
   "outputs": [],
   "source": [
    "increment=list(range(100))\n",
    "#print(increment)"
   ]
  },
  {
   "cell_type": "markdown",
   "metadata": {},
   "source": [
    "4. Create a list containing:\n",
    "    - one hundred elements from 0 to 99 where each element is equal 99 subtracted from its position on the list\n",
    "    - assign it to a variable called \"decrement\""
   ]
  },
  {
   "cell_type": "code",
   "execution_count": 22,
   "metadata": {},
   "outputs": [],
   "source": [
    "#increment backwards\n",
    "decrement = increment[::-1]\n",
    "#print(decrement)"
   ]
  },
  {
   "cell_type": "markdown",
   "metadata": {},
   "source": [
    "5. Loop through _increment_ and build a dictionary where the key corresponds to the position in the list and the value is the position squared"
   ]
  },
  {
   "cell_type": "code",
   "execution_count": 25,
   "metadata": {},
   "outputs": [],
   "source": [
    "squares = {}\n",
    "for i in increment:\n",
    "        squares[i] = increment[i]*increment[i]\n",
    "\n",
    "squares = {i ** 2 for i in increment}"
   ]
  },
  {
   "cell_type": "code",
   "execution_count": 26,
   "metadata": {},
   "outputs": [],
   "source": [
    "# The following assertions should hold if your answers are correct\n",
    "assert(len(ls) == 0)\n",
    "assert(len(ones) == 100)\n",
    "assert((increment[i] == i for i in increment) and len(increment) == 100)\n",
    "assert((decrement[-i] == i for i in decrement) and len(decrement) == 100)\n",
    "assert((squares[i] == i*i for i in increment) and len(squares) == 100)"
   ]
  },
  {
   "cell_type": "markdown",
   "metadata": {},
   "source": [
    "## Expressions create and process objects"
   ]
  },
  {
   "cell_type": "code",
   "execution_count": 27,
   "metadata": {},
   "outputs": [],
   "source": [
    "# Expressions are simple compositions or operations over objects\n",
    "x = 7\n",
    "y = 7"
   ]
  },
  {
   "cell_type": "code",
   "execution_count": 28,
   "metadata": {},
   "outputs": [
    {
     "data": {
      "text/plain": [
       "-7"
      ]
     },
     "execution_count": 28,
     "metadata": {},
     "output_type": "execute_result"
    }
   ],
   "source": [
    "# Unary operators\n",
    "-x"
   ]
  },
  {
   "cell_type": "code",
   "execution_count": 29,
   "metadata": {},
   "outputs": [
    {
     "data": {
      "text/plain": [
       "49"
      ]
     },
     "execution_count": 29,
     "metadata": {},
     "output_type": "execute_result"
    }
   ],
   "source": [
    "# Binary operators\n",
    "x + 42"
   ]
  },
  {
   "cell_type": "code",
   "execution_count": 30,
   "metadata": {},
   "outputs": [
    {
     "data": {
      "text/plain": [
       "False"
      ]
     },
     "execution_count": 30,
     "metadata": {},
     "output_type": "execute_result"
    }
   ],
   "source": [
    "# Comparisons\n",
    "y <= 5"
   ]
  },
  {
   "cell_type": "code",
   "execution_count": 19,
   "metadata": {},
   "outputs": [
    {
     "name": "stdout",
     "output_type": "stream",
     "text": [
      "<class 'int'>\n",
      "<class 'int'>\n",
      "<class 'bool'>\n"
     ]
    }
   ],
   "source": [
    "# Notice that the result of an expression can have a different \n",
    "# type than its operands\n",
    "print(type(y))\n",
    "print(type(5))\n",
    "print(type(y <= 5))"
   ]
  },
  {
   "cell_type": "code",
   "execution_count": 20,
   "metadata": {},
   "outputs": [
    {
     "data": {
      "text/plain": [
       "True"
      ]
     },
     "execution_count": 20,
     "metadata": {},
     "output_type": "execute_result"
    }
   ],
   "source": [
    "# An expression can be as complicated as you want\n",
    "# But make sure the default precedence is what you mean\n",
    "y > 5 / 3 + 2"
   ]
  },
  {
   "cell_type": "code",
   "execution_count": 21,
   "metadata": {},
   "outputs": [
    {
     "data": {
      "text/plain": [
       "True"
      ]
     },
     "execution_count": 21,
     "metadata": {},
     "output_type": "execute_result"
    }
   ],
   "source": [
    "y > ((5 / 3) + 2)"
   ]
  },
  {
   "cell_type": "code",
   "execution_count": 22,
   "metadata": {},
   "outputs": [
    {
     "data": {
      "text/plain": [
       "0.2"
      ]
     },
     "execution_count": 22,
     "metadata": {},
     "output_type": "execute_result"
    }
   ],
   "source": [
    "# Why does this work if (y > 5) is boolean?\n",
    "(y > 5) / (3 + 2)\n",
    "\n",
    "# Answer: the expression (y>5) is converted to a 0 or 1 integer, dependening on its value.\n",
    "# In this case, (y > 5) evaluates to True, which is converted to 1."
   ]
  },
  {
   "cell_type": "markdown",
   "metadata": {},
   "source": [
    "## Statements contain expressions\n",
    "\n",
    "Some examples of statements:\n",
    "- Assignment\n",
    "- Function Calls \n",
    "- Running functions \n",
    "- if/elif/else (Selecting actions)\n",
    "- for/else (Iteration)\n",
    "- while/else (General loops)\n",
    "- def (Functions and methods)\n",
    "- return (Functions results)\n",
    "- etc."
   ]
  },
  {
   "cell_type": "markdown",
   "metadata": {},
   "source": [
    "### <font color='blue'>Exercise 2 – Functions and Control Flow</font>\n",
    "\n",
    "Functions are objects, just like any other data type"
   ]
  },
  {
   "cell_type": "markdown",
   "metadata": {},
   "source": [
    "Define a function `f` that:\n",
    "\n",
    "- Has two required arguments (`x` and `g`) and one optional argument (squared)\n",
    "- Assume the parameter `g` is a function and call it passing `x` as an argument\n",
    "- Return the square of the result if squared is True otherwise return the result of applyting g"
   ]
  },
  {
   "cell_type": "code",
   "execution_count": 43,
   "metadata": {},
   "outputs": [],
   "source": [
    "def f(x, g, squared=False):\n",
    "    if squared != False:\n",
    "        return g(x)**2\n",
    "    else:\n",
    "        return g(x)"
   ]
  },
  {
   "cell_type": "markdown",
   "metadata": {},
   "source": [
    "- Define an `identity` function with a single required argument\n",
    "- It should return the value of the argument unchanged"
   ]
  },
  {
   "cell_type": "code",
   "execution_count": 44,
   "metadata": {},
   "outputs": [],
   "source": [
    "def identity(x):\n",
    "    return x"
   ]
  },
  {
   "cell_type": "code",
   "execution_count": 45,
   "metadata": {},
   "outputs": [],
   "source": [
    "# These assertions should hold\n",
    "assert(f(5, identity) == 5)\n",
    "assert(f(5, identity, False) == 5)\n",
    "assert(f(5, identity, squared=True) == 25)"
   ]
  },
  {
   "cell_type": "markdown",
   "metadata": {},
   "source": [
    "* Define a `minus` function with a single required argument\n",
    "* It should return negative of the value of the passed argument"
   ]
  },
  {
   "cell_type": "code",
   "execution_count": 26,
   "metadata": {},
   "outputs": [],
   "source": [
    "def minus(x):\n",
    "    return -x"
   ]
  },
  {
   "cell_type": "code",
   "execution_count": 27,
   "metadata": {},
   "outputs": [],
   "source": [
    "# These assertions should hold\n",
    "assert(f(5, minus) == -5)\n",
    "assert(f(5, minus, False) == -5)\n",
    "assert(f(5, minus, squared=True) == 25)"
   ]
  },
  {
   "cell_type": "markdown",
   "metadata": {},
   "source": [
    "**Exercise**: Define a function to return a list excluding a given value\n",
    "\n",
    "Requirements:\n",
    "1. two input parameters, a list and a value\n",
    "2. return a list that does not contain the value\n",
    "   e.g. if inputs are [1, 3, 2, 2] and 2, the output should be [1, 3]"
   ]
  },
  {
   "cell_type": "code",
   "execution_count": 60,
   "metadata": {},
   "outputs": [],
   "source": [
    "def remove_all(a_list, v):\n",
    "    # add your code\n",
    "    i=0 \n",
    "    #length = len(a_list)  #list length \n",
    "    #while(v in a_list):\n",
    "    for i in a_list:\n",
    "        if a_list[i] == v:\n",
    "            a_list.remove(a_list[i])\n",
    "        else:\n",
    "            i+1\n",
    "    return(a_list)"
   ]
  },
  {
   "cell_type": "code",
   "execution_count": 46,
   "metadata": {},
   "outputs": [],
   "source": [
    "# What about this version?\n",
    "def remove_all(a_list, v):\n",
    "    for x in a_list:\n",
    "        if x == v:\n",
    "            a_list.remove(v)\n",
    "    return a_list"
   ]
  },
  {
   "cell_type": "code",
   "execution_count": 61,
   "metadata": {},
   "outputs": [
    {
     "name": "stdout",
     "output_type": "stream",
     "text": [
      "remove 3:  [1, 2, 2]\n",
      "remove 2:  [1, 3]\n"
     ]
    }
   ],
   "source": [
    "# try this:\n",
    "ls = [1, 3, 2, 2]\n",
    "print(\"remove 3: \", remove_all(ls, 3))\n",
    "\n",
    "ls = [1, 3, 2, 2]\n",
    "print(\"remove 2: \", remove_all(ls, 2))  #why?"
   ]
  },
  {
   "cell_type": "code",
   "execution_count": null,
   "metadata": {},
   "outputs": [],
   "source": []
  }
 ],
 "metadata": {
  "anaconda-cloud": {},
  "kernelspec": {
   "display_name": "Python 3",
   "language": "python",
   "name": "python3"
  },
  "language_info": {
   "codemirror_mode": {
    "name": "ipython",
    "version": 3
   },
   "file_extension": ".py",
   "mimetype": "text/x-python",
   "name": "python",
   "nbconvert_exporter": "python",
   "pygments_lexer": "ipython3",
   "version": "3.7.0"
  }
 },
 "nbformat": 4,
 "nbformat_minor": 2
}
