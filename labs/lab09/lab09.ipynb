{
 "cells": [
  {
   "cell_type": "markdown",
   "metadata": {},
   "source": [
    "# <span style=\"color:blue\">Programming for Data Science - DS-GA 1007</span>\n",
    "## <span style=\"color:blue\">Lab 7: Numpy - Part II and Matplotlib</span>\n",
    "---"
   ]
  },
  {
   "cell_type": "markdown",
   "metadata": {},
   "source": [
    "## NumPy: Slicing and Broadcasting"
   ]
  },
  {
   "cell_type": "markdown",
   "metadata": {},
   "source": [
    "#### Broadcasting, newaxis"
   ]
  },
  {
   "cell_type": "code",
   "execution_count": null,
   "metadata": {},
   "outputs": [],
   "source": [
    "import numpy as np"
   ]
  },
  {
   "cell_type": "code",
   "execution_count": null,
   "metadata": {},
   "outputs": [],
   "source": [
    "def print_with_shape(arr):\n",
    "    print(\"Shape =\", arr.shape)\n",
    "    print(arr)\n",
    "    print()"
   ]
  },
  {
   "cell_type": "code",
   "execution_count": null,
   "metadata": {},
   "outputs": [],
   "source": [
    "a1 = np.arange(5)\n",
    "a2 = 2\n",
    "\n",
    "print_with_shape(a1)\n",
    "print(a2)\n",
    "\n",
    "a3 = a1 + a2\n",
    "print_with_shape(a3)"
   ]
  },
  {
   "cell_type": "code",
   "execution_count": null,
   "metadata": {},
   "outputs": [],
   "source": [
    "a1 = np.zeros((4, 3))\n",
    "a2 = np.arange(4)\n",
    "a3 = np.arange(3)\n",
    "\n",
    "print_with_shape(a1)\n",
    "print_with_shape(a2)\n",
    "print_with_shape(a3)"
   ]
  },
  {
   "cell_type": "code",
   "execution_count": null,
   "metadata": {},
   "outputs": [],
   "source": [
    "# Throws an error\n",
    "a1 + a2"
   ]
  },
  {
   "cell_type": "code",
   "execution_count": null,
   "metadata": {},
   "outputs": [],
   "source": [
    "# Doesn't throw an error\n",
    "a1 + a3"
   ]
  },
  {
   "cell_type": "markdown",
   "metadata": {},
   "source": [
    "**When ambiguous, broadcasting will apply backwards, matching from the last dimensions.**"
   ]
  },
  {
   "cell_type": "markdown",
   "metadata": {},
   "source": [
    "To avoid ambiguity, we can ensure that both arrays have the same number of dimensions\n",
    "\n",
    "the NumPy object \n",
    "```python\n",
    "np.newaxis\n",
    "```\n",
    "must be used to create a new dimension\n",
    "\n",
    "(Trivia: what exactly is `np.newaxis`?)"
   ]
  },
  {
   "cell_type": "code",
   "execution_count": null,
   "metadata": {},
   "outputs": [],
   "source": [
    "print_with_shape(a2)\n",
    "\n",
    "a2_mod = a2[:, np.newaxis]\n",
    "\n",
    "print_with_shape(a2_mod)"
   ]
  },
  {
   "cell_type": "code",
   "execution_count": null,
   "metadata": {},
   "outputs": [],
   "source": [
    "a1 + a2_mod"
   ]
  },
  {
   "cell_type": "markdown",
   "metadata": {},
   "source": [
    "Assignments can be broadcast as well:"
   ]
  },
  {
   "cell_type": "code",
   "execution_count": null,
   "metadata": {},
   "outputs": [],
   "source": [
    "a1 = np.zeros((4,3))\n",
    "a1[:2] = [[-44],[33]]\n",
    "print(a1)"
   ]
  },
  {
   "cell_type": "markdown",
   "metadata": {},
   "source": [
    "#### Slicing"
   ]
  },
  {
   "cell_type": "code",
   "execution_count": null,
   "metadata": {},
   "outputs": [],
   "source": [
    "a1 = np.arange(12).reshape(4, 3)\n",
    "print_with_shape(a1)"
   ]
  },
  {
   "cell_type": "code",
   "execution_count": null,
   "metadata": {},
   "outputs": [],
   "source": [
    "b1 = a1[1:3]\n",
    "print_with_shape(b1)"
   ]
  },
  {
   "cell_type": "code",
   "execution_count": null,
   "metadata": {},
   "outputs": [],
   "source": [
    "a2 = a1  # a2 and a1 reference to the same content\n",
    "print(a2 is a1)\n",
    "\n",
    "a3 = a1[:]   # the content of a1 is COPIED to a3\n",
    "print(a3 is a1)\n",
    "\n",
    "print(id(a1))\n",
    "print(id(a2))\n",
    "print(id(a3))"
   ]
  },
  {
   "cell_type": "markdown",
   "metadata": {},
   "source": [
    "Different array objects can share the same data using the command \"view\""
   ]
  },
  {
   "cell_type": "code",
   "execution_count": null,
   "metadata": {},
   "outputs": [],
   "source": [
    "a4 = a1.view()\n",
    "print(\"a4 is a1\", a4 is a1)\n",
    "print(\"a4.base is a1\", a4.base is a1)    # a4 is a view of the data owned by a1\n",
    "\n",
    "print('The shapes are the same')\n",
    "print(a1.shape)\n",
    "print(a4.shape)\n",
    "\n",
    "print('The shape of a4 is changed')\n",
    "a4.shape = 2,6   # will actually change a3's shape\n",
    "\n",
    "print()\n",
    "print_with_shape(a1)\n",
    "print_with_shape(a4)"
   ]
  },
  {
   "cell_type": "code",
   "execution_count": null,
   "metadata": {},
   "outputs": [],
   "source": [
    "a5 = a1[[1, 3, 3]]  # copy particular rows to a new array\n",
    "print_with_shape(a5)\n",
    "\n",
    "a6 = a5[\n",
    "    [1, 0], \n",
    "    [0, 2],\n",
    "]  # building an one-dimensional array with the elements (1,0) and (3,1) from a1\n",
    "print_with_shape(a6)"
   ]
  },
  {
   "cell_type": "code",
   "execution_count": null,
   "metadata": {},
   "outputs": [],
   "source": [
    "a = np.arange(5)\n",
    "print(a)\n",
    "# a[[0, 1, 2]] = [1, 2, 3]  # we can change specific entries. \n",
    "a[[0, 0, 2]] = [1, 2, 3]  # The assignment with index repetition follows the order\n",
    "print(a)"
   ]
  },
  {
   "cell_type": "markdown",
   "metadata": {},
   "source": [
    "## Boolean Indexing"
   ]
  },
  {
   "cell_type": "markdown",
   "metadata": {},
   "source": [
    "Another way to select rows/columns/elements in an array is boolean indexing. (Remember, Boolean=True/False.)"
   ]
  },
  {
   "cell_type": "code",
   "execution_count": null,
   "metadata": {},
   "outputs": [],
   "source": [
    "a1 = np.arange(5)\n",
    "print_with_shape(a1)\n",
    "print(a1[[False, True, False, False, True]])"
   ]
  },
  {
   "cell_type": "code",
   "execution_count": null,
   "metadata": {},
   "outputs": [],
   "source": [
    "a2 = np.arange(30).reshape(5, 6)\n",
    "print_with_shape(a2)\n",
    "print(a2[:, [True, False, False, False, False, True]])"
   ]
  },
  {
   "cell_type": "markdown",
   "metadata": {},
   "source": [
    "Boolean indexing is particularly useful when you're generating indices using NumPy."
   ]
  },
  {
   "cell_type": "code",
   "execution_count": null,
   "metadata": {},
   "outputs": [],
   "source": [
    "a3 = np.arange(20)\n",
    "print_with_shape(a3)\n",
    "\n",
    "selector = a3 % 2 == 0\n",
    "print_with_shape(selector)\n",
    "\n",
    "a3_selected = a3[selector]\n",
    "print_with_shape(a3_selected)"
   ]
  },
  {
   "cell_type": "code",
   "execution_count": null,
   "metadata": {},
   "outputs": [],
   "source": [
    "a4 = np.arange(30).reshape(5, 6).astype(float)\n",
    "a4[[0, 2, 2], [1, 3, 4]] = np.NaN\n",
    "print_with_shape(a4)"
   ]
  },
  {
   "cell_type": "code",
   "execution_count": null,
   "metadata": {},
   "outputs": [],
   "source": [
    "is_nan = np.isnan(a4)\n",
    "print_with_shape(is_nan)\n",
    "\n",
    "has_nan_row = is_nan.any(axis=1)\n",
    "print_with_shape(has_nan_row)"
   ]
  },
  {
   "cell_type": "code",
   "execution_count": null,
   "metadata": {},
   "outputs": [],
   "source": [
    "print_with_shape(a4[~has_nan_row])"
   ]
  },
  {
   "cell_type": "code",
   "execution_count": null,
   "metadata": {},
   "outputs": [],
   "source": [
    "print_with_shape(a4[~np.isnan(a4).any(axis=1)])"
   ]
  },
  {
   "cell_type": "markdown",
   "metadata": {},
   "source": [
    "Also, we can perform logical operations on boolean arrays."
   ]
  },
  {
   "cell_type": "code",
   "execution_count": null,
   "metadata": {},
   "outputs": [],
   "source": [
    "a1 = np.arange(10)\n",
    "print_with_shape(a1)"
   ]
  },
  {
   "cell_type": "code",
   "execution_count": null,
   "metadata": {},
   "outputs": [],
   "source": [
    "is_even = a1 % 2 == 0\n",
    "is_larger_than_5 = a1 > 5\n",
    "\n",
    "print_with_shape(is_even)\n",
    "print_with_shape(is_larger_than_5)"
   ]
  },
  {
   "cell_type": "code",
   "execution_count": null,
   "metadata": {},
   "outputs": [],
   "source": [
    "# And\n",
    "print_with_shape(is_even & is_larger_than_5)\n",
    "# Or\n",
    "print_with_shape(is_even | is_larger_than_5)\n",
    "\n",
    "# Negation\n",
    "print_with_shape(~ is_larger_than_5)"
   ]
  },
  {
   "cell_type": "markdown",
   "metadata": {},
   "source": [
    "<span style=\"color:red; font-weight:bold\">Exercise: FizzBuzz, sort of</span>\n",
    "\n",
    "Write an function `fizzbuzz(arr)` that will return a slice of the array that only keeps elements if the are divisible by 3 OR by 5, but NOT by 15.\n",
    "\n",
    "Do this using boolean indexing, NOT by creating a new array."
   ]
  },
  {
   "cell_type": "code",
   "execution_count": null,
   "metadata": {},
   "outputs": [],
   "source": [
    "def fizzbuzz(arr):\n",
    "    # SOLUTION STARTS HERE    \n",
    "    selector_3 = arr % 3 == 0\n",
    "    selector_5 = arr % 5 == 0\n",
    "    boolean_index = (selector_3 | selector_5) & (~(selector_3 & selector_5))\n",
    "    # SOLUTION ENDS HERE\n",
    "    \n",
    "    return arr[boolean_index]"
   ]
  },
  {
   "cell_type": "code",
   "execution_count": null,
   "metadata": {},
   "outputs": [],
   "source": [
    "test1 = np.arange(50)\n",
    "out1 = fizzbuzz(test1)\n",
    "assert (out1 == np.array([ 3,  5,  6,  9, 10, 12, 18, 20, 21, 24, 25, 27, 33, 35, 36, 39, 40, 42, 48])).all()\n",
    "\n",
    "# HIDDEN TEST\n",
    "test2 = np.array([3, 3, 5, 5, 15, 15])\n",
    "out2 = fizzbuzz(test2)\n",
    "assert (out2 == np.array([3, 3, 5, 5])).all()"
   ]
  },
  {
   "cell_type": "markdown",
   "metadata": {},
   "source": [
    "## Interacting over Arrays and Operations"
   ]
  },
  {
   "cell_type": "code",
   "execution_count": null,
   "metadata": {},
   "outputs": [],
   "source": [
    "b = np.arange(16).reshape((4,4))\n",
    "print_with_shape(b)\n",
    "\n",
    "for row in b:\n",
    "    print('row: ',row)  # i corresponds to the rows\n",
    "    for elem in row:\n",
    "        print(\"   elem: \", elem)"
   ]
  },
  {
   "cell_type": "code",
   "execution_count": null,
   "metadata": {},
   "outputs": [],
   "source": [
    "a = np.array([[0, 1], [2, 3]], float)\n",
    "b = np.array([2, 3], float)\n",
    "c = np.array([[1, 1], [4, 0]], float)\n",
    "print(a.shape)\n",
    "print(b.shape)\n",
    "print(c.shape)\n",
    "print()\n",
    "print(np.dot(a, b))\n",
    "# Notice that the result is an one-dimensional array"
   ]
  },
  {
   "cell_type": "code",
   "execution_count": null,
   "metadata": {},
   "outputs": [],
   "source": [
    "a @ b"
   ]
  },
  {
   "cell_type": "code",
   "execution_count": null,
   "metadata": {},
   "outputs": [],
   "source": [
    "b2 = b[np.newaxis, :]\n",
    "print_with_shape(b2)\n",
    "print(np.dot(a, b2))   # why does this operation raise an error?"
   ]
  },
  {
   "cell_type": "markdown",
   "metadata": {},
   "source": [
    "## NumPy: Precision"
   ]
  },
  {
   "cell_type": "markdown",
   "metadata": {},
   "source": [
    "Floating point numbers can only store up to a finite amount of precision, so occasionally you encounter weird cases like:"
   ]
  },
  {
   "cell_type": "code",
   "execution_count": null,
   "metadata": {},
   "outputs": [],
   "source": [
    "0.1 + 0.2 == 0.3"
   ]
  },
  {
   "cell_type": "code",
   "execution_count": null,
   "metadata": {},
   "outputs": [],
   "source": [
    "print(0.1 + 0.2)"
   ]
  },
  {
   "cell_type": "code",
   "execution_count": null,
   "metadata": {},
   "outputs": [],
   "source": [
    "np.array([0.1 + 0.2]) == np.array([0.3])"
   ]
  },
  {
   "cell_type": "code",
   "execution_count": null,
   "metadata": {},
   "outputs": [],
   "source": [
    "np.isclose(np.array([0.1 + 0.2]), np.array([0.3]))"
   ]
  },
  {
   "cell_type": "code",
   "execution_count": null,
   "metadata": {},
   "outputs": [],
   "source": [
    "np.isclose(np.array([0.1 + 0.2]), np.array([0.3]), rtol=1e-20, atol=1e-20)"
   ]
  },
  {
   "cell_type": "markdown",
   "metadata": {},
   "source": [
    "## NumPy: Solving linear Systems"
   ]
  },
  {
   "cell_type": "markdown",
   "metadata": {},
   "source": [
    "$$\n",
    "    3x - 2y = 5 \\\\\n",
    "    -3x + 1y = -8\n",
    "$$\n",
    "\n",
    "can be written as\n",
    "\n",
    "$$\n",
    "\\begin{bmatrix}\n",
    "3 & -2 \\\\ -9 & 1\n",
    "\\end{bmatrix} \n",
    "\\begin{bmatrix}\n",
    "x \\\\ y\n",
    "\\end{bmatrix}\n",
    "=\n",
    "\\begin{bmatrix}\n",
    "5 \\\\ -8\n",
    "\\end{bmatrix}\n",
    "$$\n",
    "\n",
    "In which case, we can solve for:\n",
    "\n",
    "$$\n",
    "\\begin{bmatrix}\n",
    "x \\\\ y\n",
    "\\end{bmatrix}\n",
    "=\n",
    "\\begin{bmatrix}\n",
    "3 & -2 \\\\ -9 & 1\n",
    "\\end{bmatrix}^{-1}\n",
    "\\begin{bmatrix}\n",
    "5 \\\\ -8\n",
    "\\end{bmatrix}\n",
    "$$\n"
   ]
  },
  {
   "cell_type": "code",
   "execution_count": null,
   "metadata": {},
   "outputs": [],
   "source": [
    "from numpy.linalg import inv, solve\n",
    "\n",
    "A = np.array([[3, -2], [-3, 1]])\n",
    "b = np.array([5, -9])"
   ]
  },
  {
   "cell_type": "markdown",
   "metadata": {},
   "source": [
    "Solving using matrix inversion:"
   ]
  },
  {
   "cell_type": "code",
   "execution_count": null,
   "metadata": {},
   "outputs": [],
   "source": [
    "solution = inv(A) @ b\n",
    "solution"
   ]
  },
  {
   "cell_type": "code",
   "execution_count": null,
   "metadata": {},
   "outputs": [],
   "source": [
    "A @ solution"
   ]
  },
  {
   "cell_type": "markdown",
   "metadata": {},
   "source": [
    "Solving using... solve:"
   ]
  },
  {
   "cell_type": "code",
   "execution_count": null,
   "metadata": {},
   "outputs": [],
   "source": [
    "solve(A, b)"
   ]
  },
  {
   "cell_type": "markdown",
   "metadata": {},
   "source": [
    "## matplotlib"
   ]
  },
  {
   "cell_type": "markdown",
   "metadata": {},
   "source": [
    "**matplotlib's API is very confusing, and there often feel like there're multiple ways to do the same thing. It is normal to feel this way, and that feeling will never go away. Focus on mastering one small portion of the API and googling any time you need to do something different**\n",
    "\n",
    "Lesson 1: \n",
    "\n",
    "* `Figures` contain `axes`\n",
    "* Using `plt` will use/create the current default figure/axis"
   ]
  },
  {
   "cell_type": "code",
   "execution_count": null,
   "metadata": {},
   "outputs": [],
   "source": [
    "import numpy as np\n",
    "import matplotlib.pyplot as plt\n",
    "%matplotlib inline"
   ]
  },
  {
   "cell_type": "code",
   "execution_count": null,
   "metadata": {},
   "outputs": [],
   "source": [
    "x = np.linspace(0,1,100)\n",
    "y = x**2\n",
    "plt.plot(x,y);"
   ]
  },
  {
   "cell_type": "code",
   "execution_count": null,
   "metadata": {},
   "outputs": [],
   "source": [
    "plt.plot(x, y, lw=1, color='r', linestyle='-', alpha=1);\n",
    "plt.title(\"Red!\")"
   ]
  },
  {
   "cell_type": "code",
   "execution_count": null,
   "metadata": {},
   "outputs": [],
   "source": [
    "# Plotting with an explicit \"axis\"\n",
    "fig = plt.figure(figsize=(12, 3))\n",
    "ax = fig.gca()\n",
    "ax.plot(x, y, lw=1, color='r', linestyle='-', alpha=1);\n",
    "print(ax)"
   ]
  },
  {
   "cell_type": "code",
   "execution_count": null,
   "metadata": {},
   "outputs": [],
   "source": [
    "# Modifying the figure after\n",
    "plt.plot(x, y, lw=1, color='r', linestyle='-', alpha=1);\n",
    "fig = plt.gcf()\n",
    "fig.set_figwidth(12)\n",
    "fig.set_figheight(3)"
   ]
  },
  {
   "cell_type": "markdown",
   "metadata": {},
   "source": [
    "Why do we have a notion of \"figure\" and \"axes\"? Becuase a figure can contain multiple axes:"
   ]
  },
  {
   "cell_type": "code",
   "execution_count": null,
   "metadata": {},
   "outputs": [],
   "source": [
    "fig, axes = plt.subplots(3, 2, figsize=(8, 4))\n",
    "print(axes.shape)"
   ]
  },
  {
   "cell_type": "code",
   "execution_count": null,
   "metadata": {},
   "outputs": [],
   "source": [
    "fig, axes = plt.subplots(1, 2, figsize=(8, 4))\n",
    "axes[0].plot(x, y, color=\"red\")\n",
    "axes[1].plot(x, -y, color=\"blue\")"
   ]
  }
 ],
 "metadata": {
  "kernelspec": {
   "display_name": "Python 3",
   "language": "python",
   "name": "python3"
  },
  "language_info": {
   "codemirror_mode": {
    "name": "ipython",
    "version": 3
   },
   "file_extension": ".py",
   "mimetype": "text/x-python",
   "name": "python",
   "nbconvert_exporter": "python",
   "pygments_lexer": "ipython3",
   "version": "3.7.2"
  }
 },
 "nbformat": 4,
 "nbformat_minor": 2
}
