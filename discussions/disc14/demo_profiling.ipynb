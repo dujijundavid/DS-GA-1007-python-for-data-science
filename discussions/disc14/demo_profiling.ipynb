{
 "cells": [
  {
   "cell_type": "markdown",
   "metadata": {},
   "source": [
    "## Membership Testing"
   ]
  },
  {
   "cell_type": "code",
   "execution_count": 1,
   "metadata": {},
   "outputs": [],
   "source": [
    "import numpy as np"
   ]
  },
  {
   "cell_type": "markdown",
   "metadata": {},
   "source": [
    "Lists are implemented as variable-length arrays."
   ]
  },
  {
   "cell_type": "code",
   "execution_count": 2,
   "metadata": {},
   "outputs": [
    {
     "name": "stdout",
     "output_type": "stream",
     "text": [
      "in list\n",
      "46.9 ns ± 2.71 ns per loop (mean ± std. dev. of 7 runs, 100 loops each)\n",
      "267 µs ± 1.28 µs per loop (mean ± std. dev. of 7 runs, 100 loops each)\n"
     ]
    }
   ],
   "source": [
    "letters = 'abcdefghijklmnopqrstuvwxyz'\n",
    "\n",
    "letters_list = [x+y+z for x in letters for y in letters for z in letters]\n",
    "# Time how long it takes to find ‘aaa’ and 'zzz'in letters_list.\n",
    "\n",
    "print('in list')\n",
    "%timeit -n 100 'aaa' in letters_list\n",
    "%timeit -n 100 'zzz' in letters_list"
   ]
  },
  {
   "cell_type": "markdown",
   "metadata": {},
   "source": [
    "Dictionaries are implemented by Hashing the key and storing the value"
   ]
  },
  {
   "cell_type": "markdown",
   "metadata": {},
   "source": [
    "_Dicts_ and _sets_ are fast when looking up elements. Therefore, if you need to check membership very often, use _dict_ or _set_ rather than _list_ or _array_.\n",
    "\n",
    "Be mindful of the datastructures you use as it can have a big impact on performance."
   ]
  },
  {
   "cell_type": "code",
   "execution_count": 3,
   "metadata": {},
   "outputs": [
    {
     "name": "stdout",
     "output_type": "stream",
     "text": [
      "in dict\n",
      "44.2 ns ± 1.65 ns per loop (mean ± std. dev. of 7 runs, 100 loops each)\n",
      "43.9 ns ± 1.85 ns per loop (mean ± std. dev. of 7 runs, 100 loops each)\n"
     ]
    }
   ],
   "source": [
    "letters_dict = {x: x for x in letters_list}\n",
    "# Time how long it takes to find ‘aaa’ and 'zzz'in letters_dict.\n",
    "\n",
    "print('in dict')\n",
    "%timeit -n 100 'aaa' in letters_dict\n",
    "%timeit -n 100 'zzz' in letters_dict"
   ]
  },
  {
   "cell_type": "markdown",
   "metadata": {},
   "source": [
    "NumPy array membership testing:"
   ]
  },
  {
   "cell_type": "code",
   "execution_count": 4,
   "metadata": {},
   "outputs": [
    {
     "name": "stdout",
     "output_type": "stream",
     "text": [
      "[[0.19234096 0.17246625 0.17903226]\n",
      " [0.91333091 0.52795107 0.4519976 ]\n",
      " [0.78328263 0.5111211  0.12368523]]\n",
      "Locations Found:  (array([1, 1, 2, 2]), array([0, 1, 0, 1]))\n"
     ]
    }
   ],
   "source": [
    "x = np.random.random((3,3))\n",
    "print(x)\n",
    "print(\"Locations Found: \", np.where( x > 0.5 ))"
   ]
  },
  {
   "cell_type": "code",
   "execution_count": 5,
   "metadata": {},
   "outputs": [
    {
     "name": "stdout",
     "output_type": "stream",
     "text": [
      "[[0 1 2]\n",
      " [3 4 5]\n",
      " [6 7 8]]\n"
     ]
    }
   ],
   "source": [
    "searchkeys = [0, 2, 5]\n",
    "y = np.arange(9).reshape(3,3)\n",
    "print(y)"
   ]
  },
  {
   "cell_type": "code",
   "execution_count": 6,
   "metadata": {},
   "outputs": [
    {
     "name": "stdout",
     "output_type": "stream",
     "text": [
      "[[ True False  True]\n",
      " [False False  True]\n",
      " [False False False]]\n",
      "(array([0, 0, 1]), array([0, 2, 2]))\n"
     ]
    }
   ],
   "source": [
    "ix = np.isin(y, searchkeys)\n",
    "print(ix)\n",
    "print(np.where(ix))"
   ]
  },
  {
   "cell_type": "markdown",
   "metadata": {},
   "source": [
    "Tuples membership testing:"
   ]
  },
  {
   "cell_type": "code",
   "execution_count": 7,
   "metadata": {},
   "outputs": [
    {
     "name": "stdout",
     "output_type": "stream",
     "text": [
      "True\n"
     ]
    }
   ],
   "source": [
    "a = (1,2,3)\n",
    "print(3 in a)\n",
    "\n",
    "# usually very quick"
   ]
  },
  {
   "cell_type": "markdown",
   "metadata": {},
   "source": [
    "----\n",
    "## String Concatenation"
   ]
  },
  {
   "cell_type": "markdown",
   "metadata": {},
   "source": [
    "Strings in Python are immutable, so we can’t do something like, “change all the ‘a’s to ‘b’s” in any given string. Instead, you have to create a new string with the desired properties. This continual copying can lead to significant inefficiencies."
   ]
  },
  {
   "cell_type": "code",
   "execution_count": 8,
   "metadata": {},
   "outputs": [
    {
     "name": "stdout",
     "output_type": "stream",
     "text": [
      "3.65 µs ± 23.2 ns per loop (mean ± std. dev. of 7 runs, 100 loops each)\n"
     ]
    }
   ],
   "source": [
    "%%timeit -n 100\n",
    "def make_string(a_list):\n",
    "    mystring = ''\n",
    "    for x in a_list:\n",
    "        mystring += x + ' '\n",
    "    return mystring\n",
    "\n",
    "mylist = [x for x in 'abcdefghijklmnopqrstuvwxyz']\n",
    "\n",
    "my_str = make_string(mylist)"
   ]
  },
  {
   "cell_type": "code",
   "execution_count": 9,
   "metadata": {},
   "outputs": [
    {
     "name": "stdout",
     "output_type": "stream",
     "text": [
      "1.12 µs ± 31 ns per loop (mean ± std. dev. of 7 runs, 100 loops each)\n"
     ]
    }
   ],
   "source": [
    "%%timeit -n 100\n",
    "\n",
    "mylist = [x for x in 'abcdefghijklmnopqrstuvwxyz']\n",
    "\n",
    "my_str = ' '.join(mylist)"
   ]
  },
  {
   "cell_type": "markdown",
   "metadata": {},
   "source": [
    "----\n",
    "## Optimizing a calculator\n",
    "Considere the code below that implements a simple calculator. \n",
    "\n",
    "- Time the code to identify which functions are taking longer to run\n",
    "- Optimize the code to speedup the most critical funcions\n",
    "- Compute the speedup ratio as $\\frac{T_{oringial}}{T_{optimized}}$"
   ]
  },
  {
   "cell_type": "code",
   "execution_count": 10,
   "metadata": {},
   "outputs": [
    {
     "name": "stdout",
     "output_type": "stream",
     "text": [
      "1.64 s ± 6 ms per loop (mean ± std. dev. of 7 runs, 1 loop each)\n"
     ]
    }
   ],
   "source": [
    "# -----------------------------------------------------------------------------\n",
    "# calculator.py\n",
    "# ----------------------------------------------------------------------------- \n",
    "import numpy as np\n",
    "\n",
    "def add(x,y):\n",
    "    \"\"\"\n",
    "    Add two arrays using a Python loop.\n",
    "    x and y must be two-dimensional arrays of the same shape.\n",
    "    \"\"\"\n",
    "    m,n = x.shape\n",
    "    z = np.zeros((m,n))\n",
    "    for i in range(m):\n",
    "        for j in range(n):\n",
    "            z[i,j] = x[i,j] + y[i,j]\n",
    "    return z\n",
    "\n",
    "\n",
    "def multiply(x,y):\n",
    "    \"\"\"\n",
    "    Multiply two arrays using a Python loop.\n",
    "    x and y must be two-dimensional arrays of the same shape.\n",
    "    \"\"\"\n",
    "    m,n = x.shape\n",
    "    z = np.zeros((m,n))\n",
    "    for i in range(m):\n",
    "        for j in range(n):\n",
    "            z[i,j] = x[i,j] * y[i,j]\n",
    "    return x*y # np.multiply(x,y) or np.dot(x,y)\n",
    "\n",
    "def sqrt(x):\n",
    "    \"\"\"\n",
    "    Take the square root of the elements of an arrays using a Python loop.\n",
    "    \"\"\"\n",
    "    from math import sqrt\n",
    "    m,n = x.shape\n",
    "    z = np.zeros((m,n))\n",
    "    for i in range(m):\n",
    "        for j in range(n):\n",
    "            z[i,j] = sqrt(x[i,j])\n",
    "    return z\n",
    "\n",
    "\n",
    "def hypotenuse(x,y):\n",
    "    \"\"\"\n",
    "    Return sqrt(x**2 + y**2) for two arrays, a and b.\n",
    "    x and y must be two-dimensional arrays of the same shape.\n",
    "    \"\"\"\n",
    "    xx = multiply(x,x)\n",
    "    yy = multiply(y,y)\n",
    "    zz = add(xx, yy)\n",
    "    return sqrt(zz)\n",
    "\n",
    "M = 1000\n",
    "N = 1000\n",
    "\n",
    "A = np.random.random((M,N))\n",
    "B = np.random.random((M,N))\n",
    "\n",
    "%timeit -n 1 hypotenuse(A,B)"
   ]
  },
  {
   "cell_type": "code",
   "execution_count": 11,
   "metadata": {},
   "outputs": [
    {
     "name": "stdout",
     "output_type": "stream",
     "text": [
      "6.54 ms ± 1.78 ms per loop (mean ± std. dev. of 7 runs, 1 loop each)\n"
     ]
    }
   ],
   "source": [
    "# -----------------------------------------------------------------------------\n",
    "# calculator.py\n",
    "# ----------------------------------------------------------------------------- \n",
    "import numpy as np\n",
    "\n",
    "def mod_add(x,y):\n",
    "    \"\"\"\n",
    "    Add two arrays using a Python loop.\n",
    "    x and y must be two-dimensional arrays of the same shape.\n",
    "    \"\"\"\n",
    "    return np.add(x,y)\n",
    "\n",
    "\n",
    "def mod_multiply(x,y):\n",
    "    \"\"\"\n",
    "    Multiply two arrays using a Python loop.\n",
    "    x and y must be two-dimensional arrays of the same shape.\n",
    "    \"\"\"\n",
    "    return np.multiply(x,y)\n",
    "\n",
    "def mod_sqrt(x):\n",
    "    \"\"\"\n",
    "    Take the square root of the elements of an arrays using a Python loop.\n",
    "    \"\"\"\n",
    "    return np.sqrt(x)\n",
    "\n",
    "\n",
    "def mod_hypotenuse(x,y):\n",
    "    \"\"\"\n",
    "    Return sqrt(x**2 + y**2) for two arrays, a and b.\n",
    "    x and y must be two-dimensional arrays of the same shape.\n",
    "    \"\"\"\n",
    "    xx = mod_multiply(x,x)\n",
    "    yy = mod_multiply(y,y)\n",
    "    zz = mod_add(xx, yy)\n",
    "    return mod_sqrt(zz)\n",
    "\n",
    "# M = 1000\n",
    "# N = 1000\n",
    "\n",
    "mod_A = np.random.random((M,N))\n",
    "mod_B = np.random.random((M,N))\n",
    "\n",
    "%timeit -n 1 mod_hypotenuse(A,B)"
   ]
  },
  {
   "cell_type": "code",
   "execution_count": null,
   "metadata": {},
   "outputs": [],
   "source": []
  }
 ],
 "metadata": {
  "kernelspec": {
   "display_name": "Python 3",
   "language": "python",
   "name": "python3"
  },
  "language_info": {
   "codemirror_mode": {
    "name": "ipython",
    "version": 3
   },
   "file_extension": ".py",
   "mimetype": "text/x-python",
   "name": "python",
   "nbconvert_exporter": "python",
   "pygments_lexer": "ipython3",
   "version": "3.7.0"
  }
 },
 "nbformat": 4,
 "nbformat_minor": 4
}
