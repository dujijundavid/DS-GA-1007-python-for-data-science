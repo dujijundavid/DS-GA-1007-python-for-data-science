{
 "cells": [
  {
   "cell_type": "markdown",
   "metadata": {},
   "source": [
    "### glob-ing"
   ]
  },
  {
   "cell_type": "markdown",
   "metadata": {},
   "source": [
    "**Pattern Matching**\n",
    "\n",
    "Indicate match or not a match..."
   ]
  },
  {
   "cell_type": "markdown",
   "metadata": {},
   "source": [
    "Law* : Law, La, Lawyer, aw ==> Answer: matches Law and Lawyer (* matches anything any number of times)"
   ]
  },
  {
   "cell_type": "markdown",
   "metadata": {},
   "source": [
    "\\*Law\\* : Law, La, Lawyer, aw ==> Answer: matches Law and Lawyer (* matches anything any number of times)"
   ]
  },
  {
   "cell_type": "markdown",
   "metadata": {},
   "source": [
    "?at : Bat, at, bat ==> Answer: matches Bat, at and bat (? matches any single character in that position in the name - including nothing)"
   ]
  },
  {
   "cell_type": "markdown",
   "metadata": {},
   "source": [
    "[CB]at : Cat, cat, bat, Bat ==> Answer: matches Cat and Bat (starts with C or B and at)"
   ]
  },
  {
   "cell_type": "markdown",
   "metadata": {},
   "source": [
    "Letter[0-9] : Letter0, Letters, Letter10, Letter0 ==> Answer: matches Letter0 (Letter and any one number)"
   ]
  },
  {
   "cell_type": "markdown",
   "metadata": {},
   "source": [
    "[!C]at : Cat, cat, bat, Bat ==> Answer: matches cat, bat, and Bat (everything except Cat)"
   ]
  },
  {
   "cell_type": "code",
   "execution_count": 26,
   "metadata": {},
   "outputs": [
    {
     "name": "stdout",
     "output_type": "stream",
     "text": [
      "demo_profiling.ipynb  images   testing1  testing3  testing5\r\n",
      "exam_practice.ipynb   testing  testing2  testing4  Topics.pdf\r\n"
     ]
    }
   ],
   "source": [
    "import glob\n",
    "\n",
    "!ls"
   ]
  },
  {
   "cell_type": "code",
   "execution_count": 27,
   "metadata": {},
   "outputs": [],
   "source": [
    "#!mkdir testing1\n",
    "!touch testing1/aw\n",
    "!touch testing1/La\n",
    "!touch testing1/Law\n",
    "!touch testing1/Lawyer"
   ]
  },
  {
   "cell_type": "code",
   "execution_count": 28,
   "metadata": {},
   "outputs": [
    {
     "name": "stdout",
     "output_type": "stream",
     "text": [
      "aw  La\tLaw  Lawyer\r\n"
     ]
    }
   ],
   "source": [
    "!ls testing"
   ]
  },
  {
   "cell_type": "code",
   "execution_count": 29,
   "metadata": {},
   "outputs": [
    {
     "data": {
      "text/plain": [
       "['testing/Lawyer', 'testing/Law']"
      ]
     },
     "execution_count": 29,
     "metadata": {},
     "output_type": "execute_result"
    }
   ],
   "source": [
    "glob.glob('testing/Law*')"
   ]
  },
  {
   "cell_type": "code",
   "execution_count": 30,
   "metadata": {},
   "outputs": [
    {
     "data": {
      "text/plain": [
       "['testing/Lawyer', 'testing/Law']"
      ]
     },
     "execution_count": 30,
     "metadata": {},
     "output_type": "execute_result"
    }
   ],
   "source": [
    "glob.glob('testing/*Law*')"
   ]
  },
  {
   "cell_type": "code",
   "execution_count": 31,
   "metadata": {},
   "outputs": [
    {
     "name": "stdout",
     "output_type": "stream",
     "text": [
      "at  bat  Bat\r\n"
     ]
    }
   ],
   "source": [
    "#!mkdir testing2\n",
    "!touch testing2/Bat\n",
    "!touch testing2/at\n",
    "!touch testing2/bat\n",
    "\n",
    "!ls testing2"
   ]
  },
  {
   "cell_type": "code",
   "execution_count": 32,
   "metadata": {},
   "outputs": [
    {
     "data": {
      "text/plain": [
       "['testing2/Bat', 'testing2/bat']"
      ]
     },
     "execution_count": 32,
     "metadata": {},
     "output_type": "execute_result"
    }
   ],
   "source": [
    "glob.glob('testing2/?at')"
   ]
  },
  {
   "cell_type": "code",
   "execution_count": 33,
   "metadata": {},
   "outputs": [
    {
     "data": {
      "text/plain": [
       "['testing3/Bat', 'testing3/Cat']"
      ]
     },
     "execution_count": 33,
     "metadata": {},
     "output_type": "execute_result"
    }
   ],
   "source": [
    "#!mkdir testing3\n",
    "!touch testing3/Cat\n",
    "!touch testing3/cat\n",
    "!touch testing3/bat\n",
    "!touch testing3/Bat\n",
    "glob.glob('testing3/[CB]at')"
   ]
  },
  {
   "cell_type": "code",
   "execution_count": 34,
   "metadata": {},
   "outputs": [
    {
     "data": {
      "text/plain": [
       "['testing4/Letter0']"
      ]
     },
     "execution_count": 34,
     "metadata": {},
     "output_type": "execute_result"
    }
   ],
   "source": [
    "#!mkdir testing4\n",
    "!touch testing4/Letter0\n",
    "!touch testing4/Letters\n",
    "!touch testing4/Letter10\n",
    "!touch testing4/Letter0\n",
    "glob.glob('testing4/Letter[0-9]')"
   ]
  },
  {
   "cell_type": "code",
   "execution_count": 35,
   "metadata": {},
   "outputs": [
    {
     "data": {
      "text/plain": [
       "['testing5/Bat', 'testing5/cat', 'testing5/bat']"
      ]
     },
     "execution_count": 35,
     "metadata": {},
     "output_type": "execute_result"
    }
   ],
   "source": [
    "#!mkdir testing5\n",
    "!touch testing5/Cat\n",
    "!touch testing5/cat\n",
    "!touch testing5/bat\n",
    "!touch testing5/Bat\n",
    "glob.glob('testing5/[!C]at')"
   ]
  },
  {
   "cell_type": "markdown",
   "metadata": {},
   "source": [
    "### regular expressions"
   ]
  },
  {
   "cell_type": "markdown",
   "metadata": {},
   "source": [
    "**Pattern Matching**\n",
    "\n",
    "For the following parts, select all the strings that fully match the regular expression:\n",
    "\n",
    "(1) `re.findall(r\"\\..*\", \"VIXX-Error.mp3.bak\")`\n",
    "\n",
    " - [] \n",
    " - [’bak’] \n",
    " - [’.bak’] \n",
    " - [’.mp3’, ’.bak’]  \n",
    " - [’.mp3.bak’] \n",
    " - [’VIXX-Error.mp3.bak’] \n",
    "\n",
    "(2) `re.findall(r\"[cat|dog]\", \"bobcat\")`\n",
    "\n",
    " - [] \n",
    " - [’cat’] \n",
    " - [’c’, ’a’, ’t’] \n",
    " - [’o’, ’cat’] \n",
    " - [’o’, ’c’, ’a’, ’t’] \n",
    " - None of the above\n",
    " \n",
    "(3) `re.findall(r\"a?p*[le]$\", \"apple\")`\n",
    "\n",
    " - []\n",
    " - [’e’] \n",
    " - [’appl’] \n",
    " - [’appe’] \n",
    " - [’a’, ’pp’, ’l’, ’e’] \n",
    " - None of the above\n",
    " \n",
    "For the following parts, select all the strings that fully match the regular expression:\n",
    "\n",
    "(1) `ab.*A`\n",
    "\n",
    "A. abAbA\n",
    "\n",
    "B. abA\n",
    "\n",
    "C. ab.A\n",
    "\n",
    "D. ab.\n",
    "\n",
    "E. None of the above strings match.\n",
    "\n",
    "(2) `ab.*?A`\n",
    "\n",
    "A. abAbA\n",
    "\n",
    "B. abA\n",
    "\n",
    "C. ab.A\n",
    "\n",
    "D. ab.\n",
    "\n",
    "E. None of the above strings match\n",
    "\n",
    "(3) `to(y)+(boat)*`\n",
    "\n",
    "A. toy\n",
    "\n",
    "B. toy(boat)\n",
    "\n",
    "C. toyboat\n",
    "\n",
    "D. toyyyyboatboat\n",
    "\n",
    "E. None of the above."
   ]
  },
  {
   "cell_type": "code",
   "execution_count": 47,
   "metadata": {},
   "outputs": [
    {
     "name": "stdout",
     "output_type": "stream",
     "text": [
      "[]\n",
      "[]\n",
      "['.bak']\n",
      "[]\n",
      "['.mpc.bak']\n",
      "['.mp3.bak']\n"
     ]
    }
   ],
   "source": [
    "import re\n",
    "ls=['','bak','.bak','mp3','.mpc.bak','VIXX-Error.mp3.bak']\n",
    "for x in ls: \n",
    "    print(re.findall(r\"\\..*\", x))"
   ]
  },
  {
   "cell_type": "code",
   "execution_count": 46,
   "metadata": {},
   "outputs": [
    {
     "name": "stdout",
     "output_type": "stream",
     "text": [
      "[]\n",
      "['c', 'a', 't']\n",
      "['c']\n",
      "['a']\n",
      "['t']\n",
      "['c', 'a', 't']\n"
     ]
    }
   ],
   "source": [
    "import re\n",
    "ls=['','cat','c','a','t','cat']\n",
    "for x in ls: \n",
    "    print(re.findall(r\"[cat|dog]\", x))"
   ]
  },
  {
   "cell_type": "code",
   "execution_count": 54,
   "metadata": {},
   "outputs": [
    {
     "name": "stdout",
     "output_type": "stream",
     "text": [
      "['e']\n",
      "['appl']\n",
      "['e']\n",
      "['appe']\n"
     ]
    }
   ],
   "source": [
    "ls=['e', 'appl','apple','appe']\n",
    "for x in ls: \n",
    "    print(re.findall(r\"a?p*[le]$\", x))"
   ]
  },
  {
   "cell_type": "markdown",
   "metadata": {},
   "source": [
    "### file formats"
   ]
  },
  {
   "cell_type": "markdown",
   "metadata": {},
   "source": [
    "**Choosing between File Formats**\n",
    "\n",
    "Which data formats would be well suited for nested data? Select all that apply.\n",
    " - *.csv\n",
    " - *.txt \n",
    " - *.py\n",
    " - *.json \n",
    " - *.tsv \n",
    " - None of\n",
    "the above."
   ]
  },
  {
   "cell_type": "markdown",
   "metadata": {},
   "source": [
    "**Diet**\n",
    "Consider the following dataset\n",
    "\n",
    "```\n",
    "id,diet,pulse,time,kind\n",
    "1,low fat,85,1 min,rest\n",
    "1,low fat,85,15 min,rest\n",
    "1,low fat,88,30 min,rest\n",
    "2,low fat,90,1 min,rest\n",
    "2,low fat,92,15 min,rest\n",
    "2,low fat,93,30 min,rest\n",
    "3,low fat,97,1 min,rest\n",
    "3,low fat,97,15 min,rest\n",
    "```\n",
    "$1$ Which of the following best describes the format of this file?\n",
    "\n",
    " - Raw text\n",
    " - Tab Separated Values (TSV)\n",
    " - Comma Separated Values (CSV)\n",
    " - JSON\n",
    "\n",
    "$2$ Select all the true statements.\n",
    " - From the data available, the id seems to be a primary key.\n",
    " - There appear to be no missing values.\n",
    " - There are nested records."
   ]
  },
  {
   "cell_type": "markdown",
   "metadata": {},
   "source": [
    "**JSON**\n",
    "\n",
    "Use the following JSON file classes.json printed below:\n",
    "\n",
    "```\n",
    "1 [{\n",
    "2 \"Prof\": \"Smith\",\n",
    "3 \"Classes\": [ \"DSGA1000\",\n",
    "4 {\n",
    "5 \"Name\": \"Digital Humanities\",\n",
    "6 \"Year\": [2017, 2018]\n",
    "7 }],\n",
    "8 \"Tenured\": false\n",
    "9 },\n",
    "10 {\n",
    "11 \"Prof\": \"Johnson\",\n",
    "12 \"Classes\": [\"Stats133\", \"Stat153\", \"Stat198\", \"CS102\"],\n",
    "13 \"Tenured\": true\n",
    "14 }]\n",
    "```\n",
    "\n",
    "$1$ Select all the true statements.\n",
    "\n",
    " - This JSON file is correctly formatted.\n",
    " - The Classes list defined on line 3 contains strings and dictionaries which is\n",
    "not permitted.\n",
    " - The dates 2017 and 2018 on lines 6 should be quoted.\n",
    " - the dictionary keys (e.g., \"Prof\", \"Classes\") should not be quoted.\n",
    " - None of the above statements are true."
   ]
  },
  {
   "cell_type": "code",
   "execution_count": 34,
   "metadata": {},
   "outputs": [],
   "source": [
    "import json\n",
    "\n",
    "s=\"\"\"[{\n",
    "\"Prof\": \"Smith\",\n",
    "\"Classes\": [ \"DSGA1000\",\n",
    "{\n",
    "\"Name\": \"Digital Humanities\",\n",
    "\"Year\": [2017, 2018]\n",
    "}],\n",
    "\"Tenured\": false\n",
    "},\n",
    "{\n",
    "\"Prof\": \"Johnson\",\n",
    "\"Classes\": [\"Stats133\", \"Stat153\", \"Stat198\", \"CS102\"],\n",
    "\"Tenured\": true\n",
    "}]\n",
    "\"\"\"\n",
    "\n",
    "data = json.loads(s)"
   ]
  },
  {
   "cell_type": "code",
   "execution_count": 16,
   "metadata": {},
   "outputs": [
    {
     "data": {
      "text/plain": [
       "'{\"1\": \"one\"}'"
      ]
     },
     "execution_count": 16,
     "metadata": {},
     "output_type": "execute_result"
    }
   ],
   "source": [
    "# only strings can be keys: \n",
    "\n",
    "json.dumps({1:'one'})"
   ]
  },
  {
   "cell_type": "markdown",
   "metadata": {},
   "source": [
    "$2$ What would be the output of the following block of code:\n",
    "\n",
    "```python\n",
    "1 import json\n",
    "2 with open(\"classes.json\", \"r\") as f:\n",
    "3      x = json.load(f)\n",
    "4      len(x[0][\"Classes\"][0])\n",
    "```\n",
    " - 1 \n",
    " - 2 \n",
    " - 4\n",
    " - 5 \n",
    " - None of the above."
   ]
  },
  {
   "cell_type": "code",
   "execution_count": null,
   "metadata": {},
   "outputs": [],
   "source": [
    "import json\n",
    "with open(\"classes.json\", \"r\") as f:\n",
    "    x = json.load(f)\n",
    "    len(x[0][\"Classes\"][0])"
   ]
  },
  {
   "cell_type": "code",
   "execution_count": 36,
   "metadata": {},
   "outputs": [
    {
     "data": {
      "text/plain": [
       "8"
      ]
     },
     "execution_count": 36,
     "metadata": {},
     "output_type": "execute_result"
    }
   ],
   "source": [
    "len(data[0][\"Classes\"][0])"
   ]
  },
  {
   "cell_type": "markdown",
   "metadata": {},
   "source": [
    "### arrays\n",
    "\n",
    "**Checking equality**"
   ]
  },
  {
   "cell_type": "markdown",
   "metadata": {},
   "source": [
    "$1$ Consider two random array A and B\n",
    "```python\n",
    "A = np.random.randint(0,2,5)\n",
    "B = np.random.randint(0,2,5)\n",
    "```\n",
    "Check if they are equal"
   ]
  },
  {
   "cell_type": "code",
   "execution_count": 2,
   "metadata": {},
   "outputs": [],
   "source": [
    "import numpy as np\n",
    "A = np.random.randint(0,2,5)\n",
    "B = np.random.randint(0,2,5)"
   ]
  },
  {
   "cell_type": "code",
   "execution_count": 4,
   "metadata": {},
   "outputs": [
    {
     "data": {
      "text/plain": [
       "array([ True, False,  True,  True,  True])"
      ]
     },
     "execution_count": 4,
     "metadata": {},
     "output_type": "execute_result"
    }
   ],
   "source": [
    "# dir(np)\n",
    "# np.equal?\n",
    "# dir(A)\n",
    "\n",
    "np.equal(A,B)\n",
    "A==B"
   ]
  },
  {
   "cell_type": "markdown",
   "metadata": {},
   "source": [
    "$2$ Consider the following array `Z` and number `v`\n",
    "\n",
    "```python\n",
    "Z = np.arange(100)\n",
    "v = np.random.uniform(0,100)\n",
    "```\n",
    "\n",
    "How can we find the index of `Z` with entry closest to the number `v`?"
   ]
  },
  {
   "cell_type": "code",
   "execution_count": 9,
   "metadata": {},
   "outputs": [],
   "source": [
    "np.random.seed(1)\n",
    "Z = np.arange(100)\n",
    "v = np.random.uniform(0,100)"
   ]
  },
  {
   "cell_type": "code",
   "execution_count": 10,
   "metadata": {},
   "outputs": [
    {
     "name": "stdout",
     "output_type": "stream",
     "text": [
      "[41.70220047 40.70220047 39.70220047 38.70220047 37.70220047 36.70220047\n",
      " 35.70220047 34.70220047 33.70220047 32.70220047 31.70220047 30.70220047\n",
      " 29.70220047 28.70220047 27.70220047 26.70220047 25.70220047 24.70220047\n",
      " 23.70220047 22.70220047 21.70220047 20.70220047 19.70220047 18.70220047\n",
      " 17.70220047 16.70220047 15.70220047 14.70220047 13.70220047 12.70220047\n",
      " 11.70220047 10.70220047  9.70220047  8.70220047  7.70220047  6.70220047\n",
      "  5.70220047  4.70220047  3.70220047  2.70220047  1.70220047  0.70220047\n",
      "  0.29779953  1.29779953  2.29779953  3.29779953  4.29779953  5.29779953\n",
      "  6.29779953  7.29779953  8.29779953  9.29779953 10.29779953 11.29779953\n",
      " 12.29779953 13.29779953 14.29779953 15.29779953 16.29779953 17.29779953\n",
      " 18.29779953 19.29779953 20.29779953 21.29779953 22.29779953 23.29779953\n",
      " 24.29779953 25.29779953 26.29779953 27.29779953 28.29779953 29.29779953\n",
      " 30.29779953 31.29779953 32.29779953 33.29779953 34.29779953 35.29779953\n",
      " 36.29779953 37.29779953 38.29779953 39.29779953 40.29779953 41.29779953\n",
      " 42.29779953 43.29779953 44.29779953 45.29779953 46.29779953 47.29779953\n",
      " 48.29779953 49.29779953 50.29779953 51.29779953 52.29779953 53.29779953\n",
      " 54.29779953 55.29779953 56.29779953 57.29779953]\n"
     ]
    },
    {
     "data": {
      "text/plain": [
       "42"
      ]
     },
     "execution_count": 10,
     "metadata": {},
     "output_type": "execute_result"
    }
   ],
   "source": [
    "print(np.abs(Z-v))\n",
    "np.argmin(np.abs(Z-v))"
   ]
  },
  {
   "cell_type": "markdown",
   "metadata": {},
   "source": [
    "### tables"
   ]
  },
  {
   "cell_type": "markdown",
   "metadata": {},
   "source": [
    "**pandas**"
   ]
  },
  {
   "cell_type": "markdown",
   "metadata": {},
   "source": [
    "$1$ If a pandas DataFrame `df` has 10 columns, then `df.iloc[:, 0:5]` will return\n",
    "a DataFrame with 5 columns.\n",
    "\n",
    " - True \n",
    " - False\n",
    " \n",
    "$2$ Assuming that `len(df1) == 100` and `len(df2) == 100` are both true,\n",
    "then `df1.merge(df2, how=’outer’)` produces at most 200 rows.\n",
    "\n",
    " - True\n",
    " - False\n",
    " \n",
    "$3$ The return type of the `pandas.DataFrame.groupby` function (e.g. after calling apply) can either be\n",
    "a DataFrame or a Series object.\n",
    "\n",
    " - True\n",
    " - False"
   ]
  },
  {
   "cell_type": "code",
   "execution_count": 33,
   "metadata": {},
   "outputs": [
    {
     "data": {
      "text/plain": [
       "(10, 5)"
      ]
     },
     "execution_count": 33,
     "metadata": {},
     "output_type": "execute_result"
    }
   ],
   "source": [
    "import pandas as pd\n",
    "df = pd.DataFrame(data = np.random.uniform(0,100, size=(10, 10)), columns = range(1,11))\n",
    "df.iloc[:, 0:5].shape \n",
    "# True"
   ]
  },
  {
   "cell_type": "code",
   "execution_count": 35,
   "metadata": {},
   "outputs": [
    {
     "data": {
      "text/html": [
       "<div>\n",
       "<style scoped>\n",
       "    .dataframe tbody tr th:only-of-type {\n",
       "        vertical-align: middle;\n",
       "    }\n",
       "\n",
       "    .dataframe tbody tr th {\n",
       "        vertical-align: top;\n",
       "    }\n",
       "\n",
       "    .dataframe thead th {\n",
       "        text-align: right;\n",
       "    }\n",
       "</style>\n",
       "<table border=\"1\" class=\"dataframe\">\n",
       "  <thead>\n",
       "    <tr style=\"text-align: right;\">\n",
       "      <th></th>\n",
       "      <th>1</th>\n",
       "      <th>2</th>\n",
       "      <th>3</th>\n",
       "      <th>4</th>\n",
       "      <th>5</th>\n",
       "      <th>6</th>\n",
       "      <th>7</th>\n",
       "      <th>8</th>\n",
       "      <th>9</th>\n",
       "      <th>10</th>\n",
       "    </tr>\n",
       "  </thead>\n",
       "  <tbody>\n",
       "    <tr>\n",
       "      <td>0</td>\n",
       "      <td>171.829760</td>\n",
       "      <td>11.259893</td>\n",
       "      <td>887.683130</td>\n",
       "      <td>35.231271</td>\n",
       "      <td>257.458284</td>\n",
       "      <td>651.684032</td>\n",
       "      <td>285.782933</td>\n",
       "      <td>9.707597</td>\n",
       "      <td>575.451834</td>\n",
       "      <td>307.792278</td>\n",
       "    </tr>\n",
       "    <tr>\n",
       "      <td>1</td>\n",
       "      <td>151.514062</td>\n",
       "      <td>971.283312</td>\n",
       "      <td>164.972268</td>\n",
       "      <td>727.235441</td>\n",
       "      <td>890.724191</td>\n",
       "      <td>858.715116</td>\n",
       "      <td>184.257067</td>\n",
       "      <td>236.808534</td>\n",
       "      <td>18.362637</td>\n",
       "      <td>931.405467</td>\n",
       "    </tr>\n",
       "    <tr>\n",
       "      <td>2</td>\n",
       "      <td>887.121177</td>\n",
       "      <td>595.466169</td>\n",
       "      <td>109.367656</td>\n",
       "      <td>173.542647</td>\n",
       "      <td>576.960371</td>\n",
       "      <td>251.656974</td>\n",
       "      <td>300.171833</td>\n",
       "      <td>170.987349</td>\n",
       "      <td>189.591719</td>\n",
       "      <td>463.421154</td>\n",
       "    </tr>\n",
       "    <tr>\n",
       "      <td>3</td>\n",
       "      <td>509.873973</td>\n",
       "      <td>511.579890</td>\n",
       "      <td>997.138799</td>\n",
       "      <td>129.595817</td>\n",
       "      <td>756.169888</td>\n",
       "      <td>793.756747</td>\n",
       "      <td>584.882599</td>\n",
       "      <td>462.738180</td>\n",
       "      <td>893.426637</td>\n",
       "      <td>828.180219</td>\n",
       "    </tr>\n",
       "    <tr>\n",
       "      <td>4</td>\n",
       "      <td>50.290936</td>\n",
       "      <td>962.983753</td>\n",
       "      <td>7.339892</td>\n",
       "      <td>573.132205</td>\n",
       "      <td>572.430817</td>\n",
       "      <td>834.379665</td>\n",
       "      <td>384.716068</td>\n",
       "      <td>91.040869</td>\n",
       "      <td>581.687269</td>\n",
       "      <td>24.845860</td>\n",
       "    </tr>\n",
       "    <tr>\n",
       "      <td>...</td>\n",
       "      <td>...</td>\n",
       "      <td>...</td>\n",
       "      <td>...</td>\n",
       "      <td>...</td>\n",
       "      <td>...</td>\n",
       "      <td>...</td>\n",
       "      <td>...</td>\n",
       "      <td>...</td>\n",
       "      <td>...</td>\n",
       "      <td>...</td>\n",
       "    </tr>\n",
       "    <tr>\n",
       "      <td>195</td>\n",
       "      <td>1207.511950</td>\n",
       "      <td>1801.152880</td>\n",
       "      <td>1796.308063</td>\n",
       "      <td>1800.090960</td>\n",
       "      <td>1317.802654</td>\n",
       "      <td>1613.951521</td>\n",
       "      <td>1653.290982</td>\n",
       "      <td>1121.225004</td>\n",
       "      <td>1919.675290</td>\n",
       "      <td>1369.135774</td>\n",
       "    </tr>\n",
       "    <tr>\n",
       "      <td>196</td>\n",
       "      <td>1689.376724</td>\n",
       "      <td>1929.338379</td>\n",
       "      <td>1675.872163</td>\n",
       "      <td>1939.477413</td>\n",
       "      <td>1700.107657</td>\n",
       "      <td>1171.857895</td>\n",
       "      <td>1729.905509</td>\n",
       "      <td>1406.720147</td>\n",
       "      <td>1319.573293</td>\n",
       "      <td>1781.646271</td>\n",
       "    </tr>\n",
       "    <tr>\n",
       "      <td>197</td>\n",
       "      <td>1791.489135</td>\n",
       "      <td>1950.011766</td>\n",
       "      <td>1204.185295</td>\n",
       "      <td>1533.664331</td>\n",
       "      <td>1773.122459</td>\n",
       "      <td>1517.348869</td>\n",
       "      <td>1229.786454</td>\n",
       "      <td>1996.290291</td>\n",
       "      <td>1890.319844</td>\n",
       "      <td>1578.143337</td>\n",
       "    </tr>\n",
       "    <tr>\n",
       "      <td>198</td>\n",
       "      <td>1539.047807</td>\n",
       "      <td>1840.976118</td>\n",
       "      <td>1915.633981</td>\n",
       "      <td>1820.585356</td>\n",
       "      <td>1433.809776</td>\n",
       "      <td>1856.623131</td>\n",
       "      <td>1226.605332</td>\n",
       "      <td>1541.516067</td>\n",
       "      <td>1316.150289</td>\n",
       "      <td>1120.634496</td>\n",
       "    </tr>\n",
       "    <tr>\n",
       "      <td>199</td>\n",
       "      <td>1146.511953</td>\n",
       "      <td>1937.604818</td>\n",
       "      <td>1195.992428</td>\n",
       "      <td>1650.910129</td>\n",
       "      <td>1240.121158</td>\n",
       "      <td>1526.469573</td>\n",
       "      <td>1131.634204</td>\n",
       "      <td>1290.540346</td>\n",
       "      <td>1401.524530</td>\n",
       "      <td>1707.678774</td>\n",
       "    </tr>\n",
       "  </tbody>\n",
       "</table>\n",
       "<p>200 rows × 10 columns</p>\n",
       "</div>"
      ],
      "text/plain": [
       "              1            2            3            4            5   \\\n",
       "0     171.829760    11.259893   887.683130    35.231271   257.458284   \n",
       "1     151.514062   971.283312   164.972268   727.235441   890.724191   \n",
       "2     887.121177   595.466169   109.367656   173.542647   576.960371   \n",
       "3     509.873973   511.579890   997.138799   129.595817   756.169888   \n",
       "4      50.290936   962.983753     7.339892   573.132205   572.430817   \n",
       "..           ...          ...          ...          ...          ...   \n",
       "195  1207.511950  1801.152880  1796.308063  1800.090960  1317.802654   \n",
       "196  1689.376724  1929.338379  1675.872163  1939.477413  1700.107657   \n",
       "197  1791.489135  1950.011766  1204.185295  1533.664331  1773.122459   \n",
       "198  1539.047807  1840.976118  1915.633981  1820.585356  1433.809776   \n",
       "199  1146.511953  1937.604818  1195.992428  1650.910129  1240.121158   \n",
       "\n",
       "              6            7            8            9            10  \n",
       "0     651.684032   285.782933     9.707597   575.451834   307.792278  \n",
       "1     858.715116   184.257067   236.808534    18.362637   931.405467  \n",
       "2     251.656974   300.171833   170.987349   189.591719   463.421154  \n",
       "3     793.756747   584.882599   462.738180   893.426637   828.180219  \n",
       "4     834.379665   384.716068    91.040869   581.687269    24.845860  \n",
       "..           ...          ...          ...          ...          ...  \n",
       "195  1613.951521  1653.290982  1121.225004  1919.675290  1369.135774  \n",
       "196  1171.857895  1729.905509  1406.720147  1319.573293  1781.646271  \n",
       "197  1517.348869  1229.786454  1996.290291  1890.319844  1578.143337  \n",
       "198  1856.623131  1226.605332  1541.516067  1316.150289  1120.634496  \n",
       "199  1526.469573  1131.634204  1290.540346  1401.524530  1707.678774  \n",
       "\n",
       "[200 rows x 10 columns]"
      ]
     },
     "execution_count": 35,
     "metadata": {},
     "output_type": "execute_result"
    }
   ],
   "source": [
    "df1 = pd.DataFrame(data = np.random.uniform(0,1000, size=(100, 10)), columns = range(1,11))\n",
    "df2 = pd.DataFrame(data = np.random.uniform(1001,2001, size=(100, 10)), columns = range(1,11))\n",
    "df1.merge(df2, how='outer')\n",
    "# True"
   ]
  },
  {
   "cell_type": "code",
   "execution_count": 8,
   "metadata": {},
   "outputs": [
    {
     "data": {
      "text/html": [
       "<div>\n",
       "<style scoped>\n",
       "    .dataframe tbody tr th:only-of-type {\n",
       "        vertical-align: middle;\n",
       "    }\n",
       "\n",
       "    .dataframe tbody tr th {\n",
       "        vertical-align: top;\n",
       "    }\n",
       "\n",
       "    .dataframe thead th {\n",
       "        text-align: right;\n",
       "    }\n",
       "</style>\n",
       "<table border=\"1\" class=\"dataframe\">\n",
       "  <thead>\n",
       "    <tr style=\"text-align: right;\">\n",
       "      <th></th>\n",
       "      <th>0</th>\n",
       "      <th>1</th>\n",
       "    </tr>\n",
       "  </thead>\n",
       "  <tbody>\n",
       "    <tr>\n",
       "      <td>0</td>\n",
       "      <td>curly</td>\n",
       "      <td>age   color    fur        name\n",
       "id        ...</td>\n",
       "    </tr>\n",
       "    <tr>\n",
       "      <td>1</td>\n",
       "      <td>shaggy</td>\n",
       "      <td>age  color     fur  name\n",
       "id              ...</td>\n",
       "    </tr>\n",
       "    <tr>\n",
       "      <td>2</td>\n",
       "      <td>short</td>\n",
       "      <td>age color    fur  name\n",
       "id                ...</td>\n",
       "    </tr>\n",
       "  </tbody>\n",
       "</table>\n",
       "</div>"
      ],
      "text/plain": [
       "        0                                                  1\n",
       "0   curly       age   color    fur        name\n",
       "id        ...\n",
       "1  shaggy       age  color     fur  name\n",
       "id              ...\n",
       "2   short       age color    fur  name\n",
       "id                ..."
      ]
     },
     "execution_count": 8,
     "metadata": {},
     "output_type": "execute_result"
    }
   ],
   "source": [
    "import pandas as pd\n",
    "\n",
    "dogs = pd.DataFrame([\n",
    "{\"id\": 123, \"age\": 4, \"color\": \"brown\", \"fur\": \"shaggy\",\n",
    "\"name\": \"odie\"},\n",
    "{\"id\": 456, \"age\": 3, \"color\": \"grey\", \"fur\": \"short\",\n",
    "\"name\": \"gabe\"},\n",
    "{\"id\": 821, \"age\": 6, \"color\": \"golden\", \"fur\": \"curly\",\n",
    "\"name\": \"samosa\"},\n",
    "{\"id\": 198, \"age\": 4, \"color\": \"grey\", \"fur\": \"shaggy\",\n",
    "\"name\": \"gabe\"},\n",
    "{\"id\": 3, \"age\": 2, \"color\": \"black\", \"fur\": \"curly\",\n",
    "\"name\": \"bob barker\"},\n",
    "{\"id\": 42, \"age\": 5, \"color\": \"brown\", \"fur\": \"shaggy\",\n",
    "\"name\": \"odie\"}\n",
    "]).set_index('id')\n",
    "\n",
    "dogs.groupby()"
   ]
  },
  {
   "cell_type": "markdown",
   "metadata": {},
   "source": [
    "**Food**\n",
    "\n",
    "Consider the following table about food. This is preview of the first 5 rows of the DataFrames. You may assume it has many more rows\n",
    "than what is shown, with the same structure and no missing data."
   ]
  },
  {
   "cell_type": "code",
   "execution_count": null,
   "metadata": {},
   "outputs": [],
   "source": [
    "Image('images/food.PNG')"
   ]
  },
  {
   "cell_type": "markdown",
   "metadata": {},
   "source": [
    "$1$ Which of the following expressions returns a Series containing only the names\n",
    "of all the red vegetables in the food DataFrame? Select all that apply.\n",
    " - `food[(food[\"color\"] == \"red\") | (food[\"food_group\"] == \"vegetable\")][\"name\"]`\n",
    " - `food[(food[\"color\"] == \"red\") & (food[\"food_group\"] == \"vegetable\")][\"name\"]`\n",
    " - `food[(food[\"color\"] == \"red\") & (food[\"food_group\"] == \"vegetable\")]`\n",
    " - `food[(food[\"name\"].isin(store[\"food_name\"])) & (food[\"food_group\"] == \"vegetable\")]`\n",
    " - None of the above."
   ]
  },
  {
   "cell_type": "markdown",
   "metadata": {},
   "source": [
    "$2$ Select all of the following expressions that generate a DataFrame containing only\n",
    "rows of fruit.\n",
    " \n",
    " - `food.set_index(\"food_group\").loc[\"fruit\", :]`\n",
    " - `food.where(food[\"food_group\"] == \"fruit\")`\n",
    " - `food[food[\"food_group\"] == \"fruit\"]`\n",
    " - `food[\"food_group\"] == \"fruit\"`\n",
    " - None of the above."
   ]
  },
  {
   "cell_type": "markdown",
   "metadata": {},
   "source": [
    "$3$ Which of the following expressions would generate the following table?\n",
    "\n",
    " - `(food.groupby([\"food_group\", \"color\"])[[\"calories\"]].median())`\n",
    " - `pd.pivot_table(food, values=\"calories\", index=\"food_group\", columns=\"color\", aggfunc=np.median`\n",
    " - `(food.set_index(\"food_group\").groupby(\"color\")[[\"calories\"]].mean())`\n",
    " - `pd.pivot_table(food, values=\"calories\", index=\"color\", columns=\"food_group\", aggfunc=np.median)`"
   ]
  },
  {
   "cell_type": "code",
   "execution_count": null,
   "metadata": {},
   "outputs": [],
   "source": [
    "Image('images/food2.PNG')"
   ]
  },
  {
   "cell_type": "markdown",
   "metadata": {},
   "source": [
    "**Dogs**\n",
    "\n",
    "Consider the follow table containing information about visits to veterinarian's clinic."
   ]
  },
  {
   "cell_type": "code",
   "execution_count": null,
   "metadata": {},
   "outputs": [],
   "source": [
    "dogs = pd.DataFrame([\n",
    "{\"id\": 123, \"age\": 4, \"color\": \"brown\", \"fur\": \"shaggy\",\n",
    "\"name\": \"odie\"},\n",
    "{\"id\": 456, \"age\": 3, \"color\": \"grey\", \"fur\": \"short\",\n",
    "\"name\": \"gabe\"},\n",
    "{\"id\": 821, \"age\": 6, \"color\": \"golden\", \"fur\": \"curly\",\n",
    "\"name\": \"samosa\"},\n",
    "{\"id\": 198, \"age\": 4, \"color\": \"grey\", \"fur\": \"shaggy\",\n",
    "\"name\": \"gabe\"},\n",
    "{\"id\": 3, \"age\": 2, \"color\": \"black\", \"fur\": \"curly\",\n",
    "\"name\": \"bob barker\"},\n",
    "{\"id\": 42, \"age\": 5, \"color\": \"brown\", \"fur\": \"shaggy\",\n",
    "\"name\": \"odie\"}\n",
    "]).set_index('id')\n",
    "dogs"
   ]
  },
  {
   "cell_type": "markdown",
   "metadata": {},
   "source": [
    "$1$. How many different dogs visited the veterinarian’s office? Provide code that outputs the\n",
    "answers as an integer. Assume that no two dogs have the same name.\n",
    "\n",
    "A. `dogs[\"name\"].unique().size`\n",
    "\n",
    "B. `len(dogs[\"name\"])` => this one\n",
    "\n",
    "C. `len(dogs)`\n",
    "\n",
    "$2$. What was the name of the oldest dog that visited the veterinarian’s office?\n",
    "\n",
    "A. dogs[’age’].max()\n",
    "\n",
    "B. dogs.loc[dogs[’age’].max()][’name’]\n",
    "\n",
    "C. dogs.loc[dogs[’age’].argmax()][’name’] => this one\n",
    "\n",
    "D. dogs.groupby(\"name\").agg({\"age\": \"max\"})\n",
    "\n",
    "$3$. What was the most common fur color among dogs?\n",
    "\n",
    "A. dogs.groupby(\"color\").count().sort_values(\"name\",\n",
    "ascending=False).index[0]\n",
    "\n",
    "B. dogs.groupby(\"color\").count().sort_values(\"age\",\n",
    "ascending=False).index[0]\n",
    "\n",
    "C. dogs.groupby(\"color\").count().sort_values(\"fur\",\n",
    "ascending=False).index[0]\n",
    "\n",
    "D. All of the above. ==> ALL\n",
    "\n",
    "E. None of the above.\n",
    "\n",
    "$4$. What proportion of dogs had the most common fur type? (For instance, if the most\n",
    "common fur type was curly, what proportion of dogs had curly fur?)\n",
    "\n",
    "A. (dogs[’fur’].value_counts() / dogs.size)\n",
    "\n",
    "B. (dogs[’fur’].value_counts() / dogs.size).max() ==> this one\n",
    "\n",
    "C. (dogs[’fur’].value_counts() / dogs.size).argmax()\n",
    "\n",
    "D. None of the above.\n",
    "\n",
    "$5$ Construct a DataFrame containing the\n",
    "number of dogs with a given color and fur. Write the solution on the following line. You should require a single function call using a\n",
    "function provided on the cheat sheet."
   ]
  },
  {
   "cell_type": "code",
   "execution_count": null,
   "metadata": {},
   "outputs": [],
   "source": [
    "Image('images/dogs.PNG')"
   ]
  }
 ],
 "metadata": {
  "kernelspec": {
   "display_name": "Python 3",
   "language": "python",
   "name": "python3"
  },
  "language_info": {
   "codemirror_mode": {
    "name": "ipython",
    "version": 3
   },
   "file_extension": ".py",
   "mimetype": "text/x-python",
   "name": "python",
   "nbconvert_exporter": "python",
   "pygments_lexer": "ipython3",
   "version": "3.7.0"
  }
 },
 "nbformat": 4,
 "nbformat_minor": 4
}
