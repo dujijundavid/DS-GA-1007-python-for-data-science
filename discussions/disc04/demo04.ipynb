{
 "cells": [
  {
   "cell_type": "markdown",
   "metadata": {},
   "source": [
    "# <span style=\"color:blue\">Programming for Data Science - DS-GA 1007</span>\n",
    "## <span style=\"color:blue\">Lecture 4: Python III</span>\n",
    "---"
   ]
  },
  {
   "cell_type": "markdown",
   "metadata": {},
   "source": [
    "__Contents:__\n",
    "- Recursion \n",
    "- Object Oriented Programming\n",
    "- Classes and Objects"
   ]
  },
  {
   "cell_type": "markdown",
   "metadata": {},
   "source": [
    "---\n",
    "## Recursion"
   ]
  },
  {
   "cell_type": "code",
   "execution_count": 1,
   "metadata": {},
   "outputs": [],
   "source": [
    "def factorial(n):\n",
    "    if n == 1:  \n",
    "        # Base case\n",
    "        return 1\n",
    "    else:\n",
    "        # Recursion\n",
    "        return n * factorial(n-1)"
   ]
  },
  {
   "cell_type": "code",
   "execution_count": 2,
   "metadata": {},
   "outputs": [
    {
     "name": "stdout",
     "output_type": "stream",
     "text": [
      "120\n",
      "120\n"
     ]
    }
   ],
   "source": [
    "print(factorial(5))\n",
    "print(1 * 2 * 3 * 4 * 5)"
   ]
  },
  {
   "cell_type": "markdown",
   "metadata": {},
   "source": [
    "## Object Oriented Programming\n",
    "Three main concepts:\n",
    "- Objects\n",
    "- Classes\n",
    "- Inheritance"
   ]
  },
  {
   "cell_type": "markdown",
   "metadata": {},
   "source": [
    "### Objects\n",
    "An object encapsulates two concepts:\n",
    "- State\n",
    "- Behavior\n",
    "\n",
    "_State_ accounts for information stored in the attributes of an object</br><br>\n",
    "_Behavior_ is exposed through functions (called _methods_) associated to an object\n",
    "\n",
    "Several programming languages hide internal state and make it accessible only through methods.</br><br>\n",
    "Python doesn’t really do this, everything is exposed!!"
   ]
  },
  {
   "cell_type": "markdown",
   "metadata": {},
   "source": [
    "### Classes\n",
    "A class is a prototype for creating an object.\n",
    "When an object is created based on a prototype, it is instantiated.\n",
    "\n",
    "In programming terms, a class specifies the attributes and methods of the object, which can have several instances.\n",
    "\n",
    "__PS__: Although _objects_ and _instances_ are not the same (they are conceptually different), we will use both words as synonyms."
   ]
  },
  {
   "cell_type": "markdown",
   "metadata": {},
   "source": [
    "### Inheritance\n",
    "Classes are able to inherit common state and behavior from other classes.</br><br>\n",
    "A class that inherits from another class is called a subclass.</br><br>\n",
    "A class that is inherited by other classes is called a superclass or base class."
   ]
  },
  {
   "cell_type": "markdown",
   "metadata": {},
   "source": [
    "---\n",
    "## Python Classes\n",
    "__Syntax__\n",
    "```python\n",
    "class NameOfClass(superclass,...)\n",
    "      attribute1 = value1\n",
    "      attribute2 = value2\n",
    "      :\n",
    "      :\n",
    "      def __init__(self,...):  # class constructor\n",
    "         … default code …\n",
    "            \n",
    "      def method1(self,...):\n",
    "         self.attribute1 = value\n",
    "```    \n",
    "A _class attribute_ is a variable that is accessible by any instance of the class.\n",
    "An _instance attribute_ is only accessible by the instance that creates it (like a local variable)."
   ]
  },
  {
   "cell_type": "code",
   "execution_count": 3,
   "metadata": {},
   "outputs": [],
   "source": [
    "class Bicycle:\n",
    "    def __init__(self, bike_type=None, n_gears=1, handlebar='Drop'):\n",
    "        print(\"...building the object...\")\n",
    "        self.bicycle_type = bike_type\n",
    "        self.number_of_gears = n_gears\n",
    "        self.handlebar_type = handlebar\n",
    "        self.handle_options = ['Drop', 'Cruiser', 'Flat', 'Bullhorn']\n",
    "    \n",
    "    def get_handlebar_options(self, k=4):\n",
    "        print(self.handle_options[:k])"
   ]
  },
  {
   "cell_type": "code",
   "execution_count": 4,
   "metadata": {},
   "outputs": [
    {
     "name": "stdout",
     "output_type": "stream",
     "text": [
      "...building the object...\n"
     ]
    }
   ],
   "source": [
    "my_bike = Bicycle() #instantiating \n",
    "\n",
    "my_bike.bicycle_type = 'Cruise'  # accessing an instance's variables\n",
    "my_bike.number_of_gears = 3     "
   ]
  },
  {
   "cell_type": "code",
   "execution_count": 5,
   "metadata": {},
   "outputs": [
    {
     "name": "stdout",
     "output_type": "stream",
     "text": [
      "['Drop', 'Cruiser', 'Flat', 'Bullhorn']\n"
     ]
    }
   ],
   "source": [
    "my_bike.get_handlebar_options()  # accessing an instance's method"
   ]
  },
  {
   "cell_type": "code",
   "execution_count": 6,
   "metadata": {},
   "outputs": [
    {
     "name": "stdout",
     "output_type": "stream",
     "text": [
      "['Drop', 'Cruiser']\n"
     ]
    }
   ],
   "source": [
    "my_bike.get_handlebar_options(2)"
   ]
  },
  {
   "cell_type": "code",
   "execution_count": 7,
   "metadata": {},
   "outputs": [
    {
     "name": "stdout",
     "output_type": "stream",
     "text": [
      "...building the object...\n",
      "<__main__.Bicycle object at 0x2ac103f5e9b0>\n"
     ]
    }
   ],
   "source": [
    "your_bike = Bicycle(bike_type='Speed',handlebar='Bullhorn')  # instantiating with parameter\n",
    "print(your_bike)"
   ]
  },
  {
   "cell_type": "code",
   "execution_count": 8,
   "metadata": {},
   "outputs": [],
   "source": [
    "class MountainBike(Bicycle): # inherit bicycle as superclass / specialzed version of the more general class\n",
    "    def __init__(self):\n",
    "        super().__init__(bike_type='Mountain', n_gears=10, handlebar='Bullhorn') # first form the skeleton of the bike\n",
    "        self.set_handlebar_options()\n",
    "        \n",
    "    def set_handlebar_options(self): \n",
    "        self.handle_options.remove('Cruiser')"
   ]
  },
  {
   "cell_type": "code",
   "execution_count": 9,
   "metadata": {},
   "outputs": [
    {
     "name": "stdout",
     "output_type": "stream",
     "text": [
      "...building the object...\n",
      "['Drop', 'Flat', 'Bullhorn']\n"
     ]
    }
   ],
   "source": [
    "my_mountain_bike = MountainBike()\n",
    "my_mountain_bike.get_handlebar_options()"
   ]
  },
  {
   "cell_type": "markdown",
   "metadata": {},
   "source": [
    "### Operator Overloading\n",
    "Classes can intercept special Python operators (\"magic\" methods or \"double-underscore\" / \"dunder\" methods)\n",
    "\n",
    "Classes may override most built-in type operations\n",
    "- `__init__` object constructor\n",
    "- `__repr__` call when printed or converted to a string\n",
    "- `__add__` for + operator X + Y\n",
    "- `__lt__`, `__gt__`, for comparisons X < Y, X > Y\n",
    "- Many more..."
   ]
  },
  {
   "cell_type": "code",
   "execution_count": 10,
   "metadata": {},
   "outputs": [],
   "source": [
    "class Bicycle:\n",
    "    def __init__(self, bike_type=None, n_gears=1, handlebar='Drop'):\n",
    "        print(\"...building the object...\")\n",
    "        self.bicycle_type = bike_type\n",
    "        self.number_of_gears = n_gears\n",
    "        self.handlebar_type = handlebar\n",
    "        self.handle_options = ['Drop','Cruiser','Flat','Bullhorn']\n",
    "    \n",
    "    def __repr__(self):      # including a default print in the superclass\n",
    "        return('Type: ' + self.bicycle_type + '\\n' +\n",
    "               'Gears: ' + str(self.number_of_gears) + '\\n'+\n",
    "               'Handlebar: ' + self.handlebar_type)\n",
    "    \n",
    "    def get_handlebar_options(self, k=4):\n",
    "        print(self.handle_options[:k])"
   ]
  },
  {
   "cell_type": "code",
   "execution_count": 11,
   "metadata": {},
   "outputs": [],
   "source": [
    "class MountainBike(Bicycle): # inherit bicycle as superclass\n",
    "    def __init__(self, suspension=None):\n",
    "        super().__init__(bike_type='Mountain', n_gears=10, handlebar='Bullhorn')\n",
    "        self.set_handlebar_options()\n",
    "        self.suspension_type = suspension\n",
    "        \n",
    "    def set_handlebar_options(self): \n",
    "        self.handle_options.remove('Cruiser')"
   ]
  },
  {
   "cell_type": "code",
   "execution_count": 12,
   "metadata": {},
   "outputs": [
    {
     "name": "stdout",
     "output_type": "stream",
     "text": [
      "...building the object...\n",
      "Type: Mountain\n",
      "Gears: 10\n",
      "Handlebar: Bullhorn\n"
     ]
    }
   ],
   "source": [
    "my_mountain_bike = MountainBike(suspension='downhill')\n",
    "print(my_mountain_bike)"
   ]
  },
  {
   "cell_type": "markdown",
   "metadata": {},
   "source": [
    "Notice that the __repr__ function in the superclass does not include information about \"suspension\", therefore we need to extend (rather than replace) the __repr__ function."
   ]
  },
  {
   "cell_type": "code",
   "execution_count": 13,
   "metadata": {},
   "outputs": [],
   "source": [
    "class MountainBikeV2(Bicycle): # inherit bicycle as superclass\n",
    "    def __init__(self, suspension=None):\n",
    "        super().__init__(bike_type='Mountain', n_gears=10, handlebar='Bullhorn')\n",
    "        self.set_handlebar_options()\n",
    "        self.suspension_type = suspension\n",
    "        \n",
    "    def __repr__(self):\n",
    "        return(super().__repr__() + '\\n'+'Suspension: ' + self.suspension_type)\n",
    "        \n",
    "    def set_handlebar_options(self): \n",
    "        self.handle_options.remove('Cruiser')"
   ]
  },
  {
   "cell_type": "code",
   "execution_count": 14,
   "metadata": {},
   "outputs": [
    {
     "name": "stdout",
     "output_type": "stream",
     "text": [
      "...building the object...\n",
      "Type: Mountain\n",
      "Gears: 10\n",
      "Handlebar: Bullhorn\n",
      "Suspension: downhill\n"
     ]
    }
   ],
   "source": [
    "my_mountain_bike = MountainBikeV2(suspension='downhill')\n",
    "print(my_mountain_bike)"
   ]
  },
  {
   "cell_type": "markdown",
   "metadata": {},
   "source": [
    "### Public and Private Data\n",
    "Although all attributes and methods in python classes are exposed, there is a convention that anything with two leading underscores is private\n",
    "- `__a_func`\t \t\n",
    "- `__my_variable`\n",
    "        \n",
    "Internally, these are replaced with a name that includes the class name\n",
    "- `_name__a_func`\n",
    "- `_name__my_variable`\n",
    "\n",
    "Anything with one leading underscore is semi-private, and you should feel guilty accessing this data directly\n",
    "- `_b`\n",
    "\n",
    "Sometimes useful as an intermediate step to making data private"
   ]
  },
  {
   "cell_type": "code",
   "execution_count": 15,
   "metadata": {},
   "outputs": [],
   "source": [
    "class BicyclePrivate:\n",
    "    def __init__(self, bike_type=None, n_gears=1, handlebar='Drop'):\n",
    "        print(\"...building the object...\")\n",
    "        self.bicycle_type = bike_type\n",
    "        self.number_of_gears = n_gears\n",
    "        self.handlebar_type = handlebar\n",
    "        self.handle_options = ['Drop','Cruiser','Flat','Bullhorn']\n",
    "        self.__this_is_private = None   # private variable whose name becomes \n",
    "                                        # _bicycle_private__this_is_private\n",
    "            \n",
    "    def print_private(self):\n",
    "        print(self.__this_is_private)"
   ]
  },
  {
   "cell_type": "code",
   "execution_count": 16,
   "metadata": {},
   "outputs": [
    {
     "name": "stdout",
     "output_type": "stream",
     "text": [
      "...building the object...\n",
      "0\n",
      "0\n"
     ]
    }
   ],
   "source": [
    "thy_bicycle_private = BicyclePrivate()\n",
    "thy_bicycle_private._BicyclePrivate__this_is_private = 0\n",
    "thy_bicycle_private.print_private()\n",
    "print(thy_bicycle_private._BicyclePrivate__this_is_private)"
   ]
  },
  {
   "cell_type": "code",
   "execution_count": 17,
   "metadata": {},
   "outputs": [
    {
     "name": "stdout",
     "output_type": "stream",
     "text": [
      "...building the object...\n",
      "None\n",
      "0\n"
     ]
    }
   ],
   "source": [
    "thy_bicycle_private1 = BicyclePrivate()\n",
    "thy_bicycle_private1.__this_is_private = 0\n",
    "thy_bicycle_private1.print_private()\n",
    "print(thy_bicycle_private1.__this_is_private)"
   ]
  },
  {
   "cell_type": "markdown",
   "metadata": {},
   "source": [
    "You can arbitrarily create new attributes for an object. This sounds cool but is generally not a good idea."
   ]
  },
  {
   "cell_type": "code",
   "execution_count": 18,
   "metadata": {},
   "outputs": [
    {
     "name": "stdout",
     "output_type": "stream",
     "text": [
      "new\n"
     ]
    }
   ],
   "source": [
    "thy_bicycle_private1.a = 'new'\n",
    "print(thy_bicycle_private1.a)"
   ]
  },
  {
   "cell_type": "code",
   "execution_count": null,
   "metadata": {},
   "outputs": [],
   "source": []
  }
 ],
 "metadata": {
  "kernelspec": {
   "display_name": "Python 3",
   "language": "python",
   "name": "python3"
  },
  "language_info": {
   "codemirror_mode": {
    "name": "ipython",
    "version": 3
   },
   "file_extension": ".py",
   "mimetype": "text/x-python",
   "name": "python",
   "nbconvert_exporter": "python",
   "pygments_lexer": "ipython3",
   "version": "3.7.0"
  }
 },
 "nbformat": 4,
 "nbformat_minor": 4
}
