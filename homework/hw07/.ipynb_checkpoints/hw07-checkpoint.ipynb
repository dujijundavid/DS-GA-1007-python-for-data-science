{
 "cells": [
  {
   "cell_type": "markdown",
   "metadata": {},
   "source": [
    "# <span style=\"color:blue\">Programming for Data Science - DS-GA 1007</span>\n",
    "## <span style=\"color:blue\">Assignment 7: Numpy - Part II and Matplotlib \n",
    "### <em> Due Sunday November 10 by 11:59PM</em> \n",
    "</span>\n",
    "---"
   ]
  },
  {
   "cell_type": "markdown",
   "metadata": {},
   "source": [
    "Please import the following package"
   ]
  },
  {
   "cell_type": "code",
   "execution_count": 1,
   "metadata": {
    "ExecuteTime": {
     "end_time": "2022-04-25T18:11:00.260947Z",
     "start_time": "2022-04-25T18:10:59.623380Z"
    }
   },
   "outputs": [],
   "source": [
    "import numpy as np\n",
    "import matplotlib.pyplot as plt\n",
    "%matplotlib inline\n",
    "\n",
    "from countwords import load_word_counts, plot_ascii_bars"
   ]
  },
  {
   "cell_type": "markdown",
   "metadata": {},
   "source": [
    "### Question 1: (2.0 points) \n",
    "\n",
    "1. (0.5 point) Create a two-dimensional numpy array called <font color='blue'>A</font> with six rows and three columns by broadcasting the array `A1` = [1 2 3 4 5 6] with another array `A2`. (Think about what shape `A2` should be. `A2` can be all ones or all zeros, for example.)"
   ]
  },
  {
   "cell_type": "code",
   "execution_count": 2,
   "metadata": {
    "ExecuteTime": {
     "end_time": "2022-04-25T18:11:02.335094Z",
     "start_time": "2022-04-25T18:11:02.322755Z"
    }
   },
   "outputs": [],
   "source": [
    "A1 = np.array([1, 2, 3, 4, 5, 6])"
   ]
  },
  {
   "cell_type": "code",
   "execution_count": 3,
   "metadata": {},
   "outputs": [
    {
     "name": "stdout",
     "output_type": "stream",
     "text": [
      "[[1. 1. 1.]\n",
      " [2. 2. 2.]\n",
      " [3. 3. 3.]\n",
      " [4. 4. 4.]\n",
      " [5. 5. 5.]\n",
      " [6. 6. 6.]]\n"
     ]
    },
    {
     "data": {
      "text/plain": [
       "(6, 3)"
      ]
     },
     "execution_count": 3,
     "metadata": {},
     "output_type": "execute_result"
    }
   ],
   "source": [
    "# YOUR CODE OR RESPONSE HERE\n",
    "A2 = np.ones((1,3))\n",
    "A = A1.reshape(6,1)*A2\n",
    "\n",
    "print(A)\n",
    "A.shape\n",
    "\n",
    "# matrix multiplication: (m x n) x (n x k) = (m x k)"
   ]
  },
  {
   "cell_type": "markdown",
   "metadata": {},
   "source": [
    "2. (0.5 point) Create arrays <font color='blue'>B</font> and <font color='blue'>C</font> where <font color='blue'>B</font> is a copy and <font color='blue'>C</font> is a view of <font color='blue'>A</font>, respectively. Use the methods `copy()` and `view()` from numpy and the command `id()` to make sure <font color='blue'>B</font> and <font color='blue'>C</font> do not reference to the same location as <font color='blue'>A</font>. "
   ]
  },
  {
   "cell_type": "code",
   "execution_count": 4,
   "metadata": {},
   "outputs": [
    {
     "name": "stdout",
     "output_type": "stream",
     "text": [
      "The reference of A is: 47641313411920\n",
      "The reference of B is: 47641313413600\n",
      "The reference of C is: 47641313413680\n"
     ]
    }
   ],
   "source": [
    "# YOUR CODE OR RESPONSE HERE\n",
    "B = np.copy(A)\n",
    "C = A.view()\n",
    "\n",
    "print('The reference of A is: %i'% id(A))\n",
    "print('The reference of B is: %i'% id(B))\n",
    "print('The reference of C is: %i'% id(C))\n",
    "\n",
    "# Note: the references are not the same for A, B, or C."
   ]
  },
  {
   "cell_type": "markdown",
   "metadata": {},
   "source": [
    "3. Set the top-left most element of <font color='blue'>A</font> to 0. Check whether B and/or C change as well."
   ]
  },
  {
   "cell_type": "code",
   "execution_count": 5,
   "metadata": {},
   "outputs": [
    {
     "name": "stdout",
     "output_type": "stream",
     "text": [
      "A looks like:\n",
      "[[0. 1. 1.]\n",
      " [2. 2. 2.]\n",
      " [3. 3. 3.]\n",
      " [4. 4. 4.]\n",
      " [5. 5. 5.]\n",
      " [6. 6. 6.]]\n",
      "-------------------------\n",
      "B looks like:\n",
      "[[1. 1. 1.]\n",
      " [2. 2. 2.]\n",
      " [3. 3. 3.]\n",
      " [4. 4. 4.]\n",
      " [5. 5. 5.]\n",
      " [6. 6. 6.]]\n",
      "-------------------------\n",
      "C looks like:\n",
      "[[0. 1. 1.]\n",
      " [2. 2. 2.]\n",
      " [3. 3. 3.]\n",
      " [4. 4. 4.]\n",
      " [5. 5. 5.]\n",
      " [6. 6. 6.]]\n"
     ]
    }
   ],
   "source": [
    "# YOUR CODE OR RESPONSE HERE\n",
    "A[0,0] = 0\n",
    "\n",
    "print('A looks like:')\n",
    "print(A)\n",
    "print('-------------------------')\n",
    "print('B looks like:')\n",
    "print(B)\n",
    "print('-------------------------')\n",
    "print('C looks like:')\n",
    "print(C)\n",
    "\n",
    "#Note: The first element [0,0] in both A and C changed, but the first element of B did not change."
   ]
  },
  {
   "cell_type": "markdown",
   "metadata": {},
   "source": [
    "4. (1.0 point) Reshape <font color='blue'>C</font> to nine rows and two columns and create a new variable <font color='blue'>D</font> by copying the rows 3,6, and 8 from <font color='blue'>C</font> (zero-indexed). "
   ]
  },
  {
   "cell_type": "code",
   "execution_count": 6,
   "metadata": {},
   "outputs": [
    {
     "name": "stdout",
     "output_type": "stream",
     "text": [
      "Reshaped C looks like:\n",
      "[[0. 1.]\n",
      " [1. 2.]\n",
      " [2. 2.]\n",
      " [3. 3.]\n",
      " [3. 4.]\n",
      " [4. 4.]\n",
      " [5. 5.]\n",
      " [5. 6.]\n",
      " [6. 6.]]\n",
      "-------------------------\n",
      "D looks like:\n",
      "[[2. 2.]\n",
      " [4. 4.]\n",
      " [5. 6.]]\n"
     ]
    }
   ],
   "source": [
    "# YOUR CODE OR RESPONSE HERE\n",
    "C = np.reshape(C, (9,2))\n",
    "D = np.array([np.copy(C[2]),np.copy(C[5]), np.copy(C[7]) ])\n",
    "\n",
    "\n",
    "print('Reshaped C looks like:')\n",
    "print(C)\n",
    "print('-------------------------')\n",
    "print('D looks like:')\n",
    "print(D)"
   ]
  },
  {
   "cell_type": "markdown",
   "metadata": {},
   "source": [
    "### Question 2: (2.0 points) \n",
    "Consider an $n\\times n,\\, n\\geq 2$ array <font color='blue'>A</font>. For instance, with $n=4$:\n",
    "$$\n",
    "A=\\left(\\begin{array}[cccc]\\\\\n",
    "1 & 3 & 2 & 6 \\\\\n",
    "3 & 5 & 1 & {7} \\\\\n",
    "{0} & 4 & {2} & {6} \\\\\n",
    "6 & 1 & 3 & {1} \n",
    "\\end{array}\\right)\n",
    "$$\n",
    "Create a 2$\\times$2 array <font color='blue'>B</font> where the first row corresponds to the minimal and maximal elements in the upper triangluar part of <font color='blue'>A</font> and the second row corresponds to the minimal and maximal elements in the lower triangluar part of <font color='blue'>A</font>. The main diagonal should be considered as belonging to both the upper and lower triangular part of <font color='blue'>A</font>. In the above example the solution would be \n",
    "$$\n",
    "B=\\left(\\begin{array}[cc]\\\\\n",
    "1 & 7  \\\\\n",
    "0 & 6  \n",
    "\\end{array}\\right)\n",
    "$$\n",
    "Your solution (the python code) should work for any $n\\times n,\\, n\\geq 2$ array.<br>\n",
    "\n",
    "__Hint__: Use the numpy methods \"triu_indices\" and \"tril_indices\" combined with \"max\" and \"min\"."
   ]
  },
  {
   "cell_type": "code",
   "execution_count": 7,
   "metadata": {},
   "outputs": [
    {
     "name": "stdout",
     "output_type": "stream",
     "text": [
      "Matrix A:\n",
      "[[29 17 23 19 13]\n",
      " [28 24 13 29 19]\n",
      " [ 8 23 21 23 29]\n",
      " [27 16  4  9 10]\n",
      " [ 7 21  8  5 24]]\n",
      "-------------------------\n",
      "Matrix B: max, min, triu, tril\n",
      "[[ 9 29]\n",
      " [ 4 29]]\n"
     ]
    }
   ],
   "source": [
    "### TEST\n",
    "n = 5\n",
    "A = np.random.randint(low=0,high=30,size=(n,n))\n",
    "print(\"Matrix A:\")\n",
    "print(A)\n",
    "\n",
    "upper = np.triu_indices(n) # Return the indices for the upper-triangle of an (n, m) array.\n",
    "lower = np.tril_indices(n) \n",
    "B = np.array([np.min(A[upper]), np.max(A[upper]), np.min(A[lower]), np.max(A[lower])]).reshape(2,2)\n",
    "\n",
    "print('-------------------------')\n",
    "print(\"Matrix B: max, min, triu, tril\")\n",
    "print(B)"
   ]
  },
  {
   "cell_type": "markdown",
   "metadata": {},
   "source": [
    "### Question 3:  (3.0 points) Linear Regression\n",
    "Given a set of points $(x_0,y_0),(x_1,y_1),\\ldots,(x_n,y_n)$, we can fit a line $y=\\alpha_0+\\alpha_1 x$ to the points by solving a linear system of the form:\n",
    "\n",
    "$$\n",
    "\\mathbf{X}^\\top \\mathbf{X}\\alpha = \\mathbf{X}^\\top \\mathbf{y}\n",
    "$$\n",
    "\n",
    "where $\\mathbf{X}^\\top$ is the transpose of $\\mathbf{X}$ and \n",
    "\n",
    "$$\n",
    "\\mathbf{X}=\\left(\\begin{array}{cc}\n",
    "1 & x_0 \\\\\n",
    "1 & x_1 \\\\\n",
    "\\vdots & \\vdots \\\\\n",
    "1 & x_n \n",
    "\\end{array}\\right),\n",
    "\\qquad\n",
    "\\alpha = \\left(\\begin{array}{c}\n",
    "\\alpha_0 \\\\\n",
    "\\alpha_1 \n",
    "\\end{array}\\right),\n",
    "\\qquad\n",
    "\\mathbf{y} = \\left(\\begin{array}{c}\n",
    "y_0 \\\\\n",
    "y_1 \\\\\n",
    "\\vdots \\\\\n",
    "y_n\n",
    "\\end{array}\\right)\n",
    "$$\n",
    "\n",
    "Supposing the points $(x_i,y_i)$ are generated by the code:\n",
    "\n",
    "```python\n",
    "x_data = np.random.uniform(0,1,100)\n",
    "y_data = 1.0-x+np.random.uniform(-0.3,0.3,100)\n",
    "```\n",
    "\n",
    "1. (1.5 points) Build the matrix (array) $\\mathbf{X}$ and vector $\\mathbf{y}$\n",
    "2. (1.5 points) Solve the linear system $\\mathbf{X}^\\top \\mathbf{X}\\alpha = \\mathbf{X}^\\top \\mathbf{y}$ using \"numpy.linalg.solve\" and print the value of $\\alpha_0$ and $\\alpha_1$.\n"
   ]
  },
  {
   "cell_type": "code",
   "execution_count": 8,
   "metadata": {},
   "outputs": [],
   "source": [
    "np.random.seed(1234)\n",
    "x_data = np.random.uniform(0,1,100)\n",
    "y_data = 1.0-x_data+np.random.uniform(-0.3,0.3,100)"
   ]
  },
  {
   "cell_type": "code",
   "execution_count": 9,
   "metadata": {},
   "outputs": [
    {
     "data": {
      "text/plain": [
       "array([[ 1.02545842],\n",
       "       [-1.0066075 ]])"
      ]
     },
     "execution_count": 9,
     "metadata": {},
     "output_type": "execute_result"
    }
   ],
   "source": [
    "# YOUR CODE OR RESPONSE HERE\n",
    "from numpy.linalg import solve\n",
    "\n",
    "x_ones = np.ones((100,1))\n",
    "X = np.column_stack([x_ones, x_data])\n",
    "Y=np.array(y_data).reshape(100,1)\n",
    "solved = solve(np.dot(X.T, X), np.dot(X.T, Y))\n",
    "solved"
   ]
  },
  {
   "cell_type": "markdown",
   "metadata": {},
   "source": [
    "### Question 4: (1.5 points) \n",
    "Using the result from question 3, plot the points $(x_i,y_i)$ and the fitted line. Your code should produce a figure like this (the exact data points may differ):\n",
    "\n",
    "![title](linefit.png)\n",
    "\n",
    "__PS.__ The figure _linefit.png_ is in the same _zip_ file as this notebook."
   ]
  },
  {
   "cell_type": "code",
   "execution_count": 10,
   "metadata": {},
   "outputs": [
    {
     "data": {
      "text/plain": [
       "[<matplotlib.lines.Line2D at 0x2b545f9cbcc0>]"
      ]
     },
     "execution_count": 10,
     "metadata": {},
     "output_type": "execute_result"
    },
    {
     "data": {
      "image/png": "[encoded data removed]",
      "text/plain": [
       "<Figure size 432x288 with 1 Axes>"
      ]
     },
     "metadata": {
      "needs_background": "light"
     },
     "output_type": "display_data"
    }
   ],
   "source": [
    "# YOUR CODE OR RESPONSE HERE\n",
    "x = np.linspace(0,1,100)\n",
    "m = solved[1]\n",
    "b = solved[0]\n",
    "y = m*x+b\n",
    "\n",
    "plt.scatter(x_data, y_data, marker=\"*\")\n",
    "plt.plot(x, y, color = 'darkorange', linestyle='-', linewidth=3)"
   ]
  },
  {
   "cell_type": "markdown",
   "metadata": {},
   "source": [
    "### Question 5: (1.5 points) \n",
    "Enrich the plot genereted in question 4 by incorporating a legend and an annotation indicating the fitted line, similar to the figure below:\n",
    "\n",
    "![title](annotation.png)\n",
    "\n",
    "\n",
    "__PS.__ The figure _annotation.png_ is in the same _zip_ file as this notebook."
   ]
  },
  {
   "cell_type": "code",
   "execution_count": 11,
   "metadata": {},
   "outputs": [
    {
     "data": {
      "text/plain": [
       "Text(0.22, 0.1, 'fitted line')"
      ]
     },
     "execution_count": 11,
     "metadata": {},
     "output_type": "execute_result"
    },
    {
     "data": {
      "image/png": "[encoded data removed]",
      "text/plain": [
       "<Figure size 432x288 with 1 Axes>"
      ]
     },
     "metadata": {
      "needs_background": "light"
     },
     "output_type": "display_data"
    }
   ],
   "source": [
    "# YOUR CODE OR RESPONSE HERE\n",
    "plt.scatter(x_data, y_data, marker=\"*\", label='points')\n",
    "plt.plot(x, y, color = 'darkorange', linestyle='-', linewidth=3, label = 'fitted line')\n",
    "plt.legend()\n",
    "\n",
    "# plt.annotate('fitted line', xy=(0.4, 0.5),  xycoords='data',\n",
    "#             xytext=(0.22, 0.22), textcoords='axes fraction',\n",
    "#             arrowprops=dict(facecolor='black', shrink=1),\n",
    "#             horizontalalignment='right', verticalalignment='top')\n",
    "\n",
    "plt.annotate('fitted line', \n",
    "             xy=(0.42, 0.5), \n",
    "             xytext=(0.22, 0.1), \n",
    "             arrowprops=dict(facecolor='black'),\n",
    "             horizontalalignment='right', verticalalignment='top')"
   ]
  },
  {
   "cell_type": "markdown",
   "metadata": {},
   "source": [
    "### Question 6: (1.5 points) \n"
   ]
  },
  {
   "cell_type": "markdown",
   "metadata": {},
   "source": [
    "Execute the following cell to load a file containing three columns of data"
   ]
  },
  {
   "cell_type": "code",
   "execution_count": 12,
   "metadata": {},
   "outputs": [
    {
     "data": {
      "text/plain": [
       "[('the', 3822, 6.737176097303014),\n",
       " ('of', 2460, 4.336329984135378),\n",
       " ('and', 1723, 3.0371937246606735),\n",
       " ('to', 1479, 2.607086197778953),\n",
       " ('a', 1308, 2.305658381808567),\n",
       " ('in', 997, 1.7574475586109644),\n",
       " ('is', 894, 1.5758857747223691),\n",
       " ('that', 652, 1.149303719372466),\n",
       " ('by', 607, 1.069980609906575),\n",
       " ('it', 573, 1.0100475938656797)]"
      ]
     },
     "execution_count": 12,
     "metadata": {},
     "output_type": "execute_result"
    }
   ],
   "source": [
    "file_name = 'isles.dat'\n",
    "limit = 10\n",
    "counts = load_word_counts(file_name)\n",
    "\n",
    "counts[:10]"
   ]
  },
  {
   "cell_type": "markdown",
   "metadata": {},
   "source": [
    "$1$. Create a list called `words` containing all the entries in the first column, that is, the zeroeth entry of each tuple in `counts`"
   ]
  },
  {
   "cell_type": "code",
   "execution_count": 13,
   "metadata": {},
   "outputs": [
    {
     "data": {
      "text/plain": [
       "['the', 'of', 'and', 'to', 'a', 'in', 'is', 'that', 'by', 'it']"
      ]
     },
     "execution_count": 13,
     "metadata": {},
     "output_type": "execute_result"
    }
   ],
   "source": [
    "# YOUR CODE OR RESPONSE HERE\n",
    "words=[]\n",
    "for i, j, k in counts: \n",
    "    words.append(i)\n",
    "\n",
    "words[0:10]"
   ]
  },
  {
   "cell_type": "markdown",
   "metadata": {},
   "source": [
    "$2$. Create a list called `counts` containing all the entries in the second column, that is, the first entry of each tuple in `counts`"
   ]
  },
  {
   "cell_type": "code",
   "execution_count": 14,
   "metadata": {},
   "outputs": [
    {
     "data": {
      "text/plain": [
       "[3822, 2460, 1723, 1479, 1308, 997, 894, 652, 607, 573]"
      ]
     },
     "execution_count": 14,
     "metadata": {},
     "output_type": "execute_result"
    }
   ],
   "source": [
    "# YOUR CODE OR RESPONSE HERE\n",
    "counts2=[]\n",
    "for tup in counts:\n",
    "        counts2.append(tup[1])\n",
    "\n",
    "counts = counts2\n",
    "counts[0:10]"
   ]
  },
  {
   "cell_type": "markdown",
   "metadata": {},
   "source": [
    "$3$. Look at the code for the function `plot_ascii_bars` in `countwords.py`. \n",
    "\n",
    "Use the function to generate a figure with the relative count of the first 10 entries of `counts`. \n",
    "\n",
    "Here use `counts[:limit]` and `words[:limit]` as arguments in `plot_ascii_bars` to obtain something like... "
   ]
  },
  {
   "cell_type": "code",
   "execution_count": 15,
   "metadata": {},
   "outputs": [
    {
     "data": {
      "text/plain": [
       "['the   ########################################################################',\n",
       " 'of    ##########################################',\n",
       " 'and   #########################',\n",
       " 'to    ####################',\n",
       " 'a     ################',\n",
       " 'in    #########',\n",
       " 'is    #######',\n",
       " 'that  ##',\n",
       " 'by    #',\n",
       " 'it    ']"
      ]
     },
     "execution_count": 15,
     "metadata": {},
     "output_type": "execute_result"
    }
   ],
   "source": [
    "# YOUR CODE OR RESPONSE HERE\n",
    "import countwords\n",
    "\n",
    "plot_ascii_bars(values = counts[:limit], labels = words[:limit])"
   ]
  },
  {
   "cell_type": "markdown",
   "metadata": {},
   "source": [
    "![title](ascii.PNG)"
   ]
  },
  {
   "cell_type": "code",
   "execution_count": 16,
   "metadata": {},
   "outputs": [
    {
     "data": {
      "image/png": "[encoded data removed]",
      "text/plain": [
       "<IPython.core.display.Image object>"
      ]
     },
     "execution_count": 16,
     "metadata": {},
     "output_type": "execute_result"
    }
   ],
   "source": [
    "from IPython.display import Image\n",
    "Image(filename='ascii.PNG')"
   ]
  }
 ],
 "metadata": {
  "kernelspec": {
   "display_name": "Python 3 (ipykernel)",
   "language": "python",
   "name": "python3"
  },
  "language_info": {
   "codemirror_mode": {
    "name": "ipython",
    "version": 3
   },
   "file_extension": ".py",
   "mimetype": "text/x-python",
   "name": "python",
   "nbconvert_exporter": "python",
   "pygments_lexer": "ipython3",
   "version": "3.9.7"
  },
  "toc": {
   "base_numbering": 1,
   "nav_menu": {},
   "number_sections": true,
   "sideBar": true,
   "skip_h1_title": false,
   "title_cell": "Table of Contents",
   "title_sidebar": "Contents",
   "toc_cell": false,
   "toc_position": {},
   "toc_section_display": true,
   "toc_window_display": false
  }
 },
 "nbformat": 4,
 "nbformat_minor": 4
}
