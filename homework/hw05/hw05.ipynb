{
 "cells": [
  {
   "cell_type": "markdown",
   "metadata": {},
   "source": [
    "## Homework 5\n",
    "#### Due Saturday October 19 by 11:59pm on Gradescope"
   ]
  },
  {
   "cell_type": "markdown",
   "metadata": {},
   "source": [
    "Note that the directory `hw05/` contains `data.zip`. Run the following command to unzip the files and directories in `data.zip`."
   ]
  },
  {
   "cell_type": "code",
   "execution_count": 1,
   "metadata": {},
   "outputs": [
    {
     "name": "stdout",
     "output_type": "stream",
     "text": [
      "Archive:  data.zip\n",
      "  inflating: data/planets.txt        \n",
      "   creating: data/university/\n",
      " extracting: data/university/nyu170shanghai.pdb  \n",
      " extracting: data/university/nyu853.txt  \n",
      " extracting: data/university/nyu505shanghai.pdb  \n",
      " extracting: data/university/nyu733uae.csv  \n",
      " extracting: data/university/nyu616.log  \n",
      " extracting: data/university/nyu753.txt  \n",
      " extracting: data/university/nyu396.log  \n",
      " extracting: data/university/nyu442.txt  \n",
      " extracting: data/university/nyu218uae.csv  \n",
      " extracting: data/university/nyu661.txt  \n",
      " extracting: data/university/nyu554.log  \n",
      " extracting: data/university/nyu036uae.csv  \n",
      " extracting: data/university/nyu893.log  \n",
      " extracting: data/university/nyu068uae.csv  \n",
      " extracting: data/university/nyu888shanghai.pdb  \n",
      " extracting: data/university/nyu385shanghai.pdb  \n",
      " extracting: data/university/nyu684shanghai.pdb  \n",
      " extracting: data/university/nyu827.log  \n",
      " extracting: data/university/nyu767uae.csv  \n",
      " extracting: data/university/nyu063uae.csv  \n",
      " extracting: data/university/nyu285shanghai.pdb  \n",
      " extracting: data/university/nyu779uae.csv  \n",
      "   creating: data/university/.ipynb_checkpoints/\n",
      " extracting: data/university/nyu829shanghai.pdb  \n",
      " extracting: data/university/nyu577uae.csv  \n",
      " extracting: data/university/nyu540.log  \n",
      " extracting: data/university/nyu072uae.csv  \n",
      " extracting: data/university/nyu660.txt  \n",
      " extracting: data/university/nyu154.txt  \n",
      " extracting: data/university/nyu483.log  \n",
      " extracting: data/university/nyu498.log  \n",
      " extracting: data/university/nyu691uae.csv  \n",
      " extracting: data/university/nyu005shanghai.pdb  \n",
      " extracting: data/university/nyu514shanghai.pdb  \n",
      " extracting: data/university/nyu547.txt  \n",
      " extracting: data/university/nyu610shanghai.pdb  \n",
      " extracting: data/university/nyu357.log  \n",
      " extracting: data/university/nyu438.log  \n",
      " extracting: data/university/nyu347.txt  \n",
      " extracting: data/university/nyu681uae.csv  \n",
      " extracting: data/university/nyu506.txt  \n",
      " extracting: data/university/nyu025shanghai.pdb  \n",
      " extracting: data/university/nyu668shanghai.pdb  \n",
      " extracting: data/university/nyu075uae.csv  \n",
      " extracting: data/university/nyu225.txt  \n",
      " extracting: data/university/nyu811uae.csv  \n",
      " extracting: data/university/nyu273uae.csv  \n",
      " extracting: data/university/nyu748.txt  \n",
      " extracting: data/university/nyu302.log  \n",
      " extracting: data/university/nyu792.txt  \n",
      " extracting: data/university/nyu041shanghai.pdb  \n",
      " extracting: data/university/nyu409.txt  \n",
      " extracting: data/university/nyu795shanghai.pdb  \n",
      " extracting: data/university/nyu835.txt  \n",
      " extracting: data/university/nyu515.log  \n",
      " extracting: data/university/nyu677uae.csv  \n",
      " extracting: data/university/nyu273shanghai.pdb  \n",
      " extracting: data/university/nyu659uae.csv  \n",
      " extracting: data/university/nyu655shanghai.pdb  \n",
      " extracting: data/university/nyu474uae.csv  \n",
      " extracting: data/university/nyu858.txt  \n",
      " extracting: data/university/nyu449shanghai.pdb  \n",
      " extracting: data/university/nyu443.txt  \n",
      " extracting: data/university/nyu794.log  \n",
      " extracting: data/university/nyu249shanghai.pdb  \n",
      " extracting: data/university/nyu280.txt  \n",
      " extracting: data/university/nyu729shanghai.pdb  \n",
      " extracting: data/university/nyu166shanghai.pdb  \n",
      " extracting: data/university/nyu270uae.csv  \n",
      " extracting: data/university/nyu036.log  \n",
      " extracting: data/university/nyu229shanghai.pdb  \n",
      " extracting: data/university/nyu671.log  \n",
      " extracting: data/university/nyu603.txt  \n",
      " extracting: data/university/nyu496shanghai.pdb  \n",
      " extracting: data/university/nyu180.log  \n",
      " extracting: data/university/nyu676shanghai.pdb  \n",
      " extracting: data/university/nyu014.txt  \n",
      " extracting: data/university/nyu073uae.csv  \n",
      " extracting: data/university/nyu244shanghai.pdb  \n",
      " extracting: data/university/nyu077.txt  \n",
      " extracting: data/university/nyu124uae.csv  \n",
      " extracting: data/university/nyu589.log  \n",
      " extracting: data/university/nyu754.log  \n",
      " extracting: data/university/nyu980.log  \n",
      " extracting: data/university/nyu056shanghai.pdb  \n",
      " extracting: data/university/nyu050uae.csv  \n",
      " extracting: data/university/nyu378.log  \n",
      " extracting: data/university/nyu230.log  \n",
      " extracting: data/university/nyu235.log  \n",
      " extracting: data/university/nyu888.log  \n",
      " extracting: data/university/nyu225uae.csv  \n",
      " extracting: data/university/nyu911shanghai.pdb  \n",
      " extracting: data/university/nyu158.txt  \n",
      " extracting: data/university/nyu766shanghai.pdb  \n",
      " extracting: data/university/nyu474.txt  \n",
      " extracting: data/university/nyu005.txt  \n",
      " extracting: data/university/nyu665.log  \n",
      " extracting: data/university/nyu605shanghai.pdb  \n",
      " extracting: data/university/nyu011.txt  \n",
      " extracting: data/university/nyu526.txt  \n",
      " extracting: data/university/nyu317uae.csv  \n",
      " extracting: data/university/nyu667uae.csv  \n",
      " extracting: data/university/nyu490shanghai.pdb  \n",
      " extracting: data/university/nyu810shanghai.pdb  \n",
      " extracting: data/university/nyu520.txt  \n",
      " extracting: data/university/nyu060uae.csv  \n",
      " extracting: data/university/nyu974uae.csv  \n",
      " extracting: data/university/nyu523shanghai.pdb  \n",
      " extracting: data/university/nyu176.log  \n",
      " extracting: data/university/nyu804shanghai.pdb  \n",
      " extracting: data/university/nyu908.log  \n",
      " extracting: data/university/nyu588shanghai.pdb  \n",
      " extracting: data/university/nyu173.log  \n",
      " extracting: data/university/nyu060.log  \n",
      " extracting: data/university/nyu730shanghai.pdb  \n",
      " extracting: data/university/nyu044shanghai.pdb  \n",
      " extracting: data/university/nyu697shanghai.pdb  \n",
      " extracting: data/university/nyu069uae.csv  \n",
      " extracting: data/university/nyu471shanghai.pdb  \n",
      " extracting: data/university/nyu752.log  \n",
      " extracting: data/university/nyu573.txt  \n",
      " extracting: data/university/nyu904uae.csv  \n",
      " extracting: data/university/nyu891uae.csv  \n",
      " extracting: data/university/nyu838uae.csv  \n",
      " extracting: data/university/nyu297.txt  \n",
      " extracting: data/university/nyu517.log  \n",
      " extracting: data/university/nyu422.log  \n",
      " extracting: data/university/nyu992shanghai.pdb  \n",
      " extracting: data/university/nyu932uae.csv  \n",
      " extracting: data/university/nyu684.log  \n",
      " extracting: data/university/nyu740shanghai.pdb  \n",
      " extracting: data/university/nyu705shanghai.pdb  \n",
      " extracting: data/university/nyu845.txt  \n",
      " extracting: data/university/nyu467.log  \n",
      " extracting: data/university/nyu388uae.csv  \n",
      " extracting: data/university/nyu101.log  \n",
      " extracting: data/university/nyu889shanghai.pdb  \n",
      " extracting: data/university/nyu860.txt  \n",
      " extracting: data/university/nyu380.txt  \n",
      " extracting: data/university/nyu979.log  \n",
      " extracting: data/university/nyu931.log  \n",
      " extracting: data/university/nyu111.log  \n",
      " extracting: data/university/nyu612uae.csv  \n",
      " extracting: data/university/nyu615.txt  \n",
      " extracting: data/university/nyu897.txt  \n",
      " extracting: data/university/nyu748shanghai.pdb  \n",
      " extracting: data/university/nyu715uae.csv  \n",
      " extracting: data/university/nyu723uae.csv  \n",
      " extracting: data/university/nyu030.log  \n",
      " extracting: data/university/nyu047uae.csv  \n",
      " extracting: data/university/nyu471.txt  \n",
      " extracting: data/university/nyu176uae.csv  \n",
      " extracting: data/university/nyu590shanghai.pdb  \n",
      " extracting: data/university/nyu760shanghai.pdb  \n",
      " extracting: data/university/nyu727uae.csv  \n",
      " extracting: data/university/nyu028shanghai.pdb  \n",
      " extracting: data/university/nyu786.txt  \n",
      " extracting: data/university/nyu101.txt  \n",
      " extracting: data/university/nyu152.txt  \n",
      " extracting: data/university/nyu846uae.csv  \n",
      " extracting: data/university/nyu438.txt  \n",
      " extracting: data/university/nyu547uae.csv  \n",
      " extracting: data/university/nyu970.txt  \n",
      " extracting: data/university/nyu222.log  \n",
      " extracting: data/university/nyu440.log  \n",
      " extracting: data/university/nyu394.txt  \n",
      " extracting: data/university/nyu794uae.csv  \n",
      " extracting: data/university/nyu915.log  \n",
      " extracting: data/university/nyu234shanghai.pdb  \n",
      " extracting: data/university/nyu209shanghai.pdb  \n",
      " extracting: data/university/nyu422.txt  \n",
      " extracting: data/university/nyu550shanghai.pdb  \n",
      " extracting: data/university/nyu251shanghai.pdb  \n",
      " extracting: data/university/nyu244uae.csv  \n",
      " extracting: data/university/nyu707.txt  \n",
      " extracting: data/university/nyu663uae.csv  \n",
      " extracting: data/university/nyu035uae.csv  \n",
      " extracting: data/university/nyu418uae.csv  \n",
      " extracting: data/university/nyu672.log  \n",
      " extracting: data/university/nyu234uae.csv  \n",
      " extracting: data/university/nyu529.txt  \n",
      " extracting: data/university/nyu879uae.csv  \n",
      " extracting: data/university/nyu343.txt  \n",
      " extracting: data/university/nyu465shanghai.pdb  \n",
      " extracting: data/university/nyu848.log  \n",
      " extracting: data/university/nyu373.txt  \n",
      " extracting: data/university/nyu704.log  \n",
      " extracting: data/university/nyu858uae.csv  \n"
     ]
    },
    {
     "name": "stdout",
     "output_type": "stream",
     "text": [
      " extracting: data/university/nyu264uae.csv  \r\n",
      " extracting: data/university/nyu713.log  \r\n",
      " extracting: data/university/nyu613.txt  \r\n",
      " extracting: data/university/nyu283.log  \r\n",
      " extracting: data/university/nyu585.log  \r\n"
     ]
    }
   ],
   "source": [
    "!unzip data.zip\n",
    "#!unzip -o data.zip"
   ]
  },
  {
   "cell_type": "markdown",
   "metadata": {},
   "source": [
    "You should have a directory `data/` containing file `planets.txt` and directory `university/`. Please import the following package."
   ]
  },
  {
   "cell_type": "code",
   "execution_count": 2,
   "metadata": {},
   "outputs": [],
   "source": [
    "import numpy as np"
   ]
  },
  {
   "cell_type": "markdown",
   "metadata": {},
   "source": [
    "### 1. Lists vs Arrays"
   ]
  },
  {
   "cell_type": "markdown",
   "metadata": {},
   "source": [
    "While lists and arrays have some similarities, lists and arrays are different data types supporting separate operations. In this problem, we want to go about coding a function in two ways -- one way with lists and the other way with arrays. For each approach, we can take advantage of the operations that apply either to lists or to arrays. "
   ]
  },
  {
   "cell_type": "markdown",
   "metadata": {},
   "source": [
    "##### Question 1.1\n",
    "\n",
    "Write a function that take as input two lists, `x_list` and `y_list`, and computes $x^2 + y^3$ for corresponding each x, y in the two lists. Assume both lists have the same length, and the output should also be the same length. Try using **zip**."
   ]
  },
  {
   "cell_type": "code",
   "execution_count": 3,
   "metadata": {},
   "outputs": [],
   "source": [
    "def list_func(x_list, y_list):\n",
    "    # BEGIN SOLUTION\n",
    "    return [x**2 + y**3 for x, y in zip(x_list, y_list)]\n",
    "    # END SOLUTION"
   ]
  },
  {
   "cell_type": "code",
   "execution_count": 4,
   "metadata": {},
   "outputs": [],
   "source": [
    "# Test cases\n",
    "assert tuple(list_func([1, 2], [3, 4])) == (28, 68)\n",
    "assert tuple(list_func([1, 2, 3, 4], [2, 3, 4, 5])) == (9, 31, 73, 141)"
   ]
  },
  {
   "cell_type": "markdown",
   "metadata": {},
   "source": [
    "##### Question 1.2\n",
    "\n",
    "Write a function that take as input two lists, `x_list` and `y_list`, and computes $x^2 + y^3$ for every possible pair of x, y in the two lists. You should iterate over the $x$s in the outer loop and $y$s in the inner loop. Do not assume both lists have the same length. Try using **list comprehension** (see Lutz _Learning Python_ Chapter 20)"
   ]
  },
  {
   "cell_type": "code",
   "execution_count": 5,
   "metadata": {},
   "outputs": [],
   "source": [
    "def list_combination_func(x_list, y_list):\n",
    "    # BEGIN SOLUTION\n",
    "    return [x**2 + y**3 for x in x_list for y in y_list]\n",
    "    # END SOLUTION"
   ]
  },
  {
   "cell_type": "code",
   "execution_count": 6,
   "metadata": {},
   "outputs": [],
   "source": [
    "# Test cases\n",
    "assert tuple(list_combination_func([1, 2], [1, 2])) == (2, 9, 5, 12)\n",
    "assert tuple(list_combination_func([1, 2, 3, 4], [2, 3, 4])) == (9, 28, 65, 12, 31, 68, 17, 36, 73, 24, 43, 80)\n",
    "assert tuple(list_combination_func([], [1, 2])) == tuple()"
   ]
  },
  {
   "cell_type": "markdown",
   "metadata": {},
   "source": [
    "##### Question 1.3\n",
    "\n",
    "Write a function that inputs two lists, `x_list` and `y_list`, converts them to arrays, and computes $x^2 + y^3$ for corresponding elements x, y in the two arrays. Assume both lists have the same length. Do not use a loop. Instead take a sum of the arrays. The output should be an array."
   ]
  },
  {
   "cell_type": "code",
   "execution_count": 7,
   "metadata": {},
   "outputs": [],
   "source": [
    "def arr_func(x_list, y_list):\n",
    "    # BEGIN SOLUTION\n",
    "    x=np.asarray(x_list)\n",
    "    y=np.asarray(y_list)\n",
    "    return np.add(x**2, y**3)\n",
    "    # END SOLUTION"
   ]
  },
  {
   "cell_type": "code",
   "execution_count": 8,
   "metadata": {},
   "outputs": [],
   "source": [
    "# Test cases\n",
    "assert (arr_func([1, 2], [3, 4]) == [28, 68]).all()\n",
    "assert (arr_func([1, 2, 3, 4], [2, 3, 4, 5]) == [9, 31, 73, 141]).all()"
   ]
  },
  {
   "cell_type": "markdown",
   "metadata": {},
   "source": [
    "##### Question 1.4\n",
    "\n",
    "For ten numbers, `list_sum` and `array_sum` both take a similar amount of time."
   ]
  },
  {
   "cell_type": "code",
   "execution_count": 9,
   "metadata": {},
   "outputs": [],
   "source": [
    "sample_list_1 = list(range(10))\n",
    "sample_array_1 = np.arange(10)"
   ]
  },
  {
   "cell_type": "code",
   "execution_count": 10,
   "metadata": {},
   "outputs": [
    {
     "name": "stdout",
     "output_type": "stream",
     "text": [
      "CPU times: user 7 µs, sys: 4 µs, total: 11 µs\n",
      "Wall time: 15 µs\n"
     ]
    },
    {
     "data": {
      "text/plain": [
       "[0, 2, 12, 36, 80, 150, 252, 392, 576, 810]"
      ]
     },
     "execution_count": 10,
     "metadata": {},
     "output_type": "execute_result"
    }
   ],
   "source": [
    "%%time\n",
    "list_func(sample_list_1, sample_list_1)"
   ]
  },
  {
   "cell_type": "code",
   "execution_count": 11,
   "metadata": {},
   "outputs": [
    {
     "name": "stdout",
     "output_type": "stream",
     "text": [
      "CPU times: user 19 µs, sys: 13 µs, total: 32 µs\n",
      "Wall time: 34.1 µs\n"
     ]
    },
    {
     "data": {
      "text/plain": [
       "array([  0,   2,  12,  36,  80, 150, 252, 392, 576, 810])"
      ]
     },
     "execution_count": 11,
     "metadata": {},
     "output_type": "execute_result"
    }
   ],
   "source": [
    "%%time\n",
    "arr_func(sample_array_1, sample_array_1)"
   ]
  },
  {
   "cell_type": "markdown",
   "metadata": {},
   "source": [
    "The time difference seems negligible for a list/array of size 10; depending on your setup, you may even observe that `list_sum` executes faster than `array_sum`! However, we will commonly be working with much larger datasets:"
   ]
  },
  {
   "cell_type": "code",
   "execution_count": 12,
   "metadata": {},
   "outputs": [],
   "source": [
    "sample_list_2 = list(range(100000))\n",
    "sample_array_2 = np.arange(100000)"
   ]
  },
  {
   "cell_type": "code",
   "execution_count": 13,
   "metadata": {},
   "outputs": [
    {
     "name": "stdout",
     "output_type": "stream",
     "text": [
      "CPU times: user 52.2 ms, sys: 2.16 ms, total: 54.4 ms\n",
      "Wall time: 54.2 ms\n"
     ]
    }
   ],
   "source": [
    "%%time\n",
    "temp = list_func(sample_list_2, sample_list_2)"
   ]
  },
  {
   "cell_type": "code",
   "execution_count": 14,
   "metadata": {},
   "outputs": [
    {
     "name": "stdout",
     "output_type": "stream",
     "text": [
      "CPU times: user 1.53 ms, sys: 1.31 ms, total: 2.83 ms\n",
      "Wall time: 2.44 ms\n"
     ]
    }
   ],
   "source": [
    "%%time\n",
    "temp = arr_func(sample_array_2, sample_array_2)"
   ]
  },
  {
   "cell_type": "markdown",
   "metadata": {},
   "source": [
    "With the larger dataset, we see that using NumPy results in code that executes many times faster (might vary depending on your machine)! Throughout this course (and in the real world), you will find that writing efficient code will be important; arrays and vectorized operations are the most common way of making Python programs run quickly."
   ]
  },
  {
   "cell_type": "markdown",
   "metadata": {},
   "source": [
    "### 2. Glob-ing"
   ]
  },
  {
   "cell_type": "markdown",
   "metadata": {},
   "source": [
    "Remember that the phrase \"glob\" means search through directories and files. The abbreviation stands for global meaning that we search globally throughout the filesystem. We want to copy certain files from `data/university` to `data/`. Note that `data/` is the parent directory of `data/university`. "
   ]
  },
  {
   "cell_type": "markdown",
   "metadata": {},
   "source": [
    "**Question 2.1** \n",
    "Remember that `|` (pipe) takes the output of one command and feeds it as the input of the next. Describe what the follow command does:"
   ]
  },
  {
   "cell_type": "code",
   "execution_count": 15,
   "metadata": {},
   "outputs": [
    {
     "name": "stdout",
     "output_type": "stream",
     "text": [
      "2\r\n"
     ]
    }
   ],
   "source": [
    "!ls data/ | wc -l"
   ]
  },
  {
   "cell_type": "markdown",
   "metadata": {},
   "source": [
    "**Answer**: (Type answer here)"
   ]
  },
  {
   "cell_type": "markdown",
   "metadata": {},
   "source": [
    "**Question 2.2** \n",
    "\n",
    "We want to copy some files over to a new folder. The files we want have file names following a pattern:\n",
    "1. are stored in `data/university`\n",
    "1. starts with `nyu` then has 3 digits, then\n",
    "1. ends with three characters preceded by period (or \"has a 3-character extension\")\n",
    "\n",
    "For example `nyu547.txt` or `nyu537.pdb`, but not `nyu762uae.txt`.To be safe, we check to see what files match that criteria.\n",
    "\n",
    "Use `ls`, with a wildcard pattern, to find the list of files that match the criteria. Next, pipe it through `wc -l` as above to count how many there are. There should be 93 files found."
   ]
  },
  {
   "cell_type": "code",
   "execution_count": 16,
   "metadata": {},
   "outputs": [
    {
     "name": "stdout",
     "output_type": "stream",
     "text": [
      "nyu005.txt\r\n",
      "nyu011.txt\r\n",
      "nyu014.txt\r\n",
      "nyu030.log\r\n",
      "nyu036.log\r\n",
      "nyu060.log\r\n",
      "nyu077.txt\r\n",
      "nyu101.log\r\n",
      "nyu101.txt\r\n",
      "nyu111.log\r\n",
      "nyu152.txt\r\n",
      "nyu154.txt\r\n",
      "nyu158.txt\r\n",
      "nyu173.log\r\n",
      "nyu176.log\r\n",
      "nyu180.log\r\n",
      "nyu222.log\r\n",
      "nyu225.txt\r\n",
      "nyu230.log\r\n",
      "nyu235.log\r\n",
      "nyu280.txt\r\n",
      "nyu283.log\r\n",
      "nyu297.txt\r\n",
      "nyu302.log\r\n",
      "nyu343.txt\r\n",
      "nyu347.txt\r\n",
      "nyu357.log\r\n",
      "nyu373.txt\r\n",
      "nyu378.log\r\n",
      "nyu380.txt\r\n",
      "nyu394.txt\r\n",
      "nyu396.log\r\n",
      "nyu409.txt\r\n",
      "nyu422.log\r\n",
      "nyu422.txt\r\n",
      "nyu438.log\r\n",
      "nyu438.txt\r\n",
      "nyu440.log\r\n",
      "nyu442.txt\r\n",
      "nyu443.txt\r\n",
      "nyu467.log\r\n",
      "nyu471.txt\r\n",
      "nyu474.txt\r\n",
      "nyu483.log\r\n",
      "nyu498.log\r\n",
      "nyu506.txt\r\n",
      "nyu515.log\r\n",
      "nyu517.log\r\n",
      "nyu520.txt\r\n",
      "nyu526.txt\r\n",
      "nyu529.txt\r\n",
      "nyu540.log\r\n",
      "nyu547.txt\r\n",
      "nyu554.log\r\n",
      "nyu573.txt\r\n",
      "nyu585.log\r\n",
      "nyu589.log\r\n",
      "nyu603.txt\r\n",
      "nyu613.txt\r\n",
      "nyu615.txt\r\n",
      "nyu616.log\r\n",
      "nyu660.txt\r\n",
      "nyu661.txt\r\n",
      "nyu665.log\r\n",
      "nyu671.log\r\n",
      "nyu672.log\r\n",
      "nyu684.log\r\n",
      "nyu704.log\r\n",
      "nyu707.txt\r\n",
      "nyu713.log\r\n",
      "nyu748.txt\r\n",
      "nyu752.log\r\n",
      "nyu753.txt\r\n",
      "nyu754.log\r\n",
      "nyu786.txt\r\n",
      "nyu792.txt\r\n",
      "nyu794.log\r\n",
      "nyu827.log\r\n",
      "nyu835.txt\r\n",
      "nyu845.txt\r\n",
      "nyu848.log\r\n",
      "nyu853.txt\r\n",
      "nyu858.txt\r\n",
      "nyu860.txt\r\n",
      "nyu888.log\r\n",
      "nyu893.log\r\n",
      "nyu897.txt\r\n",
      "nyu908.log\r\n",
      "nyu915.log\r\n",
      "nyu931.log\r\n",
      "nyu970.txt\r\n",
      "nyu979.log\r\n",
      "nyu980.log\r\n"
     ]
    }
   ],
   "source": [
    "# !ls <your pattern here>\n",
    "!ls data/university | grep nyu[0-9][0-9][0-9]\\\\.[a-z][a-z][a-z] #escape . character"
   ]
  },
  {
   "cell_type": "code",
   "execution_count": 17,
   "metadata": {},
   "outputs": [
    {
     "name": "stdout",
     "output_type": "stream",
     "text": [
      "93\r\n"
     ]
    }
   ],
   "source": [
    "# !ls <your pattern here> | wc -l\n",
    "!ls data/university | grep nyu[0-9][0-9][0-9]\\\\.[a-z][a-z][a-z] | wc -l"
   ]
  },
  {
   "cell_type": "markdown",
   "metadata": {},
   "source": [
    "**Question 2.3** \n",
    "\n",
    "Make a directiory `data/university2` and copy the matching files over to the new directiory. You should use the commands `mkdir` and `cp`."
   ]
  },
  {
   "cell_type": "code",
   "execution_count": 18,
   "metadata": {},
   "outputs": [],
   "source": [
    "# BEGIN SOLUTION\n",
    "!mkdir data/university2 \n",
    "!cp data/university/nyu[0-9][0-9][0-9].[a-z][a-z][a-z] data/university2\n",
    "# END SOLUTION"
   ]
  },
  {
   "cell_type": "code",
   "execution_count": 19,
   "metadata": {},
   "outputs": [
    {
     "name": "stdout",
     "output_type": "stream",
     "text": [
      "nyu005.txt  nyu222.log\tnyu409.txt  nyu520.txt\tnyu671.log  nyu848.log\r\n",
      "nyu011.txt  nyu225.txt\tnyu422.log  nyu526.txt\tnyu672.log  nyu853.txt\r\n",
      "nyu014.txt  nyu230.log\tnyu422.txt  nyu529.txt\tnyu684.log  nyu858.txt\r\n",
      "nyu030.log  nyu235.log\tnyu438.log  nyu540.log\tnyu704.log  nyu860.txt\r\n",
      "nyu036.log  nyu280.txt\tnyu438.txt  nyu547.txt\tnyu707.txt  nyu888.log\r\n",
      "nyu060.log  nyu283.log\tnyu440.log  nyu554.log\tnyu713.log  nyu893.log\r\n",
      "nyu077.txt  nyu297.txt\tnyu442.txt  nyu573.txt\tnyu748.txt  nyu897.txt\r\n",
      "nyu101.log  nyu302.log\tnyu443.txt  nyu585.log\tnyu752.log  nyu908.log\r\n",
      "nyu101.txt  nyu343.txt\tnyu467.log  nyu589.log\tnyu753.txt  nyu915.log\r\n",
      "nyu111.log  nyu347.txt\tnyu471.txt  nyu603.txt\tnyu754.log  nyu931.log\r\n",
      "nyu152.txt  nyu357.log\tnyu474.txt  nyu613.txt\tnyu786.txt  nyu970.txt\r\n",
      "nyu154.txt  nyu373.txt\tnyu483.log  nyu615.txt\tnyu792.txt  nyu979.log\r\n",
      "nyu158.txt  nyu378.log\tnyu498.log  nyu616.log\tnyu794.log  nyu980.log\r\n",
      "nyu173.log  nyu380.txt\tnyu506.txt  nyu660.txt\tnyu827.log\r\n",
      "nyu176.log  nyu394.txt\tnyu515.log  nyu661.txt\tnyu835.txt\r\n",
      "nyu180.log  nyu396.log\tnyu517.log  nyu665.log\tnyu845.txt\r\n"
     ]
    }
   ],
   "source": [
    "!ls data/university2"
   ]
  },
  {
   "cell_type": "markdown",
   "metadata": {},
   "source": [
    "### 3. Bash Scripts"
   ]
  },
  {
   "cell_type": "markdown",
   "metadata": {},
   "source": [
    "Instead of entering commands line by line, we can add commands to a script. With a script we can reuse code. In this problem, we want to use scripts for common tasks such as renaming files and viewing lines of files."
   ]
  },
  {
   "cell_type": "markdown",
   "metadata": {},
   "source": [
    "##### 3.1 Working with Strings\n",
    "\n",
    "Bash has a way to replace a portion of a string with different characters. The command resembles `${string/${old_characters}/${new_characters}}`. Here `string`, `old_characters`, and `new_characters` are variables. For example suppose we want to replace `Hello` in `Hello World` with `Hi`. We could use the following command..."
   ]
  },
  {
   "cell_type": "code",
   "execution_count": 20,
   "metadata": {},
   "outputs": [
    {
     "name": "stdout",
     "output_type": "stream",
     "text": [
      "Hi World\n"
     ]
    }
   ],
   "source": [
    "%%bash\n",
    "string=\"Hello World\"\n",
    "old_characters=\"Hello\"\n",
    "new_characters=\"Hi\"\n",
    "echo ${string/${old_characters}/${new_characters}};"
   ]
  },
  {
   "cell_type": "markdown",
   "metadata": {},
   "source": [
    "Write a script called `rename_files.sh` to rename the files in the current working directory according to `old_characters` and `new_characters`. For example, suppose we want to replace each occurence of `nyu` with `CDS` for the files in `data/university/`. We would run `bash rename_files.sh nyu CDS` in the terminal. "
   ]
  },
  {
   "cell_type": "markdown",
   "metadata": {},
   "source": [
    "Try taking the following steps to write `rename_files.sh`:\n",
    "\n",
    "1. Use `mv` to rename the files. Replace `old_characters` with `new_characters`\n",
    "1. Obtain `old_characters` `new_characters` as the two arguments passed to the script. Remember we access the arguments in order as `${1}` and `${2}`.\n",
    "1. Use a `for` loop that begins with `for string in $(ls ${1}*)`. Here the wildcard will indicate all files beginning with `old_characters`. Note that `$(...)` means subprocess -- run the command as a separate process to give us the output for use in the script. "
   ]
  },
  {
   "cell_type": "code",
   "execution_count": null,
   "metadata": {},
   "outputs": [],
   "source": [
    "#### COPY THE CONTENTS OF YOUR SCRIPT HERE\n",
    "\n",
    "#!/bin/bash\n",
    "cd data/university/\n",
    "\n",
    "old_characters=$1\n",
    "new_characters=$2\n",
    "\n",
    "for str in $(ls ${1}*)\n",
    "do\n",
    "\tmv \"$str\" \"${str/$old_characters/$new_characters}\"\n",
    "done"
   ]
  },
  {
   "cell_type": "code",
   "execution_count": 21,
   "metadata": {},
   "outputs": [],
   "source": [
    "!bash rename_files.sh nyu CDS"
   ]
  },
  {
   "cell_type": "markdown",
   "metadata": {},
   "source": [
    "##### 3.2 Working with Numbers"
   ]
  },
  {
   "cell_type": "markdown",
   "metadata": {},
   "source": [
    "Remember the script `middle.sh` from Lecture 06. It allowed us to view the middle portion of a file by chaining together `head` and `tail` with a pipe. Let's try to rewrite it a little...we want to write a script called `show_lines.sh` that indicates a file, the ending line, and the starting line. \n",
    "\n",
    "For example, if we wanted to view line 5 up to and including line 10 of `data/planets.txt`, then we would run `bash show_lines.sh data/planets.txt 10 5` in the terminal from the current working directory.\n",
    "\n",
    "Following the code in `middle.sh` we need to specify the number of lines for `head` and `tail`. If we indicate `10` for `head` through use of `${2}`, then we need to specify `6` to tail. Note that `6=10-5+1`. We can do arithmetic in bash using `$(())`. Note that we have two sets of parentheses instead of one set for subprocess (see Question 3.1). So we would need `$((${2} - ${3} + 1))` for `6`.\n",
    "\n",
    "Using this observation write the code for `show_lines.sh`."
   ]
  },
  {
   "cell_type": "code",
   "execution_count": null,
   "metadata": {},
   "outputs": [],
   "source": [
    "# COPY THE CONTENS OF YOUR SCRIPT HERE\n",
    "\n",
    "#!/bin/bash\n",
    "head -n ${2} \"${1}\" | tail -n $((${2} - ${3} + 1))"
   ]
  },
  {
   "cell_type": "code",
   "execution_count": 22,
   "metadata": {},
   "outputs": [
    {
     "name": "stdout",
     "output_type": "stream",
     "text": [
      "\"CoRoT-11 b\",\"2.33\",\"1.43\",\"2.99433\",\r\n",
      "\"CoRoT-12 b\",\"0.917\",\"1.44\",\"2.828042\",\r\n",
      "\"CoRoT-13 b\",\"1.308\",\"0.885\",\"4.03519\",\r\n",
      "\"CoRoT-14 b\",\"7.6\",\"1.09\",\"1.51214\",\r\n",
      "\"CoRoT-16 b\",\"0.535\",\"1.17\",\"5.35227\",\r\n",
      "\"CoRoT-17 b\",\"2.45\",\"1.02\",\"3.768125\",\r\n"
     ]
    }
   ],
   "source": [
    "!bash show_lines.sh data/planets.txt 10 5"
   ]
  }
 ],
 "metadata": {
  "kernelspec": {
   "display_name": "Python 3 (ipykernel)",
   "language": "python",
   "name": "python3"
  },
  "language_info": {
   "codemirror_mode": {
    "name": "ipython",
    "version": 3
   },
   "file_extension": ".py",
   "mimetype": "text/x-python",
   "name": "python",
   "nbconvert_exporter": "python",
   "pygments_lexer": "ipython3",
   "version": "3.9.7"
  },
  "toc": {
   "base_numbering": 1,
   "nav_menu": {},
   "number_sections": true,
   "sideBar": true,
   "skip_h1_title": false,
   "title_cell": "Table of Contents",
   "title_sidebar": "Contents",
   "toc_cell": false,
   "toc_position": {},
   "toc_section_display": true,
   "toc_window_display": true
  }
 },
 "nbformat": 4,
 "nbformat_minor": 4
}
