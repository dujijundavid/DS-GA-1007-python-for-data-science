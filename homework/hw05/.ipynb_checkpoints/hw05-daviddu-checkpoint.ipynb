{
 "cells": [
  {
   "cell_type": "markdown",
   "metadata": {},
   "source": [
    "## Homework 5\n",
    "#### Due Saturday October 19 by 11:59pm on Gradescope"
   ]
  },
  {
   "cell_type": "markdown",
   "metadata": {},
   "source": [
    "Note that the directory `hw05/` contains `data.zip`. Run the following command to unzip the files and directories in `data.zip`."
   ]
  },
  {
   "cell_type": "code",
   "execution_count": 2,
   "metadata": {
    "ExecuteTime": {
     "end_time": "2022-04-25T17:01:15.840770Z",
     "start_time": "2022-04-25T17:01:15.830554Z"
    }
   },
   "outputs": [],
   "source": [
    "\n",
    "#!unzip -o data.zip"
   ]
  },
  {
   "cell_type": "markdown",
   "metadata": {},
   "source": [
    "You should have a directory `data/` containing file `planets.txt` and directory `university/`. Please import the following package."
   ]
  },
  {
   "cell_type": "code",
   "execution_count": 3,
   "metadata": {
    "ExecuteTime": {
     "end_time": "2022-04-25T17:01:17.243988Z",
     "start_time": "2022-04-25T17:01:16.978560Z"
    }
   },
   "outputs": [],
   "source": [
    "import numpy as np"
   ]
  },
  {
   "cell_type": "markdown",
   "metadata": {},
   "source": [
    "## Lists vs Arrays"
   ]
  },
  {
   "cell_type": "markdown",
   "metadata": {},
   "source": [
    "While lists and arrays have some similarities, lists and arrays are different data types supporting separate operations. In this problem, we want to go about coding a function in two ways -- one way with lists and the other way with arrays. For each approach, we can take advantage of the operations that apply either to lists or to arrays. "
   ]
  },
  {
   "cell_type": "markdown",
   "metadata": {},
   "source": [
    "### Zip()\n",
    "\n",
    "Write a function that take as input two lists, `x_list` and `y_list`, and computes $x^2 + y^3$ for corresponding each x, y in the two lists. Assume both lists have the same length, and the output should also be the same length. Try using **zip**."
   ]
  },
  {
   "cell_type": "code",
   "execution_count": 30,
   "metadata": {
    "ExecuteTime": {
     "end_time": "2022-04-25T17:16:12.312959Z",
     "start_time": "2022-04-25T17:16:12.302967Z"
    }
   },
   "outputs": [],
   "source": [
    "def list_func(x_list, y_list):\n",
    "    # BEGIN SOLUTION\n",
    "    return [x**2 + y**3 for x, y in zip(x_list, y_list)]\n",
    "    "
   ]
  },
  {
   "cell_type": "code",
   "execution_count": 33,
   "metadata": {
    "ExecuteTime": {
     "end_time": "2022-04-25T17:16:13.845546Z",
     "start_time": "2022-04-25T17:16:13.830000Z"
    }
   },
   "outputs": [],
   "source": [
    "# Test cases\n",
    "assert tuple(list_func([1, 2], [3, 4])) == (28, 68)\n",
    "assert tuple(list_func([1, 2, 3, 4], [2, 3, 4, 5])) == (9, 31, 73, 141)"
   ]
  },
  {
   "cell_type": "markdown",
   "metadata": {},
   "source": [
    "### list comprehension\n",
    "\n",
    "Write a function that take as input two lists, `x_list` and `y_list`, and computes $x^2 + y^3$ for every possible pair of x, y in the two lists.  Try using **list comprehension** "
   ]
  },
  {
   "cell_type": "code",
   "execution_count": 35,
   "metadata": {
    "ExecuteTime": {
     "end_time": "2022-04-25T17:19:36.605896Z",
     "start_time": "2022-04-25T17:19:36.591532Z"
    }
   },
   "outputs": [],
   "source": [
    "def list_combination_func(x_list, y_list):\n",
    "    return [x**2 + y**3 for x in x_list for y in y_list]\n"
   ]
  },
  {
   "cell_type": "code",
   "execution_count": 38,
   "metadata": {
    "ExecuteTime": {
     "end_time": "2022-04-25T17:21:45.778053Z",
     "start_time": "2022-04-25T17:21:45.761295Z"
    }
   },
   "outputs": [],
   "source": [
    "# Test cases\n",
    "assert tuple(list_combination_func([1, 2], [1, 2])) == (2, 9, 5, 12)\n",
    "assert tuple(list_combination_func([1, 2, 3, 4], [2, 3, 4])) == (9, 28, 65, 12, 31, 68, 17, 36, 73, 24, 43, 80)\n",
    "assert tuple(list_combination_func([], [1, 2])) == tuple()"
   ]
  },
  {
   "cell_type": "markdown",
   "metadata": {},
   "source": [
    "### Question 1.3\n",
    "\n",
    "Write a function that inputs two lists, `x_list` and `y_list`, converts them to arrays, and computes $x^2 + y^3$ for corresponding elements x, y in the two arrays. Assume both lists have the same length. Do not use a loop. Instead take a sum of the arrays. The output should be an array."
   ]
  },
  {
   "cell_type": "code",
   "execution_count": 55,
   "metadata": {
    "ExecuteTime": {
     "end_time": "2022-04-25T17:44:00.718341Z",
     "start_time": "2022-04-25T17:44:00.702707Z"
    }
   },
   "outputs": [],
   "source": [
    "x_list= [1,2]\n",
    "y_list= [3,4]\n",
    "x_arr = np.asarray(x_list)\n",
    "y_arr = np.asarray(y_list)"
   ]
  },
  {
   "cell_type": "code",
   "execution_count": 58,
   "metadata": {
    "ExecuteTime": {
     "end_time": "2022-04-25T17:44:16.293544Z",
     "start_time": "2022-04-25T17:44:16.287242Z"
    }
   },
   "outputs": [
    {
     "data": {
      "text/plain": [
       "array([28, 68], dtype=int32)"
      ]
     },
     "execution_count": 58,
     "metadata": {},
     "output_type": "execute_result"
    }
   ],
   "source": [
    "np.add(x_arr**2, y_arr**3)"
   ]
  },
  {
   "cell_type": "code",
   "execution_count": 57,
   "metadata": {
    "ExecuteTime": {
     "end_time": "2022-04-25T17:44:14.348796Z",
     "start_time": "2022-04-25T17:44:14.336432Z"
    }
   },
   "outputs": [],
   "source": [
    "def arr_func(x_list,y_list):\n",
    "    \n",
    "    x_arr = np.asarray(x_list)\n",
    "    y_arr = np.asarray(y_list)\n",
    "    \n",
    "    return np.add(x_arr**2, y_arr**3)\n"
   ]
  },
  {
   "cell_type": "code",
   "execution_count": 59,
   "metadata": {
    "ExecuteTime": {
     "end_time": "2022-04-25T17:44:18.860211Z",
     "start_time": "2022-04-25T17:44:18.850515Z"
    }
   },
   "outputs": [],
   "source": [
    "# Test cases\n",
    "assert (arr_func([1, 2], [3, 4]) == [28, 68]).all()\n",
    "assert (arr_func([1, 2, 3, 4], [2, 3, 4, 5]) == [9, 31, 73, 141]).all()"
   ]
  },
  {
   "cell_type": "markdown",
   "metadata": {},
   "source": [
    "##### Question 1.4\n",
    "\n",
    "For ten numbers, `list_sum` and `array_sum` both take a similar amount of time."
   ]
  },
  {
   "cell_type": "code",
   "execution_count": 60,
   "metadata": {
    "ExecuteTime": {
     "end_time": "2022-04-25T17:44:21.933292Z",
     "start_time": "2022-04-25T17:44:21.913613Z"
    }
   },
   "outputs": [],
   "source": [
    "sample_list_1 = list(range(10))\n",
    "sample_array_1 = np.arange(10)"
   ]
  },
  {
   "cell_type": "code",
   "execution_count": 61,
   "metadata": {
    "ExecuteTime": {
     "end_time": "2022-04-25T17:44:22.321570Z",
     "start_time": "2022-04-25T17:44:22.309918Z"
    }
   },
   "outputs": [
    {
     "name": "stdout",
     "output_type": "stream",
     "text": [
      "Wall time: 0 ns\n"
     ]
    },
    {
     "data": {
      "text/plain": [
       "[0, 2, 12, 36, 80, 150, 252, 392, 576, 810]"
      ]
     },
     "execution_count": 61,
     "metadata": {},
     "output_type": "execute_result"
    }
   ],
   "source": [
    "%%time\n",
    "list_func(sample_list_1, sample_list_1)"
   ]
  },
  {
   "cell_type": "code",
   "execution_count": 62,
   "metadata": {
    "ExecuteTime": {
     "end_time": "2022-04-25T17:44:34.270955Z",
     "start_time": "2022-04-25T17:44:34.256269Z"
    }
   },
   "outputs": [
    {
     "name": "stdout",
     "output_type": "stream",
     "text": [
      "Wall time: 0 ns\n"
     ]
    },
    {
     "data": {
      "text/plain": [
       "array([  0,   2,  12,  36,  80, 150, 252, 392, 576, 810], dtype=int32)"
      ]
     },
     "execution_count": 62,
     "metadata": {},
     "output_type": "execute_result"
    }
   ],
   "source": [
    "%%time\n",
    "arr_func(sample_array_1, sample_array_1)"
   ]
  },
  {
   "cell_type": "markdown",
   "metadata": {},
   "source": [
    "The time difference seems negligible for a list/array of size 10; depending on your setup, you may even observe that `list_sum` executes faster than `array_sum`! However, we will commonly be working with much larger datasets:"
   ]
  },
  {
   "cell_type": "code",
   "execution_count": 63,
   "metadata": {
    "ExecuteTime": {
     "end_time": "2022-04-25T17:44:39.469086Z",
     "start_time": "2022-04-25T17:44:39.453926Z"
    }
   },
   "outputs": [],
   "source": [
    "sample_list_2 = list(range(100000))\n",
    "sample_array_2 = np.arange(100000)"
   ]
  },
  {
   "cell_type": "code",
   "execution_count": 64,
   "metadata": {
    "ExecuteTime": {
     "end_time": "2022-04-25T17:44:40.358862Z",
     "start_time": "2022-04-25T17:44:40.302347Z"
    }
   },
   "outputs": [
    {
     "name": "stdout",
     "output_type": "stream",
     "text": [
      "Wall time: 51.5 ms\n"
     ]
    }
   ],
   "source": [
    "%%time\n",
    "temp = list_func(sample_list_2, sample_list_2)"
   ]
  },
  {
   "cell_type": "code",
   "execution_count": 65,
   "metadata": {
    "ExecuteTime": {
     "end_time": "2022-04-25T17:44:41.275680Z",
     "start_time": "2022-04-25T17:44:41.261382Z"
    }
   },
   "outputs": [
    {
     "name": "stdout",
     "output_type": "stream",
     "text": [
      "Wall time: 2.53 ms\n"
     ]
    }
   ],
   "source": [
    "%%time\n",
    "temp = arr_func(sample_array_2, sample_array_2)"
   ]
  },
  {
   "cell_type": "markdown",
   "metadata": {},
   "source": [
    "With the larger dataset, we see that using NumPy results in code that executes many times faster (might vary depending on your machine)! Throughout this course (and in the real world), you will find that writing efficient code will be important; arrays and vectorized operations are the most common way of making Python programs run quickly."
   ]
  },
  {
   "cell_type": "markdown",
   "metadata": {},
   "source": [
    "### 2. Glob-ing"
   ]
  },
  {
   "cell_type": "markdown",
   "metadata": {},
   "source": [
    "Remember that the phrase \"glob\" means search through directories and files. The abbreviation stands for global meaning that we search globally throughout the filesystem. We want to copy certain files from `data/university` to `data/`. Note that `data/` is the parent directory of `data/university`. "
   ]
  },
  {
   "cell_type": "markdown",
   "metadata": {},
   "source": [
    "**Question 2.1** \n",
    "Remember that `|` (pipe) takes the output of one command and feeds it as the input of the next. Describe what the follow command does:"
   ]
  },
  {
   "cell_type": "code",
   "execution_count": 70,
   "metadata": {
    "ExecuteTime": {
     "end_time": "2022-04-25T17:54:27.541329Z",
     "start_time": "2022-04-25T17:54:27.462771Z"
    }
   },
   "outputs": [
    {
     "name": "stdout",
     "output_type": "stream",
     "text": [
      "3\n"
     ]
    }
   ],
   "source": [
    "!ls data/ | wc -l"
   ]
  },
  {
   "cell_type": "markdown",
   "metadata": {},
   "source": [
    "**Answer**: (Type answer here)"
   ]
  },
  {
   "cell_type": "markdown",
   "metadata": {},
   "source": [
    "**Question 2.2** \n",
    "\n",
    "We want to copy some files over to a new folder. The files we want have file names following a pattern:\n",
    "1. are stored in `data/university`\n",
    "1. starts with `nyu` then has 3 digits, then\n",
    "1. ends with three characters preceded by period (or \"has a 3-character extension\")\n",
    "\n",
    "For example `nyu547.txt` or `nyu537.pdb`, but not `nyu762uae.txt`.To be safe, we check to see what files match that criteria.\n",
    "\n",
    "Use `ls`, with a wildcard pattern, to find the list of files that match the criteria. Next, pipe it through `wc -l` as above to count how many there are. There should be 93 files found."
   ]
  },
  {
   "cell_type": "code",
   "execution_count": 95,
   "metadata": {
    "ExecuteTime": {
     "end_time": "2022-04-25T17:58:46.366969Z",
     "start_time": "2022-04-25T17:58:46.318693Z"
    }
   },
   "outputs": [
    {
     "name": "stdout",
     "output_type": "stream",
     "text": [
      "CDS060uae.csv\n",
      "CDS209shanghai.pdb\n",
      "CDS234uae.csv\n",
      "CDS273uae.csv\n",
      "CDS418uae.csv\n",
      "CDS577uae.csv\n",
      "CDS588shanghai.pdb\n",
      "CDS684shanghai.pdb\n",
      "CDS729shanghai.pdb\n",
      "CDS838uae.csv\n",
      "CDS911shanghai.pdb\n"
     ]
    }
   ],
   "source": [
    "\n",
    "# !ls data/university/ | grep CDS[0-9][0-9][0-9]\\\\.[a-z][a-z][a-z] #escape . character\n",
    "\n",
    "!ls data/university/ | grep CDS[0-9][0-9][0-9][a-z][a-z][a-z]"
   ]
  },
  {
   "cell_type": "code",
   "execution_count": 96,
   "metadata": {
    "ExecuteTime": {
     "end_time": "2022-04-25T17:58:46.661206Z",
     "start_time": "2022-04-25T17:58:46.601588Z"
    }
   },
   "outputs": [
    {
     "name": "stdout",
     "output_type": "stream",
     "text": [
      "11\n"
     ]
    }
   ],
   "source": [
    "# !ls <your pattern here> | wc -l\n",
    "!ls data/university | grep CDS[0-9][0-9][0-9][a-z][a-z][a-z] | wc -l"
   ]
  },
  {
   "cell_type": "markdown",
   "metadata": {},
   "source": [
    "**Question 2.3** \n",
    "\n",
    "Make a directiory `data/university2` and copy the matching files over to the new directiory. You should use the commands `mkdir` and `cp`."
   ]
  },
  {
   "cell_type": "code",
   "execution_count": 97,
   "metadata": {
    "ExecuteTime": {
     "end_time": "2022-04-25T17:58:48.203554Z",
     "start_time": "2022-04-25T17:58:48.125031Z"
    }
   },
   "outputs": [
    {
     "name": "stderr",
     "output_type": "stream",
     "text": [
      "The syntax of the command is incorrect.\n",
      "cp: cannot stat 'data/university/CDS[0-9][0-9][0-9][a-z][a-z][a-z]': No such file or directory\n"
     ]
    }
   ],
   "source": [
    "# BEGIN SOLUTION\n",
    "!mkdir data/university2 \n",
    "!cp data/university/CDS[0-9][0-9][0-9][a-z][a-z][a-z] data/university2\n",
    "# END SOLUTION"
   ]
  },
  {
   "cell_type": "code",
   "execution_count": 98,
   "metadata": {
    "ExecuteTime": {
     "end_time": "2022-04-25T17:58:49.452257Z",
     "start_time": "2022-04-25T17:58:49.405703Z"
    }
   },
   "outputs": [
    {
     "name": "stdout",
     "output_type": "stream",
     "text": [
      "nyu158.txt\n",
      "nyu283.log\n",
      "nyu438.txt\n",
      "nyu573.txt\n",
      "nyu613.txt\n",
      "nyu684.log\n",
      "nyu835.txt\n",
      "nyu848.log\n",
      "nyu888.log\n",
      "nyu915.log\n"
     ]
    }
   ],
   "source": [
    "!ls data/university2"
   ]
  },
  {
   "cell_type": "markdown",
   "metadata": {},
   "source": [
    "### 3. Bash Scripts"
   ]
  },
  {
   "cell_type": "markdown",
   "metadata": {},
   "source": [
    "Instead of entering commands line by line, we can add commands to a script. With a script we can reuse code. In this problem, we want to use scripts for common tasks such as renaming files and viewing lines of files."
   ]
  },
  {
   "cell_type": "markdown",
   "metadata": {},
   "source": [
    "##### 3.1 Working with Strings\n",
    "\n",
    "Bash has a way to replace a portion of a string with different characters. The command resembles `${string/${old_characters}/${new_characters}}`. Here `string`, `old_characters`, and `new_characters` are variables. For example suppose we want to replace `Hello` in `Hello World` with `Hi`. We could use the following command..."
   ]
  },
  {
   "cell_type": "code",
   "execution_count": 99,
   "metadata": {
    "ExecuteTime": {
     "end_time": "2022-04-25T18:01:12.191257Z",
     "start_time": "2022-04-25T18:01:12.161251Z"
    }
   },
   "outputs": [
    {
     "name": "stdout",
     "output_type": "stream",
     "text": [
      "Hi World\n"
     ]
    }
   ],
   "source": [
    "%%bash\n",
    "string=\"Hello World\"\n",
    "old_characters=\"Hello\"\n",
    "new_characters=\"Hi\"\n",
    "echo ${string/${old_characters}/${new_characters}};"
   ]
  },
  {
   "cell_type": "markdown",
   "metadata": {},
   "source": [
    "Write a script called `rename_files.sh` to rename the files in the current working directory according to `old_characters` and `new_characters`. For example, suppose we want to replace each occurence of `nyu` with `CDS` for the files in `data/university/`. We would run `bash rename_files.sh nyu CDS` in the terminal. "
   ]
  },
  {
   "cell_type": "markdown",
   "metadata": {},
   "source": [
    "Try taking the following steps to write `rename_files.sh`:\n",
    "\n",
    "1. Use `mv` to rename the files. Replace `old_characters` with `new_characters`\n",
    "1. Obtain `old_characters` `new_characters` as the two arguments passed to the script. Remember we access the arguments in order as `${1}` and `${2}`.\n",
    "1. Use a `for` loop that begins with `for string in $(ls ${1}*)`. Here the wildcard will indicate all files beginning with `old_characters`. Note that `$(...)` means subprocess -- run the command as a separate process to give us the output for use in the script. "
   ]
  },
  {
   "cell_type": "code",
   "execution_count": 103,
   "metadata": {
    "ExecuteTime": {
     "end_time": "2022-04-25T18:03:53.721615Z",
     "start_time": "2022-04-25T18:03:53.677620Z"
    }
   },
   "outputs": [],
   "source": [
    "#### COPY THE CONTENTS OF YOUR SCRIPT HERE\n",
    "\n",
    "#!/bin/bash\n",
    "!cd data/university/\n"
   ]
  },
  {
   "cell_type": "code",
   "execution_count": 105,
   "metadata": {
    "ExecuteTime": {
     "end_time": "2022-04-25T18:04:02.942076Z",
     "start_time": "2022-04-25T18:04:02.768531Z"
    }
   },
   "outputs": [
    {
     "name": "stderr",
     "output_type": "stream",
     "text": [
      "mv: 'data.zip' and 'data.zip' are the same file\n",
      "mv: 'hw05-daviddu.ipynb' and 'hw05-daviddu.ipynb' are the same file\n",
      "mv: 'hw05.ipynb' and 'hw05.ipynb' are the same file\n",
      "mv: 'hw05.pdf' and 'hw05.pdf' are the same file\n",
      "mv: 'rename_files.sh' and 'rename_files.sh' are the same file\n",
      "mv: 'show_lines.sh' and 'show_lines.sh' are the same file\n",
      "mv: cannot stat 'data:': No such file or directory\n",
      "mv: cannot stat 'planets.txt': No such file or directory\n",
      "mv: cannot stat 'university': No such file or directory\n",
      "mv: cannot stat 'university2': No such file or directory\n"
     ]
    },
    {
     "ename": "CalledProcessError",
     "evalue": "Command 'b'old_characters=$1\\nnew_characters=$2\\n\\nfor str in $(ls ${1}*)\\ndo\\nmv \"$str\" \"${str/$old_characters/$new_characters}\"\\ndone\\n'' returned non-zero exit status 1.",
     "output_type": "error",
     "traceback": [
      "\u001b[1;31m---------------------------------------------------------------------------\u001b[0m",
      "\u001b[1;31mCalledProcessError\u001b[0m                        Traceback (most recent call last)",
      "\u001b[1;32mC:\\Users\\JIJUND~1\\AppData\\Local\\Temp/ipykernel_18596/1081545667.py\u001b[0m in \u001b[0;36m<module>\u001b[1;34m\u001b[0m\n\u001b[1;32m----> 1\u001b[1;33m \u001b[0mget_ipython\u001b[0m\u001b[1;33m(\u001b[0m\u001b[1;33m)\u001b[0m\u001b[1;33m.\u001b[0m\u001b[0mrun_cell_magic\u001b[0m\u001b[1;33m(\u001b[0m\u001b[1;34m'bash'\u001b[0m\u001b[1;33m,\u001b[0m \u001b[1;34m''\u001b[0m\u001b[1;33m,\u001b[0m \u001b[1;34m'old_characters=$1\\nnew_characters=$2\\n\\nfor str in $(ls ${1}*)\\ndo\\nmv \"$str\" \"${str/$old_characters/$new_characters}\"\\ndone\\n'\u001b[0m\u001b[1;33m)\u001b[0m\u001b[1;33m\u001b[0m\u001b[1;33m\u001b[0m\u001b[0m\n\u001b[0m",
      "\u001b[1;32m~\\anaconda3\\lib\\site-packages\\IPython\\core\\interactiveshell.py\u001b[0m in \u001b[0;36mrun_cell_magic\u001b[1;34m(self, magic_name, line, cell)\u001b[0m\n\u001b[0;32m   2404\u001b[0m             \u001b[1;32mwith\u001b[0m \u001b[0mself\u001b[0m\u001b[1;33m.\u001b[0m\u001b[0mbuiltin_trap\u001b[0m\u001b[1;33m:\u001b[0m\u001b[1;33m\u001b[0m\u001b[1;33m\u001b[0m\u001b[0m\n\u001b[0;32m   2405\u001b[0m                 \u001b[0margs\u001b[0m \u001b[1;33m=\u001b[0m \u001b[1;33m(\u001b[0m\u001b[0mmagic_arg_s\u001b[0m\u001b[1;33m,\u001b[0m \u001b[0mcell\u001b[0m\u001b[1;33m)\u001b[0m\u001b[1;33m\u001b[0m\u001b[1;33m\u001b[0m\u001b[0m\n\u001b[1;32m-> 2406\u001b[1;33m                 \u001b[0mresult\u001b[0m \u001b[1;33m=\u001b[0m \u001b[0mfn\u001b[0m\u001b[1;33m(\u001b[0m\u001b[1;33m*\u001b[0m\u001b[0margs\u001b[0m\u001b[1;33m,\u001b[0m \u001b[1;33m**\u001b[0m\u001b[0mkwargs\u001b[0m\u001b[1;33m)\u001b[0m\u001b[1;33m\u001b[0m\u001b[1;33m\u001b[0m\u001b[0m\n\u001b[0m\u001b[0;32m   2407\u001b[0m             \u001b[1;32mreturn\u001b[0m \u001b[0mresult\u001b[0m\u001b[1;33m\u001b[0m\u001b[1;33m\u001b[0m\u001b[0m\n\u001b[0;32m   2408\u001b[0m \u001b[1;33m\u001b[0m\u001b[0m\n",
      "\u001b[1;32m~\\anaconda3\\lib\\site-packages\\IPython\\core\\magics\\script.py\u001b[0m in \u001b[0;36mnamed_script_magic\u001b[1;34m(line, cell)\u001b[0m\n\u001b[0;32m    140\u001b[0m             \u001b[1;32melse\u001b[0m\u001b[1;33m:\u001b[0m\u001b[1;33m\u001b[0m\u001b[1;33m\u001b[0m\u001b[0m\n\u001b[0;32m    141\u001b[0m                 \u001b[0mline\u001b[0m \u001b[1;33m=\u001b[0m \u001b[0mscript\u001b[0m\u001b[1;33m\u001b[0m\u001b[1;33m\u001b[0m\u001b[0m\n\u001b[1;32m--> 142\u001b[1;33m             \u001b[1;32mreturn\u001b[0m \u001b[0mself\u001b[0m\u001b[1;33m.\u001b[0m\u001b[0mshebang\u001b[0m\u001b[1;33m(\u001b[0m\u001b[0mline\u001b[0m\u001b[1;33m,\u001b[0m \u001b[0mcell\u001b[0m\u001b[1;33m)\u001b[0m\u001b[1;33m\u001b[0m\u001b[1;33m\u001b[0m\u001b[0m\n\u001b[0m\u001b[0;32m    143\u001b[0m \u001b[1;33m\u001b[0m\u001b[0m\n\u001b[0;32m    144\u001b[0m         \u001b[1;31m# write a basic docstring:\u001b[0m\u001b[1;33m\u001b[0m\u001b[1;33m\u001b[0m\u001b[0m\n",
      "\u001b[1;32m~\\anaconda3\\lib\\site-packages\\decorator.py\u001b[0m in \u001b[0;36mfun\u001b[1;34m(*args, **kw)\u001b[0m\n\u001b[0;32m    230\u001b[0m             \u001b[1;32mif\u001b[0m \u001b[1;32mnot\u001b[0m \u001b[0mkwsyntax\u001b[0m\u001b[1;33m:\u001b[0m\u001b[1;33m\u001b[0m\u001b[1;33m\u001b[0m\u001b[0m\n\u001b[0;32m    231\u001b[0m                 \u001b[0margs\u001b[0m\u001b[1;33m,\u001b[0m \u001b[0mkw\u001b[0m \u001b[1;33m=\u001b[0m \u001b[0mfix\u001b[0m\u001b[1;33m(\u001b[0m\u001b[0margs\u001b[0m\u001b[1;33m,\u001b[0m \u001b[0mkw\u001b[0m\u001b[1;33m,\u001b[0m \u001b[0msig\u001b[0m\u001b[1;33m)\u001b[0m\u001b[1;33m\u001b[0m\u001b[1;33m\u001b[0m\u001b[0m\n\u001b[1;32m--> 232\u001b[1;33m             \u001b[1;32mreturn\u001b[0m \u001b[0mcaller\u001b[0m\u001b[1;33m(\u001b[0m\u001b[0mfunc\u001b[0m\u001b[1;33m,\u001b[0m \u001b[1;33m*\u001b[0m\u001b[1;33m(\u001b[0m\u001b[0mextras\u001b[0m \u001b[1;33m+\u001b[0m \u001b[0margs\u001b[0m\u001b[1;33m)\u001b[0m\u001b[1;33m,\u001b[0m \u001b[1;33m**\u001b[0m\u001b[0mkw\u001b[0m\u001b[1;33m)\u001b[0m\u001b[1;33m\u001b[0m\u001b[1;33m\u001b[0m\u001b[0m\n\u001b[0m\u001b[0;32m    233\u001b[0m     \u001b[0mfun\u001b[0m\u001b[1;33m.\u001b[0m\u001b[0m__name__\u001b[0m \u001b[1;33m=\u001b[0m \u001b[0mfunc\u001b[0m\u001b[1;33m.\u001b[0m\u001b[0m__name__\u001b[0m\u001b[1;33m\u001b[0m\u001b[1;33m\u001b[0m\u001b[0m\n\u001b[0;32m    234\u001b[0m     \u001b[0mfun\u001b[0m\u001b[1;33m.\u001b[0m\u001b[0m__doc__\u001b[0m \u001b[1;33m=\u001b[0m \u001b[0mfunc\u001b[0m\u001b[1;33m.\u001b[0m\u001b[0m__doc__\u001b[0m\u001b[1;33m\u001b[0m\u001b[1;33m\u001b[0m\u001b[0m\n",
      "\u001b[1;32m~\\anaconda3\\lib\\site-packages\\IPython\\core\\magic.py\u001b[0m in \u001b[0;36m<lambda>\u001b[1;34m(f, *a, **k)\u001b[0m\n\u001b[0;32m    185\u001b[0m     \u001b[1;31m# but it's overkill for just that one bit of state.\u001b[0m\u001b[1;33m\u001b[0m\u001b[1;33m\u001b[0m\u001b[0m\n\u001b[0;32m    186\u001b[0m     \u001b[1;32mdef\u001b[0m \u001b[0mmagic_deco\u001b[0m\u001b[1;33m(\u001b[0m\u001b[0marg\u001b[0m\u001b[1;33m)\u001b[0m\u001b[1;33m:\u001b[0m\u001b[1;33m\u001b[0m\u001b[1;33m\u001b[0m\u001b[0m\n\u001b[1;32m--> 187\u001b[1;33m         \u001b[0mcall\u001b[0m \u001b[1;33m=\u001b[0m \u001b[1;32mlambda\u001b[0m \u001b[0mf\u001b[0m\u001b[1;33m,\u001b[0m \u001b[1;33m*\u001b[0m\u001b[0ma\u001b[0m\u001b[1;33m,\u001b[0m \u001b[1;33m**\u001b[0m\u001b[0mk\u001b[0m\u001b[1;33m:\u001b[0m \u001b[0mf\u001b[0m\u001b[1;33m(\u001b[0m\u001b[1;33m*\u001b[0m\u001b[0ma\u001b[0m\u001b[1;33m,\u001b[0m \u001b[1;33m**\u001b[0m\u001b[0mk\u001b[0m\u001b[1;33m)\u001b[0m\u001b[1;33m\u001b[0m\u001b[1;33m\u001b[0m\u001b[0m\n\u001b[0m\u001b[0;32m    188\u001b[0m \u001b[1;33m\u001b[0m\u001b[0m\n\u001b[0;32m    189\u001b[0m         \u001b[1;32mif\u001b[0m \u001b[0mcallable\u001b[0m\u001b[1;33m(\u001b[0m\u001b[0marg\u001b[0m\u001b[1;33m)\u001b[0m\u001b[1;33m:\u001b[0m\u001b[1;33m\u001b[0m\u001b[1;33m\u001b[0m\u001b[0m\n",
      "\u001b[1;32m~\\anaconda3\\lib\\site-packages\\IPython\\core\\magics\\script.py\u001b[0m in \u001b[0;36mshebang\u001b[1;34m(self, line, cell)\u001b[0m\n\u001b[0;32m    243\u001b[0m             \u001b[0msys\u001b[0m\u001b[1;33m.\u001b[0m\u001b[0mstderr\u001b[0m\u001b[1;33m.\u001b[0m\u001b[0mflush\u001b[0m\u001b[1;33m(\u001b[0m\u001b[1;33m)\u001b[0m\u001b[1;33m\u001b[0m\u001b[1;33m\u001b[0m\u001b[0m\n\u001b[0;32m    244\u001b[0m         \u001b[1;32mif\u001b[0m \u001b[0margs\u001b[0m\u001b[1;33m.\u001b[0m\u001b[0mraise_error\u001b[0m \u001b[1;32mand\u001b[0m \u001b[0mp\u001b[0m\u001b[1;33m.\u001b[0m\u001b[0mreturncode\u001b[0m\u001b[1;33m!=\u001b[0m\u001b[1;36m0\u001b[0m\u001b[1;33m:\u001b[0m\u001b[1;33m\u001b[0m\u001b[1;33m\u001b[0m\u001b[0m\n\u001b[1;32m--> 245\u001b[1;33m             \u001b[1;32mraise\u001b[0m \u001b[0mCalledProcessError\u001b[0m\u001b[1;33m(\u001b[0m\u001b[0mp\u001b[0m\u001b[1;33m.\u001b[0m\u001b[0mreturncode\u001b[0m\u001b[1;33m,\u001b[0m \u001b[0mcell\u001b[0m\u001b[1;33m,\u001b[0m \u001b[0moutput\u001b[0m\u001b[1;33m=\u001b[0m\u001b[0mout\u001b[0m\u001b[1;33m,\u001b[0m \u001b[0mstderr\u001b[0m\u001b[1;33m=\u001b[0m\u001b[0merr\u001b[0m\u001b[1;33m)\u001b[0m\u001b[1;33m\u001b[0m\u001b[1;33m\u001b[0m\u001b[0m\n\u001b[0m\u001b[0;32m    246\u001b[0m \u001b[1;33m\u001b[0m\u001b[0m\n\u001b[0;32m    247\u001b[0m     \u001b[1;32mdef\u001b[0m \u001b[0m_run_script\u001b[0m\u001b[1;33m(\u001b[0m\u001b[0mself\u001b[0m\u001b[1;33m,\u001b[0m \u001b[0mp\u001b[0m\u001b[1;33m,\u001b[0m \u001b[0mcell\u001b[0m\u001b[1;33m,\u001b[0m \u001b[0mto_close\u001b[0m\u001b[1;33m)\u001b[0m\u001b[1;33m:\u001b[0m\u001b[1;33m\u001b[0m\u001b[1;33m\u001b[0m\u001b[0m\n",
      "\u001b[1;31mCalledProcessError\u001b[0m: Command 'b'old_characters=$1\\nnew_characters=$2\\n\\nfor str in $(ls ${1}*)\\ndo\\nmv \"$str\" \"${str/$old_characters/$new_characters}\"\\ndone\\n'' returned non-zero exit status 1."
     ]
    }
   ],
   "source": [
    "%%bash\n",
    "old_characters=$1\n",
    "new_characters=$2\n",
    "\n",
    "for str in $(ls ${1}*)\n",
    "do\n",
    "mv \"$str\" \"${str/$old_characters/$new_characters}\"\n",
    "done"
   ]
  },
  {
   "cell_type": "code",
   "execution_count": 106,
   "metadata": {
    "ExecuteTime": {
     "end_time": "2022-04-25T18:04:13.226299Z",
     "start_time": "2022-04-25T18:04:13.150285Z"
    }
   },
   "outputs": [
    {
     "name": "stderr",
     "output_type": "stream",
     "text": [
      "ls: cannot access 'nyu*': No such file or directory\n"
     ]
    }
   ],
   "source": [
    "!bash rename_files.sh nyu CDS"
   ]
  },
  {
   "cell_type": "markdown",
   "metadata": {},
   "source": [
    "##### 3.2 Working with Numbers"
   ]
  },
  {
   "cell_type": "markdown",
   "metadata": {},
   "source": [
    "Remember the script `middle.sh` from Lecture 06. It allowed us to view the middle portion of a file by chaining together `head` and `tail` with a pipe. Let's try to rewrite it a little...we want to write a script called `show_lines.sh` that indicates a file, the ending line, and the starting line. \n",
    "\n",
    "For example, if we wanted to view line 5 up to and including line 10 of `data/planets.txt`, then we would run `bash show_lines.sh data/planets.txt 10 5` in the terminal from the current working directory.\n",
    "\n",
    "Following the code in `middle.sh` we need to specify the number of lines for `head` and `tail`. If we indicate `10` for `head` through use of `${2}`, then we need to specify `6` to tail. Note that `6=10-5+1`. We can do arithmetic in bash using `$(())`. Note that we have two sets of parentheses instead of one set for subprocess (see Question 3.1). So we would need `$((${2} - ${3} + 1))` for `6`.\n",
    "\n",
    "Using this observation write the code for `show_lines.sh`."
   ]
  },
  {
   "cell_type": "code",
   "execution_count": 109,
   "metadata": {
    "ExecuteTime": {
     "end_time": "2022-04-25T18:04:27.400886Z",
     "start_time": "2022-04-25T18:04:27.384880Z"
    }
   },
   "outputs": [
    {
     "ename": "SyntaxError",
     "evalue": "invalid syntax (Temp/ipykernel_18596/1859883991.py, line 4)",
     "output_type": "error",
     "traceback": [
      "\u001b[1;36m  File \u001b[1;32m\"C:\\Users\\JIJUND~1\\AppData\\Local\\Temp/ipykernel_18596/1859883991.py\"\u001b[1;36m, line \u001b[1;32m4\u001b[0m\n\u001b[1;33m    head -n ${2} \"${1}\" | tail -n $((${2} - ${3} + 1))\u001b[0m\n\u001b[1;37m            ^\u001b[0m\n\u001b[1;31mSyntaxError\u001b[0m\u001b[1;31m:\u001b[0m invalid syntax\n"
     ]
    }
   ],
   "source": [
    "# COPY THE CONTENS OF YOUR SCRIPT HERE\n",
    "\n",
    "!/bin/bash\n",
    "head -n ${2} \"${1}\" | tail -n $((${2} - ${3} + 1))"
   ]
  },
  {
   "cell_type": "code",
   "execution_count": 108,
   "metadata": {
    "ExecuteTime": {
     "end_time": "2022-04-25T18:04:21.212014Z",
     "start_time": "2022-04-25T18:04:21.096881Z"
    }
   },
   "outputs": [
    {
     "name": "stdout",
     "output_type": "stream",
     "text": [
      "\"CoRoT-11 b\",\"2.33\",\"1.43\",\"2.99433\",\n",
      "\"CoRoT-12 b\",\"0.917\",\"1.44\",\"2.828042\",\n",
      "\"CoRoT-13 b\",\"1.308\",\"0.885\",\"4.03519\",\n",
      "\"CoRoT-14 b\",\"7.6\",\"1.09\",\"1.51214\",\n",
      "\"CoRoT-16 b\",\"0.535\",\"1.17\",\"5.35227\",\n",
      "\"CoRoT-17 b\",\"2.45\",\"1.02\",\"3.768125\",\n"
     ]
    }
   ],
   "source": [
    "!bash show_lines.sh data/planets.txt 10 5"
   ]
  },
  {
   "cell_type": "code",
   "execution_count": null,
   "metadata": {},
   "outputs": [],
   "source": []
  }
 ],
 "metadata": {
  "kernelspec": {
   "display_name": "Python 3 (ipykernel)",
   "language": "python",
   "name": "python3"
  },
  "language_info": {
   "codemirror_mode": {
    "name": "ipython",
    "version": 3
   },
   "file_extension": ".py",
   "mimetype": "text/x-python",
   "name": "python",
   "nbconvert_exporter": "python",
   "pygments_lexer": "ipython3",
   "version": "3.9.7"
  },
  "toc": {
   "base_numbering": 1,
   "nav_menu": {},
   "number_sections": true,
   "sideBar": true,
   "skip_h1_title": false,
   "title_cell": "Table of Contents",
   "title_sidebar": "Contents",
   "toc_cell": false,
   "toc_position": {},
   "toc_section_display": true,
   "toc_window_display": false
  }
 },
 "nbformat": 4,
 "nbformat_minor": 4
}
