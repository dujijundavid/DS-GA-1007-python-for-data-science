{
 "cells": [
  {
   "cell_type": "markdown",
   "metadata": {
    "nbgrader": {
     "grade": false,
     "locked": false,
     "solution": false
    },
    "slideshow": {
     "slide_type": "-"
    }
   },
   "source": [
    "# <span style=\"color:blue\">Programming for Data Science - DS-GA 1007</span>\n",
    "## <span style=\"color:blue\">Homework 8: NumPy and pandas</span>"
   ]
  },
  {
   "cell_type": "markdown",
   "metadata": {
    "nbgrader": {
     "grade": false,
     "grade_id": "intro",
     "locked": true,
     "schema_version": 2,
     "solution": false
    }
   },
   "source": [
    "### Due Date: Sunday 11/17, 11:59 PM\n",
    "\n",
    "We will explore some aspects of the NumPy and pandas packages. Along the way, we will get experience with manipulating arrays and tables. These skills are helpful throughout data science particularly in data collection and data processing. By completing Homework 8, you should take away...\n",
    "\n",
    "- Practice accessing entries of arrays through logical expressions\n",
    "\n",
    "- Gain experience with combining Series, filtering DataFrames and reading/writing tabular data from different file formats\n",
    "\n",
    "### Submission Instructions\n",
    "For this assignment and future assignments (Homework 9,10,11) you will submit a copy to Gradescope. Follow these steps\n",
    "\n",
    "1. Download as HTML (`File->Download As->HTML(.html)`). \n",
    "1. Open the HTML in the browser. Print to .pdf \n",
    "1. Upload to Gradescope. Tag your answers. \n",
    "\n",
    "Note that \n",
    "\n",
    "- Please map your answers to our questions. Otherwise you may lose points. Please see the rubric below. \n",
    "- You should break long lines of code into multiple lines. Otherwise your code will extend out of view from the cell. Consider using `\\` followed by a new line. \n",
    "- For each textual response, please include relevant code that informed your response. For each plotting question, please include the code used to generate the plot.\n",
    "- You should not display large output cells such as all rows of a table. Instead convert the input cell from Code to Markdown back to Code to remove the output cell.\n",
    "\n",
    "\n",
    "### Collaboration Policy\n",
    "\n",
    "Data science is a collaborative activity. While you may talk with others about\n",
    "the homework, we ask that you **write your solutions individually**. If you do\n",
    "discuss the assignments with others please **include their names** at the top\n",
    "of your solution.\n",
    "\n",
    "\n",
    "### Rubric\n",
    "\n",
    "Question | Points\n",
    "--- | ---\n",
    "Gradescope | 2\n",
    "Question 1 | 1\n",
    "Question 2 | 1\n",
    "Question 3 | 2\n",
    "Question 4 | 3\n",
    "Question 5 | 2\n",
    "Question 6 | 2\n",
    "Question 7 | 2\n",
    "Question 8 | 3\n",
    "Total | 16"
   ]
  },
  {
   "cell_type": "markdown",
   "metadata": {},
   "source": [
    "Please import the following packages"
   ]
  },
  {
   "cell_type": "code",
   "execution_count": 4,
   "metadata": {},
   "outputs": [],
   "source": [
    "import numpy as np\n",
    "from numpy.testing import assert_array_equal\n",
    "import pandas as pd\n",
    "from countwords import load_word_counts"
   ]
  },
  {
   "cell_type": "markdown",
   "metadata": {},
   "source": [
    "### Exercise 1 (1.0 point)\n",
    "Using NumPy, complete the function below. The function should create and return the following 2D array:\n",
    "```\n",
    "[[ 1  6 11 16 21 26 31 36]\n",
    " [ 2  7 12 17 22 27 32 37]\n",
    " [ 3  8 13 18 23 28 33 38]\n",
    " [ 4  9 14 19 24 29 34 39]\n",
    " [ 5 10 15 20 25 30 35 40]]\n",
    "```\n",
    "You must find a way to generate the array without constructing it explicitly."
   ]
  },
  {
   "cell_type": "code",
   "execution_count": 5,
   "metadata": {
    "nbgrader": {
     "grade": false,
     "grade_id": "Q1A",
     "locked": false,
     "solution": true
    }
   },
   "outputs": [],
   "source": [
    "def create_array():\n",
    "    ### BEGIN SOLUTION\n",
    "    \n",
    "    result = np.arange(1,41).reshape(8,5).T\n",
    "    \n",
    "    ### END SOLUTION\n",
    "    return result"
   ]
  },
  {
   "cell_type": "code",
   "execution_count": 6,
   "metadata": {},
   "outputs": [
    {
     "data": {
      "text/plain": [
       "array([[ 1,  6, 11, 16, 21, 26, 31, 36],\n",
       "       [ 2,  7, 12, 17, 22, 27, 32, 37],\n",
       "       [ 3,  8, 13, 18, 23, 28, 33, 38],\n",
       "       [ 4,  9, 14, 19, 24, 29, 34, 39],\n",
       "       [ 5, 10, 15, 20, 25, 30, 35, 40]])"
      ]
     },
     "execution_count": 6,
     "metadata": {},
     "output_type": "execute_result"
    }
   ],
   "source": [
    "create_array()"
   ]
  },
  {
   "cell_type": "code",
   "execution_count": 7,
   "metadata": {
    "nbgrader": {
     "grade": true,
     "grade_id": "Q1B",
     "locked": true,
     "points": 1,
     "solution": false
    }
   },
   "outputs": [],
   "source": [
    "# if your code works properly, the assert below should not raise a message\n",
    "assert_array_equal(create_array(), np.array([[ 1,  6, 11, 16, 21, 26, 31, 36],\n",
    "                                             [ 2,  7, 12, 17, 22, 27, 32, 37],\n",
    "                                             [ 3,  8, 13, 18, 23, 28, 33, 38],\n",
    "                                             [ 4,  9, 14, 19, 24, 29, 34, 39],\n",
    "                                             [ 5, 10, 15, 20, 25, 30, 35, 40]]))"
   ]
  },
  {
   "cell_type": "markdown",
   "metadata": {},
   "source": [
    "### Exercise 2 (1.0 point)\n",
    "The function below should return an array containing the second, fourth and fifth rows from the input array `original`. The argument (input array) must be a 2D array. If the argument is not a 2D array or does not have the required number of rows, return `None`. "
   ]
  },
  {
   "cell_type": "code",
   "execution_count": 8,
   "metadata": {
    "nbgrader": {
     "grade": false,
     "grade_id": "Q2A",
     "locked": false,
     "solution": true
    }
   },
   "outputs": [],
   "source": [
    "def new_array_second_fourth_fifth(original):\n",
    "    ### BEGIN SOLUTION\n",
    "    \n",
    "    if type(original) is not np.ndarray: # check if array\n",
    "        result = None\n",
    "    elif len(original.shape) != 2: # check if 2D array\n",
    "        result = None\n",
    "    elif original.shape[0] > 5: # check if 5 rows exist\n",
    "        result = None\n",
    "    else:\n",
    "        indices = np.array([1,3,4]) # zero-indexed rows wanted\n",
    "        result = original[indices,0:]\n",
    "    \n",
    "    ### END SOLUTION\n",
    "    return result"
   ]
  },
  {
   "cell_type": "code",
   "execution_count": 9,
   "metadata": {},
   "outputs": [
    {
     "data": {
      "text/plain": [
       "array([[ 2,  7, 12, 17, 22, 27, 32, 37],\n",
       "       [ 4,  9, 14, 19, 24, 29, 34, 39],\n",
       "       [ 5, 10, 15, 20, 25, 30, 35, 40]])"
      ]
     },
     "execution_count": 9,
     "metadata": {},
     "output_type": "execute_result"
    }
   ],
   "source": [
    "# test\n",
    "new_array_second_fourth_fifth(create_array())"
   ]
  },
  {
   "cell_type": "code",
   "execution_count": 10,
   "metadata": {
    "nbgrader": {
     "grade": true,
     "grade_id": "Q2B",
     "locked": true,
     "points": 1,
     "solution": false
    }
   },
   "outputs": [],
   "source": [
    "# if your code works properly, the asserts below should not raise a message\n",
    "assert_array_equal(new_array_second_fourth_fifth([1,2,3]), None)\n",
    "assert_array_equal(new_array_second_fourth_fifth(create_array()), \n",
    "                   np.array([\n",
    "                       [ 2,  7, 12, 17, 22, 27, 32, 37],\n",
    "                       [ 4,  9, 14, 19, 24, 29, 34, 39],\n",
    "                       [ 5, 10, 15, 20, 25, 30, 35, 40]]))"
   ]
  },
  {
   "cell_type": "markdown",
   "metadata": {},
   "source": [
    "### Exercise 3 (2.0 point) \n",
    "\n",
    "### 3a (1.0 point)\n",
    "\n",
    "NumPy provides a function called `where`, which allows to find elements in an array that satisfies a conditional statement. \n",
    "\n",
    "Using the function `where`, complete the function below such that it returns a flattened array with the elements from the input array `original` that are multiples of three. Return `None` if there is no multiple of three. \n",
    "\n",
    "The input must be a NumPy array (`np.ndarray`). If the argument is invalid, return `None`."
   ]
  },
  {
   "cell_type": "code",
   "execution_count": 11,
   "metadata": {
    "nbgrader": {
     "grade": false,
     "grade_id": "Q4A",
     "locked": false,
     "solution": true
    }
   },
   "outputs": [],
   "source": [
    "def multi_three(original):\n",
    "    ### BEGIN SOLUTION\n",
    "    if type(original) is not np.ndarray: # check if array\n",
    "        result = None\n",
    "    else:\n",
    "        mult_three = np.where(original % 3 == 0)\n",
    "    ### END SOLUTION\n",
    "    return original[mult_three]"
   ]
  },
  {
   "cell_type": "code",
   "execution_count": 12,
   "metadata": {},
   "outputs": [
    {
     "data": {
      "text/plain": [
       "array([ 6, 21, 36, 12, 27,  3, 18, 33,  9, 24, 39, 15, 30])"
      ]
     },
     "execution_count": 12,
     "metadata": {},
     "output_type": "execute_result"
    }
   ],
   "source": [
    "multi_three(create_array())"
   ]
  },
  {
   "cell_type": "code",
   "execution_count": 13,
   "metadata": {
    "nbgrader": {
     "grade": true,
     "grade_id": "Q4B",
     "locked": true,
     "points": 1,
     "solution": false
    },
    "scrolled": true
   },
   "outputs": [],
   "source": [
    "# if your code works properly, the asserts below should not raise a message\n",
    "assert_array_equal(multi_three(create_array()), \n",
    "                   np.array([ 6, 21, 36, 12, 27,  3, 18, 33,  9, 24, 39, 15, 30]))\n",
    "assert_array_equal(multi_three(np.array([[1,2,15],[1,2,3]])),np.array([15,3]))\n",
    "assert_array_equal(multi_three(np.array([[3,7,9,2,2,15]])), np.array([3,9,15]))"
   ]
  },
  {
   "cell_type": "markdown",
   "metadata": {},
   "source": [
    "### 3b (1.0 point)\n",
    "\n",
    "Write a custom implementation of `np.where`, without using `np.where`. This should match the signature of `np.where` exactly. For simplicity, your `custom_where` method only needs to work on 1-D and 2-D arrays."
   ]
  },
  {
   "cell_type": "code",
   "execution_count": 26,
   "metadata": {},
   "outputs": [],
   "source": [
    "# ls = [(0,0),(1,1),(3,0),(4,0)]\n",
    "# ls_1 = []\n",
    "# ls_2 = []\n",
    "# for i,j in ls:\n",
    "#     ls_1.append(i)\n",
    "#     ls_2.append(j)\n",
    "\n",
    "# [i[0] for i in ls]\n",
    "# [i[1] for i in ls]\n",
    "\n",
    "def find_true_indices(temp):\n",
    "    indices_to_keep = []\n",
    "    for index, value in np.ndenumerate(temp):\n",
    "        if value == True:\n",
    "            indices_to_keep.append(index)\n",
    "    return indices_to_keep\n",
    "\n",
    "def converter(some_list):\n",
    "    some_array = np.asarray(some_list)\n",
    "    return some_array.astype('int64')\n",
    "\n",
    "def custom_where(boolean_arr):\n",
    "    list_of_tuples = find_true_indices(boolean_arr)\n",
    "    number_of_indices = len(list_of_tuples[0])\n",
    "    tuple_of_lists = ([idx[entry] for idx in list_of_tuples] for entry in range(number_of_indices))\n",
    "    output = tuple(map(converter, tuple_of_lists))\n",
    "    return output"
   ]
  },
  {
   "cell_type": "code",
   "execution_count": 25,
   "metadata": {},
   "outputs": [],
   "source": [
    "def custom_where(boolean_arr):\n",
    "    ### BEGIN SOLUTION\n",
    "    \n",
    "    if len(boolean_arr.shape)==2:\n",
    "        len(boolean_arr.shape)\n",
    "        arr_1 = []\n",
    "        arr_2 = []\n",
    "        for i in range(boolean_arr.shape[0]): \n",
    "            for j in range(boolean_arr.shape[1]):\n",
    "                if boolean_arr[i][j] == True:\n",
    "                    arr_1.append(i)\n",
    "                    arr_2.append(j)\n",
    "        output = arr_1, arr_2\n",
    "    \n",
    "    else:\n",
    "        arr_1 = []\n",
    "        for i in range(boolean_arr.shape[0]): \n",
    "            if boolean_arr[i] == True:\n",
    "                arr_1.append(i)\n",
    "        output = (np.array(arr_1),)\n",
    "        \n",
    "    ### END SOLUTION\n",
    "    return output"
   ]
  },
  {
   "cell_type": "code",
   "execution_count": 27,
   "metadata": {},
   "outputs": [
    {
     "data": {
      "text/plain": [
       "(array([0, 0, 1, 1, 2, 2, 3, 3, 4, 4]), array([3, 7, 2, 6, 1, 5, 0, 4, 3, 7]))"
      ]
     },
     "execution_count": 27,
     "metadata": {},
     "output_type": "execute_result"
    }
   ],
   "source": [
    "custom_where(create_array() % 4 == 0)\n",
    "#np.where(np.array([True, False, True, True, False]))"
   ]
  },
  {
   "cell_type": "code",
   "execution_count": 28,
   "metadata": {},
   "outputs": [],
   "source": [
    "# if your code works properly, the asserts below should not raise a message\n",
    "assert_array_equal(custom_where(create_array() % 4 == 0),\n",
    "                   np.where(create_array() % 4 == 0))\n",
    "assert_array_equal(custom_where(np.array([True, False, True, True, False])),\n",
    "                   np.where(np.array([True, False, True, True, False])))"
   ]
  },
  {
   "cell_type": "markdown",
   "metadata": {},
   "source": [
    "### Exercise 4 (2.0 point) \n",
    "\n",
    "### 4a (0.5 point)\n",
    "\n",
    "NumPy provides a function called `logical_and`. Using `logical_and`, complete the function below such that it returns an array with the elements from the input array that are in the interval between 3 and 11, inclusive. If there is no element in the sought interval the function should return `None`. The argument must be a NumPy array. If the argument is invalid, return `None`.\n",
    "\n",
    "(You should not have to use any loops for **4a**.)"
   ]
  },
  {
   "cell_type": "code",
   "execution_count": 14,
   "metadata": {
    "nbgrader": {
     "grade": false,
     "grade_id": "Q5A",
     "locked": false,
     "solution": true
    }
   },
   "outputs": [],
   "source": [
    "def get_interval_descending(original):\n",
    "    ### BEGIN SOLUTION\n",
    "    if type(original) is not np.ndarray: # check if array\n",
    "        result = None\n",
    "    else: \n",
    "        result = original[np.logical_and(original>=3, original<=11)]\n",
    "        if result.size < 0:\n",
    "            result = None\n",
    "    ### END SOLUTION\n",
    "    return result"
   ]
  },
  {
   "cell_type": "code",
   "execution_count": 15,
   "metadata": {
    "nbgrader": {
     "grade": true,
     "grade_id": "Q5B",
     "locked": true,
     "points": 1,
     "solution": false
    }
   },
   "outputs": [],
   "source": [
    "# if your code works properly, the asserts below should not raise a message\n",
    "assert_array_equal(get_interval_descending(create_array()), np.array([6, 11,  7,  3,  8,  4,  9,  5, 10]))\n",
    "assert_array_equal(get_interval_descending(np.array([1, 2, 12, 13])), None)\n",
    "assert_array_equal(get_interval_descending(np.array([[1, 2],[11, 13]])), np.array([11]))"
   ]
  },
  {
   "cell_type": "markdown",
   "metadata": {},
   "source": [
    "### 4b (0.5 point)\n",
    "\n",
    "Write `get_interval_descending_v2` which does the same as the above, except using the logical operator `&` instead of `np.logical_and`."
   ]
  },
  {
   "cell_type": "code",
   "execution_count": 16,
   "metadata": {},
   "outputs": [],
   "source": [
    "def get_interval_descending_v2(original):\n",
    "    ### BEGIN SOLUTION\n",
    "    if type(original) is not np.ndarray: # check if array\n",
    "        result = None\n",
    "    else: \n",
    "        result = original[(original >= 3) & (original <=11)]\n",
    "        if result.size < 0:\n",
    "            result = None\n",
    "        \n",
    "    ### END SOLUTION\n",
    "    return result"
   ]
  },
  {
   "cell_type": "code",
   "execution_count": 17,
   "metadata": {},
   "outputs": [],
   "source": [
    "# if your code works properly, the asserts below should not raise a message\n",
    "assert_array_equal(get_interval_descending_v2(create_array()),\n",
    "                   np.array([6, 11,  7,  3,  8,  4,  9,  5, 10]))\n",
    "assert_array_equal(get_interval_descending_v2(np.array([1, 2, 12, 13])), None)\n",
    "assert_array_equal(get_interval_descending_v2(np.array([[1, 2],[11, 13]])), np.array([11]))"
   ]
  },
  {
   "cell_type": "markdown",
   "metadata": {},
   "source": [
    "### 4c (1.0 point)"
   ]
  },
  {
   "cell_type": "markdown",
   "metadata": {},
   "source": [
    "Write a function `logical_and_many` that takes a list of boolean arrays and computes the logical and across all of them. You can use either `np.logical_and` or the `&` operator in this case."
   ]
  },
  {
   "cell_type": "code",
   "execution_count": 18,
   "metadata": {},
   "outputs": [],
   "source": [
    "def logical_and_many(boolean_arr_ls):\n",
    "    ### BEGIN SOLUTION\n",
    "    \n",
    "    test = np.array(boolean_arr_ls)\n",
    "    result = test.all(axis=0)\n",
    "    \n",
    "    ### END SOLUTION\n",
    "    return result"
   ]
  },
  {
   "cell_type": "code",
   "execution_count": 19,
   "metadata": {},
   "outputs": [],
   "source": [
    "# if your code works properly, the asserts below should not raise a message\n",
    "arr = np.arange(20)\n",
    "assert_array_equal(arr[logical_and_many([arr%2==0, arr>7, arr!=14])],\n",
    "                   np.array([ 8, 10, 12, 16, 18]))"
   ]
  },
  {
   "cell_type": "markdown",
   "metadata": {},
   "source": [
    "### Exercise 5 (2.0 point) \n",
    "\n",
    "The `one_selection` function takes as input a 2D array `original` and returns a 1D array that contains the element closest to $1$ for each row. Please do not use loops or comprehensions.\n",
    "\n",
    "Hint: Use the NumPy function `argmin`."
   ]
  },
  {
   "cell_type": "code",
   "execution_count": 20,
   "metadata": {
    "nbgrader": {
     "grade": false,
     "grade_id": "Q7A",
     "locked": false,
     "solution": true
    }
   },
   "outputs": [],
   "source": [
    "import numpy as np\n",
    "\n",
    "def one_selection(original):\n",
    "    ### BEGIN SOLUTION\n",
    "    cols = (np.abs(v - 1)).argmin(axis=1)\n",
    "    rows = range(original.shape[0])\n",
    "    result = original[rows,cols]\n",
    "    ### END SOLUTION\n",
    "    return(result)"
   ]
  },
  {
   "cell_type": "code",
   "execution_count": 21,
   "metadata": {},
   "outputs": [
    {
     "data": {
      "text/plain": [
       "array([ 0, -1,  3,  2, -4])"
      ]
     },
     "execution_count": 21,
     "metadata": {},
     "output_type": "execute_result"
    }
   ],
   "source": [
    "v = np.array([[  0,  -7,  -4],\n",
    "              [-10,   5,  -1],\n",
    "              [  6,   3,  -4],\n",
    "              [  4,   6,   2],\n",
    "              [ -8,  -4,   6]])\n",
    "one_selection(v)"
   ]
  },
  {
   "cell_type": "code",
   "execution_count": 22,
   "metadata": {
    "nbgrader": {
     "grade": true,
     "grade_id": "Q7B",
     "locked": true,
     "points": 4,
     "solution": false
    }
   },
   "outputs": [],
   "source": [
    "# if your code works properly, the asserts below should not raise a message\n",
    "from numpy.testing import assert_array_equal\n",
    "v = np.array([[  0,  -7,  -4],\n",
    "              [-10,   5,  -1],\n",
    "              [  6,   3,  -4],\n",
    "              [  4,   6,   2],\n",
    "              [ -8,  -4,   6]])\n",
    "assert_array_equal(one_selection(v), np.array([0, -1,  3,  2, -4]))"
   ]
  },
  {
   "cell_type": "markdown",
   "metadata": {},
   "source": [
    "### Exercise 6 (2.0 point) \n",
    "Consider the DataFrame `df` as built in the code below. Using pandas, write a function that recieves as input the given DataFrame and return a new DataFrame containing only the rows from column $1$ and $3$ whose value in column 'Animal' is _Dino_. You should be able to do this using only pandas indexing.\n",
    "\n",
    "For instance, if this is the input dataframe:\n",
    "```\n",
    "     0\t1\t2\t3\t4\tAnimal\n",
    "-------------------------------\n",
    "0\t8\t4\t8\t7\t8\tPtero\n",
    "1\t4\t2\t7\t8\t7\tPtero\n",
    "2\t9\t9\t3\t4\t4\tDino\n",
    "3\t5\t4\t3\t2\t6\tPtero\n",
    "4\t6\t8\t9\t6\t7\tDino\n",
    "5\t3\t2\t9\t7\t3\tPtero\n",
    "6\t9\t2\t2\t5\t7\tPtero\n",
    "7\t1\t2\t9\t2\t8\tCroco\n",
    "8\t4\t1\t0\t3\t7\tCroco\n",
    "9\t0\t8\t2\t9\t4\t\n",
    "```\n",
    "the function should return:\n",
    "````\n",
    "     1\t3\tAnimal\n",
    "-------------------\n",
    "2\t9\t4\tDino\n",
    "4\t8\t6\tDino\n",
    "```"
   ]
  },
  {
   "cell_type": "code",
   "execution_count": 23,
   "metadata": {},
   "outputs": [],
   "source": [
    "def select_dino(df_input):\n",
    "    ### BEGIN SOLUTION\n",
    "    result = df_input[df_input['Animal'] == 'Dino']\n",
    "    result = result[[1,3,'Animal']]\n",
    "    ### END SOLUTION\n",
    "    return(result)"
   ]
  },
  {
   "cell_type": "code",
   "execution_count": 24,
   "metadata": {},
   "outputs": [
    {
     "data": {
      "text/html": [
       "<div>\n",
       "<style scoped>\n",
       "    .dataframe tbody tr th:only-of-type {\n",
       "        vertical-align: middle;\n",
       "    }\n",
       "\n",
       "    .dataframe tbody tr th {\n",
       "        vertical-align: top;\n",
       "    }\n",
       "\n",
       "    .dataframe thead th {\n",
       "        text-align: right;\n",
       "    }\n",
       "</style>\n",
       "<table border=\"1\" class=\"dataframe\">\n",
       "  <thead>\n",
       "    <tr style=\"text-align: right;\">\n",
       "      <th></th>\n",
       "      <th>1</th>\n",
       "      <th>3</th>\n",
       "      <th>Animal</th>\n",
       "    </tr>\n",
       "  </thead>\n",
       "  <tbody>\n",
       "    <tr>\n",
       "      <td>4</td>\n",
       "      <td>8</td>\n",
       "      <td>1</td>\n",
       "      <td>Dino</td>\n",
       "    </tr>\n",
       "    <tr>\n",
       "      <td>6</td>\n",
       "      <td>6</td>\n",
       "      <td>2</td>\n",
       "      <td>Dino</td>\n",
       "    </tr>\n",
       "    <tr>\n",
       "      <td>7</td>\n",
       "      <td>1</td>\n",
       "      <td>8</td>\n",
       "      <td>Dino</td>\n",
       "    </tr>\n",
       "  </tbody>\n",
       "</table>\n",
       "</div>"
      ],
      "text/plain": [
       "   1  3 Animal\n",
       "4  8  1   Dino\n",
       "6  6  2   Dino\n",
       "7  1  8   Dino"
      ]
     },
     "execution_count": 24,
     "metadata": {},
     "output_type": "execute_result"
    }
   ],
   "source": [
    "m = np.random.randint(low=0,high=10,size=((10,5)))\n",
    "df = pd.DataFrame(data=m)\n",
    "animal_names = ['Croco','Dino','Anacon','Ptero']\n",
    "animals = np.random.choice(animal_names, 10, p=[0.3, 0.2, 0.2, 0.3])\n",
    "df['Animal'] = animals\n",
    "#print(df)\n",
    "select_dino(df)"
   ]
  },
  {
   "cell_type": "code",
   "execution_count": 25,
   "metadata": {},
   "outputs": [],
   "source": [
    "# if your code works properly, the asserts below should not raise a message\n",
    "m = np.random.randint(low=0,high=10,size=((10,5)))\n",
    "df = pd.DataFrame(data=m)\n",
    "animal_names = ['Croco','Dino','Anacon','Ptero']\n",
    "animals = np.random.choice(animal_names, 10, p=[0.3, 0.2, 0.2, 0.3])\n",
    "df['Animal'] = animals\n",
    "\n",
    "dinos_ids = np.where(animals == 'Dino')\n",
    "assert_array_equal(select_dino(df)[[1,3]].values, m[dinos_ids][:,[1,3]])"
   ]
  },
  {
   "cell_type": "markdown",
   "metadata": {},
   "source": [
    "### Exercise 7 (2.0 point) \n",
    "The pandas module provides a function called `concat` that can be applied to concatenate two pandas series. Using the function `concat`, complete the function below such that it receives two series S1 and S2 as input and returns a new series containing the most frequent value from S1 and S2 repeated as many times as in S1 and S2. The index of the returned series should match the indices where the frequent values apear in S1 and S2.\n",
    "\n",
    "For instance, given the series:\n",
    "```\n",
    "  S1         S2\n",
    "------     ------\n",
    "0    1     0    7\n",
    "1    6     1    9\n",
    "2    6     2    2\n",
    "3    8     3    1\n",
    "4    2     4    9\n",
    "5    6     5    0\n",
    "6    6     6    8\n",
    "```\n",
    "the function should return:\n",
    "```\n",
    "result\n",
    "------\n",
    "1    6\n",
    "2    6\n",
    "5    6\n",
    "6    6\n",
    "1    9\n",
    "4    9\n",
    "```\n",
    "\n",
    "Hint: Use the `value_counts` method to determine the most common numbers from each Series"
   ]
  },
  {
   "cell_type": "code",
   "execution_count": 26,
   "metadata": {},
   "outputs": [],
   "source": [
    "def concat_frequents(s1,s2):\n",
    "    ### BEGIN SOLUTION\n",
    "    \n",
    "    s1_max = s1.value_counts().index[0]\n",
    "    s1_max = s1.value_counts().index[0]\n",
    "    s1_input = s1[s1 == s1_max]\n",
    "    \n",
    "    s2_max = s2.value_counts().index[0]\n",
    "    s2_max = s2.value_counts().index[0]\n",
    "    s2_input = s2[s2 == s2_max]\n",
    "    \n",
    "    result = pd.concat([s1_input,s2_input])\n",
    "\n",
    "    ### END SOLUTION\n",
    "    return(result)"
   ]
  },
  {
   "cell_type": "code",
   "execution_count": 27,
   "metadata": {},
   "outputs": [
    {
     "data": {
      "text/plain": [
       "1    6\n",
       "2    6\n",
       "5    6\n",
       "6    6\n",
       "1    9\n",
       "4    9\n",
       "dtype: int64"
      ]
     },
     "execution_count": 27,
     "metadata": {},
     "output_type": "execute_result"
    }
   ],
   "source": [
    "s1 = pd.Series([1,6,6,8,2,6,6])\n",
    "s1_max = s1.value_counts().index[0]\n",
    "s1[s1 == s1_max]\n",
    "\n",
    "s2 = pd.Series([7,9,2,1,9,0,8])\n",
    "s2_max = s2.value_counts().index[0]\n",
    "s2[s2 == s2_max]\n",
    "\n",
    "\n",
    "concat_frequents(s1,s2)"
   ]
  },
  {
   "cell_type": "code",
   "execution_count": 28,
   "metadata": {},
   "outputs": [],
   "source": [
    "# if your code works properly, the asserts below should not raise a message\n",
    "\n",
    "s1 = pd.Series([1,6,6,8,2,6,6])\n",
    "s2 = pd.Series([7,9,2,1,9,0,8])\n",
    "\n",
    "s = concat_frequents(s1,s2)\n",
    "\n",
    "assert_array_equal(list(s.values),[6, 6, 6, 6, 9, 9])\n",
    "assert_array_equal(list(s.index),[1, 2, 5, 6, 1, 4])"
   ]
  },
  {
   "cell_type": "markdown",
   "metadata": {},
   "source": [
    "## Exercise 8 (2.0 Points)\n",
    "\n",
    "We want to process the data from Homework 7 that counted the occurence of words. Here we will use pandas to convert the data to a DataFrame, format the columns, filter the rows, and output to a .tsv file. "
   ]
  },
  {
   "cell_type": "markdown",
   "metadata": {},
   "source": [
    "$1.$ Use `load_word_counts` to read the data in `isles.dat` into a list called `word_count_frequency`. Each entry of 'word_count_frequency' should be a tuple."
   ]
  },
  {
   "cell_type": "code",
   "execution_count": 29,
   "metadata": {},
   "outputs": [],
   "source": [
    "### BEGIN SOLUTION \n",
    "\n",
    "file_name = 'isles.dat'\n",
    "word_count_frequency = load_word_counts(file_name)\n",
    "\n",
    "### END SOLUTION"
   ]
  },
  {
   "cell_type": "markdown",
   "metadata": {},
   "source": [
    "$2$. Create a DataFrame called `df_words` containing the entries of `word_count_frequency` as rows. The DataFrame should have three columns called `Word`, `Count`, `Frequency`. "
   ]
  },
  {
   "cell_type": "code",
   "execution_count": 30,
   "metadata": {},
   "outputs": [
    {
     "data": {
      "text/html": [
       "<div>\n",
       "<style scoped>\n",
       "    .dataframe tbody tr th:only-of-type {\n",
       "        vertical-align: middle;\n",
       "    }\n",
       "\n",
       "    .dataframe tbody tr th {\n",
       "        vertical-align: top;\n",
       "    }\n",
       "\n",
       "    .dataframe thead th {\n",
       "        text-align: right;\n",
       "    }\n",
       "</style>\n",
       "<table border=\"1\" class=\"dataframe\">\n",
       "  <thead>\n",
       "    <tr style=\"text-align: right;\">\n",
       "      <th></th>\n",
       "      <th>Word</th>\n",
       "      <th>Count</th>\n",
       "      <th>Frequency</th>\n",
       "    </tr>\n",
       "  </thead>\n",
       "  <tbody>\n",
       "    <tr>\n",
       "      <td>0</td>\n",
       "      <td>the</td>\n",
       "      <td>3822</td>\n",
       "      <td>6.737176</td>\n",
       "    </tr>\n",
       "    <tr>\n",
       "      <td>1</td>\n",
       "      <td>of</td>\n",
       "      <td>2460</td>\n",
       "      <td>4.336330</td>\n",
       "    </tr>\n",
       "    <tr>\n",
       "      <td>2</td>\n",
       "      <td>and</td>\n",
       "      <td>1723</td>\n",
       "      <td>3.037194</td>\n",
       "    </tr>\n",
       "    <tr>\n",
       "      <td>3</td>\n",
       "      <td>to</td>\n",
       "      <td>1479</td>\n",
       "      <td>2.607086</td>\n",
       "    </tr>\n",
       "    <tr>\n",
       "      <td>4</td>\n",
       "      <td>a</td>\n",
       "      <td>1308</td>\n",
       "      <td>2.305658</td>\n",
       "    </tr>\n",
       "  </tbody>\n",
       "</table>\n",
       "</div>"
      ],
      "text/plain": [
       "  Word  Count  Frequency\n",
       "0  the   3822   6.737176\n",
       "1   of   2460   4.336330\n",
       "2  and   1723   3.037194\n",
       "3   to   1479   2.607086\n",
       "4    a   1308   2.305658"
      ]
     },
     "execution_count": 30,
     "metadata": {},
     "output_type": "execute_result"
    }
   ],
   "source": [
    "### BEGIN SOLUTION \n",
    "\n",
    "df_words = pd.DataFrame(word_count_frequency, columns=['Word','Count','Frequency'])\n",
    "df_words.head()\n",
    "\n",
    "### END SOLUTION "
   ]
  },
  {
   "cell_type": "markdown",
   "metadata": {},
   "source": [
    "$3.$ Create another DataFrame called `df_words_filtered` dropping all rows containing words with fewer than 30 occurences."
   ]
  },
  {
   "cell_type": "code",
   "execution_count": 31,
   "metadata": {},
   "outputs": [
    {
     "data": {
      "text/html": [
       "<div>\n",
       "<style scoped>\n",
       "    .dataframe tbody tr th:only-of-type {\n",
       "        vertical-align: middle;\n",
       "    }\n",
       "\n",
       "    .dataframe tbody tr th {\n",
       "        vertical-align: top;\n",
       "    }\n",
       "\n",
       "    .dataframe thead th {\n",
       "        text-align: right;\n",
       "    }\n",
       "</style>\n",
       "<table border=\"1\" class=\"dataframe\">\n",
       "  <thead>\n",
       "    <tr style=\"text-align: right;\">\n",
       "      <th></th>\n",
       "      <th>Word</th>\n",
       "      <th>Count</th>\n",
       "      <th>Frequency</th>\n",
       "    </tr>\n",
       "  </thead>\n",
       "  <tbody>\n",
       "    <tr>\n",
       "      <td>219</td>\n",
       "      <td>give</td>\n",
       "      <td>30</td>\n",
       "      <td>0.052882</td>\n",
       "    </tr>\n",
       "    <tr>\n",
       "      <td>220</td>\n",
       "      <td>name</td>\n",
       "      <td>30</td>\n",
       "      <td>0.052882</td>\n",
       "    </tr>\n",
       "    <tr>\n",
       "      <td>221</td>\n",
       "      <td>good</td>\n",
       "      <td>30</td>\n",
       "      <td>0.052882</td>\n",
       "    </tr>\n",
       "    <tr>\n",
       "      <td>222</td>\n",
       "      <td>went</td>\n",
       "      <td>30</td>\n",
       "      <td>0.052882</td>\n",
       "    </tr>\n",
       "    <tr>\n",
       "      <td>223</td>\n",
       "      <td>mull</td>\n",
       "      <td>30</td>\n",
       "      <td>0.052882</td>\n",
       "    </tr>\n",
       "  </tbody>\n",
       "</table>\n",
       "</div>"
      ],
      "text/plain": [
       "     Word  Count  Frequency\n",
       "219  give     30   0.052882\n",
       "220  name     30   0.052882\n",
       "221  good     30   0.052882\n",
       "222  went     30   0.052882\n",
       "223  mull     30   0.052882"
      ]
     },
     "execution_count": 31,
     "metadata": {},
     "output_type": "execute_result"
    }
   ],
   "source": [
    "### BEGIN SOLUTION \n",
    "\n",
    "df_words_filtered = df_words[df_words['Count']>=30]\n",
    "df_words_filtered.tail()\n",
    "### END SOLUTION"
   ]
  },
  {
   "cell_type": "markdown",
   "metadata": {},
   "source": [
    "$4.$ Truncate the numbers in the `Frequency` column of `df_words_filtered` to two decimal places. \n",
    "\n",
    "(Your solution should not raise a `SettingWithCopyWarning` warning. If it does, call:\n",
    "\n",
    "```python\n",
    "df_words_filtered = df_words_filtered.copy()\n",
    "```"
   ]
  },
  {
   "cell_type": "code",
   "execution_count": 32,
   "metadata": {
    "scrolled": true
   },
   "outputs": [
    {
     "data": {
      "text/html": [
       "<div>\n",
       "<style scoped>\n",
       "    .dataframe tbody tr th:only-of-type {\n",
       "        vertical-align: middle;\n",
       "    }\n",
       "\n",
       "    .dataframe tbody tr th {\n",
       "        vertical-align: top;\n",
       "    }\n",
       "\n",
       "    .dataframe thead th {\n",
       "        text-align: right;\n",
       "    }\n",
       "</style>\n",
       "<table border=\"1\" class=\"dataframe\">\n",
       "  <thead>\n",
       "    <tr style=\"text-align: right;\">\n",
       "      <th></th>\n",
       "      <th>Word</th>\n",
       "      <th>Count</th>\n",
       "      <th>Frequency</th>\n",
       "    </tr>\n",
       "  </thead>\n",
       "  <tbody>\n",
       "    <tr>\n",
       "      <td>219</td>\n",
       "      <td>give</td>\n",
       "      <td>30</td>\n",
       "      <td>0.05</td>\n",
       "    </tr>\n",
       "    <tr>\n",
       "      <td>220</td>\n",
       "      <td>name</td>\n",
       "      <td>30</td>\n",
       "      <td>0.05</td>\n",
       "    </tr>\n",
       "    <tr>\n",
       "      <td>221</td>\n",
       "      <td>good</td>\n",
       "      <td>30</td>\n",
       "      <td>0.05</td>\n",
       "    </tr>\n",
       "    <tr>\n",
       "      <td>222</td>\n",
       "      <td>went</td>\n",
       "      <td>30</td>\n",
       "      <td>0.05</td>\n",
       "    </tr>\n",
       "    <tr>\n",
       "      <td>223</td>\n",
       "      <td>mull</td>\n",
       "      <td>30</td>\n",
       "      <td>0.05</td>\n",
       "    </tr>\n",
       "  </tbody>\n",
       "</table>\n",
       "</div>"
      ],
      "text/plain": [
       "     Word  Count  Frequency\n",
       "219  give     30       0.05\n",
       "220  name     30       0.05\n",
       "221  good     30       0.05\n",
       "222  went     30       0.05\n",
       "223  mull     30       0.05"
      ]
     },
     "execution_count": 32,
     "metadata": {},
     "output_type": "execute_result"
    }
   ],
   "source": [
    "### BEGIN SOLUTION \n",
    "df_words_filtered = df_words_filtered.copy()\n",
    "df_words_filtered['Frequency'] = df_words_filtered['Frequency'].round(2)\n",
    "df_words_filtered.tail()\n",
    "### END SOLUTION "
   ]
  },
  {
   "cell_type": "markdown",
   "metadata": {},
   "source": [
    "$5.$ Output `df_words_filtered` to `word_counts.tsv`. Ensure that the separator between columns is a tab. Do not include the index as an additional column."
   ]
  },
  {
   "cell_type": "code",
   "execution_count": 33,
   "metadata": {},
   "outputs": [],
   "source": [
    "### BEGIN SOLUTION \n",
    "df_words_filtered.to_csv('word_counts.tsv', sep='\\t', index=False)\n",
    "### END SOLUTION "
   ]
  },
  {
   "cell_type": "code",
   "execution_count": 34,
   "metadata": {},
   "outputs": [],
   "source": [
    "### TESTS\n",
    "with open('word_counts.tsv', \"r\") as f:\n",
    "    line = f.readlines()[1]\n",
    "assert line == 'the\\t3822\\t6.74\\n'"
   ]
  }
 ],
 "metadata": {
  "anaconda-cloud": {},
  "celltoolbar": "Create Assignment",
  "kernelspec": {
   "display_name": "Python 3",
   "language": "python",
   "name": "python3"
  },
  "language_info": {
   "codemirror_mode": {
    "name": "ipython",
    "version": 3
   },
   "file_extension": ".py",
   "mimetype": "text/x-python",
   "name": "python",
   "nbconvert_exporter": "python",
   "pygments_lexer": "ipython3",
   "version": "3.7.0"
  }
 },
 "nbformat": 4,
 "nbformat_minor": 4
}
