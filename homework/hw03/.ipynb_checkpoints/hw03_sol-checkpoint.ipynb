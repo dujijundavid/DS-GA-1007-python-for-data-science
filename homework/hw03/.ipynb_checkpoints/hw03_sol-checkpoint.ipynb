{
 "cells": [
  {
   "cell_type": "markdown",
   "metadata": {},
   "source": [
    "## Homework 3\n",
    "#### Due Saturday October 5 by 11:59pm on Gradescope"
   ]
  },
  {
   "cell_type": "markdown",
   "metadata": {},
   "source": [
    "Please import the following package."
   ]
  },
  {
   "cell_type": "code",
   "execution_count": 1,
   "metadata": {},
   "outputs": [],
   "source": [
    "import numpy as np"
   ]
  },
  {
   "cell_type": "markdown",
   "metadata": {},
   "source": [
    "### Storage\n",
    "\n",
    "**_How to compress an array with lots of zeros_**"
   ]
  },
  {
   "cell_type": "markdown",
   "metadata": {},
   "source": [
    "Suppose we have an array `np.array([[1,0], [0,4]])`. We could store the indices of non-zero entries (namely (0,0) and (1,1)) and the values of non-zero entries (namely 1 and 4) in a dictionary. Instead we will encode the non-zero entries with three arrays\n",
    "        \n",
    "* `nonzero_values` :  The nonzero entries in row major order. For example `np.array([1,4])`\n",
    "* `nonzero_values_column` :  The columns of each non-zero entry. For example `np.array([0,1])`\n",
    "* `nonzero_values_count` :  The cumulative count of non-zero entries in each row. Here the entry with index $i$th corresponds to rows 0 through $i-1$. For example `np.array([0,1,2])`."
   ]
  },
  {
   "cell_type": "markdown",
   "metadata": {},
   "source": [
    "Consider a function called `dense_to_sparse` that inputs an array and outputs `nonzero_values`, `nonzero_values_column`, and `nonzero_values_count` together as a tuple.  \n",
    "\n",
    "a. Write pseudo-code for `dense_to_sparse`"
   ]
  },
  {
   "cell_type": "raw",
   "metadata": {},
   "source": [
    "See code below"
   ]
  },
  {
   "cell_type": "markdown",
   "metadata": {},
   "source": [
    "b. Write code for `dense_to_sparse`"
   ]
  },
  {
   "cell_type": "code",
   "execution_count": 2,
   "metadata": {},
   "outputs": [],
   "source": [
    "# Implement this\n",
    "def dense_to_sparse(arr):\n",
    "    nonzero_values = []\n",
    "    nonzero_values_column = []\n",
    "    nonzero_values_count = [0]\n",
    "    count = 0\n",
    "    for i in range(arr.shape[0]):\n",
    "        for j in range(arr.shape[1]):\n",
    "            if arr[i, j] != 0:\n",
    "                nonzero_values.append(arr[i, j])\n",
    "                nonzero_values_column.append(j)\n",
    "                count += 1\n",
    "        nonzero_values_count.append(count)\n",
    "    return (\n",
    "        np.array(nonzero_values), \n",
    "        np.array(nonzero_values_column), \n",
    "        np.array(nonzero_values_count),\n",
    "    )"
   ]
  },
  {
   "cell_type": "code",
   "execution_count": 3,
   "metadata": {},
   "outputs": [
    {
     "name": "stdout",
     "output_type": "stream",
     "text": [
      "[1 4]\n",
      "[0 1]\n",
      "[0 1 2]\n"
     ]
    }
   ],
   "source": [
    "nonzero_values, nonzero_values_column, nonzero_values_count = dense_to_sparse(np.array([[1,0], [0,4]]))\n",
    "print(nonzero_values)\n",
    "print(nonzero_values_column)\n",
    "print(nonzero_values_count)"
   ]
  },
  {
   "cell_type": "markdown",
   "metadata": {},
   "source": [
    "Consider a function called `sparse_to_dense` that reverses `dense_to_sparse`. The function has five inputs: three arrays (`nonzero_values`, `nonzero_values_column`, `nonzero_values_count`) along with two integers (the number of rows and columns). The output is the original matrix. For example,\n",
    "\n",
    "`sparse_to_dense(np.array([1,4]), np.array([0,1]), np.array([0,1,2]), 2, 2)` \n",
    "\n",
    "is `np.array([[1,0], [0,4]])`.\n",
    "\n",
    "c. Write pseudo-code for `sparse_to_dense`"
   ]
  },
  {
   "cell_type": "raw",
   "metadata": {},
   "source": [
    "See code below"
   ]
  },
  {
   "cell_type": "markdown",
   "metadata": {},
   "source": [
    "d. Write code for `sparse_to_dense`"
   ]
  },
  {
   "cell_type": "code",
   "execution_count": 4,
   "metadata": {},
   "outputs": [],
   "source": [
    "# Implement this, including modifying argument names\n",
    "def sparse_to_dense(arr1, arr2, arr3, nrows, ncols):\n",
    "    nonzero_values, nonzero_values_column, nonzero_values_count = arr1, arr2, arr3\n",
    "    diffs = []\n",
    "    for i in range(1, len(nonzero_values_count)):\n",
    "        diffs.append(nonzero_values_count[i] - nonzero_values_count[i-1])\n",
    "    result = np.zeros([nrows, ncols])\n",
    "    curr = 0\n",
    "    for i, num_in_row in enumerate(diffs):\n",
    "        for _ in range(num_in_row):\n",
    "            result[i, nonzero_values_column[curr]] = nonzero_values[curr]\n",
    "            curr += 1\n",
    "    return result"
   ]
  },
  {
   "cell_type": "code",
   "execution_count": 5,
   "metadata": {},
   "outputs": [
    {
     "data": {
      "text/plain": [
       "array([[1., 0.],\n",
       "       [0., 4.]])"
      ]
     },
     "execution_count": 5,
     "metadata": {},
     "output_type": "execute_result"
    }
   ],
   "source": [
    "sparse_to_dense(nonzero_values, nonzero_values_column, nonzero_values_count, 2, 2)"
   ]
  },
  {
   "cell_type": "markdown",
   "metadata": {},
   "source": [
    "### Classes \n",
    "\n",
    "**_How to resuse code through inheritance_**"
   ]
  },
  {
   "cell_type": "markdown",
   "metadata": {},
   "source": [
    "<img src=\"img.png\" alt=\"drawing\" width=\"200\" style=\"float:right\"/>\n",
    "\n",
    "We want to use organize the different approaches to storing the data in arrays. \n",
    "\n",
    "e. Create a class called `GenericMatrix` with two instance attributes\n",
    " - `self.number_rows` storing the number of rows\n",
    " - `self.number_columns` storing the number of columns"
   ]
  },
  {
   "cell_type": "code",
   "execution_count": 6,
   "metadata": {},
   "outputs": [],
   "source": [
    "# Implement this\n",
    "class GenericMatrix:\n",
    "    def __init__(self, nrows, ncols):\n",
    "        self.number_rows = nrows\n",
    "        self.number_cols = ncols"
   ]
  },
  {
   "cell_type": "markdown",
   "metadata": {},
   "source": [
    "f. Create a subclass of `GenericMatrix` called `DenseMatrix` with \n",
    " - instance attribute `self.data` storing the numpy array\n",
    " - constructor `__init__` that sets `self.data` along with `self.number_rows`, `self.number_columns` in the superclass"
   ]
  },
  {
   "cell_type": "code",
   "execution_count": 7,
   "metadata": {},
   "outputs": [],
   "source": [
    "# Implement this\n",
    "class DenseMatrix(GenericMatrix):\n",
    "    def __init__(self, nrows, ncols, data):\n",
    "        super().__init__(nrows, ncols)\n",
    "        self.data = data"
   ]
  },
  {
   "cell_type": "markdown",
   "metadata": {},
   "source": [
    "g. Create a subclass of `GenericMatrix` called `GenericSparseMatrix` with \n",
    " - constructor `__init__` that sets `self.number_rows`, `self.number_columns` in the superclass"
   ]
  },
  {
   "cell_type": "code",
   "execution_count": 8,
   "metadata": {},
   "outputs": [],
   "source": [
    "# Implement this\n",
    "class GenericSparseMatrix(GenericMatrix):\n",
    "    pass"
   ]
  },
  {
   "cell_type": "markdown",
   "metadata": {},
   "source": [
    "h. Create two subclasses of `GenericSparseMatrix` called `CSR` and `KeyValue`. Here `CSRMatrix` has \n",
    " - instance attributes:\n",
    "    1. `nonzero_values`\n",
    "    2. `nonzero_values_column`\n",
    "    3. `nonzero_values_count`\n",
    " - instance method `dense_to_sparse(self, arr)` (tip: use Question b)\n",
    " - constructor `__init__` that sets the three data attributes above using `dense_to_sparse(self, arr)` along with `self.number_rows`, `self.number_columns` in the superclass\n",
    " \n",
    "Here `KeyValueMatrix` has \n",
    " - instance attribute `self.data_dict` a dictionary mapping coordinates to non-zero values\n",
    " - instance method `dense_to_sparse(self, arr)` (tip: use Homework 2, Q4)\n",
    " - constructor `__init__` that sets `self.data_dict` using `dense_to_sparse(self, arr)` along with `self.number_rows`, `self.number_columns` in the superclass"
   ]
  },
  {
   "cell_type": "code",
   "execution_count": 9,
   "metadata": {},
   "outputs": [],
   "source": [
    "# Implement this\n",
    "class CSRMatrix(GenericSparseMatrix):\n",
    "    def __init__(self, nrows, ncols, data):\n",
    "        super().__init__(nrows, ncols)\n",
    "        self.data = self.dense_to_sparse(data)\n",
    "        \n",
    "    def dense_to_sparse(self, arr):\n",
    "        return dense_to_sparse(arr)\n",
    "\n",
    "class KeyValueMatrix(GenericSparseMatrix):\n",
    "    def __init__(self, nrows, ncols, data):\n",
    "        super().__init__(nrows, ncols)\n",
    "        self.data_dict = self.dense_to_sparse(adata)\n",
    "        \n",
    "    def dense_to_sparse(self, arr):\n",
    "        result = {}\n",
    "        for i in range(arr.shape[0]):\n",
    "            for j in range(arr.shape[1]):\n",
    "                if arr[i, j] != 0:\n",
    "                    result[(i,j)] = arr[i, j]\n",
    "        return result"
   ]
  },
  {
   "cell_type": "markdown",
   "metadata": {},
   "source": [
    "i. Draw a diagram in Unified Modeling Language representing the classes and the inheritance between classes."
   ]
  }
 ],
 "metadata": {
  "kernelspec": {
   "display_name": "Python 3",
   "language": "python",
   "name": "python3"
  },
  "language_info": {
   "codemirror_mode": {
    "name": "ipython",
    "version": 3
   },
   "file_extension": ".py",
   "mimetype": "text/x-python",
   "name": "python",
   "nbconvert_exporter": "python",
   "pygments_lexer": "ipython3",
   "version": "3.7.0"
  }
 },
 "nbformat": 4,
 "nbformat_minor": 2
}
