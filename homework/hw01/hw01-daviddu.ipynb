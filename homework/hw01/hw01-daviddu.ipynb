{
 "cells": [
  {
   "cell_type": "markdown",
   "metadata": {},
   "source": [
    "## Homework 1"
   ]
  },
  {
   "cell_type": "markdown",
   "metadata": {},
   "source": [
    "Please import the following packages."
   ]
  },
  {
   "cell_type": "code",
   "execution_count": 1,
   "metadata": {
    "ExecuteTime": {
     "end_time": "2022-04-06T15:44:20.777371Z",
     "start_time": "2022-04-06T15:44:20.638414Z"
    }
   },
   "outputs": [],
   "source": [
    "import numpy as np\n",
    "import scipy.sparse"
   ]
  },
  {
   "cell_type": "markdown",
   "metadata": {},
   "source": [
    "Please download `memory.py` from Resources/Homework/Homework01 on NYU Classes. Save it to the same directory as the Jupyter notebook. Please import the following package."
   ]
  },
  {
   "cell_type": "code",
   "execution_count": 2,
   "metadata": {
    "ExecuteTime": {
     "end_time": "2022-04-06T15:44:20.793007Z",
     "start_time": "2022-04-06T15:44:20.778690Z"
    }
   },
   "outputs": [],
   "source": [
    "import memory"
   ]
  },
  {
   "cell_type": "markdown",
   "metadata": {},
   "source": [
    "### Loops\n",
    "\n",
    "**_How to go through the entries of an array top to bottom/left to right?_**"
   ]
  },
  {
   "cell_type": "markdown",
   "metadata": {},
   "source": [
    "1. Given an array `inputArray`, write a `for` loop that flattens it to `outputArray`. For example, `inputArray = np.array([[1,2], [3,4]])`\n",
    "would yield `np.array([1,2,3,4])` for `outputArray`."
   ]
  },
  {
   "cell_type": "markdown",
   "metadata": {},
   "source": [
    "2. Given a jagged array `inputArray`, write a `for` loop that flattens it to `outputArray`. For example, `inputArray = np.array([[1,2,3], [4]])`\n",
    "would yield `np.array([1,2,3,4])` for `outputArray`."
   ]
  },
  {
   "cell_type": "markdown",
   "metadata": {},
   "source": [
    "#### Q1"
   ]
  },
  {
   "cell_type": "code",
   "execution_count": 3,
   "metadata": {
    "ExecuteTime": {
     "end_time": "2022-04-06T15:44:20.808065Z",
     "start_time": "2022-04-06T15:44:20.795064Z"
    }
   },
   "outputs": [],
   "source": [
    "#Q1: flatten input array\n",
    "inputArray = np.array([[1,2], [3,4]])\n"
   ]
  },
  {
   "cell_type": "code",
   "execution_count": 4,
   "metadata": {
    "ExecuteTime": {
     "end_time": "2022-04-06T15:44:20.823348Z",
     "start_time": "2022-04-06T15:44:20.809064Z"
    }
   },
   "outputs": [
    {
     "name": "stdout",
     "output_type": "stream",
     "text": [
      "<class 'numpy.ndarray'>\n",
      "<class 'numpy.ndarray'>\n",
      "outputArray is: [1, 2, 3, 4]\n"
     ]
    }
   ],
   "source": [
    "\n",
    "outputArray = []\n",
    "for sub_array in inputArray:\n",
    "    \n",
    "    print(type(sub_array))\n",
    "    \n",
    "    if type(sub_array) is np.ndarray:\n",
    "        for item in sub_array:\n",
    "            \n",
    "            outputArray.append(item)\n",
    "\n",
    "print(\"outputArray is:\",outputArray)"
   ]
  },
  {
   "cell_type": "code",
   "execution_count": 5,
   "metadata": {
    "ExecuteTime": {
     "end_time": "2022-04-06T15:44:20.838832Z",
     "start_time": "2022-04-06T15:44:20.825033Z"
    }
   },
   "outputs": [],
   "source": [
    "def flattenArray(inputArray):\n",
    "    \n",
    "    \n",
    "    outputArray = []\n",
    "    for sub_array in inputArray:\n",
    "        \n",
    "        # Check if subset_array is a numpy ndarray\n",
    "        print(type(sub_array))\n",
    "        if type(sub_array) is np.ndarray or type(sub_array) is list:\n",
    "            for item in sub_array:\n",
    "\n",
    "                outputArray.append(item)\n",
    "    result = np.array(outputArray)\n",
    "    return result"
   ]
  },
  {
   "cell_type": "code",
   "execution_count": 6,
   "metadata": {
    "ExecuteTime": {
     "end_time": "2022-04-06T15:44:20.853925Z",
     "start_time": "2022-04-06T15:44:20.839843Z"
    }
   },
   "outputs": [
    {
     "name": "stdout",
     "output_type": "stream",
     "text": [
      "<class 'numpy.ndarray'>\n",
      "<class 'numpy.ndarray'>\n"
     ]
    },
    {
     "data": {
      "text/plain": [
       "array([1, 2, 3, 4])"
      ]
     },
     "execution_count": 6,
     "metadata": {},
     "output_type": "execute_result"
    }
   ],
   "source": [
    "#Q1: flatten input array\n",
    "test_1 = np.array([[1,2], [3,4]])\n",
    "ans_1= flattenArray(test_1)\n",
    "ans_1"
   ]
  },
  {
   "cell_type": "markdown",
   "metadata": {
    "ExecuteTime": {
     "end_time": "2022-04-06T15:38:12.909624Z",
     "start_time": "2022-04-06T15:38:12.903618Z"
    }
   },
   "source": [
    "#### Q2"
   ]
  },
  {
   "cell_type": "code",
   "execution_count": 7,
   "metadata": {
    "ExecuteTime": {
     "end_time": "2022-04-06T15:44:20.869967Z",
     "start_time": "2022-04-06T15:44:20.854725Z"
    }
   },
   "outputs": [
    {
     "name": "stdout",
     "output_type": "stream",
     "text": [
      "<class 'list'>\n",
      "<class 'list'>\n"
     ]
    },
    {
     "name": "stderr",
     "output_type": "stream",
     "text": [
      "C:\\Users\\JIJUND~1\\AppData\\Local\\Temp/ipykernel_14864/2642319576.py:1: VisibleDeprecationWarning: Creating an ndarray from ragged nested sequences (which is a list-or-tuple of lists-or-tuples-or ndarrays with different lengths or shapes) is deprecated. If you meant to do this, you must specify 'dtype=object' when creating the ndarray.\n",
      "  test_2 = np.array([[1,2,3], [4]])\n"
     ]
    },
    {
     "data": {
      "text/plain": [
       "array([1, 2, 3, 4])"
      ]
     },
     "execution_count": 7,
     "metadata": {},
     "output_type": "execute_result"
    }
   ],
   "source": [
    "\n",
    "test_2 = np.array([[1,2,3], [4]])\n",
    "ans_2= flattenArray(test_2)\n",
    "ans_2"
   ]
  },
  {
   "cell_type": "markdown",
   "metadata": {},
   "source": [
    "### Packages\n",
    "**_How to import and use packages?_**"
   ]
  },
  {
   "cell_type": "markdown",
   "metadata": {},
   "source": [
    "3. Create an array `A` from the list \n",
    "\n",
    "`[[1, 0, 0, 1, 0, 0], [0, 0, 2, 0, 0, 1], [0, 0, 0, 2, 0, 0]]`\n",
    "\n",
    "Use `memory.getsizeof` to determine how much space `A` takes up in memory."
   ]
  },
  {
   "cell_type": "code",
   "execution_count": 8,
   "metadata": {
    "ExecuteTime": {
     "end_time": "2022-04-06T15:44:20.884954Z",
     "start_time": "2022-04-06T15:44:20.871593Z"
    }
   },
   "outputs": [
    {
     "data": {
      "text/plain": [
       "80"
      ]
     },
     "execution_count": 8,
     "metadata": {},
     "output_type": "execute_result"
    }
   ],
   "source": [
    "A = [[1, 0, 0, 1, 0, 0], [0, 0, 2, 0, 0, 1], [0, 0, 0, 2, 0, 0]]\n",
    "memory.getsizeof(A)"
   ]
  },
  {
   "cell_type": "markdown",
   "metadata": {},
   "source": [
    "4. Use `scipy.sparse.csr_matrix` to covert `A` into `S`. Use `memory.getsizeof` to determine how much space `S` takes up in memory."
   ]
  },
  {
   "cell_type": "code",
   "execution_count": 9,
   "metadata": {
    "ExecuteTime": {
     "end_time": "2022-04-06T15:44:20.900430Z",
     "start_time": "2022-04-06T15:44:20.888316Z"
    }
   },
   "outputs": [
    {
     "data": {
      "text/plain": [
       "56"
      ]
     },
     "execution_count": 9,
     "metadata": {},
     "output_type": "execute_result"
    }
   ],
   "source": [
    "S = scipy.sparse.csr_matrix(A)\n",
    "memory.getsizeof(S)"
   ]
  },
  {
   "cell_type": "markdown",
   "metadata": {},
   "source": [
    "5. What accounts for the difference? Try calling `print` on `S`."
   ]
  },
  {
   "cell_type": "code",
   "execution_count": 10,
   "metadata": {
    "ExecuteTime": {
     "end_time": "2022-04-06T15:44:20.915430Z",
     "start_time": "2022-04-06T15:44:20.901436Z"
    }
   },
   "outputs": [
    {
     "name": "stdout",
     "output_type": "stream",
     "text": [
      "  (0, 0)\t1\n",
      "  (0, 3)\t1\n",
      "  (1, 2)\t2\n",
      "  (1, 5)\t1\n",
      "  (2, 3)\t2\n"
     ]
    }
   ],
   "source": [
    "print(S)"
   ]
  },
  {
   "cell_type": "code",
   "execution_count": 11,
   "metadata": {
    "ExecuteTime": {
     "end_time": "2022-04-06T15:44:20.931197Z",
     "start_time": "2022-04-06T15:44:20.917436Z"
    }
   },
   "outputs": [
    {
     "name": "stdout",
     "output_type": "stream",
     "text": [
      "[[1, 0, 0, 1, 0, 0], [0, 0, 2, 0, 0, 1], [0, 0, 0, 2, 0, 0]]\n"
     ]
    }
   ],
   "source": [
    "print(A)"
   ]
  },
  {
   "cell_type": "code",
   "execution_count": 12,
   "metadata": {
    "ExecuteTime": {
     "end_time": "2022-04-06T15:44:20.947021Z",
     "start_time": "2022-04-06T15:44:20.932862Z"
    }
   },
   "outputs": [
    {
     "data": {
      "text/plain": [
       "scipy.sparse.csr.csr_matrix"
      ]
     },
     "execution_count": 12,
     "metadata": {},
     "output_type": "execute_result"
    }
   ],
   "source": [
    "type(S)"
   ]
  },
  {
   "cell_type": "markdown",
   "metadata": {},
   "source": [
    "Qs: Why an derived sparse_csr_matrix take less memory than an array?\n",
    "\n",
    "Answer: sparse matrix only record the non-zero elements.\n",
    "\n",
    "Validation: check a array with only non-zero elements and compare the size"
   ]
  },
  {
   "cell_type": "code",
   "execution_count": 13,
   "metadata": {
    "ExecuteTime": {
     "end_time": "2022-04-06T15:44:20.963111Z",
     "start_time": "2022-04-06T15:44:20.948019Z"
    }
   },
   "outputs": [],
   "source": [
    "B = [[1, 1, 1, 1, 1, 1], [2, 2, 2, 2, 2, 2], [3,3, 3, 3, 3, 3]]\n",
    "\n",
    "B_sparse = scipy.sparse.csr_matrix(B)\n"
   ]
  },
  {
   "cell_type": "code",
   "execution_count": 14,
   "metadata": {
    "ExecuteTime": {
     "end_time": "2022-04-06T15:44:20.978819Z",
     "start_time": "2022-04-06T15:44:20.964132Z"
    }
   },
   "outputs": [
    {
     "name": "stdout",
     "output_type": "stream",
     "text": [
      "  (0, 0)\t1\n",
      "  (0, 1)\t1\n",
      "  (0, 2)\t1\n",
      "  (0, 3)\t1\n",
      "  (0, 4)\t1\n",
      "  (0, 5)\t1\n",
      "  (1, 0)\t2\n",
      "  (1, 1)\t2\n",
      "  (1, 2)\t2\n",
      "  (1, 3)\t2\n",
      "  (1, 4)\t2\n",
      "  (1, 5)\t2\n",
      "  (2, 0)\t3\n",
      "  (2, 1)\t3\n",
      "  (2, 2)\t3\n",
      "  (2, 3)\t3\n",
      "  (2, 4)\t3\n",
      "  (2, 5)\t3\n"
     ]
    }
   ],
   "source": [
    "print(B_sparse)"
   ]
  },
  {
   "cell_type": "code",
   "execution_count": 15,
   "metadata": {
    "ExecuteTime": {
     "end_time": "2022-04-06T15:44:20.994617Z",
     "start_time": "2022-04-06T15:44:20.980237Z"
    }
   },
   "outputs": [
    {
     "data": {
      "text/plain": [
       "80"
      ]
     },
     "execution_count": 15,
     "metadata": {},
     "output_type": "execute_result"
    }
   ],
   "source": [
    "memory.getsizeof(B) "
   ]
  },
  {
   "cell_type": "code",
   "execution_count": 16,
   "metadata": {
    "ExecuteTime": {
     "end_time": "2022-04-06T15:44:21.010231Z",
     "start_time": "2022-04-06T15:44:20.995929Z"
    }
   },
   "outputs": [
    {
     "data": {
      "text/plain": [
       "160"
      ]
     },
     "execution_count": 16,
     "metadata": {},
     "output_type": "execute_result"
    }
   ],
   "source": [
    "memory.getsizeof(B_sparse)"
   ]
  },
  {
   "cell_type": "markdown",
   "metadata": {},
   "source": [
    "Conclusion, if the array has more than half, it's memory efficient to convert it into a sparse matrix"
   ]
  }
 ],
 "metadata": {
  "kernelspec": {
   "display_name": "Python 3 (ipykernel)",
   "language": "python",
   "name": "python3"
  },
  "language_info": {
   "codemirror_mode": {
    "name": "ipython",
    "version": 3
   },
   "file_extension": ".py",
   "mimetype": "text/x-python",
   "name": "python",
   "nbconvert_exporter": "python",
   "pygments_lexer": "ipython3",
   "version": "3.9.7"
  },
  "toc": {
   "base_numbering": 1,
   "nav_menu": {},
   "number_sections": true,
   "sideBar": true,
   "skip_h1_title": false,
   "title_cell": "Table of Contents",
   "title_sidebar": "Contents",
   "toc_cell": false,
   "toc_position": {},
   "toc_section_display": true,
   "toc_window_display": false
  }
 },
 "nbformat": 4,
 "nbformat_minor": 2
}
