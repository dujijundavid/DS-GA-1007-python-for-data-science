{
 "cells": [
  {
   "cell_type": "markdown",
   "metadata": {},
   "source": [
    "## Homework 1"
   ]
  },
  {
   "cell_type": "markdown",
   "metadata": {},
   "source": [
    "Please import the following packages."
   ]
  },
  {
   "cell_type": "code",
   "execution_count": 1,
   "metadata": {
    "collapsed": true
   },
   "outputs": [],
   "source": [
    "import numpy as np\n",
    "import scipy.sparse"
   ]
  },
  {
   "cell_type": "markdown",
   "metadata": {},
   "source": [
    "Please download `memory.py` from Resources/Homework/Homework01 on NYU Classes. Save it to the same directory as the Jupyter notebook. Please import the following package."
   ]
  },
  {
   "cell_type": "code",
   "execution_count": 2,
   "metadata": {
    "collapsed": true
   },
   "outputs": [],
   "source": [
    "import memory"
   ]
  },
  {
   "cell_type": "markdown",
   "metadata": {},
   "source": [
    "### Loops\n",
    "\n",
    "**_How to go through the entries of an array top to bottom/left to right?_**"
   ]
  },
  {
   "cell_type": "markdown",
   "metadata": {},
   "source": [
    "1. Given an array `inputArray`, write a `for` loop that flattens it to `outputArray`. For example, `inputArray = np.array([[1,2], [3,4]])`\n",
    "would yield `np.array([1,2,3,4])` for `outputArray`."
   ]
  },
  {
   "cell_type": "code",
   "execution_count": 3,
   "metadata": {},
   "outputs": [
    {
     "name": "stdout",
     "output_type": "stream",
     "text": [
      "[1 2 3 4]\n"
     ]
    }
   ],
   "source": [
    "inputArray = np.array([[1,2], [3,4]])\n",
    "\n",
    "temp=[]\n",
    "for i in range(len(inputArray)):\n",
    "    for j in range(len(inputArray[i])):\n",
    "        temp.append(inputArray[i][j])\n",
    "outputArray = np.array(temp)\n",
    "\n",
    "# Checks:\n",
    "print(outputArray)\n",
    "#print(type(outputArray))\n",
    "\n",
    "#np.array_equal(np.array([1,2,3,4]), outputArray)"
   ]
  },
  {
   "cell_type": "markdown",
   "metadata": {},
   "source": [
    "2. Given a jagged array `inputArray`, write a `for` loop that flattens it to `outputArray`. For example, `inputArray = np.array([[1,2,3], [4]])`\n",
    "would yield `np.array([1,2,3,4])` for `outputArray`."
   ]
  },
  {
   "cell_type": "code",
   "execution_count": 4,
   "metadata": {},
   "outputs": [
    {
     "name": "stdout",
     "output_type": "stream",
     "text": [
      "[1 2 3 4]\n"
     ]
    }
   ],
   "source": [
    "inputArray = np.array([[1,2,3], [4]])\n",
    "\n",
    "temp=[]\n",
    "for i in range(len(inputArray)):\n",
    "    for j in range(len(inputArray[i])):\n",
    "        temp.append(inputArray[i][j])\n",
    "outputArray = np.array(temp)\n",
    "\n",
    "#Checks:\n",
    "print(outputArray)\n",
    "#print(type(outputArray))\n",
    "#np.array_equal(np.array([1,2,3,4]), outputArray)"
   ]
  },
  {
   "cell_type": "markdown",
   "metadata": {},
   "source": [
    "### Packages\n",
    "**_How to import and use packages?_**"
   ]
  },
  {
   "cell_type": "markdown",
   "metadata": {},
   "source": [
    "3. Create an array `A` from the list \n",
    "\n",
    "`[[1, 0, 0, 1, 0, 0], [0, 0, 2, 0, 0, 1], [0, 0, 0, 2, 0, 0]]`\n",
    "\n",
    "Use `memory.getsizeof` to determine how much space `A` takes up in memory."
   ]
  },
  {
   "cell_type": "code",
   "execution_count": 5,
   "metadata": {},
   "outputs": [
    {
     "data": {
      "text/plain": [
       "144"
      ]
     },
     "execution_count": 5,
     "metadata": {},
     "output_type": "execute_result"
    }
   ],
   "source": [
    "A=np.array([[1, 0, 0, 1, 0, 0], [0, 0, 2, 0, 0, 1], [0, 0, 0, 2, 0, 0]])\n",
    "#type(A)\n",
    "memory.getsizeof(A)"
   ]
  },
  {
   "cell_type": "markdown",
   "metadata": {},
   "source": [
    "4. Use `scipy.sparse.csr_matrix` to covert `A` into `S`. Use `memory.getsizeof` to determine how much space `S` takes up in memory."
   ]
  },
  {
   "cell_type": "code",
   "execution_count": 6,
   "metadata": {},
   "outputs": [
    {
     "data": {
      "text/plain": [
       "76"
      ]
     },
     "execution_count": 6,
     "metadata": {},
     "output_type": "execute_result"
    }
   ],
   "source": [
    "S=scipy.sparse.csr_matrix(A)\n",
    "memory.getsizeof(S)"
   ]
  },
  {
   "cell_type": "markdown",
   "metadata": {},
   "source": [
    "5. What accounts for the difference? Try calling `print` on `S`."
   ]
  },
  {
   "cell_type": "code",
   "execution_count": 7,
   "metadata": {},
   "outputs": [
    {
     "name": "stdout",
     "output_type": "stream",
     "text": [
      "  (0, 0)\t1\n",
      "  (0, 3)\t1\n",
      "  (1, 2)\t2\n",
      "  (1, 5)\t1\n",
      "  (2, 3)\t2\n"
     ]
    }
   ],
   "source": [
    "#?scipy.sparse.csr_matrix\n",
    "print(S)"
   ]
  },
  {
   "cell_type": "markdown",
   "metadata": {},
   "source": [
    "S is a sparse row matrix, which only reports the locations of non-zero entries in the array A. For example, the first entry at (0,0) is 1 and the next reported entry is not until the (0,3) entry which is also 1. By only reporting the locations non-zero entries rather than every entry, the array size in memory is smaller."
   ]
  }
 ],
 "metadata": {
  "kernelspec": {
   "display_name": "Python 3",
   "language": "python",
   "name": "python3"
  },
  "language_info": {
   "codemirror_mode": {
    "name": "ipython",
    "version": 3
   },
   "file_extension": ".py",
   "mimetype": "text/x-python",
   "name": "python",
   "nbconvert_exporter": "python",
   "pygments_lexer": "ipython3",
   "version": "3.7.3"
  }
 },
 "nbformat": 4,
 "nbformat_minor": 2
}
