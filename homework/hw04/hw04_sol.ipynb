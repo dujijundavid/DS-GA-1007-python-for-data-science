{
 "cells": [
  {
   "cell_type": "markdown",
   "metadata": {},
   "source": [
    "## Homework 4\n",
    "#### Due Saturday October 12 by 11:59pm on Gradescope"
   ]
  },
  {
   "cell_type": "markdown",
   "metadata": {},
   "source": [
    "Please import the following packages:"
   ]
  },
  {
   "cell_type": "code",
   "execution_count": 4,
   "metadata": {},
   "outputs": [],
   "source": [
    "import numpy as np\n",
    "import logging \n",
    "import copy\n",
    "import pdb"
   ]
  },
  {
   "cell_type": "markdown",
   "metadata": {},
   "source": [
    "#### 1. Debugging"
   ]
  },
  {
   "cell_type": "markdown",
   "metadata": {},
   "source": [
    "Debugging is the process of removing bugs from code and fixing errors. Try inspecting the following code -- locate, document and correct each error."
   ]
  },
  {
   "cell_type": "markdown",
   "metadata": {},
   "source": [
    "a. The script `scores.py` is meant to average 3 numeric exam grades, return an average test score, a corresponding letter grade, and a message stating whether the student is passing."
   ]
  },
  {
   "cell_type": "code",
   "execution_count": 5,
   "metadata": {},
   "outputs": [],
   "source": [
    "# Average\tGrade\n",
    "# 90+\tA\n",
    "# 80-89\tB\n",
    "# 70-79\tC\n",
    "# 60-69\tD\n",
    "# 0-59\tF\n",
    "\n",
    "def average_scores(*args):\n",
    "    n = 0\n",
    "    for grade in args:\n",
    "        n = n + grade\n",
    "    avg = n / len(args)\n",
    "    return avg\n",
    "\n",
    "\n",
    "def compute_letter_grade(avg):     \n",
    "    if avg >= 90:\n",
    "        letter_grade = \"A\"\n",
    "    elif avg >= 80 and avg < 90:\n",
    "        letter_grade = \"B\"\n",
    "    elif avg >= 70 and avg < 80:\n",
    "        letter_grade = \"C\"\n",
    "    elif avg >= 60 and avg < 70:\n",
    "        letter_grade = \"D\"\n",
    "    else:\n",
    "        letter_grade = \"F\"\n",
    "    return letter_grade\n",
    "\n",
    "def print_results(grades, avg, letter_grade):        \n",
    "    for grade in grades:\n",
    "        print(\"Exam: \" + str(grade))\n",
    "    print(\"Average: \" + str(avg))\n",
    "    print(\"Grade: \" + letter_grade)\n",
    "\n",
    "    if letter_grade == \"F\":\n",
    "        print(\"Student is failing.\")\n",
    "    else:\n",
    "        print(\"Student is passing.\")\n",
    "\n",
    "\n",
    "def grading_main():\n",
    "    exam_one = int(input(\"Input exam grade one: \"))\n",
    "    exam_two = int(input(\"Input exam grade two: \"))\n",
    "    exam_three = int(input(\"Input exam grade three: \"))\n",
    "    grades = [exam_one, exam_two, exam_three]\n",
    "\n",
    "    avg = average_scores(*grades)\n",
    "    letter_grade = compute_letter_grade(avg)\n",
    "    print_results(grades, avg, letter_grade)"
   ]
  },
  {
   "cell_type": "markdown",
   "metadata": {},
   "source": [
    "Run `grading_main` on the following two tests. After removing the bugs, you should see the indicated information."
   ]
  },
  {
   "cell_type": "raw",
   "metadata": {},
   "source": [
    "===> Enter Answer Here <==="
   ]
  },
  {
   "cell_type": "code",
   "execution_count": 6,
   "metadata": {},
   "outputs": [
    {
     "name": "stdout",
     "output_type": "stream",
     "text": [
      "Input exam grade one: 89\n",
      "Input exam grade two: 89\n",
      "Input exam grade three: 89\n",
      "Exam: 89\n",
      "Exam: 89\n",
      "Exam: 89\n",
      "Average: 89.0\n",
      "Grade: B\n",
      "Student is passing.\n"
     ]
    }
   ],
   "source": [
    "grading_main()"
   ]
  },
  {
   "cell_type": "code",
   "execution_count": 7,
   "metadata": {},
   "outputs": [
    {
     "name": "stdout",
     "output_type": "stream",
     "text": [
      "Input exam grade one: 89\n",
      "Input exam grade two: 89\n",
      "Input exam grade three: 89\n",
      "Exam: 89\n",
      "Exam: 89\n",
      "Exam: 89\n",
      "Average: 89.0\n",
      "Grade: B\n",
      "Student is passing.\n"
     ]
    }
   ],
   "source": [
    "grading_main()"
   ]
  },
  {
   "cell_type": "raw",
   "metadata": {},
   "source": [
    "# TEST 1\n",
    "\n",
    "Input: \n",
    "    89\n",
    "    90\n",
    "    91\n",
    "Output:\n",
    "    Input exam grade one: 89\n",
    "    Input exam grade two: 90\n",
    "    Input exam grade three: 91\n",
    "    Exam: 89\n",
    "    Exam: 90\n",
    "    Exam: 91\n",
    "    Average: 90.0\n",
    "    Grade: A\n",
    "    Student is passing."
   ]
  },
  {
   "cell_type": "raw",
   "metadata": {},
   "source": [
    "# TEST 2\n",
    "\n",
    "Input: \n",
    "    50\n",
    "    51\n",
    "    0\n",
    "Output:\n",
    "    Input exam grade one: 50\n",
    "    Input exam grade two: 51\n",
    "    Input exam grade three: 0\n",
    "    Exam: 50\n",
    "    Exam: 51\n",
    "    Exam: 0\n",
    "    Average: 33.666666666666664\n",
    "    Grade: F\n",
    "    Student is failing."
   ]
  },
  {
   "cell_type": "markdown",
   "metadata": {},
   "source": [
    "b. We can use debugging tools to explore the state of a running program without using `print()` statements everywhere. In Jupyter notebooks, we can import the `pdb` package for the debugger. We can also use the `%debug` magic command to start debugging."
   ]
  },
  {
   "cell_type": "markdown",
   "metadata": {},
   "source": [
    "We can use the debugger in two ways: \n",
    "\n",
    "1. After the code threw an exception, we work **backwards** from the problem. \n",
    " * Run `%pdb` to start the debugger after an exception. \n",
    " * Use the `up` command to work backwards. \n",
    " * Use `quit` to quit the debuggger. \n",
    "\n",
    "2. We place a **break-point** where execution halts and we work **forwards** line by line. \n",
    " * Place `pdb.set_trace()` in the line where execution should halt. \n",
    " * Try using the following to work forwards.\n",
    "    1. `list` - Displays 11 lines around the current line or continue the previous listing.\n",
    "    2. `step` - Execute the current line, stop at the first possible occasion.\n",
    "    3. `next` - Continue execution until the next line in the current function is reached or it returns.\n",
    "    4. `break` - Set another breakpoint at a line (depending on the argument provided).\n",
    "    5. `return` - Continue execution until the current function returns.\n",
    "   \n",
    " * For more information type `help` \n",
    "\n",
    "\n",
    "See the script called ```fib.py```. It contains the following code \n",
    "\n",
    "```python \n",
    "# fib.py\n",
    "\n",
    "import sys\n",
    "\n",
    "def fib(n):\n",
    "    if n == 0:\n",
    "        return 0\n",
    "    elif n == 1:\n",
    "        return 1\n",
    "    else:\n",
    "        return fib(n-1) + fib(n-2)\n",
    "\n",
    "for i in range(len(sys.argv)):\n",
    "    arg = sys.argv[i]\n",
    "    num = int(arg)\n",
    "    print(\"fib of\", num, \" = \", fib(num))\n",
    "```\n",
    "\n",
    "Try executing the following in a cell\n",
    "\n",
    "```python \n",
    "%run fib.py 4 5 6\n",
    "```\n",
    "\n",
    "What went wrong...use `pdb`/`%debug` to work backwards or forwards to locate, document and correct the errors in ```fib.py```."
   ]
  },
  {
   "cell_type": "code",
   "execution_count": 8,
   "metadata": {},
   "outputs": [
    {
     "name": "stderr",
     "output_type": "stream",
     "text": [
      "ERROR:root:File `'fib_sol.py'` not found.\n"
     ]
    }
   ],
   "source": [
    "%run fib_sol.py 4 5 6"
   ]
  },
  {
   "cell_type": "raw",
   "metadata": {},
   "source": [
    "===> Enter Answer Here <==="
   ]
  },
  {
   "cell_type": "code",
   "execution_count": null,
   "metadata": {},
   "outputs": [],
   "source": [
    "# Copy fib.py here. You do not need to run this cell.\n",
    "\n",
    "import sys\n",
    "\n",
    "def fib(n):\n",
    "    if n == 0:\n",
    "        return 0\n",
    "    elif n == 1:\n",
    "        return 1\n",
    "    else:\n",
    "        return fib(n-1) + fib(n-2)\n",
    "\n",
    "for i in range(1, len(sys.argv)):\n",
    "    arg = sys.argv[i]\n",
    "    num = int(arg)\n",
    "    print(\"fib of\", num, \" = \", fib(num))"
   ]
  },
  {
   "cell_type": "markdown",
   "metadata": {},
   "source": [
    "#### 2. Copying\n",
    "\n",
    "We have different ways to copy data. With nested data -- that is, some data inside other data -- it can be tricky. We want to explore the `copy` packages to compare [aliasing, shallow copy, and deep copy](https://docs.python.org/3/library/copy.html).\n",
    "\n",
    "a. Explain the function ```id```...see the [documentation](https://docs.python.org/3/library/functions.html#id). What does it tell use about an object?"
   ]
  },
  {
   "cell_type": "raw",
   "metadata": {},
   "source": [
    "===> Enter Answer Here <===\n",
    "\n",
    "Memory address of object"
   ]
  },
  {
   "cell_type": "markdown",
   "metadata": {},
   "source": [
    "b. Explain the three outputs of the following code:\n",
    " 1. The code compares four objects (entries in `copies`). Describe the four objects.\n",
    " 1. How does the code (\"Output 2\") compare these four objects? Are they equal or unequal.\n",
    " 1. What about the first entries of the four objects (\"Output 3\")? Are they equal or unequal?"
   ]
  },
  {
   "cell_type": "code",
   "execution_count": 11,
   "metadata": {},
   "outputs": [
    {
     "name": "stdout",
     "output_type": "stream",
     "text": [
      "Output 1\n",
      "[[0, 1], [2, 3]]\n",
      "['original', 'alias', 'shallow copy', 'deep copy']\n",
      "\n",
      "\n",
      "Output 2\n",
      "original is equal to alias : 47924668492104 47924668492104\n",
      "original is not equal to shallow copy : 47924668492104 47924668492296\n",
      "original is not equal to deep copy : 47924668492104 47924668492488\n",
      "alias is not equal to shallow copy : 47924668492104 47924668492296\n",
      "alias is not equal to deep copy : 47924668492104 47924668492488\n",
      "shallow copy is not equal to deep copy : 47924668492296 47924668492488\n",
      "\n",
      "\n",
      "Output 3\n",
      "original entry is equal to alias entry\n",
      "original entry is equal to shallow copy entry\n",
      "original entry is not equal to deep copy entry\n",
      "alias entry is equal to shallow copy entry\n",
      "alias entry is not equal to deep copy entry\n",
      "shallow copy entry is not equal to deep copy entry\n"
     ]
    }
   ],
   "source": [
    "import copy\n",
    "\n",
    "first_entry = [0, 1]\n",
    "second_entry = [2, 3]\n",
    "list_of_lists = [first_entry, second_entry]\n",
    "list_of_lists_alias = list_of_lists\n",
    "\n",
    "copies_keys = ['original', 'alias', 'shallow copy', 'deep copy']\n",
    "copies = {'original': list_of_lists, \n",
    "          'alias': list_of_lists_alias, \n",
    "          'shallow copy': list_of_lists.copy(), \n",
    "          'deep copy': copy.deepcopy(list_of_lists)}\n",
    "\n",
    "combinations = [('original', 'alias'), \n",
    "                ('original', 'shallow copy'), \n",
    "                ('original', 'deep copy'), \n",
    "                ('alias', 'shallow copy'), \n",
    "                ('alias', 'deep copy'), \n",
    "                ('shallow copy', 'deep copy')]\n",
    "\n",
    "# =======\n",
    "print('Output 1')\n",
    "print(list_of_lists)\n",
    "print(copies_keys)\n",
    "print('\\n')\n",
    "\n",
    "# =======\n",
    "print('Output 2')\n",
    "for left, right in combinations:\n",
    "    left_id = id(copies[left])\n",
    "    right_id = id(copies[right])\n",
    "    \n",
    "    if left_id == right_id:\n",
    "        is_not = 'is equal to' \n",
    "    else:\n",
    "        is_not = 'is not equal to'\n",
    "    \n",
    "    print(left, is_not, right, \":\", left_id, right_id)\n",
    "print('\\n')\n",
    "\n",
    "# =======\n",
    "print('Output 3')    \n",
    "for left, right in combinations:\n",
    "    left_id = id(copies[left][0])\n",
    "    right_id = id(copies[right][0])\n",
    "    \n",
    "    if left_id == right_id:\n",
    "        is_not = 'is equal to' \n",
    "    else:\n",
    "        is_not = 'is not equal to'\n",
    "    \n",
    "    print(left, \"entry\", is_not, right, \"entry\")"
   ]
  },
  {
   "cell_type": "raw",
   "metadata": {},
   "source": [
    "===> Enter Answer Here <===\n",
    "\n",
    "1. \n",
    "    a. list of list of ints\n",
    "    b. same as b.\n",
    "    c. shallow copy of a.\n",
    "    d. deep, full copy of a.\n",
    "2.\n",
    "    By comparing ids of the outermost list. Only a and b are equal.\n",
    "3.\n",
    "    By comparing ids of the first entry. Only any comparison with deep copy is unequal"
   ]
  },
  {
   "cell_type": "markdown",
   "metadata": {},
   "source": [
    "#### 3. Decorators for Logging\n",
    "\n",
    "We want to understand some code from Lecture 5 about logging. The code was complicated. We should try to  simplify it through an understanding of logging and decorators. \n",
    "\n",
    "Remember that logging has many purposes. We can use logging to find bugs meaning it is another approach to debugging. Here we do not halt the execution of the program. Instead we run it from start to finish -- keeping track of everything in a log file. See the [documentation](https://docs.python.org/3/library/logging.html) for more details.\n",
    "\n",
    "Decorators are functions that take as input a function and return an altered function -- usually adding additional functionality in the process -- with syntactic sugar to do this concisely. See Chapter 39 of Lutz for more details. "
   ]
  },
  {
   "cell_type": "code",
   "execution_count": 12,
   "metadata": {},
   "outputs": [],
   "source": [
    "def load(fp):\n",
    "    data = np.loadtxt(fname=fp, delimiter=',')\n",
    "    return data"
   ]
  },
  {
   "cell_type": "markdown",
   "metadata": {},
   "source": [
    "We used the above function in Lecture 1 on `numpy` to load data into an array. How can we use decorators to print information about the \n",
    "data particularly the shape of the array? We could try something like the following code:"
   ]
  },
  {
   "cell_type": "code",
   "execution_count": 13,
   "metadata": {},
   "outputs": [
    {
     "name": "stdout",
     "output_type": "stream",
     "text": [
      "The shape of the array is (60, 40)\n"
     ]
    }
   ],
   "source": [
    "def print_shape(func, path_to_data):\n",
    "    def new_func():\n",
    "        result = func(path_to_data)\n",
    "        print(\"The shape of the array is\", result.shape)\n",
    "        return result\n",
    "    return new_func\n",
    "\n",
    "file_path = 'file-01.csv'\n",
    "wrapped_load = print_shape(load, file_path)\n",
    "data = wrapped_load()"
   ]
  },
  {
   "cell_type": "markdown",
   "metadata": {},
   "source": [
    "a. Modify this code so that `print_shape` just takes the function"
   ]
  },
  {
   "cell_type": "code",
   "execution_count": 28,
   "metadata": {},
   "outputs": [
    {
     "name": "stdout",
     "output_type": "stream",
     "text": [
      "The shape of the array is (60, 40)\n"
     ]
    }
   ],
   "source": [
    "def print_shape(func):\n",
    "    def new_func(*args):\n",
    "        result = func(*args)\n",
    "        print(\"The shape of the array is\", result.shape)\n",
    "        return result\n",
    "    return new_func\n",
    "        \n",
    "file_path = 'file-01.csv'\n",
    "wrapped_load = print_shape(load)\n",
    "data = wrapped_load(file_path)"
   ]
  },
  {
   "cell_type": "markdown",
   "metadata": {},
   "source": [
    "b. We can log different types of information. There are five standard levels of information\n",
    " - DEBUG\n",
    " - INFO\n",
    " - WARNING\n",
    " - ERROR\n",
    " - CRITICAL\n",
    "\n",
    "Note that the following will configure the `logging` package to record log messages to a file callled ```app.log```. The level will be set to INFO.   "
   ]
  },
  {
   "cell_type": "code",
   "execution_count": 29,
   "metadata": {},
   "outputs": [],
   "source": [
    "logging.basicConfig(filename='app.log', level=logging.INFO)"
   ]
  },
  {
   "cell_type": "markdown",
   "metadata": {},
   "source": [
    "Instead of using a ```print``` statement, modify the code above code to use logging. Replace ```print``` with ```logging.info()``` to record the information to ```app.log```. What are the contents of ```app.log``` loading the data? "
   ]
  },
  {
   "cell_type": "code",
   "execution_count": 32,
   "metadata": {},
   "outputs": [],
   "source": [
    "logging.basicConfig(filename='app.log', filemode='a', level=logging.INFO)\n",
    "\n",
    "def log_shape(func):\n",
    "    def new_func(*args):\n",
    "        result = func(*args)\n",
    "        logging.info(\"The shape of the array is \" + str(result.shape))\n",
    "        return result\n",
    "    return new_func\n",
    "        \n",
    "file_path = 'file-01.csv'\n",
    "wrapped_load = log_shape(load)\n",
    "data = wrapped_load(file_path)"
   ]
  },
  {
   "cell_type": "markdown",
   "metadata": {},
   "source": [
    "c. To avoid the line `wrapped_load = print_shape(load)` we can use special character. The `@` symbol indicates a decorator -- the wrapper around the function. Having completed part (b) run the follow cell. What is the result?  "
   ]
  },
  {
   "cell_type": "code",
   "execution_count": 34,
   "metadata": {},
   "outputs": [
    {
     "name": "stdout",
     "output_type": "stream",
     "text": [
      "The shape of the array is (60, 40)\n"
     ]
    }
   ],
   "source": [
    "@print_shape\n",
    "def load(fp):\n",
    "    data = np.loadtxt(fname=fp, delimiter=',')\n",
    "    return data\n",
    "\n",
    "file_path = 'file-01.csv'\n",
    "data = load(file_path)"
   ]
  }
 ],
 "metadata": {
  "kernelspec": {
   "display_name": "Python 3",
   "language": "python",
   "name": "python3"
  },
  "language_info": {
   "codemirror_mode": {
    "name": "ipython",
    "version": 3
   },
   "file_extension": ".py",
   "mimetype": "text/x-python",
   "name": "python",
   "nbconvert_exporter": "python",
   "pygments_lexer": "ipython3",
   "version": "3.7.0"
  }
 },
 "nbformat": 4,
 "nbformat_minor": 2
}
