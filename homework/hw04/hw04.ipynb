{
 "cells": [
  {
   "cell_type": "markdown",
   "metadata": {},
   "source": [
    "## Homework 4\n",
    "#### Due Saturday October 12 by 11:59pm on Gradescope"
   ]
  },
  {
   "cell_type": "markdown",
   "metadata": {},
   "source": [
    "Please import the following packages:"
   ]
  },
  {
   "cell_type": "code",
   "execution_count": 1,
   "metadata": {},
   "outputs": [],
   "source": [
    "import numpy as np\n",
    "import logging \n",
    "import copy\n",
    "import pdb\n",
    "from datetime import datetime"
   ]
  },
  {
   "cell_type": "markdown",
   "metadata": {},
   "source": [
    "#### 1. Debugging"
   ]
  },
  {
   "cell_type": "markdown",
   "metadata": {},
   "source": [
    "Debugging is the process of removing bugs from code and fixing errors. Try inspecting the following code -- locate, document and correct each error."
   ]
  },
  {
   "cell_type": "markdown",
   "metadata": {},
   "source": [
    "a. The script `scores.py` is meant to average 3 numeric exam grades, return an average test score, a corresponding letter grade, and a message stating whether the student is passing."
   ]
  },
  {
   "cell_type": "code",
   "execution_count": 2,
   "metadata": {},
   "outputs": [],
   "source": [
    "# Average\tGrade\n",
    "# 90+\tA\n",
    "# 80-89\tB\n",
    "# 70-79\tC\n",
    "# 60-69\tD\n",
    "# 0-59\tF\n",
    "\n",
    "def average_scores(*args): # added loop to access elements within each input list flexibly\n",
    "    n = 0\n",
    "    for grades in args:\n",
    "        for exam in grades:\n",
    "            n = n + int(exam)\n",
    "    avg = n / len(grades)\n",
    "    return avg\n",
    "\n",
    "\n",
    "def compute_letter_grade(avg):    \n",
    "    letter_grade = None # NULL\n",
    "    if avg >= 90:\n",
    "        letter_grade = \"A\"\n",
    "    elif avg >= 80 and avg < 90: #missing colon - corrected\n",
    "        letter_grade = \"B\"\n",
    "    elif avg > 69 and avg < 80:\n",
    "        letter_grade = \"C\" #incorrect close quotation mark - corrected\n",
    "    elif avg <= 69 and avg >= 65:\n",
    "        letter_grade = \"D\"\n",
    "    else: # elif instead of else - corrected\n",
    "        letter_grade = \"F\"\n",
    "    return letter_grade\n",
    "\n",
    "def print_results(grades, avg, letter_grade):        \n",
    "    for grade in grades:\n",
    "        print(\"Exam: \" + str(grade))\n",
    "    print(\"Average: \" + str(avg)) # remove loop\n",
    "    print(\"Grade: \" + letter_grade) # remove loop\n",
    "\n",
    "    if letter_grade is \"F\": #letter_grade - corrected from letter-grade\n",
    "        print(\"Student is failing.\") # Python 2 print syntax - corrected to Python 3\n",
    "    else:\n",
    "        print(\"Student is passing.\") # Python 2 print syntax - corrected to Python 3\n",
    "        \n",
    "def grading_main(): # missing colon - corrected / should this be just one line?\n",
    "\n",
    "    exam_one = int(input(\"Input exam grade one: \"))\n",
    "    exam_two = int(input(\"Input exam grade two: \")) # make inputs integers\n",
    "    exam_three = int(input(\"Input exam grade three: \")) # make inputs integers, rename\n",
    "    #grades = exams.split(', ') # missing commas\n",
    "    #print(grades)\n",
    "    #grades=int(i) for i in grades\n",
    "    grades=[exam_one, exam_two, exam_three]\n",
    "    #print(\"Input: \" + str(grades)[1:-1])\n",
    "    \n",
    "    avg = average_scores(grades) \n",
    "    letter_grade = compute_letter_grade(avg)\n",
    "    print_results(grades, avg, letter_grade)"
   ]
  },
  {
   "cell_type": "markdown",
   "metadata": {},
   "source": [
    "Run `grading_main` on the following two tests. After removing the bugs, you should see the indicated information."
   ]
  },
  {
   "cell_type": "markdown",
   "metadata": {},
   "source": [
    "===> Enter Answer Here <===\n",
    "\n",
    "#### Answer:"
   ]
  },
  {
   "cell_type": "code",
   "execution_count": 3,
   "metadata": {},
   "outputs": [
    {
     "name": "stdout",
     "output_type": "stream",
     "text": [
      "Input exam grade one: 89\n",
      "Input exam grade two: 90\n",
      "Input exam grade three: 91\n",
      "Exam: 89\n",
      "Exam: 90\n",
      "Exam: 91\n",
      "Average: 90.0\n",
      "Grade: A\n",
      "Student is passing.\n"
     ]
    }
   ],
   "source": [
    "grading_main()"
   ]
  },
  {
   "cell_type": "raw",
   "metadata": {},
   "source": [
    "# TEST 1\n",
    "\n",
    "Input: \n",
    "    89\n",
    "    90\n",
    "    91\n",
    "Output:\n",
    "    Input exam grade one: 89\n",
    "    Input exam grade two: 90\n",
    "    Input exam grade three: 91\n",
    "    Exam: 89\n",
    "    Exam: 90\n",
    "    Exam: 91\n",
    "    Average: 90.0\n",
    "    Grade: A\n",
    "    Student is passing."
   ]
  },
  {
   "cell_type": "code",
   "execution_count": 4,
   "metadata": {},
   "outputs": [
    {
     "name": "stdout",
     "output_type": "stream",
     "text": [
      "Input exam grade one: 50\n",
      "Input exam grade two: 51\n",
      "Input exam grade three: 0\n",
      "Exam: 50\n",
      "Exam: 51\n",
      "Exam: 0\n",
      "Average: 33.666666666666664\n",
      "Grade: F\n",
      "Student is failing.\n"
     ]
    }
   ],
   "source": [
    "grading_main()"
   ]
  },
  {
   "cell_type": "raw",
   "metadata": {},
   "source": [
    "```\n",
    "# TEST 2\n",
    "\n",
    "Input: \n",
    "    50\n",
    "    51\n",
    "    0\n",
    "Output:\n",
    "    Input exam grade one: 50\n",
    "    Input exam grade two: 51\n",
    "    Input exam grade three: 0\n",
    "    Exam: 50\n",
    "    Exam: 51\n",
    "    Exam: 0\n",
    "    Average: 33.666666666666664\n",
    "    Grade: F\n",
    "    Student is failing."
   ]
  },
  {
   "cell_type": "markdown",
   "metadata": {},
   "source": [
    "b. We can use debugging tools to explore the state of a running program without using `print()` statements everywhere. In Jupyter notebooks, we can import the `pdb` package for the debugger. We can also use the `%debug` magic command to start debugging."
   ]
  },
  {
   "cell_type": "markdown",
   "metadata": {},
   "source": [
    "We can use the debugger in two ways: \n",
    "\n",
    "1. After the code threw an exception, we work **backwards** from the problem. \n",
    " * Run `%pdb` to start the debugger after an exception. \n",
    " * Use the `up` command to work backwards. \n",
    " * Use `quit` to quit the debuggger. \n",
    "\n",
    "2. We place a **break-point** where execution halts and we work **forwards** line by line. \n",
    " * Place `pdb.set_trace()` in the line where execution should halt. \n",
    " * Try using the following to work forwards.\n",
    "    1. `list` - Displays 11 lines around the current line or continue the previous listing.\n",
    "    2. `step` - Execute the current line, stop at the first possible occasion.\n",
    "    3. `next` - Continue execution until the next line in the current function is reached or it returns.\n",
    "    4. `break` - Set another breakpoint at a line (depending on the argument provided).\n",
    "    5. `return` - Continue execution until the current function returns.\n",
    "   \n",
    " * For more information type `help` \n",
    "\n",
    "\n",
    "See the script called ```fib.py```. It contains the following code \n",
    "\n",
    "```python \n",
    "# fib.py\n",
    "\n",
    "import sys\n",
    "\n",
    "def fib(n):\n",
    "    if n == 0:\n",
    "        return 0\n",
    "    elif n == 1:\n",
    "        return 1\n",
    "    else:\n",
    "        return fib(n-1) + fib(n-2)\n",
    "\n",
    "for i in range(len(sys.argv)):\n",
    "    arg = sys.argv[0] # this line will fail unless all inputs are integers\n",
    "    num = int(arg)\n",
    "    print(\"fib of\", num, \" = \", fib(num))\n",
    "```\n",
    "\n",
    "Try executing the following in a cell\n",
    "\n",
    "```python \n",
    "%run fib.py 4 5 6\n",
    "```\n",
    "\n",
    "What went wrong...use `pdb`/`%debug` to work backwards or forwards to locate, document and correct the errors in ```fib.py```."
   ]
  },
  {
   "cell_type": "code",
   "execution_count": 5,
   "metadata": {},
   "outputs": [
    {
     "name": "stdout",
     "output_type": "stream",
     "text": [
      "fib of 4  =  3\n",
      "fib of 5  =  5\n",
      "fib of 6  =  8\n"
     ]
    }
   ],
   "source": [
    "#%pdb\n",
    "%run fib.py 4 5 6"
   ]
  },
  {
   "cell_type": "markdown",
   "metadata": {},
   "source": [
    "===> Enter Answer Here <===\n",
    "#### Answer:\n",
    "The value of sys.argv[i] is returning an error because it cannot convert the file name 'fib.py' (sys.arv[0]) to an integer.\n",
    "We fix the error by starting at the 1st instead of 0th position in sys.argv within the range function in line 13 of the cell below."
   ]
  },
  {
   "cell_type": "code",
   "execution_count": null,
   "metadata": {},
   "outputs": [],
   "source": [
    "# Copy fib.py here. You do not need to run this cell.\n",
    "\n",
    "import sys\n",
    "\n",
    "def fib(n):\n",
    "    if n == 0:\n",
    "        return 0\n",
    "    elif n == 1:\n",
    "        return 1\n",
    "    else:\n",
    "        return fib(n-1) + fib(n-2)\n",
    "\n",
    "for i in range(1, len(sys.argv)):\n",
    "    arg = sys.argv[i]\n",
    "    num = int(arg)\n",
    "    \n",
    "    print(\"fib of\", num, \" = \", fib(num))"
   ]
  },
  {
   "cell_type": "markdown",
   "metadata": {},
   "source": [
    "#### 2. Copying\n",
    "\n",
    "We have different ways to copy data. With nested data -- that is, some data inside other data -- it can be tricky. We want to explore the `copy` packages to compare [aliasing, shallow copy, and deep copy](https://docs.python.org/3/library/copy.html).\n",
    "\n",
    "a. Explain the function ```id```...see the [documentation](https://docs.python.org/3/library/functions.html#id). What does it tell use about an object?"
   ]
  },
  {
   "cell_type": "code",
   "execution_count": 6,
   "metadata": {},
   "outputs": [
    {
     "name": "stdout",
     "output_type": "stream",
     "text": [
      "Help on built-in function id in module builtins:\n",
      "\n",
      "id(obj, /)\n",
      "    Return the identity of an object.\n",
      "    \n",
      "    This is guaranteed to be unique among simultaneously existing objects.\n",
      "    (CPython uses the object's memory address.)\n",
      "\n"
     ]
    }
   ],
   "source": [
    "help(id)"
   ]
  },
  {
   "cell_type": "markdown",
   "metadata": {},
   "source": [
    "===> Enter Answer Here <===\n",
    "\n",
    "\n",
    "#### Answer: \n",
    "The id function returns a unique and constant integer for an object stored in memory. "
   ]
  },
  {
   "cell_type": "markdown",
   "metadata": {},
   "source": [
    "b. Explain the three outputs of the following code:\n",
    " 1. The code compares four objects. Describe the four objects.\n",
    " 1. How does the code compare these four objects? Are they equal or unequal.\n",
    " 1. What about the first entries of the four objects? Are they equal or unequal?"
   ]
  },
  {
   "cell_type": "code",
   "execution_count": 7,
   "metadata": {},
   "outputs": [
    {
     "name": "stdout",
     "output_type": "stream",
     "text": [
      "Output 1\n",
      "[[0, 1], [2, 3]]\n",
      "['original', 'alias', 'shallow copy', 'deep copy']\n",
      "\n",
      "\n",
      "Output 2\n",
      "original is equal to alias : 47583583593480 47583583593480\n",
      "original is not equal to shallow copy : 47583583593480 47583583593416\n",
      "original is not equal to deep copy : 47583583593480 47583583593672\n",
      "alias is not equal to shallow copy : 47583583593480 47583583593416\n",
      "alias is not equal to deep copy : 47583583593480 47583583593672\n",
      "shallow copy is not equal to deep copy : 47583583593416 47583583593672\n",
      "\n",
      "\n",
      "Output 3\n",
      "original entry is equal to alias entry\n",
      "original entry is equal to shallow copy entry\n",
      "original entry is not equal to deep copy entry\n",
      "alias entry is equal to shallow copy entry\n",
      "alias entry is not equal to deep copy entry\n",
      "shallow copy entry is not equal to deep copy entry\n"
     ]
    }
   ],
   "source": [
    "import copy\n",
    "\n",
    "first_entry = [0, 1]\n",
    "second_entry = [2, 3]\n",
    "list_of_lists = [first_entry, second_entry]\n",
    "list_of_lists_alias = list_of_lists\n",
    "\n",
    "copies_keys = ['original', 'alias', 'shallow copy', 'deep copy']\n",
    "copies = {'original': list_of_lists, \n",
    "          'alias': list_of_lists_alias, \n",
    "          'shallow copy': list_of_lists.copy(), \n",
    "          'deep copy': copy.deepcopy(list_of_lists)}\n",
    "\n",
    "combinations = [('original', 'alias'), \n",
    "                ('original', 'shallow copy'), \n",
    "                ('original', 'deep copy'), \n",
    "                ('alias', 'shallow copy'), \n",
    "                ('alias', 'deep copy'), \n",
    "                ('shallow copy', 'deep copy')]\n",
    "\n",
    "# =======\n",
    "print('Output 1')\n",
    "print(list_of_lists)\n",
    "print(copies_keys)\n",
    "print('\\n')\n",
    "\n",
    "# =======\n",
    "print('Output 2')\n",
    "for left, right in combinations:\n",
    "    left_id = id(copies[left])\n",
    "    right_id = id(copies[right])\n",
    "    \n",
    "    if left_id == right_id:\n",
    "        is_not = 'is equal to' \n",
    "    else:\n",
    "        is_not = 'is not equal to'\n",
    "    \n",
    "    print(left, is_not, right, \":\", left_id, right_id)\n",
    "print('\\n')\n",
    "\n",
    "# =======\n",
    "print('Output 3')    \n",
    "for left, right in combinations:\n",
    "    left_id = id(copies[left][0])\n",
    "    right_id = id(copies[right][0])\n",
    "    \n",
    "    if left_id == right_id:\n",
    "        is_not = 'is equal to' \n",
    "    else:\n",
    "        is_not = 'is not equal to'\n",
    "    \n",
    "    print(left, \"entry\", is_not, right, \"entry\")"
   ]
  },
  {
   "cell_type": "markdown",
   "metadata": {},
   "source": [
    "===> Enter Answer Here <===\n",
    "\n",
    "#### Answer:\n",
    "\n",
    "Output 1:\n",
    "The first output prints the objects as we have assigned them. We print `lists_of_lists` which contains `[[0, 1], [2, 3]]`. Then, we print `copies_of_keys` which contains  `['original', 'alias', 'shallow copy', 'deep copy']`. We can only compare the objects visually here, but can't tell other information from this print. Finally, we print a new line (empty).\n",
    "\n",
    "Output 2:\n",
    "The second output compares the objects within each tuple in the `combinations` list using id numbers. For instance, in the first print, original is equal to alias because we have assigned `list_of_lists_alias` directly from `list_of_lists`, so their id numbers are the same. However, shallow copy has been generated using the method `.copy()`, so it has a different id number and is not equal to `list_of_lists`. Similarly, making a deep copy is not the same as assigning directly and these copies are also different from each other. From this output, we see the only way to generate a copy with the same id is by directly assigning. Finally, we print a new line (empty).\n",
    "\n",
    "Output 3:\n",
    "The third output also compares the the first entries of the objects within each tuple in the `combinations` list. This time, we are assigning new identification numbers to the first entries in the dictionary copies. Thus, the first entry `.copy()` has the same identification number as the first entry of the original and alias lists; however, a `.deepcopy()` does not."
   ]
  },
  {
   "cell_type": "markdown",
   "metadata": {},
   "source": [
    "#### 3. Decorators for Logging\n",
    "\n",
    "We want to understand some code from Lecture 5 about logging. The code was complicated. We should try to  simplify it through an understanding of logging and decorators. \n",
    "\n",
    "Remember that logging has many purposes. We can use logging to find bugs meaning it is another approach to debugging. Here we do not halt the execution of the program. Instead we run it from start to finish -- keeping track of everything in a log file. See the [documentation](https://docs.python.org/3/library/logging.html) for more details.\n",
    "\n",
    "Decorators are functions that take as input a function and return an altered function -- usually adding additional functionality in the process -- with syntactic sugar to do this concisely. See Chapter 39 of Lutz for more details. "
   ]
  },
  {
   "cell_type": "code",
   "execution_count": 8,
   "metadata": {},
   "outputs": [],
   "source": [
    "def load(*args):\n",
    "    listOutput = []\n",
    "    for file_name in args:\n",
    "        data = np.loadtxt(fname=file_name, delimiter=',')\n",
    "        listOutput.append(data)\n",
    "        \n",
    "    return listOutput"
   ]
  },
  {
   "cell_type": "markdown",
   "metadata": {},
   "source": [
    "We used the above function in Lecture 1 on `numpy` to load data into an array. How can we use decorators to print information about the \n",
    "data particularly the shape of the array? We could try something like the following code:"
   ]
  },
  {
   "cell_type": "code",
   "execution_count": 9,
   "metadata": {},
   "outputs": [
    {
     "name": "stdout",
     "output_type": "stream",
     "text": [
      "The shape of the array is (60, 40)\n"
     ]
    }
   ],
   "source": [
    "def print_shape(func, path_to_data):\n",
    "    def new_func():\n",
    "        result = func(path_to_data)\n",
    "        print(\"The shape of the array is\", result.shape)\n",
    "        return result\n",
    "    return new_func\n",
    "\n",
    "file_path = 'file-01.csv'\n",
    "wrapped_load = print_shape(load, file_path)\n",
    "data = wrapped_load()"
   ]
  },
  {
   "cell_type": "code",
   "execution_count": 10,
   "metadata": {},
   "outputs": [
    {
     "data": {
      "text/plain": [
       "(60, 40)"
      ]
     },
     "execution_count": 10,
     "metadata": {},
     "output_type": "execute_result"
    }
   ],
   "source": [
    "data.shape"
   ]
  },
  {
   "cell_type": "markdown",
   "metadata": {},
   "source": [
    "a. Modify this code so that `print_shape` just takes the function"
   ]
  },
  {
   "cell_type": "code",
   "execution_count": 10,
   "metadata": {},
   "outputs": [
    {
     "name": "stdout",
     "output_type": "stream",
     "text": [
      "The shape of the array is (60, 40)\n"
     ]
    }
   ],
   "source": [
    "def print_shape(func):\n",
    "    def new_func(*args):\n",
    "    # ===> TO DO <====\n",
    "    # FILL IN THE MISSING CODE \n",
    "        result = func(*args)\n",
    "        print(\"The shape of the array is\", result.shape)\n",
    "        return result\n",
    "    return new_func\n",
    "        \n",
    "file_path = 'file-01.csv'\n",
    "wrapped_load = print_shape(load)\n",
    "data = wrapped_load('file-01.csv', 'file-02.csv')"
   ]
  },
  {
   "cell_type": "code",
   "execution_count": 15,
   "metadata": {},
   "outputs": [],
   "source": [
    "list_data = load('file-01.csv', 'file-02.csv')"
   ]
  },
  {
   "cell_type": "code",
   "execution_count": 17,
   "metadata": {},
   "outputs": [
    {
     "data": {
      "text/plain": [
       "array([[0., 0., 1., ..., 3., 0., 0.],\n",
       "       [0., 1., 2., ..., 1., 0., 1.],\n",
       "       [0., 1., 1., ..., 2., 1., 1.],\n",
       "       ...,\n",
       "       [0., 1., 1., ..., 1., 1., 1.],\n",
       "       [0., 0., 0., ..., 0., 2., 0.],\n",
       "       [0., 0., 1., ..., 1., 1., 0.]])"
      ]
     },
     "execution_count": 17,
     "metadata": {},
     "output_type": "execute_result"
    }
   ],
   "source": [
    "list_data[1]"
   ]
  },
  {
   "cell_type": "markdown",
   "metadata": {},
   "source": [
    "b. We can log different types of information. There are five standard levels of information\n",
    " - DEBUG\n",
    " - INFO\n",
    " - WARNING\n",
    " - ERROR\n",
    " - CRITICAL\n",
    "\n",
    "Note that the following will configure the `logging` package to record log messages to a file callled ```app.log```. The level will be set to INFO.   "
   ]
  },
  {
   "cell_type": "code",
   "execution_count": 11,
   "metadata": {},
   "outputs": [],
   "source": [
    "logging.basicConfig(filename='app.log', level=logging.INFO)"
   ]
  },
  {
   "cell_type": "code",
   "execution_count": null,
   "metadata": {},
   "outputs": [],
   "source": [
    "# logging.basicConfig(filename='app.log', filemode='a', level=logging.INFO)"
   ]
  },
  {
   "cell_type": "markdown",
   "metadata": {},
   "source": [
    "Instead of using a ```print``` statement, modify the code above code to use logging. Replace ```print``` with ```logging.info()``` to record the information to ```app.log```. What are the contents of ```app.log``` loading the data? "
   ]
  },
  {
   "cell_type": "code",
   "execution_count": 12,
   "metadata": {},
   "outputs": [],
   "source": [
    "def log_shape(func):\n",
    "    def new_func(*args):\n",
    "    # ===> TO DO <====\n",
    "    # FILL IN SIMILAR TO PART (a)\n",
    "        result = func(*args)\n",
    "        logging.info(result.shape)\n",
    "        return result\n",
    "    return new_func\n",
    "        \n",
    "file_path = 'file-01.csv'\n",
    "wrapped_load = log_shape(load)\n",
    "data = wrapped_load(file_path)\n",
    "\n",
    "# The content of app.log are: INFO:root:(60, 40) for each time we run the code."
   ]
  },
  {
   "cell_type": "markdown",
   "metadata": {},
   "source": [
    "c. To avoid the line `wrapped_load = log_shape(load)` we can use special character. The `@` symbol indicates a decorator -- the wrapper around the function. Having completed part (b) run the follow cell. What is the result?  "
   ]
  },
  {
   "cell_type": "code",
   "execution_count": 13,
   "metadata": {},
   "outputs": [],
   "source": [
    "@log_shape\n",
    "def load(*args):\n",
    "    listOutput = []\n",
    "    for file_name in args:\n",
    "        data = np.loadtxt(fname=file_name, delimiter=',')\n",
    "        listOutput.append(data)\n",
    "        \n",
    "    return listOutput"
   ]
  },
  {
   "cell_type": "code",
   "execution_count": 30,
   "metadata": {},
   "outputs": [],
   "source": [
    "data2 = load('file-01.csv', 'file-02.csv')"
   ]
  },
  {
   "cell_type": "code",
   "execution_count": 14,
   "metadata": {},
   "outputs": [
    {
     "data": {
      "text/plain": [
       "(60, 40)"
      ]
     },
     "execution_count": 14,
     "metadata": {},
     "output_type": "execute_result"
    }
   ],
   "source": [
    "data.shape"
   ]
  }
 ],
 "metadata": {
  "kernelspec": {
   "display_name": "Python 3",
   "language": "python",
   "name": "python3"
  },
  "language_info": {
   "codemirror_mode": {
    "name": "ipython",
    "version": 3
   },
   "file_extension": ".py",
   "mimetype": "text/x-python",
   "name": "python",
   "nbconvert_exporter": "python",
   "pygments_lexer": "ipython3",
   "version": "3.7.0"
  }
 },
 "nbformat": 4,
 "nbformat_minor": 4
}
