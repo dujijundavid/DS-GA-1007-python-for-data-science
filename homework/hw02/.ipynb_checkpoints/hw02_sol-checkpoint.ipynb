{
 "cells": [
  {
   "cell_type": "markdown",
   "metadata": {},
   "source": [
    "## Homework 2"
   ]
  },
  {
   "cell_type": "markdown",
   "metadata": {},
   "source": [
    "Please import the following package."
   ]
  },
  {
   "cell_type": "code",
   "execution_count": 1,
   "metadata": {},
   "outputs": [],
   "source": [
    "import numpy as np"
   ]
  },
  {
   "cell_type": "markdown",
   "metadata": {},
   "source": [
    "### Loops\n",
    "\n",
    "**_How to work with multiple indices?_**"
   ]
  },
  {
   "cell_type": "markdown",
   "metadata": {},
   "source": [
    "<ol>\n",
    "    <li> \n",
    "        \n",
    "Use the code from Homework 1 Question 1 to write a function `flatten` that takes as input an array with shape `(r,c)` and outputs an array with shape `(rc,)`.  For example, input `np.array([[1,2], [3,4]])` would yield output `np.array([1,2,3,4])`. Note that the array has two indices. The indices indicate the row and column. We flatten the array by going across the columns in each row. \n",
    "    </li>"
   ]
  },
  {
   "cell_type": "code",
   "execution_count": 2,
   "metadata": {},
   "outputs": [],
   "source": [
    "# Implement this\n",
    "def flatten(arr):\n",
    "    result = []\n",
    "    for i in range(arr.shape[0]):\n",
    "        for j in range(arr.shape[1]):\n",
    "            result.append(arr[i,j])\n",
    "    return np.array(result)"
   ]
  },
  {
   "cell_type": "code",
   "execution_count": 3,
   "metadata": {},
   "outputs": [
    {
     "data": {
      "text/plain": [
       "array([1, 2, 3, 4])"
      ]
     },
     "execution_count": 3,
     "metadata": {},
     "output_type": "execute_result"
    }
   ],
   "source": [
    "flatten(np.array([[1,2], [3,4]]))"
   ]
  },
  {
   "cell_type": "markdown",
   "metadata": {},
   "source": [
    "<ol start=2>\n",
    "<img src=\"diagram.png\" alt=\"drawing\" width=\"200\" style=\"float:right\"/>\n",
    "\n",
    "<br>\n",
    "<br>\n",
    "\n",
    "\n",
    "<li> Modify the function from Question 1. \n",
    " <ul> \n",
    "     <li> \n",
    "         \n",
    "Add a parameter called `major`. \n",
    "     </li> \n",
    " <li> \n",
    "     \n",
    "Make the default value of `major` be `\"row\"`\n",
    " </li>\n",
    " <li> Rewrite the loop so \n",
    "      <ul> \n",
    "          <li>\n",
    "              \n",
    "If `major` is `\"row\"`, then the array is flattened in row major order\n",
    "          </li>\n",
    "      <li> \n",
    "      \n",
    "If `major` is `\"column\"`, then the array is flattened in column major order \n",
    "      </li>\n",
    "     </ul>\n",
    "</li>\n",
    "</ul>\n",
    "</li>\n",
    "\n",
    "</ol>"
   ]
  },
  {
   "cell_type": "code",
   "execution_count": 4,
   "metadata": {},
   "outputs": [],
   "source": [
    "# Implement this, including modifying arguments\n",
    "def flatten_v2(arr, major=\"row\"):\n",
    "    if major == \"row\":\n",
    "        return flatten(arr)\n",
    "    elif major == \"column\":\n",
    "        result = []\n",
    "        for j in range(arr.shape[1]):\n",
    "            for i in range(arr.shape[0]):\n",
    "                result.append(arr[i,j])\n",
    "        return np.array(result)\n",
    "    else:\n",
    "        raise KeyError(major)"
   ]
  },
  {
   "cell_type": "code",
   "execution_count": 5,
   "metadata": {},
   "outputs": [
    {
     "data": {
      "text/plain": [
       "array([1, 2, 3, 4])"
      ]
     },
     "execution_count": 5,
     "metadata": {},
     "output_type": "execute_result"
    }
   ],
   "source": [
    "flatten_v2(np.array([[1,2], [3,4]]), \"row\")"
   ]
  },
  {
   "cell_type": "code",
   "execution_count": 6,
   "metadata": {},
   "outputs": [
    {
     "data": {
      "text/plain": [
       "array([1, 3, 2, 4])"
      ]
     },
     "execution_count": 6,
     "metadata": {},
     "output_type": "execute_result"
    }
   ],
   "source": [
    "flatten_v2(np.array([[1,2], [3,4]]), \"column\")"
   ]
  },
  {
   "cell_type": "markdown",
   "metadata": {},
   "source": [
    "<ol start=3>\n",
    "\n",
    "<li> \n",
    "    \n",
    "Modify the function from Question 1 to allow for more than two indices. For example, if the input is an array with shape `(r,c,h)` then the output is an array with shape `(rch,)`. So input `np.array([ [[1,2], [3,4]], [[5,6], [7,8]] ])` which has shape `(2,2,2)` would yield output `np.array([1,2,3,4,5,6,7,8])` which has shape `(8,)`. You should approach the problem using recursion.  \n",
    "</li>\n",
    "\n",
    "</ol>"
   ]
  },
  {
   "cell_type": "code",
   "execution_count": 7,
   "metadata": {},
   "outputs": [],
   "source": [
    "# Implement this\n",
    "def helper(result, sub_arr):\n",
    "    if len(sub_arr.shape) == 1:\n",
    "        for i in sub_arr:\n",
    "            result.append(i)\n",
    "    else:\n",
    "        for i in range(sub_arr.shape[0]):\n",
    "            helper(result, sub_arr[i])\n",
    "\n",
    "def flatten_v3(arr):\n",
    "    result = []\n",
    "    helper(result, arr)\n",
    "    return np.array(result)"
   ]
  },
  {
   "cell_type": "code",
   "execution_count": 8,
   "metadata": {},
   "outputs": [
    {
     "data": {
      "text/plain": [
       "array([1, 2, 3, 4, 5, 6, 7, 8])"
      ]
     },
     "execution_count": 8,
     "metadata": {},
     "output_type": "execute_result"
    }
   ],
   "source": [
    "flatten_v3(np.array([ [[1,2], [3,4]], [[5,6], [7,8]] ]))"
   ]
  },
  {
   "cell_type": "markdown",
   "metadata": {},
   "source": [
    "### Storage\n",
    "\n",
    "**_How to compress an array with lots of zeros_**"
   ]
  },
  {
   "cell_type": "markdown",
   "metadata": {},
   "source": [
    "<ol>\n",
    "<li>\n",
    "Write a function called `dense_to_sparse` that inputs an array and outputs a dictionary with \n",
    "    <ul>\n",
    "<li>\n",
    "Keys as tuples containing `(row,column)` of all non-zero entries    \n",
    "</li>\n",
    "<li>\n",
    "Values as the corresponding non-zero entries.\n",
    "</li>\n",
    "</ul>\n",
    "\n",
    "The resulting entries should be in <i>row-major</i> order.\n",
    "\n",
    "For example, if the input is `np.array([[1,0], [0,4]])` then the output is `{(0,0):1, (1,1):4}`       \n",
    "</li>\n",
    "</ol>\n",
    "    "
   ]
  },
  {
   "cell_type": "code",
   "execution_count": 9,
   "metadata": {},
   "outputs": [],
   "source": [
    "# Implement this\n",
    "def dense_to_sparse(arr):\n",
    "    result = {}\n",
    "    for i in range(arr.shape[0]):\n",
    "        for j in range(arr.shape[1]):\n",
    "            if arr[i, j] != 0:\n",
    "                result[(i,j)] = arr[i, j]\n",
    "    return result"
   ]
  },
  {
   "cell_type": "code",
   "execution_count": 10,
   "metadata": {},
   "outputs": [
    {
     "data": {
      "text/plain": [
       "{(0, 0): 1, (1, 1): 4}"
      ]
     },
     "execution_count": 10,
     "metadata": {},
     "output_type": "execute_result"
    }
   ],
   "source": [
    "sparse = dense_to_sparse(np.array([[1,0], [0,4]]))\n",
    "sparse"
   ]
  },
  {
   "cell_type": "markdown",
   "metadata": {},
   "source": [
    "<ol start=2>\n",
    "<li>\n",
    "    \n",
    "Write an inverse function called `sparse_to_dense`\n",
    "</li>\n",
    "</ol>"
   ]
  },
  {
   "cell_type": "code",
   "execution_count": 11,
   "metadata": {},
   "outputs": [],
   "source": [
    "# Implement this\n",
    "def sparse_to_dense(d):\n",
    "    rows = max(i for i, j in d.keys()) + 1\n",
    "    cols = max(j for i, j in d.keys()) + 1\n",
    "    result = np.zeros([rows, cols])\n",
    "    for (i, j), v in d.items():\n",
    "        result[i, j] = v\n",
    "    return result"
   ]
  },
  {
   "cell_type": "code",
   "execution_count": 12,
   "metadata": {},
   "outputs": [
    {
     "data": {
      "text/plain": [
       "array([[1., 0.],\n",
       "       [0., 4.]])"
      ]
     },
     "execution_count": 12,
     "metadata": {},
     "output_type": "execute_result"
    }
   ],
   "source": [
    "sparse_to_dense(sparse)"
   ]
  }
 ],
 "metadata": {
  "kernelspec": {
   "display_name": "Python 3",
   "language": "python",
   "name": "python3"
  },
  "language_info": {
   "codemirror_mode": {
    "name": "ipython",
    "version": 3
   },
   "file_extension": ".py",
   "mimetype": "text/x-python",
   "name": "python",
   "nbconvert_exporter": "python",
   "pygments_lexer": "ipython3",
   "version": "3.7.0"
  }
 },
 "nbformat": 4,
 "nbformat_minor": 2
}
