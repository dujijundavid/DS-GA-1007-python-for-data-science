{
 "cells": [
  {
   "cell_type": "markdown",
   "metadata": {},
   "source": [
    "## Homework 2"
   ]
  },
  {
   "cell_type": "markdown",
   "metadata": {},
   "source": [
    "Please import the following package."
   ]
  },
  {
   "cell_type": "code",
   "execution_count": 1,
   "metadata": {
    "ExecuteTime": {
     "end_time": "2022-04-06T16:00:05.346112Z",
     "start_time": "2022-04-06T16:00:05.134389Z"
    }
   },
   "outputs": [],
   "source": [
    "import numpy as np"
   ]
  },
  {
   "cell_type": "markdown",
   "metadata": {},
   "source": [
    "### Loops\n",
    "\n",
    "**_How to work with multiple indices?_**"
   ]
  },
  {
   "cell_type": "markdown",
   "metadata": {},
   "source": [
    "<ol>\n",
    "    <li> \n",
    "        \n",
    "Use the code from Homework 1 Question 1 to write a function `flatten` that takes as input an array with shape `(r,c)` and outputs an array with shape `(rc,)`.  For example, input `np.array([[1,2], [3,4]])` would yield output `np.array([1,2,3,4])`. Note that the array has two indices. The indices indicate the row and column. We flatten the array by going across the columns in each row. \n",
    "    </li>"
   ]
  },
  {
   "cell_type": "code",
   "execution_count": 7,
   "metadata": {
    "ExecuteTime": {
     "end_time": "2022-04-06T16:43:01.765502Z",
     "start_time": "2022-04-06T16:43:01.753821Z"
    }
   },
   "outputs": [],
   "source": [
    "# Implement this\n",
    "def flatten(arr):\n",
    "    '''\n",
    "    \n",
    "    function takes as input an array with shape (r,c) and outputs an array with shape (rc,)\n",
    "    \n",
    "    arr: array with shape (r,c)\n",
    "    \n",
    "    '''\n",
    "    # flatten each element in 2d array\n",
    "    temp=[]\n",
    "    for row in arr:\n",
    "        \n",
    "        if type(row) is np.ndarray:\n",
    "            for item in row:\n",
    "                temp.append(item)\n",
    "        else:\n",
    "            raise NotImplementedError(\"An error occurred. Is your input an array?\")\n",
    "    return np.array(temp)\n",
    "\n",
    "    "
   ]
  },
  {
   "cell_type": "code",
   "execution_count": 8,
   "metadata": {
    "ExecuteTime": {
     "end_time": "2022-04-06T16:43:02.586932Z",
     "start_time": "2022-04-06T16:43:02.572826Z"
    }
   },
   "outputs": [
    {
     "data": {
      "text/plain": [
       "array([1, 2, 3, 4])"
      ]
     },
     "execution_count": 8,
     "metadata": {},
     "output_type": "execute_result"
    }
   ],
   "source": [
    "# test function flatten_v1: \n",
    "flatten(np.array([[1,2], [3,4]]))"
   ]
  },
  {
   "cell_type": "markdown",
   "metadata": {},
   "source": [
    "<ol start=2>\n",
    "<img src=\"diagram.png\" alt=\"drawing\" width=\"200\" style=\"float:right\"/>\n",
    "\n",
    "<br>\n",
    "<br>\n",
    "\n",
    "\n",
    "<li> Modify the function from Question 1. \n",
    " <ul> \n",
    "     <li> \n",
    "         \n",
    "Add a parameter called `major`. \n",
    "     </li> \n",
    " <li> \n",
    "     \n",
    "Make the default value of `major` be `\"row\"`\n",
    " </li>\n",
    " <li> Rewrite the loop so \n",
    "      <ul> \n",
    "          <li>\n",
    "              \n",
    "If `major` is `\"row\"`, then the array is flattened in row major order\n",
    "          </li>\n",
    "      <li> \n",
    "      \n",
    "If `major` is `\"column\"`, then the array is flattened in column major order \n",
    "      </li>\n",
    "     </ul>\n",
    "</li>\n",
    "</ul>\n",
    "</li>\n",
    "\n",
    "</ol>"
   ]
  },
  {
   "cell_type": "code",
   "execution_count": 4,
   "metadata": {},
   "outputs": [],
   "source": [
    "# Implement this, including modifying arguments\n",
    "def flatten_v2(arr, major='row'):\n",
    "    '''\n",
    "    function takes as input an array with shape (r,c) and outputs an array with row-oriented shape (1, rc) by default or column-oriented (rc, 1) if specified \n",
    "    \n",
    "    arr : input a numpy array with shape (r,c)\n",
    "    major : input desired orientation, row by default (rc,) ; define as column for shape (1,rc)\n",
    "    '''\n",
    "        \n",
    "    # flatten each element in 2d array\n",
    "    temp=[]\n",
    "    if major == \"row\":\n",
    "        return flatten(arr)\n",
    "    \n",
    "    elif major == \"col\":\n",
    "        \n",
    "    \n",
    "    \n",
    "                \n",
    "    return np.array(temp)\n",
    "\n",
    "    raise NotImplementedError(\"An error occurred. Is your input an array?\")"
   ]
  },
  {
   "cell_type": "code",
   "execution_count": 5,
   "metadata": {},
   "outputs": [
    {
     "name": "stdout",
     "output_type": "stream",
     "text": [
      "[1 2 3 4]\n",
      "[1 3 2 4]\n"
     ]
    }
   ],
   "source": [
    "# test function flatten_v2: \n",
    "print(flatten_v2(np.array([[1,2], [3,4]])))\n",
    "print(flatten_v2(np.array([[1,2], [3,4]]), major='column'))"
   ]
  },
  {
   "cell_type": "markdown",
   "metadata": {},
   "source": [
    "<ol start=3>\n",
    "\n",
    "<li> \n",
    "    \n",
    "Modify the function from Question 1 to allow for more than two indices. For example, if the input is an array with shape `(r,c,h)` then the output is an array with shape `(rch,)`. So input `np.array([ [[1,2], [3,4]], [[5,6], [7,8]] ])` which has shape `(2,2,2)` would yield output `np.array([1,2,3,4,5,6,7,8])` which has shape `(8,)`. You should approach the problem using recursion.  \n",
    "</li>\n",
    "\n",
    "</ol>"
   ]
  },
  {
   "cell_type": "code",
   "execution_count": 6,
   "metadata": {},
   "outputs": [],
   "source": [
    "# Implement this\n",
    "\n",
    "def flatten_v3(arr):\n",
    "    '''\n",
    "    function takes as input an array with shape (r,c,h) and outputs an array with row-oriented shape (rch,)\n",
    "    \n",
    "    arr: input array with n dimensions\n",
    "    '''\n",
    "    \n",
    "    #stop\n",
    "    if len(arr.shape)==1:\n",
    "        return arr\n",
    "    \n",
    "    #for each item add to a new list and output as array \n",
    "    new_arr=[]\n",
    "    for item in arr:\n",
    "        new_arr.extend(flatten_v3(item))\n",
    "    return np.array(new_arr)\n",
    "\n",
    "    raise NotImplementedError(\"An error occurred. Is your input an array that can be flattened?\")"
   ]
  },
  {
   "cell_type": "code",
   "execution_count": 7,
   "metadata": {},
   "outputs": [
    {
     "name": "stdout",
     "output_type": "stream",
     "text": [
      "[1 2 3 4]\n",
      "[1 2 3 4 5 6 7 8]\n"
     ]
    }
   ],
   "source": [
    "# test function flatten_v3: \n",
    "print(flatten_v3(np.array([[1,2], [3,4]])))\n",
    "print(flatten_v3(np.array([ [[1,2], [3,4]], [[5,6], [7,8]] ])))"
   ]
  },
  {
   "cell_type": "markdown",
   "metadata": {},
   "source": [
    "### Storage\n",
    "\n",
    "**_How to compress an array with lots of zeros_**"
   ]
  },
  {
   "cell_type": "markdown",
   "metadata": {},
   "source": [
    "<ol>\n",
    "<li>\n",
    "Write a function called `dense_to_sparse` that inputs an array and outputs a dictionary with \n",
    "    <ul>\n",
    "<li>\n",
    "Keys as tuples containing `(row,column)` of all non-zero entries    \n",
    "</li>\n",
    "<li>\n",
    "Values as the corresponding non-zero entries.\n",
    "</li>\n",
    "</ul>\n",
    "\n",
    "The resulting entries should be in <i>row-major</i> order.\n",
    "\n",
    "For example, if the input is `np.array([[1,0], [0,4]])` then the output is `{(0,0):1, (1,1):4}`       \n",
    "</li>\n",
    "</ol>\n",
    "    "
   ]
  },
  {
   "cell_type": "code",
   "execution_count": 8,
   "metadata": {},
   "outputs": [],
   "source": [
    "def dense_to_sparse(arr):\n",
    "    '''\n",
    "    function takes as input a sparse array and outputs a dictionary with locations of non-zero entries as keys and their numeric value as values\n",
    "    \n",
    "    arr: sparse array input\n",
    "    '''\n",
    "    \n",
    "    # calc shape of input array\n",
    "    row, col = arr.shape\n",
    "    \n",
    "    # initiate dictionary\n",
    "    dicts={}\n",
    "\n",
    "    # assign position tuples as keys and value as value\n",
    "    for i in range(row):\n",
    "        for j in range(col):\n",
    "            if arr[i,j] != 0:\n",
    "                dicts.update({(i, j):arr[i,j]})\n",
    "        \n",
    "    return dicts\n",
    "    \n",
    "    raise NotImplementedError(\"An error occurred. Is your input an array with the specified shape?\")"
   ]
  },
  {
   "cell_type": "code",
   "execution_count": 9,
   "metadata": {},
   "outputs": [
    {
     "data": {
      "text/plain": [
       "{(0, 0): 1, (1, 1): 4}"
      ]
     },
     "execution_count": 9,
     "metadata": {},
     "output_type": "execute_result"
    }
   ],
   "source": [
    "#test the function dense_to_sparse\n",
    "dense_to_sparse(np.array([[1,0], [0,4]]))"
   ]
  },
  {
   "cell_type": "markdown",
   "metadata": {},
   "source": [
    "<ol start=2>\n",
    "<li>\n",
    "    \n",
    "Write an inverse function called `sparse_to_dense`\n",
    "</li>\n",
    "</ol>"
   ]
  },
  {
   "cell_type": "code",
   "execution_count": 10,
   "metadata": {},
   "outputs": [],
   "source": [
    "# Implement this\n",
    "def sparse_to_dense(d):\n",
    "    '''\n",
    "    \n",
    "    function takes as input a a dictionary with locations of non-zero entries as keys and their numeric value as values and outputs a sparse array\n",
    "    \n",
    "    d: dictionary input with tuple positions (r,c) as keys and value as value\n",
    "    \n",
    "    '''\n",
    "    \n",
    "    # Build an array with zeros of max row, col based on dictionary tuples\n",
    "    max_row = 0\n",
    "    max_col = 0\n",
    "    for (r,c) in d:\n",
    "        if r > max_row:\n",
    "            max_row=r\n",
    "        if c > max_col:\n",
    "            max_col=c\n",
    "    new_arr = np.zeros((max_row+1,max_col+1))\n",
    "    \n",
    "    # assign a value in position based on the dictionary tuples\n",
    "    for (i,j) in d:\n",
    "            new_arr[i][j] = d[(i,j)]\n",
    "    \n",
    "    return new_arr\n",
    "    \n",
    "    raise NotImplementedError(\"An error occurred. Is your input a dictionary with the specified shape?\")"
   ]
  },
  {
   "cell_type": "code",
   "execution_count": 11,
   "metadata": {},
   "outputs": [
    {
     "data": {
      "text/plain": [
       "array([[1., 0.],\n",
       "       [0., 4.]])"
      ]
     },
     "execution_count": 11,
     "metadata": {},
     "output_type": "execute_result"
    }
   ],
   "source": [
    "#test the function sparse_to_dense\n",
    "sparse_to_dense({(0, 0): 1, (1, 1): 4})"
   ]
  }
 ],
 "metadata": {
  "kernelspec": {
   "display_name": "Python 3 (ipykernel)",
   "language": "python",
   "name": "python3"
  },
  "language_info": {
   "codemirror_mode": {
    "name": "ipython",
    "version": 3
   },
   "file_extension": ".py",
   "mimetype": "text/x-python",
   "name": "python",
   "nbconvert_exporter": "python",
   "pygments_lexer": "ipython3",
   "version": "3.7.11"
  },
  "toc": {
   "base_numbering": 1,
   "nav_menu": {},
   "number_sections": true,
   "sideBar": true,
   "skip_h1_title": false,
   "title_cell": "Table of Contents",
   "title_sidebar": "Contents",
   "toc_cell": false,
   "toc_position": {},
   "toc_section_display": true,
   "toc_window_display": false
  }
 },
 "nbformat": 4,
 "nbformat_minor": 2
}
